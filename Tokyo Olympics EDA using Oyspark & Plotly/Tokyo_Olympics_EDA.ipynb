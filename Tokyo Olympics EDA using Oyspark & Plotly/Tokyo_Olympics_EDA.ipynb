{
  "nbformat": 4,
  "nbformat_minor": 0,
  "metadata": {
    "colab": {
      "provenance": []
    },
    "kernelspec": {
      "name": "python3",
      "display_name": "Python 3"
    },
    "language_info": {
      "name": "python"
    }
  },
  "cells": [
    {
      "cell_type": "markdown",
      "source": [
        "**Gain practice with Plotly and Sprak libraries**"
      ],
      "metadata": {
        "id": "xLmWuVqFBb3q"
      }
    },
    {
      "cell_type": "code",
      "execution_count": 1,
      "metadata": {
        "colab": {
          "base_uri": "https://localhost:8080/"
        },
        "id": "skxEAzyHqJGG",
        "outputId": "33ee0009-bde4-478f-c237-4fa4556f9876"
      },
      "outputs": [
        {
          "output_type": "stream",
          "name": "stdout",
          "text": [
            "Looking in indexes: https://pypi.org/simple, https://us-python.pkg.dev/colab-wheels/public/simple/\n",
            "Requirement already satisfied: plotly in /usr/local/lib/python3.9/dist-packages (5.13.1)\n",
            "Collecting plotly\n",
            "  Downloading plotly-5.14.1-py2.py3-none-any.whl (15.3 MB)\n",
            "\u001b[2K     \u001b[90m━━━━━━━━━━━━━━━━━━━━━━━━━━━━━━━━━━━━━━━━\u001b[0m \u001b[32m15.3/15.3 MB\u001b[0m \u001b[31m18.5 MB/s\u001b[0m eta \u001b[36m0:00:00\u001b[0m\n",
            "\u001b[?25hRequirement already satisfied: tenacity>=6.2.0 in /usr/local/lib/python3.9/dist-packages (from plotly) (8.2.2)\n",
            "Requirement already satisfied: packaging in /usr/local/lib/python3.9/dist-packages (from plotly) (23.1)\n",
            "Installing collected packages: plotly\n",
            "  Attempting uninstall: plotly\n",
            "    Found existing installation: plotly 5.13.1\n",
            "    Uninstalling plotly-5.13.1:\n",
            "      Successfully uninstalled plotly-5.13.1\n",
            "Successfully installed plotly-5.14.1\n"
          ]
        }
      ],
      "source": [
        "! pip install --upgrade plotly"
      ]
    },
    {
      "cell_type": "code",
      "source": [
        "!mkdir ~/.kaggle\n",
        "!cp kaggle.json ~/.kaggle/\n",
        "!chmod 600 ~/.kaggle/kaggle.json\n",
        "!kaggle datasets download -d arjunprasadsarkhel/2021-olympics-in-tokyo\n",
        "!unzip 2021-olympics-in-tokyo.zip"
      ],
      "metadata": {
        "colab": {
          "base_uri": "https://localhost:8080/"
        },
        "id": "_U4Xv3qyqh9V",
        "outputId": "3fab4d71-d515-4124-87d7-3e62dffa044f"
      },
      "execution_count": 2,
      "outputs": [
        {
          "output_type": "stream",
          "name": "stdout",
          "text": [
            "Downloading 2021-olympics-in-tokyo.zip to /content\n",
            "\r  0% 0.00/348k [00:00<?, ?B/s]\n",
            "\r100% 348k/348k [00:00<00:00, 71.2MB/s]\n",
            "Archive:  2021-olympics-in-tokyo.zip\n",
            "  inflating: Athletes.xlsx           \n",
            "  inflating: Coaches.xlsx            \n",
            "  inflating: EntriesGender.xlsx      \n",
            "  inflating: Medals.xlsx             \n",
            "  inflating: Teams.xlsx              \n"
          ]
        }
      ]
    },
    {
      "cell_type": "code",
      "source": [
        "!pip install pyspark"
      ],
      "metadata": {
        "colab": {
          "base_uri": "https://localhost:8080/"
        },
        "id": "lux6pgi3r6wW",
        "outputId": "70d1de02-0f88-4093-a7fa-1cad8c62a9b2"
      },
      "execution_count": 3,
      "outputs": [
        {
          "output_type": "stream",
          "name": "stdout",
          "text": [
            "Looking in indexes: https://pypi.org/simple, https://us-python.pkg.dev/colab-wheels/public/simple/\n",
            "Collecting pyspark\n",
            "  Downloading pyspark-3.4.0.tar.gz (310.8 MB)\n",
            "\u001b[2K     \u001b[90m━━━━━━━━━━━━━━━━━━━━━━━━━━━━━━━━━━━━━━━\u001b[0m \u001b[32m310.8/310.8 MB\u001b[0m \u001b[31m3.1 MB/s\u001b[0m eta \u001b[36m0:00:00\u001b[0m\n",
            "\u001b[?25h  Preparing metadata (setup.py) ... \u001b[?25l\u001b[?25hdone\n",
            "Requirement already satisfied: py4j==0.10.9.7 in /usr/local/lib/python3.9/dist-packages (from pyspark) (0.10.9.7)\n",
            "Building wheels for collected packages: pyspark\n",
            "  Building wheel for pyspark (setup.py) ... \u001b[?25l\u001b[?25hdone\n",
            "  Created wheel for pyspark: filename=pyspark-3.4.0-py2.py3-none-any.whl size=311317145 sha256=b9771336615b505720f3b6aa6bcdd409a7e5e7644476286e20ad3e0aa9210f0a\n",
            "  Stored in directory: /root/.cache/pip/wheels/9f/34/a4/159aa12d0a510d5ff7c8f0220abbea42e5d81ecf588c4fd884\n",
            "Successfully built pyspark\n",
            "Installing collected packages: pyspark\n",
            "Successfully installed pyspark-3.4.0\n"
          ]
        }
      ]
    },
    {
      "cell_type": "code",
      "source": [
        "import pyspark\n",
        "spark = pyspark.sql.SparkSession(pyspark.SparkContext())\n",
        "spark"
      ],
      "metadata": {
        "colab": {
          "base_uri": "https://localhost:8080/",
          "height": 219
        },
        "id": "mJT-N0XqsVsU",
        "outputId": "4ee5e0e1-389f-45e9-8252-6a288863e182"
      },
      "execution_count": 4,
      "outputs": [
        {
          "output_type": "execute_result",
          "data": {
            "text/plain": [
              "<pyspark.sql.session.SparkSession at 0x7f21dc071ca0>"
            ],
            "text/html": [
              "\n",
              "            <div>\n",
              "                <p><b>SparkSession - in-memory</b></p>\n",
              "                \n",
              "        <div>\n",
              "            <p><b>SparkContext</b></p>\n",
              "\n",
              "            <p><a href=\"http://c6e97a497f97:4040\">Spark UI</a></p>\n",
              "\n",
              "            <dl>\n",
              "              <dt>Version</dt>\n",
              "                <dd><code>v3.4.0</code></dd>\n",
              "              <dt>Master</dt>\n",
              "                <dd><code>local[*]</code></dd>\n",
              "              <dt>AppName</dt>\n",
              "                <dd><code>pyspark-shell</code></dd>\n",
              "            </dl>\n",
              "        </div>\n",
              "        \n",
              "            </div>\n",
              "        "
            ]
          },
          "metadata": {},
          "execution_count": 4
        }
      ]
    },
    {
      "cell_type": "code",
      "source": [
        "import pandas as pd\n"
      ],
      "metadata": {
        "id": "ZCoudMklstEV"
      },
      "execution_count": 5,
      "outputs": []
    },
    {
      "cell_type": "code",
      "source": [
        "def excel_to_csv(name):\n",
        "  pd.read_excel(name + '.xlsx').to_csv(name + '.csv', sep=',', index=False)"
      ],
      "metadata": {
        "id": "SO1f0A4EuIFm"
      },
      "execution_count": 6,
      "outputs": []
    },
    {
      "cell_type": "code",
      "source": [
        "excel_to_csv('Athletes')\n",
        "excel_to_csv('Coaches')\n",
        "excel_to_csv('EntriesGender')\n",
        "excel_to_csv('Medals')\n",
        "excel_to_csv('Teams')"
      ],
      "metadata": {
        "colab": {
          "base_uri": "https://localhost:8080/"
        },
        "id": "_l-Ooi_VucLE",
        "outputId": "b73d7216-6dbb-4534-ace8-6401133210c2"
      },
      "execution_count": 7,
      "outputs": [
        {
          "output_type": "stream",
          "name": "stderr",
          "text": [
            "/usr/local/lib/python3.9/dist-packages/openpyxl/styles/stylesheet.py:226: UserWarning: Workbook contains no default style, apply openpyxl's default\n",
            "  warn(\"Workbook contains no default style, apply openpyxl's default\")\n",
            "/usr/local/lib/python3.9/dist-packages/openpyxl/styles/stylesheet.py:226: UserWarning: Workbook contains no default style, apply openpyxl's default\n",
            "  warn(\"Workbook contains no default style, apply openpyxl's default\")\n"
          ]
        }
      ]
    },
    {
      "cell_type": "code",
      "source": [
        "athletes = pd.read_csv('Athletes.csv')\n",
        "coaches = pd.read_csv('Coaches.csv')\n",
        "entries_gender = pd.read_csv('EntriesGender.csv')\n",
        "medals = pd.read_csv('Medals.csv')\n",
        "teams = pd.read_csv('Teams.csv')"
      ],
      "metadata": {
        "id": "gMzph03AujIT"
      },
      "execution_count": 8,
      "outputs": []
    },
    {
      "cell_type": "code",
      "source": [
        "medals.head()"
      ],
      "metadata": {
        "id": "FdBZsHhdvSXq",
        "colab": {
          "base_uri": "https://localhost:8080/",
          "height": 206
        },
        "outputId": "7554c63c-01d1-408a-9cb0-6fc5ee6779a9"
      },
      "execution_count": 9,
      "outputs": [
        {
          "output_type": "execute_result",
          "data": {
            "text/plain": [
              "   Rank                    Team/NOC  Gold  Silver  Bronze  Total  \\\n",
              "0     1    United States of America    39      41      33    113   \n",
              "1     2  People's Republic of China    38      32      18     88   \n",
              "2     3                       Japan    27      14      17     58   \n",
              "3     4               Great Britain    22      21      22     65   \n",
              "4     5                         ROC    20      28      23     71   \n",
              "\n",
              "   Rank by Total  \n",
              "0              1  \n",
              "1              2  \n",
              "2              5  \n",
              "3              4  \n",
              "4              3  "
            ],
            "text/html": [
              "\n",
              "  <div id=\"df-248127c4-8acb-4ad6-afbd-090c981dbd22\">\n",
              "    <div class=\"colab-df-container\">\n",
              "      <div>\n",
              "<style scoped>\n",
              "    .dataframe tbody tr th:only-of-type {\n",
              "        vertical-align: middle;\n",
              "    }\n",
              "\n",
              "    .dataframe tbody tr th {\n",
              "        vertical-align: top;\n",
              "    }\n",
              "\n",
              "    .dataframe thead th {\n",
              "        text-align: right;\n",
              "    }\n",
              "</style>\n",
              "<table border=\"1\" class=\"dataframe\">\n",
              "  <thead>\n",
              "    <tr style=\"text-align: right;\">\n",
              "      <th></th>\n",
              "      <th>Rank</th>\n",
              "      <th>Team/NOC</th>\n",
              "      <th>Gold</th>\n",
              "      <th>Silver</th>\n",
              "      <th>Bronze</th>\n",
              "      <th>Total</th>\n",
              "      <th>Rank by Total</th>\n",
              "    </tr>\n",
              "  </thead>\n",
              "  <tbody>\n",
              "    <tr>\n",
              "      <th>0</th>\n",
              "      <td>1</td>\n",
              "      <td>United States of America</td>\n",
              "      <td>39</td>\n",
              "      <td>41</td>\n",
              "      <td>33</td>\n",
              "      <td>113</td>\n",
              "      <td>1</td>\n",
              "    </tr>\n",
              "    <tr>\n",
              "      <th>1</th>\n",
              "      <td>2</td>\n",
              "      <td>People's Republic of China</td>\n",
              "      <td>38</td>\n",
              "      <td>32</td>\n",
              "      <td>18</td>\n",
              "      <td>88</td>\n",
              "      <td>2</td>\n",
              "    </tr>\n",
              "    <tr>\n",
              "      <th>2</th>\n",
              "      <td>3</td>\n",
              "      <td>Japan</td>\n",
              "      <td>27</td>\n",
              "      <td>14</td>\n",
              "      <td>17</td>\n",
              "      <td>58</td>\n",
              "      <td>5</td>\n",
              "    </tr>\n",
              "    <tr>\n",
              "      <th>3</th>\n",
              "      <td>4</td>\n",
              "      <td>Great Britain</td>\n",
              "      <td>22</td>\n",
              "      <td>21</td>\n",
              "      <td>22</td>\n",
              "      <td>65</td>\n",
              "      <td>4</td>\n",
              "    </tr>\n",
              "    <tr>\n",
              "      <th>4</th>\n",
              "      <td>5</td>\n",
              "      <td>ROC</td>\n",
              "      <td>20</td>\n",
              "      <td>28</td>\n",
              "      <td>23</td>\n",
              "      <td>71</td>\n",
              "      <td>3</td>\n",
              "    </tr>\n",
              "  </tbody>\n",
              "</table>\n",
              "</div>\n",
              "      <button class=\"colab-df-convert\" onclick=\"convertToInteractive('df-248127c4-8acb-4ad6-afbd-090c981dbd22')\"\n",
              "              title=\"Convert this dataframe to an interactive table.\"\n",
              "              style=\"display:none;\">\n",
              "        \n",
              "  <svg xmlns=\"http://www.w3.org/2000/svg\" height=\"24px\"viewBox=\"0 0 24 24\"\n",
              "       width=\"24px\">\n",
              "    <path d=\"M0 0h24v24H0V0z\" fill=\"none\"/>\n",
              "    <path d=\"M18.56 5.44l.94 2.06.94-2.06 2.06-.94-2.06-.94-.94-2.06-.94 2.06-2.06.94zm-11 1L8.5 8.5l.94-2.06 2.06-.94-2.06-.94L8.5 2.5l-.94 2.06-2.06.94zm10 10l.94 2.06.94-2.06 2.06-.94-2.06-.94-.94-2.06-.94 2.06-2.06.94z\"/><path d=\"M17.41 7.96l-1.37-1.37c-.4-.4-.92-.59-1.43-.59-.52 0-1.04.2-1.43.59L10.3 9.45l-7.72 7.72c-.78.78-.78 2.05 0 2.83L4 21.41c.39.39.9.59 1.41.59.51 0 1.02-.2 1.41-.59l7.78-7.78 2.81-2.81c.8-.78.8-2.07 0-2.86zM5.41 20L4 18.59l7.72-7.72 1.47 1.35L5.41 20z\"/>\n",
              "  </svg>\n",
              "      </button>\n",
              "      \n",
              "  <style>\n",
              "    .colab-df-container {\n",
              "      display:flex;\n",
              "      flex-wrap:wrap;\n",
              "      gap: 12px;\n",
              "    }\n",
              "\n",
              "    .colab-df-convert {\n",
              "      background-color: #E8F0FE;\n",
              "      border: none;\n",
              "      border-radius: 50%;\n",
              "      cursor: pointer;\n",
              "      display: none;\n",
              "      fill: #1967D2;\n",
              "      height: 32px;\n",
              "      padding: 0 0 0 0;\n",
              "      width: 32px;\n",
              "    }\n",
              "\n",
              "    .colab-df-convert:hover {\n",
              "      background-color: #E2EBFA;\n",
              "      box-shadow: 0px 1px 2px rgba(60, 64, 67, 0.3), 0px 1px 3px 1px rgba(60, 64, 67, 0.15);\n",
              "      fill: #174EA6;\n",
              "    }\n",
              "\n",
              "    [theme=dark] .colab-df-convert {\n",
              "      background-color: #3B4455;\n",
              "      fill: #D2E3FC;\n",
              "    }\n",
              "\n",
              "    [theme=dark] .colab-df-convert:hover {\n",
              "      background-color: #434B5C;\n",
              "      box-shadow: 0px 1px 3px 1px rgba(0, 0, 0, 0.15);\n",
              "      filter: drop-shadow(0px 1px 2px rgba(0, 0, 0, 0.3));\n",
              "      fill: #FFFFFF;\n",
              "    }\n",
              "  </style>\n",
              "\n",
              "      <script>\n",
              "        const buttonEl =\n",
              "          document.querySelector('#df-248127c4-8acb-4ad6-afbd-090c981dbd22 button.colab-df-convert');\n",
              "        buttonEl.style.display =\n",
              "          google.colab.kernel.accessAllowed ? 'block' : 'none';\n",
              "\n",
              "        async function convertToInteractive(key) {\n",
              "          const element = document.querySelector('#df-248127c4-8acb-4ad6-afbd-090c981dbd22');\n",
              "          const dataTable =\n",
              "            await google.colab.kernel.invokeFunction('convertToInteractive',\n",
              "                                                     [key], {});\n",
              "          if (!dataTable) return;\n",
              "\n",
              "          const docLinkHtml = 'Like what you see? Visit the ' +\n",
              "            '<a target=\"_blank\" href=https://colab.research.google.com/notebooks/data_table.ipynb>data table notebook</a>'\n",
              "            + ' to learn more about interactive tables.';\n",
              "          element.innerHTML = '';\n",
              "          dataTable['output_type'] = 'display_data';\n",
              "          await google.colab.output.renderOutput(dataTable, element);\n",
              "          const docLink = document.createElement('div');\n",
              "          docLink.innerHTML = docLinkHtml;\n",
              "          element.appendChild(docLink);\n",
              "        }\n",
              "      </script>\n",
              "    </div>\n",
              "  </div>\n",
              "  "
            ]
          },
          "metadata": {},
          "execution_count": 9
        }
      ]
    },
    {
      "cell_type": "code",
      "source": [
        "medals.sort_values('Rank by Total', inplace=True)\n"
      ],
      "metadata": {
        "id": "vTTzL6kjvmh6"
      },
      "execution_count": 10,
      "outputs": []
    },
    {
      "cell_type": "code",
      "source": [
        "import plotly.express as px"
      ],
      "metadata": {
        "id": "2gyczCl2vyNu"
      },
      "execution_count": 11,
      "outputs": []
    },
    {
      "cell_type": "code",
      "source": [
        "fig = px.bar(medals, x='Team/NOC', y=[\"Gold\", \"Silver\", \"Bronze\"], color_discrete_sequence=[\"Gold\", \"Silver\", \"Brown\"] ,title=\"Number of Medals per country\")\n",
        "fig.show()"
      ],
      "metadata": {
        "id": "Ij1hOvDvv3Tq",
        "colab": {
          "base_uri": "https://localhost:8080/",
          "height": 542
        },
        "outputId": "79fdf148-b878-4a54-b9dc-8d3707544374"
      },
      "execution_count": 12,
      "outputs": [
        {
          "output_type": "display_data",
          "data": {
            "text/html": [
              "<html>\n",
              "<head><meta charset=\"utf-8\" /></head>\n",
              "<body>\n",
              "    <div>            <script src=\"https://cdnjs.cloudflare.com/ajax/libs/mathjax/2.7.5/MathJax.js?config=TeX-AMS-MML_SVG\"></script><script type=\"text/javascript\">if (window.MathJax && window.MathJax.Hub && window.MathJax.Hub.Config) {window.MathJax.Hub.Config({SVG: {font: \"STIX-Web\"}});}</script>                <script type=\"text/javascript\">window.PlotlyConfig = {MathJaxConfig: 'local'};</script>\n",
              "        <script charset=\"utf-8\" src=\"https://cdn.plot.ly/plotly-2.20.0.min.js\"></script>                <div id=\"64dfee4c-7c89-46e3-b4cc-2bdf9703690a\" class=\"plotly-graph-div\" style=\"height:525px; width:100%;\"></div>            <script type=\"text/javascript\">                                    window.PLOTLYENV=window.PLOTLYENV || {};                                    if (document.getElementById(\"64dfee4c-7c89-46e3-b4cc-2bdf9703690a\")) {                    Plotly.newPlot(                        \"64dfee4c-7c89-46e3-b4cc-2bdf9703690a\",                        [{\"alignmentgroup\":\"True\",\"hovertemplate\":\"variable=Gold<br>Team/NOC=%{x}<br>value=%{y}<extra></extra>\",\"legendgroup\":\"Gold\",\"marker\":{\"color\":\"Gold\",\"pattern\":{\"shape\":\"\"}},\"name\":\"Gold\",\"offsetgroup\":\"Gold\",\"orientation\":\"v\",\"showlegend\":true,\"textposition\":\"auto\",\"x\":[\"United States of America\",\"People's Republic of China\",\"ROC\",\"Great Britain\",\"Japan\",\"Australia\",\"Italy\",\"Germany\",\"Netherlands\",\"France\",\"Canada\",\"Brazil\",\"Republic of Korea\",\"Hungary\",\"New Zealand\",\"Ukraine\",\"Spain\",\"Cuba\",\"Poland\",\"Switzerland\",\"Turkey\",\"Chinese Taipei\",\"Czech Republic\",\"Denmark\",\"Kenya\",\"Jamaica\",\"Sweden\",\"Serbia\",\"Kazakhstan\",\"Georgia\",\"Croatia\",\"Norway\",\"Azerbaijan\",\"India\",\"Belarus\",\"Austria\",\"Islamic Republic of Iran\",\"Belgium\",\"Egypt\",\"Bulgaria\",\"Hong Kong, China\",\"Dominican Republic\",\"Slovenia\",\"Colombia\",\"Indonesia\",\"Uzbekistan\",\"Mongolia\",\"Armenia\",\"Portugal\",\"Ethiopia\",\"Mexico\",\"Venezuela\",\"Slovakia\",\"Philippines\",\"Greece\",\"Romania\",\"Uganda\",\"Ireland\",\"Israel\",\"South Africa\",\"Argentina\",\"Ecuador\",\"Kyrgyzstan\",\"Qatar\",\"San Marino\",\"Bahamas\",\"Finland\",\"Nigeria\",\"Malaysia\",\"Tunisia\",\"Estonia\",\"Jordan\",\"Latvia\",\"Thailand\",\"Fiji\",\"Kosovo\",\"Republic of Moldova\",\"Grenada\",\"Ghana\",\"C\\u00f4te d'Ivoire\",\"Burkina Faso\",\"Botswana\",\"Kuwait\",\"Lithuania\",\"Namibia\",\"North Macedonia\",\"Puerto Rico\",\"Saudi Arabia\",\"Bahrain\",\"Bermuda\",\"Morocco\",\"Turkmenistan\",\"Syrian Arab Republic\"],\"xaxis\":\"x\",\"y\":[39,38,20,22,27,17,10,10,10,10,7,7,6,6,7,1,3,7,4,3,2,2,4,3,4,4,3,3,0,2,3,4,0,1,1,1,3,3,1,3,1,0,3,0,1,3,0,0,1,1,0,1,1,1,2,1,2,2,2,1,0,2,0,2,0,2,0,0,0,1,1,0,1,1,1,2,0,0,0,0,0,0,0,0,0,0,1,0,0,1,1,0,0],\"yaxis\":\"y\",\"type\":\"bar\"},{\"alignmentgroup\":\"True\",\"hovertemplate\":\"variable=Silver<br>Team/NOC=%{x}<br>value=%{y}<extra></extra>\",\"legendgroup\":\"Silver\",\"marker\":{\"color\":\"Silver\",\"pattern\":{\"shape\":\"\"}},\"name\":\"Silver\",\"offsetgroup\":\"Silver\",\"orientation\":\"v\",\"showlegend\":true,\"textposition\":\"auto\",\"x\":[\"United States of America\",\"People's Republic of China\",\"ROC\",\"Great Britain\",\"Japan\",\"Australia\",\"Italy\",\"Germany\",\"Netherlands\",\"France\",\"Canada\",\"Brazil\",\"Republic of Korea\",\"Hungary\",\"New Zealand\",\"Ukraine\",\"Spain\",\"Cuba\",\"Poland\",\"Switzerland\",\"Turkey\",\"Chinese Taipei\",\"Czech Republic\",\"Denmark\",\"Kenya\",\"Jamaica\",\"Sweden\",\"Serbia\",\"Kazakhstan\",\"Georgia\",\"Croatia\",\"Norway\",\"Azerbaijan\",\"India\",\"Belarus\",\"Austria\",\"Islamic Republic of Iran\",\"Belgium\",\"Egypt\",\"Bulgaria\",\"Hong Kong, China\",\"Dominican Republic\",\"Slovenia\",\"Colombia\",\"Indonesia\",\"Uzbekistan\",\"Mongolia\",\"Armenia\",\"Portugal\",\"Ethiopia\",\"Mexico\",\"Venezuela\",\"Slovakia\",\"Philippines\",\"Greece\",\"Romania\",\"Uganda\",\"Ireland\",\"Israel\",\"South Africa\",\"Argentina\",\"Ecuador\",\"Kyrgyzstan\",\"Qatar\",\"San Marino\",\"Bahamas\",\"Finland\",\"Nigeria\",\"Malaysia\",\"Tunisia\",\"Estonia\",\"Jordan\",\"Latvia\",\"Thailand\",\"Fiji\",\"Kosovo\",\"Republic of Moldova\",\"Grenada\",\"Ghana\",\"C\\u00f4te d'Ivoire\",\"Burkina Faso\",\"Botswana\",\"Kuwait\",\"Lithuania\",\"Namibia\",\"North Macedonia\",\"Puerto Rico\",\"Saudi Arabia\",\"Bahrain\",\"Bermuda\",\"Morocco\",\"Turkmenistan\",\"Syrian Arab Republic\"],\"xaxis\":\"x\",\"y\":[41,32,28,21,14,7,10,11,12,12,6,6,4,7,6,6,8,3,5,4,2,4,4,4,4,1,6,1,0,5,3,2,3,2,3,1,2,1,1,1,2,3,1,4,1,0,1,2,1,1,0,3,2,2,1,3,1,0,0,2,1,1,2,0,1,0,0,1,1,1,0,1,0,0,0,0,0,0,0,0,0,0,0,1,1,1,0,1,1,0,0,1,0],\"yaxis\":\"y\",\"type\":\"bar\"},{\"alignmentgroup\":\"True\",\"hovertemplate\":\"variable=Bronze<br>Team/NOC=%{x}<br>value=%{y}<extra></extra>\",\"legendgroup\":\"Bronze\",\"marker\":{\"color\":\"Brown\",\"pattern\":{\"shape\":\"\"}},\"name\":\"Bronze\",\"offsetgroup\":\"Bronze\",\"orientation\":\"v\",\"showlegend\":true,\"textposition\":\"auto\",\"x\":[\"United States of America\",\"People's Republic of China\",\"ROC\",\"Great Britain\",\"Japan\",\"Australia\",\"Italy\",\"Germany\",\"Netherlands\",\"France\",\"Canada\",\"Brazil\",\"Republic of Korea\",\"Hungary\",\"New Zealand\",\"Ukraine\",\"Spain\",\"Cuba\",\"Poland\",\"Switzerland\",\"Turkey\",\"Chinese Taipei\",\"Czech Republic\",\"Denmark\",\"Kenya\",\"Jamaica\",\"Sweden\",\"Serbia\",\"Kazakhstan\",\"Georgia\",\"Croatia\",\"Norway\",\"Azerbaijan\",\"India\",\"Belarus\",\"Austria\",\"Islamic Republic of Iran\",\"Belgium\",\"Egypt\",\"Bulgaria\",\"Hong Kong, China\",\"Dominican Republic\",\"Slovenia\",\"Colombia\",\"Indonesia\",\"Uzbekistan\",\"Mongolia\",\"Armenia\",\"Portugal\",\"Ethiopia\",\"Mexico\",\"Venezuela\",\"Slovakia\",\"Philippines\",\"Greece\",\"Romania\",\"Uganda\",\"Ireland\",\"Israel\",\"South Africa\",\"Argentina\",\"Ecuador\",\"Kyrgyzstan\",\"Qatar\",\"San Marino\",\"Bahamas\",\"Finland\",\"Nigeria\",\"Malaysia\",\"Tunisia\",\"Estonia\",\"Jordan\",\"Latvia\",\"Thailand\",\"Fiji\",\"Kosovo\",\"Republic of Moldova\",\"Grenada\",\"Ghana\",\"C\\u00f4te d'Ivoire\",\"Burkina Faso\",\"Botswana\",\"Kuwait\",\"Lithuania\",\"Namibia\",\"North Macedonia\",\"Puerto Rico\",\"Saudi Arabia\",\"Bahrain\",\"Bermuda\",\"Morocco\",\"Turkmenistan\",\"Syrian Arab Republic\"],\"xaxis\":\"x\",\"y\":[33,18,23,22,17,22,20,16,14,11,11,8,10,7,7,12,6,5,5,6,9,6,3,4,2,4,0,5,8,1,2,2,4,4,3,5,2,3,4,2,3,2,1,1,3,2,3,2,2,2,4,0,1,1,1,0,1,2,2,0,2,0,1,1,2,0,2,1,1,0,1,1,1,1,1,0,1,1,1,1,1,1,1,0,0,0,0,0,0,0,0,0,1],\"yaxis\":\"y\",\"type\":\"bar\"}],                        {\"template\":{\"data\":{\"histogram2dcontour\":[{\"type\":\"histogram2dcontour\",\"colorbar\":{\"outlinewidth\":0,\"ticks\":\"\"},\"colorscale\":[[0.0,\"#0d0887\"],[0.1111111111111111,\"#46039f\"],[0.2222222222222222,\"#7201a8\"],[0.3333333333333333,\"#9c179e\"],[0.4444444444444444,\"#bd3786\"],[0.5555555555555556,\"#d8576b\"],[0.6666666666666666,\"#ed7953\"],[0.7777777777777778,\"#fb9f3a\"],[0.8888888888888888,\"#fdca26\"],[1.0,\"#f0f921\"]]}],\"choropleth\":[{\"type\":\"choropleth\",\"colorbar\":{\"outlinewidth\":0,\"ticks\":\"\"}}],\"histogram2d\":[{\"type\":\"histogram2d\",\"colorbar\":{\"outlinewidth\":0,\"ticks\":\"\"},\"colorscale\":[[0.0,\"#0d0887\"],[0.1111111111111111,\"#46039f\"],[0.2222222222222222,\"#7201a8\"],[0.3333333333333333,\"#9c179e\"],[0.4444444444444444,\"#bd3786\"],[0.5555555555555556,\"#d8576b\"],[0.6666666666666666,\"#ed7953\"],[0.7777777777777778,\"#fb9f3a\"],[0.8888888888888888,\"#fdca26\"],[1.0,\"#f0f921\"]]}],\"heatmap\":[{\"type\":\"heatmap\",\"colorbar\":{\"outlinewidth\":0,\"ticks\":\"\"},\"colorscale\":[[0.0,\"#0d0887\"],[0.1111111111111111,\"#46039f\"],[0.2222222222222222,\"#7201a8\"],[0.3333333333333333,\"#9c179e\"],[0.4444444444444444,\"#bd3786\"],[0.5555555555555556,\"#d8576b\"],[0.6666666666666666,\"#ed7953\"],[0.7777777777777778,\"#fb9f3a\"],[0.8888888888888888,\"#fdca26\"],[1.0,\"#f0f921\"]]}],\"heatmapgl\":[{\"type\":\"heatmapgl\",\"colorbar\":{\"outlinewidth\":0,\"ticks\":\"\"},\"colorscale\":[[0.0,\"#0d0887\"],[0.1111111111111111,\"#46039f\"],[0.2222222222222222,\"#7201a8\"],[0.3333333333333333,\"#9c179e\"],[0.4444444444444444,\"#bd3786\"],[0.5555555555555556,\"#d8576b\"],[0.6666666666666666,\"#ed7953\"],[0.7777777777777778,\"#fb9f3a\"],[0.8888888888888888,\"#fdca26\"],[1.0,\"#f0f921\"]]}],\"contourcarpet\":[{\"type\":\"contourcarpet\",\"colorbar\":{\"outlinewidth\":0,\"ticks\":\"\"}}],\"contour\":[{\"type\":\"contour\",\"colorbar\":{\"outlinewidth\":0,\"ticks\":\"\"},\"colorscale\":[[0.0,\"#0d0887\"],[0.1111111111111111,\"#46039f\"],[0.2222222222222222,\"#7201a8\"],[0.3333333333333333,\"#9c179e\"],[0.4444444444444444,\"#bd3786\"],[0.5555555555555556,\"#d8576b\"],[0.6666666666666666,\"#ed7953\"],[0.7777777777777778,\"#fb9f3a\"],[0.8888888888888888,\"#fdca26\"],[1.0,\"#f0f921\"]]}],\"surface\":[{\"type\":\"surface\",\"colorbar\":{\"outlinewidth\":0,\"ticks\":\"\"},\"colorscale\":[[0.0,\"#0d0887\"],[0.1111111111111111,\"#46039f\"],[0.2222222222222222,\"#7201a8\"],[0.3333333333333333,\"#9c179e\"],[0.4444444444444444,\"#bd3786\"],[0.5555555555555556,\"#d8576b\"],[0.6666666666666666,\"#ed7953\"],[0.7777777777777778,\"#fb9f3a\"],[0.8888888888888888,\"#fdca26\"],[1.0,\"#f0f921\"]]}],\"mesh3d\":[{\"type\":\"mesh3d\",\"colorbar\":{\"outlinewidth\":0,\"ticks\":\"\"}}],\"scatter\":[{\"fillpattern\":{\"fillmode\":\"overlay\",\"size\":10,\"solidity\":0.2},\"type\":\"scatter\"}],\"parcoords\":[{\"type\":\"parcoords\",\"line\":{\"colorbar\":{\"outlinewidth\":0,\"ticks\":\"\"}}}],\"scatterpolargl\":[{\"type\":\"scatterpolargl\",\"marker\":{\"colorbar\":{\"outlinewidth\":0,\"ticks\":\"\"}}}],\"bar\":[{\"error_x\":{\"color\":\"#2a3f5f\"},\"error_y\":{\"color\":\"#2a3f5f\"},\"marker\":{\"line\":{\"color\":\"#E5ECF6\",\"width\":0.5},\"pattern\":{\"fillmode\":\"overlay\",\"size\":10,\"solidity\":0.2}},\"type\":\"bar\"}],\"scattergeo\":[{\"type\":\"scattergeo\",\"marker\":{\"colorbar\":{\"outlinewidth\":0,\"ticks\":\"\"}}}],\"scatterpolar\":[{\"type\":\"scatterpolar\",\"marker\":{\"colorbar\":{\"outlinewidth\":0,\"ticks\":\"\"}}}],\"histogram\":[{\"marker\":{\"pattern\":{\"fillmode\":\"overlay\",\"size\":10,\"solidity\":0.2}},\"type\":\"histogram\"}],\"scattergl\":[{\"type\":\"scattergl\",\"marker\":{\"colorbar\":{\"outlinewidth\":0,\"ticks\":\"\"}}}],\"scatter3d\":[{\"type\":\"scatter3d\",\"line\":{\"colorbar\":{\"outlinewidth\":0,\"ticks\":\"\"}},\"marker\":{\"colorbar\":{\"outlinewidth\":0,\"ticks\":\"\"}}}],\"scattermapbox\":[{\"type\":\"scattermapbox\",\"marker\":{\"colorbar\":{\"outlinewidth\":0,\"ticks\":\"\"}}}],\"scatterternary\":[{\"type\":\"scatterternary\",\"marker\":{\"colorbar\":{\"outlinewidth\":0,\"ticks\":\"\"}}}],\"scattercarpet\":[{\"type\":\"scattercarpet\",\"marker\":{\"colorbar\":{\"outlinewidth\":0,\"ticks\":\"\"}}}],\"carpet\":[{\"aaxis\":{\"endlinecolor\":\"#2a3f5f\",\"gridcolor\":\"white\",\"linecolor\":\"white\",\"minorgridcolor\":\"white\",\"startlinecolor\":\"#2a3f5f\"},\"baxis\":{\"endlinecolor\":\"#2a3f5f\",\"gridcolor\":\"white\",\"linecolor\":\"white\",\"minorgridcolor\":\"white\",\"startlinecolor\":\"#2a3f5f\"},\"type\":\"carpet\"}],\"table\":[{\"cells\":{\"fill\":{\"color\":\"#EBF0F8\"},\"line\":{\"color\":\"white\"}},\"header\":{\"fill\":{\"color\":\"#C8D4E3\"},\"line\":{\"color\":\"white\"}},\"type\":\"table\"}],\"barpolar\":[{\"marker\":{\"line\":{\"color\":\"#E5ECF6\",\"width\":0.5},\"pattern\":{\"fillmode\":\"overlay\",\"size\":10,\"solidity\":0.2}},\"type\":\"barpolar\"}],\"pie\":[{\"automargin\":true,\"type\":\"pie\"}]},\"layout\":{\"autotypenumbers\":\"strict\",\"colorway\":[\"#636efa\",\"#EF553B\",\"#00cc96\",\"#ab63fa\",\"#FFA15A\",\"#19d3f3\",\"#FF6692\",\"#B6E880\",\"#FF97FF\",\"#FECB52\"],\"font\":{\"color\":\"#2a3f5f\"},\"hovermode\":\"closest\",\"hoverlabel\":{\"align\":\"left\"},\"paper_bgcolor\":\"white\",\"plot_bgcolor\":\"#E5ECF6\",\"polar\":{\"bgcolor\":\"#E5ECF6\",\"angularaxis\":{\"gridcolor\":\"white\",\"linecolor\":\"white\",\"ticks\":\"\"},\"radialaxis\":{\"gridcolor\":\"white\",\"linecolor\":\"white\",\"ticks\":\"\"}},\"ternary\":{\"bgcolor\":\"#E5ECF6\",\"aaxis\":{\"gridcolor\":\"white\",\"linecolor\":\"white\",\"ticks\":\"\"},\"baxis\":{\"gridcolor\":\"white\",\"linecolor\":\"white\",\"ticks\":\"\"},\"caxis\":{\"gridcolor\":\"white\",\"linecolor\":\"white\",\"ticks\":\"\"}},\"coloraxis\":{\"colorbar\":{\"outlinewidth\":0,\"ticks\":\"\"}},\"colorscale\":{\"sequential\":[[0.0,\"#0d0887\"],[0.1111111111111111,\"#46039f\"],[0.2222222222222222,\"#7201a8\"],[0.3333333333333333,\"#9c179e\"],[0.4444444444444444,\"#bd3786\"],[0.5555555555555556,\"#d8576b\"],[0.6666666666666666,\"#ed7953\"],[0.7777777777777778,\"#fb9f3a\"],[0.8888888888888888,\"#fdca26\"],[1.0,\"#f0f921\"]],\"sequentialminus\":[[0.0,\"#0d0887\"],[0.1111111111111111,\"#46039f\"],[0.2222222222222222,\"#7201a8\"],[0.3333333333333333,\"#9c179e\"],[0.4444444444444444,\"#bd3786\"],[0.5555555555555556,\"#d8576b\"],[0.6666666666666666,\"#ed7953\"],[0.7777777777777778,\"#fb9f3a\"],[0.8888888888888888,\"#fdca26\"],[1.0,\"#f0f921\"]],\"diverging\":[[0,\"#8e0152\"],[0.1,\"#c51b7d\"],[0.2,\"#de77ae\"],[0.3,\"#f1b6da\"],[0.4,\"#fde0ef\"],[0.5,\"#f7f7f7\"],[0.6,\"#e6f5d0\"],[0.7,\"#b8e186\"],[0.8,\"#7fbc41\"],[0.9,\"#4d9221\"],[1,\"#276419\"]]},\"xaxis\":{\"gridcolor\":\"white\",\"linecolor\":\"white\",\"ticks\":\"\",\"title\":{\"standoff\":15},\"zerolinecolor\":\"white\",\"automargin\":true,\"zerolinewidth\":2},\"yaxis\":{\"gridcolor\":\"white\",\"linecolor\":\"white\",\"ticks\":\"\",\"title\":{\"standoff\":15},\"zerolinecolor\":\"white\",\"automargin\":true,\"zerolinewidth\":2},\"scene\":{\"xaxis\":{\"backgroundcolor\":\"#E5ECF6\",\"gridcolor\":\"white\",\"linecolor\":\"white\",\"showbackground\":true,\"ticks\":\"\",\"zerolinecolor\":\"white\",\"gridwidth\":2},\"yaxis\":{\"backgroundcolor\":\"#E5ECF6\",\"gridcolor\":\"white\",\"linecolor\":\"white\",\"showbackground\":true,\"ticks\":\"\",\"zerolinecolor\":\"white\",\"gridwidth\":2},\"zaxis\":{\"backgroundcolor\":\"#E5ECF6\",\"gridcolor\":\"white\",\"linecolor\":\"white\",\"showbackground\":true,\"ticks\":\"\",\"zerolinecolor\":\"white\",\"gridwidth\":2}},\"shapedefaults\":{\"line\":{\"color\":\"#2a3f5f\"}},\"annotationdefaults\":{\"arrowcolor\":\"#2a3f5f\",\"arrowhead\":0,\"arrowwidth\":1},\"geo\":{\"bgcolor\":\"white\",\"landcolor\":\"#E5ECF6\",\"subunitcolor\":\"white\",\"showland\":true,\"showlakes\":true,\"lakecolor\":\"white\"},\"title\":{\"x\":0.05},\"mapbox\":{\"style\":\"light\"}}},\"xaxis\":{\"anchor\":\"y\",\"domain\":[0.0,1.0],\"title\":{\"text\":\"Team/NOC\"}},\"yaxis\":{\"anchor\":\"x\",\"domain\":[0.0,1.0],\"title\":{\"text\":\"value\"}},\"legend\":{\"title\":{\"text\":\"variable\"},\"tracegroupgap\":0},\"title\":{\"text\":\"Number of Medals per country\"},\"barmode\":\"relative\"},                        {\"responsive\": true}                    ).then(function(){\n",
              "                            \n",
              "var gd = document.getElementById('64dfee4c-7c89-46e3-b4cc-2bdf9703690a');\n",
              "var x = new MutationObserver(function (mutations, observer) {{\n",
              "        var display = window.getComputedStyle(gd).display;\n",
              "        if (!display || display === 'none') {{\n",
              "            console.log([gd, 'removed!']);\n",
              "            Plotly.purge(gd);\n",
              "            observer.disconnect();\n",
              "        }}\n",
              "}});\n",
              "\n",
              "// Listen for the removal of the full notebook cells\n",
              "var notebookContainer = gd.closest('#notebook-container');\n",
              "if (notebookContainer) {{\n",
              "    x.observe(notebookContainer, {childList: true});\n",
              "}}\n",
              "\n",
              "// Listen for the clearing of the current output cell\n",
              "var outputEl = gd.closest('.output');\n",
              "if (outputEl) {{\n",
              "    x.observe(outputEl, {childList: true});\n",
              "}}\n",
              "\n",
              "                        })                };                            </script>        </div>\n",
              "</body>\n",
              "</html>"
            ]
          },
          "metadata": {}
        }
      ]
    },
    {
      "cell_type": "code",
      "source": [
        "coaches.head(5)"
      ],
      "metadata": {
        "id": "vQ6bSKQGww3S",
        "colab": {
          "base_uri": "https://localhost:8080/",
          "height": 206
        },
        "outputId": "a6aefd85-c08f-4c6a-bde5-a676cfd1d1a2"
      },
      "execution_count": 13,
      "outputs": [
        {
          "output_type": "execute_result",
          "data": {
            "text/plain": [
              "              Name            NOC  Discipline Event\n",
              "0  ABDELMAGID Wael          Egypt    Football   NaN\n",
              "1        ABE Junya          Japan  Volleyball   NaN\n",
              "2    ABE Katsuhiko          Japan  Basketball   NaN\n",
              "3     ADAMA Cherif  Côte d'Ivoire    Football   NaN\n",
              "4       AGEBA Yuya          Japan  Volleyball   NaN"
            ],
            "text/html": [
              "\n",
              "  <div id=\"df-0a1fd034-9e9b-4d84-87ef-7fdeacb1fe9a\">\n",
              "    <div class=\"colab-df-container\">\n",
              "      <div>\n",
              "<style scoped>\n",
              "    .dataframe tbody tr th:only-of-type {\n",
              "        vertical-align: middle;\n",
              "    }\n",
              "\n",
              "    .dataframe tbody tr th {\n",
              "        vertical-align: top;\n",
              "    }\n",
              "\n",
              "    .dataframe thead th {\n",
              "        text-align: right;\n",
              "    }\n",
              "</style>\n",
              "<table border=\"1\" class=\"dataframe\">\n",
              "  <thead>\n",
              "    <tr style=\"text-align: right;\">\n",
              "      <th></th>\n",
              "      <th>Name</th>\n",
              "      <th>NOC</th>\n",
              "      <th>Discipline</th>\n",
              "      <th>Event</th>\n",
              "    </tr>\n",
              "  </thead>\n",
              "  <tbody>\n",
              "    <tr>\n",
              "      <th>0</th>\n",
              "      <td>ABDELMAGID Wael</td>\n",
              "      <td>Egypt</td>\n",
              "      <td>Football</td>\n",
              "      <td>NaN</td>\n",
              "    </tr>\n",
              "    <tr>\n",
              "      <th>1</th>\n",
              "      <td>ABE Junya</td>\n",
              "      <td>Japan</td>\n",
              "      <td>Volleyball</td>\n",
              "      <td>NaN</td>\n",
              "    </tr>\n",
              "    <tr>\n",
              "      <th>2</th>\n",
              "      <td>ABE Katsuhiko</td>\n",
              "      <td>Japan</td>\n",
              "      <td>Basketball</td>\n",
              "      <td>NaN</td>\n",
              "    </tr>\n",
              "    <tr>\n",
              "      <th>3</th>\n",
              "      <td>ADAMA Cherif</td>\n",
              "      <td>Côte d'Ivoire</td>\n",
              "      <td>Football</td>\n",
              "      <td>NaN</td>\n",
              "    </tr>\n",
              "    <tr>\n",
              "      <th>4</th>\n",
              "      <td>AGEBA Yuya</td>\n",
              "      <td>Japan</td>\n",
              "      <td>Volleyball</td>\n",
              "      <td>NaN</td>\n",
              "    </tr>\n",
              "  </tbody>\n",
              "</table>\n",
              "</div>\n",
              "      <button class=\"colab-df-convert\" onclick=\"convertToInteractive('df-0a1fd034-9e9b-4d84-87ef-7fdeacb1fe9a')\"\n",
              "              title=\"Convert this dataframe to an interactive table.\"\n",
              "              style=\"display:none;\">\n",
              "        \n",
              "  <svg xmlns=\"http://www.w3.org/2000/svg\" height=\"24px\"viewBox=\"0 0 24 24\"\n",
              "       width=\"24px\">\n",
              "    <path d=\"M0 0h24v24H0V0z\" fill=\"none\"/>\n",
              "    <path d=\"M18.56 5.44l.94 2.06.94-2.06 2.06-.94-2.06-.94-.94-2.06-.94 2.06-2.06.94zm-11 1L8.5 8.5l.94-2.06 2.06-.94-2.06-.94L8.5 2.5l-.94 2.06-2.06.94zm10 10l.94 2.06.94-2.06 2.06-.94-2.06-.94-.94-2.06-.94 2.06-2.06.94z\"/><path d=\"M17.41 7.96l-1.37-1.37c-.4-.4-.92-.59-1.43-.59-.52 0-1.04.2-1.43.59L10.3 9.45l-7.72 7.72c-.78.78-.78 2.05 0 2.83L4 21.41c.39.39.9.59 1.41.59.51 0 1.02-.2 1.41-.59l7.78-7.78 2.81-2.81c.8-.78.8-2.07 0-2.86zM5.41 20L4 18.59l7.72-7.72 1.47 1.35L5.41 20z\"/>\n",
              "  </svg>\n",
              "      </button>\n",
              "      \n",
              "  <style>\n",
              "    .colab-df-container {\n",
              "      display:flex;\n",
              "      flex-wrap:wrap;\n",
              "      gap: 12px;\n",
              "    }\n",
              "\n",
              "    .colab-df-convert {\n",
              "      background-color: #E8F0FE;\n",
              "      border: none;\n",
              "      border-radius: 50%;\n",
              "      cursor: pointer;\n",
              "      display: none;\n",
              "      fill: #1967D2;\n",
              "      height: 32px;\n",
              "      padding: 0 0 0 0;\n",
              "      width: 32px;\n",
              "    }\n",
              "\n",
              "    .colab-df-convert:hover {\n",
              "      background-color: #E2EBFA;\n",
              "      box-shadow: 0px 1px 2px rgba(60, 64, 67, 0.3), 0px 1px 3px 1px rgba(60, 64, 67, 0.15);\n",
              "      fill: #174EA6;\n",
              "    }\n",
              "\n",
              "    [theme=dark] .colab-df-convert {\n",
              "      background-color: #3B4455;\n",
              "      fill: #D2E3FC;\n",
              "    }\n",
              "\n",
              "    [theme=dark] .colab-df-convert:hover {\n",
              "      background-color: #434B5C;\n",
              "      box-shadow: 0px 1px 3px 1px rgba(0, 0, 0, 0.15);\n",
              "      filter: drop-shadow(0px 1px 2px rgba(0, 0, 0, 0.3));\n",
              "      fill: #FFFFFF;\n",
              "    }\n",
              "  </style>\n",
              "\n",
              "      <script>\n",
              "        const buttonEl =\n",
              "          document.querySelector('#df-0a1fd034-9e9b-4d84-87ef-7fdeacb1fe9a button.colab-df-convert');\n",
              "        buttonEl.style.display =\n",
              "          google.colab.kernel.accessAllowed ? 'block' : 'none';\n",
              "\n",
              "        async function convertToInteractive(key) {\n",
              "          const element = document.querySelector('#df-0a1fd034-9e9b-4d84-87ef-7fdeacb1fe9a');\n",
              "          const dataTable =\n",
              "            await google.colab.kernel.invokeFunction('convertToInteractive',\n",
              "                                                     [key], {});\n",
              "          if (!dataTable) return;\n",
              "\n",
              "          const docLinkHtml = 'Like what you see? Visit the ' +\n",
              "            '<a target=\"_blank\" href=https://colab.research.google.com/notebooks/data_table.ipynb>data table notebook</a>'\n",
              "            + ' to learn more about interactive tables.';\n",
              "          element.innerHTML = '';\n",
              "          dataTable['output_type'] = 'display_data';\n",
              "          await google.colab.output.renderOutput(dataTable, element);\n",
              "          const docLink = document.createElement('div');\n",
              "          docLink.innerHTML = docLinkHtml;\n",
              "          element.appendChild(docLink);\n",
              "        }\n",
              "      </script>\n",
              "    </div>\n",
              "  </div>\n",
              "  "
            ]
          },
          "metadata": {},
          "execution_count": 13
        }
      ]
    },
    {
      "cell_type": "code",
      "source": [
        "spark.read.csv('Coaches.csv', header=True, inferSchema=True).createOrReplaceTempView('Coaches')\n",
        "spark.sql('Select * from Coaches').show(5)"
      ],
      "metadata": {
        "id": "4rljt6FvxA1q",
        "colab": {
          "base_uri": "https://localhost:8080/"
        },
        "outputId": "8611486f-0204-4b32-dc56-f4be9624c66b"
      },
      "execution_count": 14,
      "outputs": [
        {
          "output_type": "stream",
          "name": "stdout",
          "text": [
            "+---------------+-------------+----------+-----+\n",
            "|           Name|          NOC|Discipline|Event|\n",
            "+---------------+-------------+----------+-----+\n",
            "|ABDELMAGID Wael|        Egypt|  Football| null|\n",
            "|      ABE Junya|        Japan|Volleyball| null|\n",
            "|  ABE Katsuhiko|        Japan|Basketball| null|\n",
            "|   ADAMA Cherif|Côte d'Ivoire|  Football| null|\n",
            "|     AGEBA Yuya|        Japan|Volleyball| null|\n",
            "+---------------+-------------+----------+-----+\n",
            "only showing top 5 rows\n",
            "\n"
          ]
        }
      ]
    },
    {
      "cell_type": "code",
      "source": [
        "pd_coaches_query = spark.sql('select NOC, COUNT(NOC) AS Count FROM Coaches GROUP BY NOC ORDER BY NOC').toPandas()\n",
        "pd_coaches_query.head(7)"
      ],
      "metadata": {
        "id": "fTVYqyamxw0J",
        "colab": {
          "base_uri": "https://localhost:8080/",
          "height": 269
        },
        "outputId": "f9d8cf1f-68c6-451e-bb01-49af1d80fc3b"
      },
      "execution_count": 15,
      "outputs": [
        {
          "output_type": "execute_result",
          "data": {
            "text/plain": [
              "         NOC  Count\n",
              "0     Angola      1\n",
              "1  Argentina     11\n",
              "2  Australia     22\n",
              "3    Austria      3\n",
              "4    Bahrain      1\n",
              "5    Belarus      1\n",
              "6    Belgium      5"
            ],
            "text/html": [
              "\n",
              "  <div id=\"df-1a2b54cf-5dbe-4be4-a5e6-4e3085b7f0c6\">\n",
              "    <div class=\"colab-df-container\">\n",
              "      <div>\n",
              "<style scoped>\n",
              "    .dataframe tbody tr th:only-of-type {\n",
              "        vertical-align: middle;\n",
              "    }\n",
              "\n",
              "    .dataframe tbody tr th {\n",
              "        vertical-align: top;\n",
              "    }\n",
              "\n",
              "    .dataframe thead th {\n",
              "        text-align: right;\n",
              "    }\n",
              "</style>\n",
              "<table border=\"1\" class=\"dataframe\">\n",
              "  <thead>\n",
              "    <tr style=\"text-align: right;\">\n",
              "      <th></th>\n",
              "      <th>NOC</th>\n",
              "      <th>Count</th>\n",
              "    </tr>\n",
              "  </thead>\n",
              "  <tbody>\n",
              "    <tr>\n",
              "      <th>0</th>\n",
              "      <td>Angola</td>\n",
              "      <td>1</td>\n",
              "    </tr>\n",
              "    <tr>\n",
              "      <th>1</th>\n",
              "      <td>Argentina</td>\n",
              "      <td>11</td>\n",
              "    </tr>\n",
              "    <tr>\n",
              "      <th>2</th>\n",
              "      <td>Australia</td>\n",
              "      <td>22</td>\n",
              "    </tr>\n",
              "    <tr>\n",
              "      <th>3</th>\n",
              "      <td>Austria</td>\n",
              "      <td>3</td>\n",
              "    </tr>\n",
              "    <tr>\n",
              "      <th>4</th>\n",
              "      <td>Bahrain</td>\n",
              "      <td>1</td>\n",
              "    </tr>\n",
              "    <tr>\n",
              "      <th>5</th>\n",
              "      <td>Belarus</td>\n",
              "      <td>1</td>\n",
              "    </tr>\n",
              "    <tr>\n",
              "      <th>6</th>\n",
              "      <td>Belgium</td>\n",
              "      <td>5</td>\n",
              "    </tr>\n",
              "  </tbody>\n",
              "</table>\n",
              "</div>\n",
              "      <button class=\"colab-df-convert\" onclick=\"convertToInteractive('df-1a2b54cf-5dbe-4be4-a5e6-4e3085b7f0c6')\"\n",
              "              title=\"Convert this dataframe to an interactive table.\"\n",
              "              style=\"display:none;\">\n",
              "        \n",
              "  <svg xmlns=\"http://www.w3.org/2000/svg\" height=\"24px\"viewBox=\"0 0 24 24\"\n",
              "       width=\"24px\">\n",
              "    <path d=\"M0 0h24v24H0V0z\" fill=\"none\"/>\n",
              "    <path d=\"M18.56 5.44l.94 2.06.94-2.06 2.06-.94-2.06-.94-.94-2.06-.94 2.06-2.06.94zm-11 1L8.5 8.5l.94-2.06 2.06-.94-2.06-.94L8.5 2.5l-.94 2.06-2.06.94zm10 10l.94 2.06.94-2.06 2.06-.94-2.06-.94-.94-2.06-.94 2.06-2.06.94z\"/><path d=\"M17.41 7.96l-1.37-1.37c-.4-.4-.92-.59-1.43-.59-.52 0-1.04.2-1.43.59L10.3 9.45l-7.72 7.72c-.78.78-.78 2.05 0 2.83L4 21.41c.39.39.9.59 1.41.59.51 0 1.02-.2 1.41-.59l7.78-7.78 2.81-2.81c.8-.78.8-2.07 0-2.86zM5.41 20L4 18.59l7.72-7.72 1.47 1.35L5.41 20z\"/>\n",
              "  </svg>\n",
              "      </button>\n",
              "      \n",
              "  <style>\n",
              "    .colab-df-container {\n",
              "      display:flex;\n",
              "      flex-wrap:wrap;\n",
              "      gap: 12px;\n",
              "    }\n",
              "\n",
              "    .colab-df-convert {\n",
              "      background-color: #E8F0FE;\n",
              "      border: none;\n",
              "      border-radius: 50%;\n",
              "      cursor: pointer;\n",
              "      display: none;\n",
              "      fill: #1967D2;\n",
              "      height: 32px;\n",
              "      padding: 0 0 0 0;\n",
              "      width: 32px;\n",
              "    }\n",
              "\n",
              "    .colab-df-convert:hover {\n",
              "      background-color: #E2EBFA;\n",
              "      box-shadow: 0px 1px 2px rgba(60, 64, 67, 0.3), 0px 1px 3px 1px rgba(60, 64, 67, 0.15);\n",
              "      fill: #174EA6;\n",
              "    }\n",
              "\n",
              "    [theme=dark] .colab-df-convert {\n",
              "      background-color: #3B4455;\n",
              "      fill: #D2E3FC;\n",
              "    }\n",
              "\n",
              "    [theme=dark] .colab-df-convert:hover {\n",
              "      background-color: #434B5C;\n",
              "      box-shadow: 0px 1px 3px 1px rgba(0, 0, 0, 0.15);\n",
              "      filter: drop-shadow(0px 1px 2px rgba(0, 0, 0, 0.3));\n",
              "      fill: #FFFFFF;\n",
              "    }\n",
              "  </style>\n",
              "\n",
              "      <script>\n",
              "        const buttonEl =\n",
              "          document.querySelector('#df-1a2b54cf-5dbe-4be4-a5e6-4e3085b7f0c6 button.colab-df-convert');\n",
              "        buttonEl.style.display =\n",
              "          google.colab.kernel.accessAllowed ? 'block' : 'none';\n",
              "\n",
              "        async function convertToInteractive(key) {\n",
              "          const element = document.querySelector('#df-1a2b54cf-5dbe-4be4-a5e6-4e3085b7f0c6');\n",
              "          const dataTable =\n",
              "            await google.colab.kernel.invokeFunction('convertToInteractive',\n",
              "                                                     [key], {});\n",
              "          if (!dataTable) return;\n",
              "\n",
              "          const docLinkHtml = 'Like what you see? Visit the ' +\n",
              "            '<a target=\"_blank\" href=https://colab.research.google.com/notebooks/data_table.ipynb>data table notebook</a>'\n",
              "            + ' to learn more about interactive tables.';\n",
              "          element.innerHTML = '';\n",
              "          dataTable['output_type'] = 'display_data';\n",
              "          await google.colab.output.renderOutput(dataTable, element);\n",
              "          const docLink = document.createElement('div');\n",
              "          docLink.innerHTML = docLinkHtml;\n",
              "          element.appendChild(docLink);\n",
              "        }\n",
              "      </script>\n",
              "    </div>\n",
              "  </div>\n",
              "  "
            ]
          },
          "metadata": {},
          "execution_count": 15
        }
      ]
    },
    {
      "cell_type": "code",
      "source": [
        "fig = px.bar(pd_coaches_query, x='NOC', y='Count', color='Count', title='Number of coaches from each country')\n",
        "fig.show()"
      ],
      "metadata": {
        "id": "GPP8zW1Lydr9",
        "colab": {
          "base_uri": "https://localhost:8080/",
          "height": 542
        },
        "outputId": "8d9ea89e-2315-4d30-9121-3952d5225bdb"
      },
      "execution_count": 16,
      "outputs": [
        {
          "output_type": "display_data",
          "data": {
            "text/html": [
              "<html>\n",
              "<head><meta charset=\"utf-8\" /></head>\n",
              "<body>\n",
              "    <div>            <script src=\"https://cdnjs.cloudflare.com/ajax/libs/mathjax/2.7.5/MathJax.js?config=TeX-AMS-MML_SVG\"></script><script type=\"text/javascript\">if (window.MathJax && window.MathJax.Hub && window.MathJax.Hub.Config) {window.MathJax.Hub.Config({SVG: {font: \"STIX-Web\"}});}</script>                <script type=\"text/javascript\">window.PlotlyConfig = {MathJaxConfig: 'local'};</script>\n",
              "        <script charset=\"utf-8\" src=\"https://cdn.plot.ly/plotly-2.20.0.min.js\"></script>                <div id=\"0fe62253-1652-4ae9-b13b-256024dab143\" class=\"plotly-graph-div\" style=\"height:525px; width:100%;\"></div>            <script type=\"text/javascript\">                                    window.PLOTLYENV=window.PLOTLYENV || {};                                    if (document.getElementById(\"0fe62253-1652-4ae9-b13b-256024dab143\")) {                    Plotly.newPlot(                        \"0fe62253-1652-4ae9-b13b-256024dab143\",                        [{\"alignmentgroup\":\"True\",\"hovertemplate\":\"NOC=%{x}<br>Count=%{marker.color}<extra></extra>\",\"legendgroup\":\"\",\"marker\":{\"color\":[1,11,22,3,1,1,5,7,1,16,6,2,1,2,5,2,6,12,2,10,9,7,6,1,4,5,3,2,2,14,35,2,5,1,8,2,10,8,9,3,12,3,1,3,12,7,2,2,2,5,1,3,12,28,3,1,1,4,28,10,2],\"coloraxis\":\"coloraxis\",\"pattern\":{\"shape\":\"\"}},\"name\":\"\",\"offsetgroup\":\"\",\"orientation\":\"v\",\"showlegend\":false,\"textposition\":\"auto\",\"x\":[\"Angola\",\"Argentina\",\"Australia\",\"Austria\",\"Bahrain\",\"Belarus\",\"Belgium\",\"Brazil\",\"Cambodia\",\"Canada\",\"Chile\",\"Colombia\",\"Croatia\",\"Czech Republic\",\"C\\u00f4te d'Ivoire\",\"Denmark\",\"Dominican Republic\",\"Egypt\",\"Fiji\",\"France\",\"Germany\",\"Great Britain\",\"Greece\",\"Honduras\",\"Hungary\",\"India\",\"Ireland\",\"Islamic Republic of Iran\",\"Israel\",\"Italy\",\"Japan\",\"Kazakhstan\",\"Kenya\",\"Liechtenstein\",\"Mexico\",\"Montenegro\",\"Netherlands\",\"New Zealand\",\"Nigeria\",\"Norway\",\"People's Republic of China\",\"Poland\",\"Portugal\",\"Puerto Rico\",\"ROC\",\"Republic of Korea\",\"Romania\",\"San Marino\",\"Saudi Arabia\",\"Serbia\",\"Slovakia\",\"Slovenia\",\"South Africa\",\"Spain\",\"Sweden\",\"Tunisia\",\"Turkey\",\"Ukraine\",\"United States of America\",\"Venezuela\",\"Zambia\"],\"xaxis\":\"x\",\"y\":[1,11,22,3,1,1,5,7,1,16,6,2,1,2,5,2,6,12,2,10,9,7,6,1,4,5,3,2,2,14,35,2,5,1,8,2,10,8,9,3,12,3,1,3,12,7,2,2,2,5,1,3,12,28,3,1,1,4,28,10,2],\"yaxis\":\"y\",\"type\":\"bar\"}],                        {\"template\":{\"data\":{\"histogram2dcontour\":[{\"type\":\"histogram2dcontour\",\"colorbar\":{\"outlinewidth\":0,\"ticks\":\"\"},\"colorscale\":[[0.0,\"#0d0887\"],[0.1111111111111111,\"#46039f\"],[0.2222222222222222,\"#7201a8\"],[0.3333333333333333,\"#9c179e\"],[0.4444444444444444,\"#bd3786\"],[0.5555555555555556,\"#d8576b\"],[0.6666666666666666,\"#ed7953\"],[0.7777777777777778,\"#fb9f3a\"],[0.8888888888888888,\"#fdca26\"],[1.0,\"#f0f921\"]]}],\"choropleth\":[{\"type\":\"choropleth\",\"colorbar\":{\"outlinewidth\":0,\"ticks\":\"\"}}],\"histogram2d\":[{\"type\":\"histogram2d\",\"colorbar\":{\"outlinewidth\":0,\"ticks\":\"\"},\"colorscale\":[[0.0,\"#0d0887\"],[0.1111111111111111,\"#46039f\"],[0.2222222222222222,\"#7201a8\"],[0.3333333333333333,\"#9c179e\"],[0.4444444444444444,\"#bd3786\"],[0.5555555555555556,\"#d8576b\"],[0.6666666666666666,\"#ed7953\"],[0.7777777777777778,\"#fb9f3a\"],[0.8888888888888888,\"#fdca26\"],[1.0,\"#f0f921\"]]}],\"heatmap\":[{\"type\":\"heatmap\",\"colorbar\":{\"outlinewidth\":0,\"ticks\":\"\"},\"colorscale\":[[0.0,\"#0d0887\"],[0.1111111111111111,\"#46039f\"],[0.2222222222222222,\"#7201a8\"],[0.3333333333333333,\"#9c179e\"],[0.4444444444444444,\"#bd3786\"],[0.5555555555555556,\"#d8576b\"],[0.6666666666666666,\"#ed7953\"],[0.7777777777777778,\"#fb9f3a\"],[0.8888888888888888,\"#fdca26\"],[1.0,\"#f0f921\"]]}],\"heatmapgl\":[{\"type\":\"heatmapgl\",\"colorbar\":{\"outlinewidth\":0,\"ticks\":\"\"},\"colorscale\":[[0.0,\"#0d0887\"],[0.1111111111111111,\"#46039f\"],[0.2222222222222222,\"#7201a8\"],[0.3333333333333333,\"#9c179e\"],[0.4444444444444444,\"#bd3786\"],[0.5555555555555556,\"#d8576b\"],[0.6666666666666666,\"#ed7953\"],[0.7777777777777778,\"#fb9f3a\"],[0.8888888888888888,\"#fdca26\"],[1.0,\"#f0f921\"]]}],\"contourcarpet\":[{\"type\":\"contourcarpet\",\"colorbar\":{\"outlinewidth\":0,\"ticks\":\"\"}}],\"contour\":[{\"type\":\"contour\",\"colorbar\":{\"outlinewidth\":0,\"ticks\":\"\"},\"colorscale\":[[0.0,\"#0d0887\"],[0.1111111111111111,\"#46039f\"],[0.2222222222222222,\"#7201a8\"],[0.3333333333333333,\"#9c179e\"],[0.4444444444444444,\"#bd3786\"],[0.5555555555555556,\"#d8576b\"],[0.6666666666666666,\"#ed7953\"],[0.7777777777777778,\"#fb9f3a\"],[0.8888888888888888,\"#fdca26\"],[1.0,\"#f0f921\"]]}],\"surface\":[{\"type\":\"surface\",\"colorbar\":{\"outlinewidth\":0,\"ticks\":\"\"},\"colorscale\":[[0.0,\"#0d0887\"],[0.1111111111111111,\"#46039f\"],[0.2222222222222222,\"#7201a8\"],[0.3333333333333333,\"#9c179e\"],[0.4444444444444444,\"#bd3786\"],[0.5555555555555556,\"#d8576b\"],[0.6666666666666666,\"#ed7953\"],[0.7777777777777778,\"#fb9f3a\"],[0.8888888888888888,\"#fdca26\"],[1.0,\"#f0f921\"]]}],\"mesh3d\":[{\"type\":\"mesh3d\",\"colorbar\":{\"outlinewidth\":0,\"ticks\":\"\"}}],\"scatter\":[{\"fillpattern\":{\"fillmode\":\"overlay\",\"size\":10,\"solidity\":0.2},\"type\":\"scatter\"}],\"parcoords\":[{\"type\":\"parcoords\",\"line\":{\"colorbar\":{\"outlinewidth\":0,\"ticks\":\"\"}}}],\"scatterpolargl\":[{\"type\":\"scatterpolargl\",\"marker\":{\"colorbar\":{\"outlinewidth\":0,\"ticks\":\"\"}}}],\"bar\":[{\"error_x\":{\"color\":\"#2a3f5f\"},\"error_y\":{\"color\":\"#2a3f5f\"},\"marker\":{\"line\":{\"color\":\"#E5ECF6\",\"width\":0.5},\"pattern\":{\"fillmode\":\"overlay\",\"size\":10,\"solidity\":0.2}},\"type\":\"bar\"}],\"scattergeo\":[{\"type\":\"scattergeo\",\"marker\":{\"colorbar\":{\"outlinewidth\":0,\"ticks\":\"\"}}}],\"scatterpolar\":[{\"type\":\"scatterpolar\",\"marker\":{\"colorbar\":{\"outlinewidth\":0,\"ticks\":\"\"}}}],\"histogram\":[{\"marker\":{\"pattern\":{\"fillmode\":\"overlay\",\"size\":10,\"solidity\":0.2}},\"type\":\"histogram\"}],\"scattergl\":[{\"type\":\"scattergl\",\"marker\":{\"colorbar\":{\"outlinewidth\":0,\"ticks\":\"\"}}}],\"scatter3d\":[{\"type\":\"scatter3d\",\"line\":{\"colorbar\":{\"outlinewidth\":0,\"ticks\":\"\"}},\"marker\":{\"colorbar\":{\"outlinewidth\":0,\"ticks\":\"\"}}}],\"scattermapbox\":[{\"type\":\"scattermapbox\",\"marker\":{\"colorbar\":{\"outlinewidth\":0,\"ticks\":\"\"}}}],\"scatterternary\":[{\"type\":\"scatterternary\",\"marker\":{\"colorbar\":{\"outlinewidth\":0,\"ticks\":\"\"}}}],\"scattercarpet\":[{\"type\":\"scattercarpet\",\"marker\":{\"colorbar\":{\"outlinewidth\":0,\"ticks\":\"\"}}}],\"carpet\":[{\"aaxis\":{\"endlinecolor\":\"#2a3f5f\",\"gridcolor\":\"white\",\"linecolor\":\"white\",\"minorgridcolor\":\"white\",\"startlinecolor\":\"#2a3f5f\"},\"baxis\":{\"endlinecolor\":\"#2a3f5f\",\"gridcolor\":\"white\",\"linecolor\":\"white\",\"minorgridcolor\":\"white\",\"startlinecolor\":\"#2a3f5f\"},\"type\":\"carpet\"}],\"table\":[{\"cells\":{\"fill\":{\"color\":\"#EBF0F8\"},\"line\":{\"color\":\"white\"}},\"header\":{\"fill\":{\"color\":\"#C8D4E3\"},\"line\":{\"color\":\"white\"}},\"type\":\"table\"}],\"barpolar\":[{\"marker\":{\"line\":{\"color\":\"#E5ECF6\",\"width\":0.5},\"pattern\":{\"fillmode\":\"overlay\",\"size\":10,\"solidity\":0.2}},\"type\":\"barpolar\"}],\"pie\":[{\"automargin\":true,\"type\":\"pie\"}]},\"layout\":{\"autotypenumbers\":\"strict\",\"colorway\":[\"#636efa\",\"#EF553B\",\"#00cc96\",\"#ab63fa\",\"#FFA15A\",\"#19d3f3\",\"#FF6692\",\"#B6E880\",\"#FF97FF\",\"#FECB52\"],\"font\":{\"color\":\"#2a3f5f\"},\"hovermode\":\"closest\",\"hoverlabel\":{\"align\":\"left\"},\"paper_bgcolor\":\"white\",\"plot_bgcolor\":\"#E5ECF6\",\"polar\":{\"bgcolor\":\"#E5ECF6\",\"angularaxis\":{\"gridcolor\":\"white\",\"linecolor\":\"white\",\"ticks\":\"\"},\"radialaxis\":{\"gridcolor\":\"white\",\"linecolor\":\"white\",\"ticks\":\"\"}},\"ternary\":{\"bgcolor\":\"#E5ECF6\",\"aaxis\":{\"gridcolor\":\"white\",\"linecolor\":\"white\",\"ticks\":\"\"},\"baxis\":{\"gridcolor\":\"white\",\"linecolor\":\"white\",\"ticks\":\"\"},\"caxis\":{\"gridcolor\":\"white\",\"linecolor\":\"white\",\"ticks\":\"\"}},\"coloraxis\":{\"colorbar\":{\"outlinewidth\":0,\"ticks\":\"\"}},\"colorscale\":{\"sequential\":[[0.0,\"#0d0887\"],[0.1111111111111111,\"#46039f\"],[0.2222222222222222,\"#7201a8\"],[0.3333333333333333,\"#9c179e\"],[0.4444444444444444,\"#bd3786\"],[0.5555555555555556,\"#d8576b\"],[0.6666666666666666,\"#ed7953\"],[0.7777777777777778,\"#fb9f3a\"],[0.8888888888888888,\"#fdca26\"],[1.0,\"#f0f921\"]],\"sequentialminus\":[[0.0,\"#0d0887\"],[0.1111111111111111,\"#46039f\"],[0.2222222222222222,\"#7201a8\"],[0.3333333333333333,\"#9c179e\"],[0.4444444444444444,\"#bd3786\"],[0.5555555555555556,\"#d8576b\"],[0.6666666666666666,\"#ed7953\"],[0.7777777777777778,\"#fb9f3a\"],[0.8888888888888888,\"#fdca26\"],[1.0,\"#f0f921\"]],\"diverging\":[[0,\"#8e0152\"],[0.1,\"#c51b7d\"],[0.2,\"#de77ae\"],[0.3,\"#f1b6da\"],[0.4,\"#fde0ef\"],[0.5,\"#f7f7f7\"],[0.6,\"#e6f5d0\"],[0.7,\"#b8e186\"],[0.8,\"#7fbc41\"],[0.9,\"#4d9221\"],[1,\"#276419\"]]},\"xaxis\":{\"gridcolor\":\"white\",\"linecolor\":\"white\",\"ticks\":\"\",\"title\":{\"standoff\":15},\"zerolinecolor\":\"white\",\"automargin\":true,\"zerolinewidth\":2},\"yaxis\":{\"gridcolor\":\"white\",\"linecolor\":\"white\",\"ticks\":\"\",\"title\":{\"standoff\":15},\"zerolinecolor\":\"white\",\"automargin\":true,\"zerolinewidth\":2},\"scene\":{\"xaxis\":{\"backgroundcolor\":\"#E5ECF6\",\"gridcolor\":\"white\",\"linecolor\":\"white\",\"showbackground\":true,\"ticks\":\"\",\"zerolinecolor\":\"white\",\"gridwidth\":2},\"yaxis\":{\"backgroundcolor\":\"#E5ECF6\",\"gridcolor\":\"white\",\"linecolor\":\"white\",\"showbackground\":true,\"ticks\":\"\",\"zerolinecolor\":\"white\",\"gridwidth\":2},\"zaxis\":{\"backgroundcolor\":\"#E5ECF6\",\"gridcolor\":\"white\",\"linecolor\":\"white\",\"showbackground\":true,\"ticks\":\"\",\"zerolinecolor\":\"white\",\"gridwidth\":2}},\"shapedefaults\":{\"line\":{\"color\":\"#2a3f5f\"}},\"annotationdefaults\":{\"arrowcolor\":\"#2a3f5f\",\"arrowhead\":0,\"arrowwidth\":1},\"geo\":{\"bgcolor\":\"white\",\"landcolor\":\"#E5ECF6\",\"subunitcolor\":\"white\",\"showland\":true,\"showlakes\":true,\"lakecolor\":\"white\"},\"title\":{\"x\":0.05},\"mapbox\":{\"style\":\"light\"}}},\"xaxis\":{\"anchor\":\"y\",\"domain\":[0.0,1.0],\"title\":{\"text\":\"NOC\"}},\"yaxis\":{\"anchor\":\"x\",\"domain\":[0.0,1.0],\"title\":{\"text\":\"Count\"}},\"coloraxis\":{\"colorbar\":{\"title\":{\"text\":\"Count\"}},\"colorscale\":[[0.0,\"#0d0887\"],[0.1111111111111111,\"#46039f\"],[0.2222222222222222,\"#7201a8\"],[0.3333333333333333,\"#9c179e\"],[0.4444444444444444,\"#bd3786\"],[0.5555555555555556,\"#d8576b\"],[0.6666666666666666,\"#ed7953\"],[0.7777777777777778,\"#fb9f3a\"],[0.8888888888888888,\"#fdca26\"],[1.0,\"#f0f921\"]]},\"legend\":{\"tracegroupgap\":0},\"title\":{\"text\":\"Number of coaches from each country\"},\"barmode\":\"relative\"},                        {\"responsive\": true}                    ).then(function(){\n",
              "                            \n",
              "var gd = document.getElementById('0fe62253-1652-4ae9-b13b-256024dab143');\n",
              "var x = new MutationObserver(function (mutations, observer) {{\n",
              "        var display = window.getComputedStyle(gd).display;\n",
              "        if (!display || display === 'none') {{\n",
              "            console.log([gd, 'removed!']);\n",
              "            Plotly.purge(gd);\n",
              "            observer.disconnect();\n",
              "        }}\n",
              "}});\n",
              "\n",
              "// Listen for the removal of the full notebook cells\n",
              "var notebookContainer = gd.closest('#notebook-container');\n",
              "if (notebookContainer) {{\n",
              "    x.observe(notebookContainer, {childList: true});\n",
              "}}\n",
              "\n",
              "// Listen for the clearing of the current output cell\n",
              "var outputEl = gd.closest('.output');\n",
              "if (outputEl) {{\n",
              "    x.observe(outputEl, {childList: true});\n",
              "}}\n",
              "\n",
              "                        })                };                            </script>        </div>\n",
              "</body>\n",
              "</html>"
            ]
          },
          "metadata": {}
        }
      ]
    },
    {
      "cell_type": "code",
      "source": [
        "athletes.head()"
      ],
      "metadata": {
        "id": "iIrJfSmey4GK",
        "colab": {
          "base_uri": "https://localhost:8080/",
          "height": 206
        },
        "outputId": "b2914baa-1aec-4dbd-cf24-2afe56131ac1"
      },
      "execution_count": 17,
      "outputs": [
        {
          "output_type": "execute_result",
          "data": {
            "text/plain": [
              "                Name     NOC           Discipline\n",
              "0    AALERUD Katrine  Norway         Cycling Road\n",
              "1        ABAD Nestor   Spain  Artistic Gymnastics\n",
              "2  ABAGNALE Giovanni   Italy               Rowing\n",
              "3     ABALDE Alberto   Spain           Basketball\n",
              "4      ABALDE Tamara   Spain           Basketball"
            ],
            "text/html": [
              "\n",
              "  <div id=\"df-bec1045d-4d8e-4b9a-9592-34d533f5f6f7\">\n",
              "    <div class=\"colab-df-container\">\n",
              "      <div>\n",
              "<style scoped>\n",
              "    .dataframe tbody tr th:only-of-type {\n",
              "        vertical-align: middle;\n",
              "    }\n",
              "\n",
              "    .dataframe tbody tr th {\n",
              "        vertical-align: top;\n",
              "    }\n",
              "\n",
              "    .dataframe thead th {\n",
              "        text-align: right;\n",
              "    }\n",
              "</style>\n",
              "<table border=\"1\" class=\"dataframe\">\n",
              "  <thead>\n",
              "    <tr style=\"text-align: right;\">\n",
              "      <th></th>\n",
              "      <th>Name</th>\n",
              "      <th>NOC</th>\n",
              "      <th>Discipline</th>\n",
              "    </tr>\n",
              "  </thead>\n",
              "  <tbody>\n",
              "    <tr>\n",
              "      <th>0</th>\n",
              "      <td>AALERUD Katrine</td>\n",
              "      <td>Norway</td>\n",
              "      <td>Cycling Road</td>\n",
              "    </tr>\n",
              "    <tr>\n",
              "      <th>1</th>\n",
              "      <td>ABAD Nestor</td>\n",
              "      <td>Spain</td>\n",
              "      <td>Artistic Gymnastics</td>\n",
              "    </tr>\n",
              "    <tr>\n",
              "      <th>2</th>\n",
              "      <td>ABAGNALE Giovanni</td>\n",
              "      <td>Italy</td>\n",
              "      <td>Rowing</td>\n",
              "    </tr>\n",
              "    <tr>\n",
              "      <th>3</th>\n",
              "      <td>ABALDE Alberto</td>\n",
              "      <td>Spain</td>\n",
              "      <td>Basketball</td>\n",
              "    </tr>\n",
              "    <tr>\n",
              "      <th>4</th>\n",
              "      <td>ABALDE Tamara</td>\n",
              "      <td>Spain</td>\n",
              "      <td>Basketball</td>\n",
              "    </tr>\n",
              "  </tbody>\n",
              "</table>\n",
              "</div>\n",
              "      <button class=\"colab-df-convert\" onclick=\"convertToInteractive('df-bec1045d-4d8e-4b9a-9592-34d533f5f6f7')\"\n",
              "              title=\"Convert this dataframe to an interactive table.\"\n",
              "              style=\"display:none;\">\n",
              "        \n",
              "  <svg xmlns=\"http://www.w3.org/2000/svg\" height=\"24px\"viewBox=\"0 0 24 24\"\n",
              "       width=\"24px\">\n",
              "    <path d=\"M0 0h24v24H0V0z\" fill=\"none\"/>\n",
              "    <path d=\"M18.56 5.44l.94 2.06.94-2.06 2.06-.94-2.06-.94-.94-2.06-.94 2.06-2.06.94zm-11 1L8.5 8.5l.94-2.06 2.06-.94-2.06-.94L8.5 2.5l-.94 2.06-2.06.94zm10 10l.94 2.06.94-2.06 2.06-.94-2.06-.94-.94-2.06-.94 2.06-2.06.94z\"/><path d=\"M17.41 7.96l-1.37-1.37c-.4-.4-.92-.59-1.43-.59-.52 0-1.04.2-1.43.59L10.3 9.45l-7.72 7.72c-.78.78-.78 2.05 0 2.83L4 21.41c.39.39.9.59 1.41.59.51 0 1.02-.2 1.41-.59l7.78-7.78 2.81-2.81c.8-.78.8-2.07 0-2.86zM5.41 20L4 18.59l7.72-7.72 1.47 1.35L5.41 20z\"/>\n",
              "  </svg>\n",
              "      </button>\n",
              "      \n",
              "  <style>\n",
              "    .colab-df-container {\n",
              "      display:flex;\n",
              "      flex-wrap:wrap;\n",
              "      gap: 12px;\n",
              "    }\n",
              "\n",
              "    .colab-df-convert {\n",
              "      background-color: #E8F0FE;\n",
              "      border: none;\n",
              "      border-radius: 50%;\n",
              "      cursor: pointer;\n",
              "      display: none;\n",
              "      fill: #1967D2;\n",
              "      height: 32px;\n",
              "      padding: 0 0 0 0;\n",
              "      width: 32px;\n",
              "    }\n",
              "\n",
              "    .colab-df-convert:hover {\n",
              "      background-color: #E2EBFA;\n",
              "      box-shadow: 0px 1px 2px rgba(60, 64, 67, 0.3), 0px 1px 3px 1px rgba(60, 64, 67, 0.15);\n",
              "      fill: #174EA6;\n",
              "    }\n",
              "\n",
              "    [theme=dark] .colab-df-convert {\n",
              "      background-color: #3B4455;\n",
              "      fill: #D2E3FC;\n",
              "    }\n",
              "\n",
              "    [theme=dark] .colab-df-convert:hover {\n",
              "      background-color: #434B5C;\n",
              "      box-shadow: 0px 1px 3px 1px rgba(0, 0, 0, 0.15);\n",
              "      filter: drop-shadow(0px 1px 2px rgba(0, 0, 0, 0.3));\n",
              "      fill: #FFFFFF;\n",
              "    }\n",
              "  </style>\n",
              "\n",
              "      <script>\n",
              "        const buttonEl =\n",
              "          document.querySelector('#df-bec1045d-4d8e-4b9a-9592-34d533f5f6f7 button.colab-df-convert');\n",
              "        buttonEl.style.display =\n",
              "          google.colab.kernel.accessAllowed ? 'block' : 'none';\n",
              "\n",
              "        async function convertToInteractive(key) {\n",
              "          const element = document.querySelector('#df-bec1045d-4d8e-4b9a-9592-34d533f5f6f7');\n",
              "          const dataTable =\n",
              "            await google.colab.kernel.invokeFunction('convertToInteractive',\n",
              "                                                     [key], {});\n",
              "          if (!dataTable) return;\n",
              "\n",
              "          const docLinkHtml = 'Like what you see? Visit the ' +\n",
              "            '<a target=\"_blank\" href=https://colab.research.google.com/notebooks/data_table.ipynb>data table notebook</a>'\n",
              "            + ' to learn more about interactive tables.';\n",
              "          element.innerHTML = '';\n",
              "          dataTable['output_type'] = 'display_data';\n",
              "          await google.colab.output.renderOutput(dataTable, element);\n",
              "          const docLink = document.createElement('div');\n",
              "          docLink.innerHTML = docLinkHtml;\n",
              "          element.appendChild(docLink);\n",
              "        }\n",
              "      </script>\n",
              "    </div>\n",
              "  </div>\n",
              "  "
            ]
          },
          "metadata": {},
          "execution_count": 17
        }
      ]
    },
    {
      "cell_type": "code",
      "source": [
        "spark.read.csv('Athletes.csv', header=True, inferSchema=True).createOrReplaceTempView('Athletes')\n",
        "spark.sql('select * from athletes ORDER BY NOC, Discipline').show(7)"
      ],
      "metadata": {
        "id": "sElzcEtYy7eT",
        "colab": {
          "base_uri": "https://localhost:8080/"
        },
        "outputId": "30b54795-d6ed-4588-a0ff-4e410ac29223"
      },
      "execution_count": 18,
      "outputs": [
        {
          "output_type": "stream",
          "name": "stdout",
          "text": [
            "+--------------------+-----------+-------------------+\n",
            "|                Name|        NOC|         Discipline|\n",
            "+--------------------+-----------+-------------------+\n",
            "|NOOR ZAHI Sha Mah...|Afghanistan|          Athletics|\n",
            "|       YOUSOFI Kimia|Afghanistan|          Athletics|\n",
            "|        YOVARI Mahdi|Afghanistan|           Shooting|\n",
            "|        ANWARI Fahim|Afghanistan|           Swimming|\n",
            "|     MANSOURI Farzad|Afghanistan|          Taekwondo|\n",
            "|       PETROV Matvei|    Albania|Artistic Gymnastics|\n",
            "|       SMAJLAJ Izmir|    Albania|          Athletics|\n",
            "+--------------------+-----------+-------------------+\n",
            "only showing top 7 rows\n",
            "\n"
          ]
        }
      ]
    },
    {
      "cell_type": "code",
      "source": [
        "spark.sql('''\n",
        "select first(NOC) as NOC, first(Discipline) AS Discipline, COUNT(*) AS Count\n",
        "FROM Athletes\n",
        "GROUP BY NOC, Discipline\n",
        "ORDER BY NOC, Discipline''').show(20)"
      ],
      "metadata": {
        "id": "-CPzsyHBzq4i",
        "colab": {
          "base_uri": "https://localhost:8080/"
        },
        "outputId": "923dabac-e4d5-4f5c-abfc-fa696ff144fa"
      },
      "execution_count": 19,
      "outputs": [
        {
          "output_type": "stream",
          "name": "stdout",
          "text": [
            "+-----------+-------------------+-----+\n",
            "|        NOC|         Discipline|Count|\n",
            "+-----------+-------------------+-----+\n",
            "|Afghanistan|          Athletics|    2|\n",
            "|Afghanistan|           Shooting|    1|\n",
            "|Afghanistan|           Swimming|    1|\n",
            "|Afghanistan|          Taekwondo|    1|\n",
            "|    Albania|Artistic Gymnastics|    1|\n",
            "|    Albania|          Athletics|    1|\n",
            "|    Albania|               Judo|    1|\n",
            "|    Albania|           Shooting|    1|\n",
            "|    Albania|           Swimming|    2|\n",
            "|    Albania|      Weightlifting|    2|\n",
            "|    Algeria|          Athletics|    8|\n",
            "|    Algeria|             Boxing|    8|\n",
            "|    Algeria|       Canoe Sprint|    1|\n",
            "|    Algeria|       Cycling Road|    2|\n",
            "|    Algeria|            Fencing|    3|\n",
            "|    Algeria|               Judo|    2|\n",
            "|    Algeria|  Marathon Swimming|    1|\n",
            "|    Algeria|             Rowing|    2|\n",
            "|    Algeria|            Sailing|    2|\n",
            "|    Algeria|           Shooting|    1|\n",
            "+-----------+-------------------+-----+\n",
            "only showing top 20 rows\n",
            "\n"
          ]
        }
      ]
    },
    {
      "cell_type": "code",
      "source": [
        "pd_athletes_query = spark.sql('''\n",
        "select first(NOC) as NOC, first(Discipline) AS Discipline, COUNT(*) AS Count\n",
        "FROM Athletes\n",
        "GROUP BY NOC, Discipline\n",
        "ORDER BY NOC, Discipline''').toPandas()"
      ],
      "metadata": {
        "id": "Mu1nvN9s0tWL"
      },
      "execution_count": 20,
      "outputs": []
    },
    {
      "cell_type": "code",
      "source": [
        "fig = px.bar(pd_athletes_query, x='NOC', y='Count', color='Discipline', title='Number of Athletes from each country grouped by discipline')\n",
        "fig.show()"
      ],
      "metadata": {
        "id": "9EAP-Owa04YR",
        "colab": {
          "base_uri": "https://localhost:8080/",
          "height": 542
        },
        "outputId": "82059af3-7980-4ee0-db25-cb321593fad0"
      },
      "execution_count": 21,
      "outputs": [
        {
          "output_type": "display_data",
          "data": {
            "text/html": [
              "<html>\n",
              "<head><meta charset=\"utf-8\" /></head>\n",
              "<body>\n",
              "    <div>            <script src=\"https://cdnjs.cloudflare.com/ajax/libs/mathjax/2.7.5/MathJax.js?config=TeX-AMS-MML_SVG\"></script><script type=\"text/javascript\">if (window.MathJax && window.MathJax.Hub && window.MathJax.Hub.Config) {window.MathJax.Hub.Config({SVG: {font: \"STIX-Web\"}});}</script>                <script type=\"text/javascript\">window.PlotlyConfig = {MathJaxConfig: 'local'};</script>\n",
              "        <script charset=\"utf-8\" src=\"https://cdn.plot.ly/plotly-2.20.0.min.js\"></script>                <div id=\"439bca95-087e-4fd8-9497-23ae628c7161\" class=\"plotly-graph-div\" style=\"height:525px; width:100%;\"></div>            <script type=\"text/javascript\">                                    window.PLOTLYENV=window.PLOTLYENV || {};                                    if (document.getElementById(\"439bca95-087e-4fd8-9497-23ae628c7161\")) {                    Plotly.newPlot(                        \"439bca95-087e-4fd8-9497-23ae628c7161\",                        [{\"alignmentgroup\":\"True\",\"hovertemplate\":\"Discipline=Athletics<br>NOC=%{x}<br>Count=%{y}<extra></extra>\",\"legendgroup\":\"Athletics\",\"marker\":{\"color\":\"#636efa\",\"pattern\":{\"shape\":\"\"}},\"name\":\"Athletics\",\"offsetgroup\":\"Athletics\",\"orientation\":\"v\",\"showlegend\":true,\"textposition\":\"auto\",\"x\":[\"Afghanistan\",\"Albania\",\"Algeria\",\"American Samoa\",\"Andorra\",\"Angola\",\"Antigua and Barbuda\",\"Argentina\",\"Armenia\",\"Australia\",\"Austria\",\"Azerbaijan\",\"Bahamas\",\"Bahrain\",\"Bangladesh\",\"Barbados\",\"Belarus\",\"Belgium\",\"Belize\",\"Benin\",\"Bolivia\",\"Bosnia and Herzegovina\",\"Botswana\",\"Brazil\",\"Brunei Darussalam\",\"Bulgaria\",\"Burkina Faso\",\"Burundi\",\"Cambodia\",\"Cameroon\",\"Canada\",\"Cape Verde\",\"Cayman Islands\",\"Central African Republic\",\"Chad\",\"Chile\",\"Chinese Taipei\",\"Colombia\",\"Comoros\",\"Congo\",\"Cook Islands\",\"Costa Rica\",\"Croatia\",\"Cuba\",\"Cyprus\",\"Czech Republic\",\"C\\u00f4te d'Ivoire\",\"Democratic Republic of Timor-Leste\",\"Democratic Republic of the Congo\",\"Denmark\",\"Djibouti\",\"Dominica\",\"Dominican Republic\",\"Ecuador\",\"Egypt\",\"El Salvador\",\"Equatorial Guinea\",\"Eritrea\",\"Estonia\",\"Eswatini\",\"Ethiopia\",\"Federated States of Micronesia\",\"Fiji\",\"Finland\",\"France\",\"Gabon\",\"Gambia\",\"Georgia\",\"Germany\",\"Ghana\",\"Great Britain\",\"Greece\",\"Grenada\",\"Guam\",\"Guatemala\",\"Guinea\",\"Guinea-Bissau\",\"Guyana\",\"Haiti\",\"Honduras\",\"Hong Kong, China\",\"Hungary\",\"Iceland\",\"India\",\"Indonesia\",\"Iraq\",\"Ireland\",\"Islamic Republic of Iran\",\"Israel\",\"Italy\",\"Jamaica\",\"Japan\",\"Jordan\",\"Kazakhstan\",\"Kenya\",\"Kiribati\",\"Kosovo\",\"Kuwait\",\"Kyrgyzstan\",\"Lao People's Democratic Republic\",\"Latvia\",\"Lebanon\",\"Lesotho\",\"Liberia\",\"Libya\",\"Lithuania\",\"Luxembourg\",\"Madagascar\",\"Malawi\",\"Malaysia\",\"Maldives\",\"Mali\",\"Malta\",\"Mauritania\",\"Mauritius\",\"Mexico\",\"Monaco\",\"Mongolia\",\"Montenegro\",\"Morocco\",\"Mozambique\",\"Namibia\",\"Nauru\",\"Nepal\",\"Netherlands\",\"New Zealand\",\"Nicaragua\",\"Niger\",\"Nigeria\",\"North Macedonia\",\"Norway\",\"Oman\",\"Pakistan\",\"Palau\",\"Palestine\",\"Panama\",\"Papua New Guinea\",\"Paraguay\",\"People's Republic of China\",\"Peru\",\"Philippines\",\"Poland\",\"Portugal\",\"Puerto Rico\",\"Qatar\",\"ROC\",\"Refugee Olympic Team\",\"Republic of Korea\",\"Republic of Moldova\",\"Romania\",\"Rwanda\",\"Saint Kitts and Nevis\",\"Saint Lucia\",\"Samoa\",\"Sao Tome and Principe\",\"Saudi Arabia\",\"Senegal\",\"Serbia\",\"Seychelles\",\"Sierra Leone\",\"Singapore\",\"Slovakia\",\"Slovenia\",\"Solomon Islands\",\"Somalia\",\"South Africa\",\"South Sudan\",\"Spain\",\"Sri Lanka\",\"Sudan\",\"Sweden\",\"Switzerland\",\"Syrian Arab Republic\",\"Tajikistan\",\"Thailand\",\"Togo\",\"Tonga\",\"Trinidad and Tobago\",\"Tunisia\",\"Turkey\",\"Turkmenistan\",\"Tuvalu\",\"Uganda\",\"Ukraine\",\"United Republic of Tanzania\",\"United States of America\",\"Uruguay\",\"Uzbekistan\",\"Venezuela\",\"Vietnam\",\"Virgin Islands, British\",\"Virgin Islands, US\",\"Yemen\",\"Zambia\",\"Zimbabwe\"],\"xaxis\":\"x\",\"y\":[2,1,8,1,1,1,2,5,1,65,7,2,14,13,1,6,33,30,2,3,2,2,9,53,1,5,2,3,1,1,56,1,2,1,1,3,6,24,2,2,1,3,7,18,3,31,3,1,1,16,2,2,7,18,5,1,2,9,7,1,39,1,1,22,66,1,2,5,95,7,75,20,4,1,9,1,1,3,1,1,2,19,1,25,2,2,27,4,9,73,54,70,1,10,37,1,1,2,3,1,7,1,2,3,1,9,2,1,1,2,1,2,1,2,1,18,1,3,2,16,1,4,1,1,44,12,1,2,20,1,15,2,2,1,1,4,1,2,53,7,2,64,19,4,8,10,6,6,5,10,2,2,1,1,1,2,1,5,1,1,1,9,7,1,1,30,2,58,2,1,20,30,1,1,2,1,1,22,3,24,1,2,18,48,2,144,3,7,4,1,2,1,1,2,1],\"yaxis\":\"y\",\"type\":\"bar\"},{\"alignmentgroup\":\"True\",\"hovertemplate\":\"Discipline=Shooting<br>NOC=%{x}<br>Count=%{y}<extra></extra>\",\"legendgroup\":\"Shooting\",\"marker\":{\"color\":\"#EF553B\",\"pattern\":{\"shape\":\"\"}},\"name\":\"Shooting\",\"offsetgroup\":\"Shooting\",\"orientation\":\"v\",\"showlegend\":true,\"textposition\":\"auto\",\"x\":[\"Afghanistan\",\"Albania\",\"Algeria\",\"Argentina\",\"Armenia\",\"Aruba\",\"Australia\",\"Austria\",\"Azerbaijan\",\"Bahrain\",\"Bangladesh\",\"Belarus\",\"Belgium\",\"Bhutan\",\"Bosnia and Herzegovina\",\"Brazil\",\"Bulgaria\",\"Canada\",\"Chile\",\"Chinese Taipei\",\"Colombia\",\"Croatia\",\"Cuba\",\"Cyprus\",\"Czech Republic\",\"Denmark\",\"Ecuador\",\"Egypt\",\"Estonia\",\"Finland\",\"France\",\"Georgia\",\"Germany\",\"Great Britain\",\"Greece\",\"Guatemala\",\"Hungary\",\"Iceland\",\"India\",\"Indonesia\",\"Iraq\",\"Ireland\",\"Islamic Republic of Iran\",\"Israel\",\"Italy\",\"Japan\",\"Jordan\",\"Kazakhstan\",\"Kosovo\",\"Kuwait\",\"Kyrgyzstan\",\"Latvia\",\"Lebanon\",\"Lithuania\",\"Malaysia\",\"Malta\",\"Mexico\",\"Mongolia\",\"Montenegro\",\"Morocco\",\"Myanmar\",\"Nepal\",\"New Zealand\",\"Nicaragua\",\"North Macedonia\",\"Norway\",\"Oman\",\"Pakistan\",\"People's Republic of China\",\"Peru\",\"Philippines\",\"Poland\",\"Portugal\",\"Puerto Rico\",\"Qatar\",\"ROC\",\"Refugee Olympic Team\",\"Republic of Korea\",\"Republic of Moldova\",\"Romania\",\"San Marino\",\"Saudi Arabia\",\"Senegal\",\"Serbia\",\"Singapore\",\"Slovakia\",\"Slovenia\",\"Spain\",\"Sri Lanka\",\"Sweden\",\"Switzerland\",\"Thailand\",\"Tunisia\",\"Turkey\",\"Ukraine\",\"United Arab Emirates\",\"United States of America\",\"Venezuela\",\"Vietnam\",\"Yemen\"],\"xaxis\":\"x\",\"y\":[1,1,1,4,1,1,14,2,1,1,1,3,1,1,1,1,3,1,1,5,1,4,5,3,8,3,1,10,1,3,10,1,8,5,2,3,4,1,13,1,1,1,6,1,14,12,1,3,1,4,1,1,1,1,1,1,4,4,1,1,1,1,2,1,1,5,1,3,24,3,1,4,1,1,1,17,1,15,1,1,1,1,1,6,1,7,1,2,1,1,2,6,2,4,6,1,19,1,1,1],\"yaxis\":\"y\",\"type\":\"bar\"},{\"alignmentgroup\":\"True\",\"hovertemplate\":\"Discipline=Swimming<br>NOC=%{x}<br>Count=%{y}<extra></extra>\",\"legendgroup\":\"Swimming\",\"marker\":{\"color\":\"#00cc96\",\"pattern\":{\"shape\":\"\"}},\"name\":\"Swimming\",\"offsetgroup\":\"Swimming\",\"orientation\":\"v\",\"showlegend\":true,\"textposition\":\"auto\",\"x\":[\"Afghanistan\",\"Albania\",\"Algeria\",\"American Samoa\",\"Angola\",\"Antigua and Barbuda\",\"Argentina\",\"Armenia\",\"Aruba\",\"Australia\",\"Austria\",\"Azerbaijan\",\"Bahamas\",\"Bahrain\",\"Bangladesh\",\"Barbados\",\"Belarus\",\"Belgium\",\"Benin\",\"Bhutan\",\"Bolivia\",\"Bosnia and Herzegovina\",\"Botswana\",\"Brazil\",\"Brunei Darussalam\",\"Bulgaria\",\"Burkina Faso\",\"Burundi\",\"Cambodia\",\"Cameroon\",\"Canada\",\"Cape Verde\",\"Cayman Islands\",\"Central African Republic\",\"Chile\",\"Chinese Taipei\",\"Colombia\",\"Congo\",\"Cook Islands\",\"Costa Rica\",\"Croatia\",\"Cuba\",\"Cyprus\",\"Czech Republic\",\"C\\u00f4te d'Ivoire\",\"Democratic Republic of Timor-Leste\",\"Denmark\",\"Djibouti\",\"Dominican Republic\",\"Ecuador\",\"Egypt\",\"El Salvador\",\"Equatorial Guinea\",\"Eritrea\",\"Estonia\",\"Eswatini\",\"Ethiopia\",\"Federated States of Micronesia\",\"Fiji\",\"Finland\",\"France\",\"Gabon\",\"Georgia\",\"Germany\",\"Ghana\",\"Great Britain\",\"Greece\",\"Grenada\",\"Guam\",\"Guatemala\",\"Guinea\",\"Guyana\",\"Haiti\",\"Honduras\",\"Hong Kong, China\",\"Hungary\",\"Iceland\",\"India\",\"Indonesia\",\"Ireland\",\"Islamic Republic of Iran\",\"Israel\",\"Italy\",\"Jamaica\",\"Japan\",\"Jordan\",\"Kazakhstan\",\"Kenya\",\"Kosovo\",\"Kuwait\",\"Kyrgyzstan\",\"Lao People's Democratic Republic\",\"Latvia\",\"Lebanon\",\"Libya\",\"Liechtenstein\",\"Lithuania\",\"Luxembourg\",\"Madagascar\",\"Malawi\",\"Malaysia\",\"Maldives\",\"Mali\",\"Malta\",\"Marshall Islands\",\"Mauritius\",\"Mexico\",\"Monaco\",\"Mongolia\",\"Montenegro\",\"Morocco\",\"Mozambique\",\"Nepal\",\"Netherlands\",\"New Zealand\",\"Nicaragua\",\"Niger\",\"Nigeria\",\"North Macedonia\",\"Norway\",\"Oman\",\"Pakistan\",\"Palau\",\"Palestine\",\"Panama\",\"Papua New Guinea\",\"Paraguay\",\"People's Republic of China\",\"Peru\",\"Philippines\",\"Poland\",\"Portugal\",\"Puerto Rico\",\"Qatar\",\"ROC\",\"Refugee Olympic Team\",\"Republic of Korea\",\"Republic of Moldova\",\"Romania\",\"Rwanda\",\"Saint Lucia\",\"San Marino\",\"Saudi Arabia\",\"Senegal\",\"Serbia\",\"Seychelles\",\"Sierra Leone\",\"Singapore\",\"Slovakia\",\"Slovenia\",\"Solomon Islands\",\"South Africa\",\"Spain\",\"Sri Lanka\",\"St Vincent and the Grenadines\",\"Sudan\",\"Suriname\",\"Sweden\",\"Switzerland\",\"Syrian Arab Republic\",\"Tajikistan\",\"Thailand\",\"Togo\",\"Tonga\",\"Trinidad and Tobago\",\"Tunisia\",\"Turkey\",\"Turkmenistan\",\"Uganda\",\"Ukraine\",\"United Arab Emirates\",\"United States of America\",\"Uruguay\",\"Uzbekistan\",\"Venezuela\",\"Vietnam\",\"Virgin Islands, British\",\"Virgin Islands, US\",\"Yemen\",\"Zambia\",\"Zimbabwe\"],\"xaxis\":\"x\",\"y\":[1,2,2,1,2,2,3,2,2,30,7,2,2,2,2,1,5,2,2,1,2,2,1,17,1,5,2,2,2,2,20,2,2,1,2,3,2,1,2,2,2,2,2,8,1,2,9,1,2,2,4,2,1,1,3,2,1,2,2,5,17,2,2,24,2,27,7,2,2,2,2,2,2,2,6,20,2,3,2,6,1,10,29,2,25,1,2,2,2,2,1,2,2,2,1,2,4,2,2,2,2,2,1,2,2,1,3,2,2,2,2,2,2,14,6,2,2,1,2,4,1,2,2,1,1,2,2,25,1,2,8,6,2,2,28,2,8,2,3,2,2,1,1,2,5,2,2,3,2,3,1,12,8,2,2,2,1,10,6,1,2,2,1,2,2,1,10,2,2,6,1,39,2,2,3,2,1,2,1,2,2],\"yaxis\":\"y\",\"type\":\"bar\"},{\"alignmentgroup\":\"True\",\"hovertemplate\":\"Discipline=Taekwondo<br>NOC=%{x}<br>Count=%{y}<extra></extra>\",\"legendgroup\":\"Taekwondo\",\"marker\":{\"color\":\"#ab63fa\",\"pattern\":{\"shape\":\"\"}},\"name\":\"Taekwondo\",\"offsetgroup\":\"Taekwondo\",\"orientation\":\"v\",\"showlegend\":true,\"textposition\":\"auto\",\"x\":[\"Afghanistan\",\"Argentina\",\"Australia\",\"Azerbaijan\",\"Belgium\",\"Bosnia and Herzegovina\",\"Brazil\",\"Burkina Faso\",\"Canada\",\"Chinese Taipei\",\"Colombia\",\"Costa Rica\",\"Croatia\",\"Cuba\",\"C\\u00f4te d'Ivoire\",\"Democratic Republic of the Congo\",\"Dominican Republic\",\"Egypt\",\"Ethiopia\",\"France\",\"Gabon\",\"Germany\",\"Great Britain\",\"Greece\",\"Haiti\",\"Honduras\",\"Hungary\",\"Ireland\",\"Islamic Republic of Iran\",\"Israel\",\"Italy\",\"Japan\",\"Jordan\",\"Kazakhstan\",\"Mali\",\"Mexico\",\"Morocco\",\"New Zealand\",\"Niger\",\"Nigeria\",\"North Macedonia\",\"Norway\",\"People's Republic of China\",\"Philippines\",\"Poland\",\"Portugal\",\"Puerto Rico\",\"ROC\",\"Refugee Olympic Team\",\"Republic of Korea\",\"Serbia\",\"Spain\",\"Thailand\",\"Tonga\",\"Tunisia\",\"Turkey\",\"United States of America\",\"Uzbekistan\",\"Vietnam\"],\"xaxis\":\"x\",\"y\":[1,1,4,2,1,1,2,1,2,4,2,1,3,1,4,1,3,4,1,2,1,1,5,1,1,1,1,1,3,1,2,4,1,2,1,2,3,1,2,1,1,1,5,1,2,1,1,4,3,6,2,4,2,1,1,5,2,4,1],\"yaxis\":\"y\",\"type\":\"bar\"},{\"alignmentgroup\":\"True\",\"hovertemplate\":\"Discipline=Artistic Gymnastics<br>NOC=%{x}<br>Count=%{y}<extra></extra>\",\"legendgroup\":\"Artistic Gymnastics\",\"marker\":{\"color\":\"#FFA15A\",\"pattern\":{\"shape\":\"\"}},\"name\":\"Artistic Gymnastics\",\"offsetgroup\":\"Artistic Gymnastics\",\"orientation\":\"v\",\"showlegend\":true,\"textposition\":\"auto\",\"x\":[\"Albania\",\"Argentina\",\"Armenia\",\"Australia\",\"Austria\",\"Azerbaijan\",\"Belarus\",\"Belgium\",\"Brazil\",\"Bulgaria\",\"Canada\",\"Cayman Islands\",\"Chile\",\"Chinese Taipei\",\"Costa Rica\",\"Croatia\",\"Cuba\",\"Cyprus\",\"Czech Republic\",\"Egypt\",\"France\",\"Germany\",\"Great Britain\",\"Greece\",\"Hong Kong, China\",\"Hungary\",\"India\",\"Ireland\",\"Israel\",\"Italy\",\"Jamaica\",\"Japan\",\"Kazakhstan\",\"Lithuania\",\"Malaysia\",\"Mexico\",\"Netherlands\",\"New Zealand\",\"Nigeria\",\"Norway\",\"People's Republic of China\",\"Peru\",\"Poland\",\"Portugal\",\"ROC\",\"Republic of Korea\",\"Romania\",\"Singapore\",\"Slovakia\",\"South Africa\",\"Spain\",\"Sri Lanka\",\"Sweden\",\"Switzerland\",\"Turkey\",\"Ukraine\",\"United States of America\",\"Uzbekistan\",\"Vietnam\"],\"xaxis\":\"x\",\"y\":[1,1,1,2,1,2,1,4,6,1,5,1,2,4,1,2,1,1,2,3,7,8,8,1,1,1,1,1,3,6,1,11,1,1,2,2,6,1,1,2,12,1,1,1,12,6,3,1,1,1,9,1,2,4,5,5,11,2,2],\"yaxis\":\"y\",\"type\":\"bar\"},{\"alignmentgroup\":\"True\",\"hovertemplate\":\"Discipline=Judo<br>NOC=%{x}<br>Count=%{y}<extra></extra>\",\"legendgroup\":\"Judo\",\"marker\":{\"color\":\"#19d3f3\",\"pattern\":{\"shape\":\"\"}},\"name\":\"Judo\",\"offsetgroup\":\"Judo\",\"orientation\":\"v\",\"showlegend\":true,\"textposition\":\"auto\",\"x\":[\"Albania\",\"Algeria\",\"Angola\",\"Argentina\",\"Armenia\",\"Australia\",\"Austria\",\"Azerbaijan\",\"Belarus\",\"Belgium\",\"Benin\",\"Bosnia and Herzegovina\",\"Brazil\",\"Bulgaria\",\"Burkina Faso\",\"Cameroon\",\"Canada\",\"Cape Verde\",\"Chad\",\"Chile\",\"Chinese Taipei\",\"Comoros\",\"Costa Rica\",\"Croatia\",\"Cuba\",\"Czech Republic\",\"Democratic Republic of the Congo\",\"Djibouti\",\"Dominican Republic\",\"Ecuador\",\"Egypt\",\"Estonia\",\"Fiji\",\"France\",\"Gabon\",\"Gambia\",\"Georgia\",\"Germany\",\"Ghana\",\"Great Britain\",\"Greece\",\"Guam\",\"Guatemala\",\"Guinea\",\"Guinea-Bissau\",\"Haiti\",\"Honduras\",\"Hungary\",\"India\",\"Ireland\",\"Israel\",\"Italy\",\"Jamaica\",\"Japan\",\"Jordan\",\"Kazakhstan\",\"Kiribati\",\"Kosovo\",\"Kyrgyzstan\",\"Lao People's Democratic Republic\",\"Latvia\",\"Lebanon\",\"Libya\",\"Liechtenstein\",\"Lithuania\",\"Madagascar\",\"Malawi\",\"Mauritius\",\"Mexico\",\"Monaco\",\"Mongolia\",\"Montenegro\",\"Morocco\",\"Mozambique\",\"Nepal\",\"Netherlands\",\"Nicaragua\",\"Niger\",\"North Macedonia\",\"Pakistan\",\"Palestine\",\"Panama\",\"People's Republic of China\",\"Peru\",\"Philippines\",\"Poland\",\"Portugal\",\"Puerto Rico\",\"Qatar\",\"ROC\",\"Refugee Olympic Team\",\"Republic of Korea\",\"Republic of Moldova\",\"Romania\",\"Samoa\",\"San Marino\",\"Saudi Arabia\",\"Senegal\",\"Serbia\",\"Seychelles\",\"Sierra Leone\",\"Slovenia\",\"South Africa\",\"Spain\",\"Sri Lanka\",\"Sudan\",\"Sweden\",\"Switzerland\",\"Tajikistan\",\"Thailand\",\"Trinidad and Tobago\",\"Tunisia\",\"Turkey\",\"Turkmenistan\",\"Ukraine\",\"United Arab Emirates\",\"United States of America\",\"Uruguay\",\"Uzbekistan\",\"Vanuatu\",\"Venezuela\",\"Vietnam\",\"Zambia\"],\"xaxis\":\"x\",\"y\":[1,2,1,2,1,3,5,9,3,4,1,1,11,3,1,2,5,1,1,1,3,1,1,3,6,2,1,1,1,3,2,1,1,13,1,1,9,11,1,5,2,1,1,1,1,1,1,7,1,2,12,8,1,13,1,6,1,4,1,1,1,1,1,1,1,1,1,1,1,1,12,1,2,1,1,10,1,1,1,1,1,2,5,1,1,6,8,3,1,13,6,14,2,3,1,1,2,1,5,1,1,5,1,7,1,1,4,2,3,1,1,3,5,1,7,2,4,1,8,1,3,1,1],\"yaxis\":\"y\",\"type\":\"bar\"},{\"alignmentgroup\":\"True\",\"hovertemplate\":\"Discipline=Weightlifting<br>NOC=%{x}<br>Count=%{y}<extra></extra>\",\"legendgroup\":\"Weightlifting\",\"marker\":{\"color\":\"#FF6692\",\"pattern\":{\"shape\":\"\"}},\"name\":\"Weightlifting\",\"offsetgroup\":\"Weightlifting\",\"orientation\":\"v\",\"showlegend\":true,\"textposition\":\"auto\",\"x\":[\"Albania\",\"Algeria\",\"American Samoa\",\"Armenia\",\"Australia\",\"Austria\",\"Belarus\",\"Belgium\",\"Botswana\",\"Brazil\",\"Bulgaria\",\"Cameroon\",\"Canada\",\"Chile\",\"Chinese Taipei\",\"Colombia\",\"Cuba\",\"Czech Republic\",\"Dominican Republic\",\"Ecuador\",\"France\",\"Georgia\",\"Germany\",\"Ghana\",\"Great Britain\",\"Greece\",\"Guatemala\",\"Hungary\",\"Indonesia\",\"Islamic Republic of Iran\",\"Israel\",\"Italy\",\"Japan\",\"Kazakhstan\",\"Kiribati\",\"Kyrgyzstan\",\"Latvia\",\"Lebanon\",\"Lithuania\",\"Madagascar\",\"Malta\",\"Mauritius\",\"Mexico\",\"Mongolia\",\"Morocco\",\"Nauru\",\"Netherlands\",\"New Zealand\",\"Nicaragua\",\"Oman\",\"Pakistan\",\"Palestine\",\"Papua New Guinea\",\"People's Republic of China\",\"Peru\",\"Philippines\",\"Poland\",\"ROC\",\"Refugee Olympic Team\",\"Republic of Korea\",\"Republic of Moldova\",\"Saudi Arabia\",\"Solomon Islands\",\"Spain\",\"Sweden\",\"Syrian Arab Republic\",\"Tonga\",\"Tunisia\",\"Turkey\",\"Turkmenistan\",\"Ukraine\",\"United States of America\",\"Uzbekistan\",\"Venezuela\",\"Vietnam\"],\"xaxis\":\"x\",\"y\":[2,1,1,2,5,2,2,2,1,2,2,2,5,2,7,3,4,1,4,4,4,4,3,1,4,1,1,1,5,2,1,3,7,2,1,1,2,1,1,2,1,1,4,2,1,1,1,5,1,1,1,1,1,7,1,2,3,2,1,7,2,2,1,4,1,1,1,5,1,4,2,8,4,4,2],\"yaxis\":\"y\",\"type\":\"bar\"},{\"alignmentgroup\":\"True\",\"hovertemplate\":\"Discipline=Boxing<br>NOC=%{x}<br>Count=%{y}<extra></extra>\",\"legendgroup\":\"Boxing\",\"marker\":{\"color\":\"#B6E880\",\"pattern\":{\"shape\":\"\"}},\"name\":\"Boxing\",\"offsetgroup\":\"Boxing\",\"orientation\":\"v\",\"showlegend\":true,\"textposition\":\"auto\",\"x\":[\"Algeria\",\"Antigua and Barbuda\",\"Argentina\",\"Armenia\",\"Australia\",\"Azerbaijan\",\"Bahrain\",\"Belarus\",\"Botswana\",\"Brazil\",\"Bulgaria\",\"Burundi\",\"Cameroon\",\"Canada\",\"Cape Verde\",\"Chinese Taipei\",\"Colombia\",\"Croatia\",\"Cuba\",\"Democratic Republic of the Congo\",\"Dominican Republic\",\"Ecuador\",\"Egypt\",\"El Salvador\",\"Eswatini\",\"France\",\"Georgia\",\"Germany\",\"Ghana\",\"Great Britain\",\"Guyana\",\"Haiti\",\"Hungary\",\"India\",\"Ireland\",\"Islamic Republic of Iran\",\"Italy\",\"Jamaica\",\"Japan\",\"Jordan\",\"Kazakhstan\",\"Kenya\",\"Kosovo\",\"Mauritius\",\"Mexico\",\"Mongolia\",\"Morocco\",\"Mozambique\",\"Namibia\",\"Netherlands\",\"New Zealand\",\"Panama\",\"Papua New Guinea\",\"People's Republic of China\",\"Peru\",\"Philippines\",\"Poland\",\"Puerto Rico\",\"ROC\",\"Refugee Olympic Team\",\"Republic of Korea\",\"Romania\",\"Samoa\",\"Serbia\",\"Somalia\",\"Spain\",\"Sweden\",\"Tajikistan\",\"Thailand\",\"Trinidad and Tobago\",\"Tunisia\",\"Turkey\",\"Uganda\",\"Ukraine\",\"United States of America\",\"Uzbekistan\",\"Venezuela\",\"Vietnam\",\"Zambia\"],\"xaxis\":\"x\",\"y\":[8,1,5,2,4,3,1,4,2,7,3,1,3,5,1,4,6,2,7,4,7,4,2,1,1,5,3,3,3,10,1,1,1,7,6,2,3,1,6,5,8,4,1,2,3,3,6,1,1,2,1,1,1,6,2,4,2,1,11,1,2,2,2,1,1,4,2,2,4,1,2,6,3,5,8,11,3,2,3],\"yaxis\":\"y\",\"type\":\"bar\"},{\"alignmentgroup\":\"True\",\"hovertemplate\":\"Discipline=Canoe Sprint<br>NOC=%{x}<br>Count=%{y}<extra></extra>\",\"legendgroup\":\"Canoe Sprint\",\"marker\":{\"color\":\"#FF97FF\",\"pattern\":{\"shape\":\"\"}},\"name\":\"Canoe Sprint\",\"offsetgroup\":\"Canoe Sprint\",\"orientation\":\"v\",\"showlegend\":true,\"textposition\":\"auto\",\"x\":[\"Algeria\",\"Argentina\",\"Australia\",\"Austria\",\"Belarus\",\"Belgium\",\"Belize\",\"Brazil\",\"Bulgaria\",\"Canada\",\"Chile\",\"Cook Islands\",\"Croatia\",\"Cuba\",\"Czech Republic\",\"Denmark\",\"Egypt\",\"France\",\"Germany\",\"Great Britain\",\"Hungary\",\"Islamic Republic of Iran\",\"Italy\",\"Japan\",\"Kazakhstan\",\"Latvia\",\"Lithuania\",\"New Zealand\",\"Nigeria\",\"Norway\",\"People's Republic of China\",\"Poland\",\"Portugal\",\"ROC\",\"Republic of Korea\",\"Republic of Moldova\",\"Romania\",\"Samoa\",\"Sao Tome and Principe\",\"Serbia\",\"Slovakia\",\"Slovenia\",\"Spain\",\"Sweden\",\"Thailand\",\"Tunisia\",\"Ukraine\",\"United States of America\",\"Uzbekistan\"],\"xaxis\":\"x\",\"y\":[1,3,13,2,12,2,1,3,1,14,2,2,2,5,4,4,2,8,15,4,17,1,4,8,5,1,1,6,1,1,14,8,7,14,1,3,1,3,2,3,4,2,11,2,1,2,10,1,2],\"yaxis\":\"y\",\"type\":\"bar\"},{\"alignmentgroup\":\"True\",\"hovertemplate\":\"Discipline=Cycling Road<br>NOC=%{x}<br>Count=%{y}<extra></extra>\",\"legendgroup\":\"Cycling Road\",\"marker\":{\"color\":\"#FECB52\",\"pattern\":{\"shape\":\"\"}},\"name\":\"Cycling Road\",\"offsetgroup\":\"Cycling Road\",\"orientation\":\"v\",\"showlegend\":true,\"textposition\":\"auto\",\"x\":[\"Algeria\",\"Argentina\",\"Australia\",\"Austria\",\"Azerbaijan\",\"Belarus\",\"Belgium\",\"Burkina Faso\",\"Canada\",\"Chile\",\"Chinese Taipei\",\"Colombia\",\"Costa Rica\",\"Croatia\",\"Cuba\",\"Cyprus\",\"Czech Republic\",\"Denmark\",\"Ecuador\",\"Eritrea\",\"Estonia\",\"Ethiopia\",\"France\",\"Germany\",\"Great Britain\",\"Greece\",\"Guatemala\",\"Hong Kong, China\",\"Hungary\",\"Ireland\",\"Islamic Republic of Iran\",\"Israel\",\"Italy\",\"Japan\",\"Kazakhstan\",\"Latvia\",\"Lithuania\",\"Luxembourg\",\"Mexico\",\"Morocco\",\"Namibia\",\"Netherlands\",\"New Zealand\",\"Norway\",\"Panama\",\"Paraguay\",\"People's Republic of China\",\"Peru\",\"Poland\",\"Portugal\",\"ROC\",\"Refugee Olympic Team\",\"Republic of Korea\",\"Romania\",\"Rwanda\",\"Slovakia\",\"Slovenia\",\"South Africa\",\"Spain\",\"Switzerland\",\"Thailand\",\"Trinidad and Tobago\",\"Turkey\",\"Ukraine\",\"United States of America\",\"Uzbekistan\",\"Venezuela\"],\"xaxis\":\"x\",\"y\":[2,1,8,4,1,2,8,1,6,1,1,5,2,1,1,1,4,6,2,3,2,1,6,7,5,1,1,1,1,2,1,1,9,4,3,1,2,2,2,1,2,9,2,6,1,1,2,1,5,2,4,2,1,1,1,2,4,4,6,5,1,1,2,2,7,2,1],\"yaxis\":\"y\",\"type\":\"bar\"},{\"alignmentgroup\":\"True\",\"hovertemplate\":\"Discipline=Fencing<br>NOC=%{x}<br>Count=%{y}<extra></extra>\",\"legendgroup\":\"Fencing\",\"marker\":{\"color\":\"#636efa\",\"pattern\":{\"shape\":\"\"}},\"name\":\"Fencing\",\"offsetgroup\":\"Fencing\",\"orientation\":\"v\",\"showlegend\":true,\"textposition\":\"auto\",\"x\":[\"Algeria\",\"Argentina\",\"Azerbaijan\",\"Brazil\",\"Canada\",\"Chile\",\"Colombia\",\"Czech Republic\",\"Egypt\",\"Estonia\",\"France\",\"Georgia\",\"Germany\",\"Great Britain\",\"Greece\",\"Hong Kong, China\",\"Hungary\",\"India\",\"Islamic Republic of Iran\",\"Italy\",\"Japan\",\"Kazakhstan\",\"Mexico\",\"Morocco\",\"Netherlands\",\"People's Republic of China\",\"Peru\",\"Poland\",\"ROC\",\"Republic of Korea\",\"Romania\",\"Senegal\",\"Singapore\",\"Spain\",\"Switzerland\",\"Tunisia\",\"Turkey\",\"Ukraine\",\"United States of America\",\"Uzbekistan\",\"Venezuela\"],\"xaxis\":\"x\",\"y\":[3,1,1,2,11,1,1,2,12,4,17,1,9,1,1,8,12,1,4,23,19,1,1,1,1,15,1,5,21,18,2,1,2,1,4,7,1,4,24,3,2],\"yaxis\":\"y\",\"type\":\"bar\"},{\"alignmentgroup\":\"True\",\"hovertemplate\":\"Discipline=Marathon Swimming<br>NOC=%{x}<br>Count=%{y}<extra></extra>\",\"legendgroup\":\"Marathon Swimming\",\"marker\":{\"color\":\"#EF553B\",\"pattern\":{\"shape\":\"\"}},\"name\":\"Marathon Swimming\",\"offsetgroup\":\"Marathon Swimming\",\"orientation\":\"v\",\"showlegend\":true,\"textposition\":\"auto\",\"x\":[\"Algeria\",\"Argentina\",\"Australia\",\"Canada\",\"Czech Republic\",\"Ecuador\",\"France\",\"Germany\",\"Great Britain\",\"Greece\",\"Hong Kong, China\",\"Hungary\",\"Israel\",\"Italy\",\"Japan\",\"Mexico\",\"Namibia\",\"Netherlands\",\"People's Republic of China\",\"Portugal\",\"ROC\",\"Singapore\",\"Slovenia\",\"South Africa\",\"Spain\",\"Tunisia\",\"Ukraine\",\"United States of America\",\"Venezuela\"],\"xaxis\":\"x\",\"y\":[1,1,2,2,1,2,3,4,2,1,1,2,1,3,2,1,1,2,1,2,2,1,1,2,2,1,1,3,1],\"yaxis\":\"y\",\"type\":\"bar\"},{\"alignmentgroup\":\"True\",\"hovertemplate\":\"Discipline=Rowing<br>NOC=%{x}<br>Count=%{y}<extra></extra>\",\"legendgroup\":\"Rowing\",\"marker\":{\"color\":\"#00cc96\",\"pattern\":{\"shape\":\"\"}},\"name\":\"Rowing\",\"offsetgroup\":\"Rowing\",\"orientation\":\"v\",\"showlegend\":true,\"textposition\":\"auto\",\"x\":[\"Algeria\",\"Argentina\",\"Australia\",\"Austria\",\"Belarus\",\"Belgium\",\"Benin\",\"Bermuda\",\"Canada\",\"Chile\",\"Chinese Taipei\",\"Croatia\",\"Cuba\",\"Czech Republic\",\"C\\u00f4te d'Ivoire\",\"Denmark\",\"Dominican Republic\",\"Egypt\",\"Estonia\",\"France\",\"Germany\",\"Great Britain\",\"Greece\",\"Guatemala\",\"Hong Kong, China\",\"Hungary\",\"India\",\"Indonesia\",\"Iraq\",\"Ireland\",\"Islamic Republic of Iran\",\"Italy\",\"Japan\",\"Kazakhstan\",\"Kuwait\",\"Libya\",\"Lithuania\",\"Mexico\",\"Monaco\",\"Morocco\",\"Namibia\",\"Netherlands\",\"New Zealand\",\"Nicaragua\",\"Nigeria\",\"Norway\",\"Paraguay\",\"People's Republic of China\",\"Peru\",\"Philippines\",\"Poland\",\"Portugal\",\"Puerto Rico\",\"Qatar\",\"ROC\",\"Republic of Korea\",\"Romania\",\"Saudi Arabia\",\"Serbia\",\"Singapore\",\"South Africa\",\"Spain\",\"Sudan\",\"Sweden\",\"Switzerland\",\"Thailand\",\"Togo\",\"Trinidad and Tobago\",\"Tunisia\",\"Turkey\",\"Uganda\",\"Ukraine\",\"United States of America\",\"Uruguay\",\"Uzbekistan\",\"Vanuatu\",\"Venezuela\",\"Vietnam\",\"Zimbabwe\"],\"xaxis\":\"x\",\"y\":[2,2,37,3,5,2,1,1,28,2,1,3,1,6,1,9,1,1,4,11,23,39,4,1,1,1,2,1,1,11,1,23,3,1,1,1,9,1,1,1,1,34,25,2,1,7,1,26,1,1,19,1,1,1,10,1,34,1,3,1,6,6,1,1,9,2,1,1,2,1,1,2,36,2,2,1,2,1,1],\"yaxis\":\"y\",\"type\":\"bar\"},{\"alignmentgroup\":\"True\",\"hovertemplate\":\"Discipline=Sailing<br>NOC=%{x}<br>Count=%{y}<extra></extra>\",\"legendgroup\":\"Sailing\",\"marker\":{\"color\":\"#ab63fa\",\"pattern\":{\"shape\":\"\"}},\"name\":\"Sailing\",\"offsetgroup\":\"Sailing\",\"orientation\":\"v\",\"showlegend\":true,\"textposition\":\"auto\",\"x\":[\"Algeria\",\"American Samoa\",\"Angola\",\"Antigua and Barbuda\",\"Argentina\",\"Australia\",\"Austria\",\"Belarus\",\"Belgium\",\"Brazil\",\"Canada\",\"Chile\",\"Croatia\",\"Cyprus\",\"Czech Republic\",\"Denmark\",\"Egypt\",\"El Salvador\",\"Estonia\",\"Fiji\",\"Finland\",\"France\",\"Germany\",\"Great Britain\",\"Greece\",\"Guatemala\",\"Hong Kong, China\",\"Hungary\",\"India\",\"Ireland\",\"Israel\",\"Italy\",\"Japan\",\"Lithuania\",\"Malaysia\",\"Mexico\",\"Montenegro\",\"Mozambique\",\"Netherlands\",\"New Zealand\",\"Norway\",\"Papua New Guinea\",\"People's Republic of China\",\"Peru\",\"Poland\",\"Portugal\",\"Puerto Rico\",\"ROC\",\"Republic of Korea\",\"Saint Lucia\",\"Samoa\",\"Seychelles\",\"Singapore\",\"Slovenia\",\"South Africa\",\"Spain\",\"Sweden\",\"Switzerland\",\"Thailand\",\"Trinidad and Tobago\",\"Tunisia\",\"Turkey\",\"United States of America\",\"Uruguay\",\"Venezuela\"],\"xaxis\":\"x\",\"y\":[2,2,2,1,11,12,6,2,4,13,9,1,4,4,1,8,2,1,2,1,5,14,9,14,8,1,2,4,4,3,5,8,15,2,3,4,1,3,10,10,8,2,10,5,7,5,2,6,4,2,1,1,4,3,3,13,9,6,2,1,4,8,13,3,1],\"yaxis\":\"y\",\"type\":\"bar\"},{\"alignmentgroup\":\"True\",\"hovertemplate\":\"Discipline=Table Tennis<br>NOC=%{x}<br>Count=%{y}<extra></extra>\",\"legendgroup\":\"Table Tennis\",\"marker\":{\"color\":\"#FFA15A\",\"pattern\":{\"shape\":\"\"}},\"name\":\"Table Tennis\",\"offsetgroup\":\"Table Tennis\",\"orientation\":\"v\",\"showlegend\":true,\"textposition\":\"auto\",\"x\":[\"Algeria\",\"Argentina\",\"Australia\",\"Austria\",\"Brazil\",\"Bulgaria\",\"Cameroon\",\"Canada\",\"Chile\",\"Chinese Taipei\",\"Croatia\",\"Cuba\",\"Czech Republic\",\"Denmark\",\"Ecuador\",\"Egypt\",\"Fiji\",\"France\",\"Germany\",\"Great Britain\",\"Guyana\",\"Hong Kong, China\",\"Hungary\",\"India\",\"Islamic Republic of Iran\",\"Italy\",\"Japan\",\"Kazakhstan\",\"Luxembourg\",\"Monaco\",\"Mongolia\",\"Netherlands\",\"Nigeria\",\"People's Republic of China\",\"Poland\",\"Portugal\",\"Puerto Rico\",\"ROC\",\"Republic of Korea\",\"Romania\",\"Saudi Arabia\",\"Senegal\",\"Serbia\",\"Singapore\",\"Slovakia\",\"Slovenia\",\"Spain\",\"Sweden\",\"Switzerland\",\"Syrian Arab Republic\",\"Thailand\",\"Togo\",\"Tunisia\",\"Ukraine\",\"United States of America\"],\"xaxis\":\"x\",\"y\":[1,2,6,5,6,1,1,3,1,6,3,2,3,1,1,5,1,6,6,3,1,6,5,4,1,1,6,2,2,1,2,1,4,6,3,5,3,3,6,4,1,1,3,4,3,3,1,4,1,1,1,1,2,3,6],\"yaxis\":\"y\",\"type\":\"bar\"},{\"alignmentgroup\":\"True\",\"hovertemplate\":\"Discipline=Wrestling<br>NOC=%{x}<br>Count=%{y}<extra></extra>\",\"legendgroup\":\"Wrestling\",\"marker\":{\"color\":\"#19d3f3\",\"pattern\":{\"shape\":\"\"}},\"name\":\"Wrestling\",\"offsetgroup\":\"Wrestling\",\"orientation\":\"v\",\"showlegend\":true,\"textposition\":\"auto\",\"x\":[\"Algeria\",\"Argentina\",\"Armenia\",\"Azerbaijan\",\"Belarus\",\"Brazil\",\"Bulgaria\",\"Canada\",\"Chile\",\"Colombia\",\"Croatia\",\"Cuba\",\"Czech Republic\",\"Denmark\",\"Ecuador\",\"Egypt\",\"Estonia\",\"Finland\",\"France\",\"Georgia\",\"Germany\",\"Greece\",\"Guam\",\"Guinea\",\"Guinea-Bissau\",\"Hungary\",\"India\",\"Islamic Republic of Iran\",\"Italy\",\"Japan\",\"Kazakhstan\",\"Kosovo\",\"Kyrgyzstan\",\"Latvia\",\"Lithuania\",\"Mexico\",\"Mongolia\",\"Morocco\",\"Nigeria\",\"North Macedonia\",\"People's Republic of China\",\"Peru\",\"Poland\",\"Puerto Rico\",\"ROC\",\"Refugee Olympic Team\",\"Republic of Korea\",\"Republic of Moldova\",\"Romania\",\"San Marino\",\"Senegal\",\"Serbia\",\"Slovakia\",\"Sweden\",\"Switzerland\",\"Tunisia\",\"Turkey\",\"Ukraine\",\"United States of America\",\"Uzbekistan\"],\"xaxis\":\"x\",\"y\":[7,1,6,7,8,3,7,4,1,3,1,12,1,1,2,8,2,2,2,7,7,2,1,1,2,5,7,11,2,11,10,1,9,1,1,2,9,1,5,1,11,1,6,1,16,1,2,2,5,1,1,4,1,3,1,9,9,9,14,8],\"yaxis\":\"y\",\"type\":\"bar\"},{\"alignmentgroup\":\"True\",\"hovertemplate\":\"Discipline=Canoe Slalom<br>NOC=%{x}<br>Count=%{y}<extra></extra>\",\"legendgroup\":\"Canoe Slalom\",\"marker\":{\"color\":\"#FF6692\",\"pattern\":{\"shape\":\"\"}},\"name\":\"Canoe Slalom\",\"offsetgroup\":\"Canoe Slalom\",\"orientation\":\"v\",\"showlegend\":true,\"textposition\":\"auto\",\"x\":[\"Andorra\",\"Argentina\",\"Australia\",\"Austria\",\"Belgium\",\"Brazil\",\"Canada\",\"Chinese Taipei\",\"Cook Islands\",\"Croatia\",\"Czech Republic\",\"France\",\"Germany\",\"Great Britain\",\"Ireland\",\"Italy\",\"Japan\",\"Kazakhstan\",\"Mexico\",\"Morocco\",\"Netherlands\",\"New Zealand\",\"People's Republic of China\",\"Poland\",\"Portugal\",\"ROC\",\"Senegal\",\"Slovakia\",\"Slovenia\",\"Spain\",\"Sweden\",\"Switzerland\",\"Ukraine\",\"United States of America\"],\"xaxis\":\"x\",\"y\":[1,1,3,3,1,2,4,1,1,1,4,3,4,3,1,3,3,2,1,2,1,2,3,4,1,2,1,4,4,4,1,4,1,2],\"yaxis\":\"y\",\"type\":\"bar\"},{\"alignmentgroup\":\"True\",\"hovertemplate\":\"Discipline=Handball<br>NOC=%{x}<br>Count=%{y}<extra></extra>\",\"legendgroup\":\"Handball\",\"marker\":{\"color\":\"#B6E880\",\"pattern\":{\"shape\":\"\"}},\"name\":\"Handball\",\"offsetgroup\":\"Handball\",\"orientation\":\"v\",\"showlegend\":true,\"textposition\":\"auto\",\"x\":[\"Angola\",\"Argentina\",\"Bahrain\",\"Brazil\",\"Denmark\",\"Egypt\",\"France\",\"Germany\",\"Hungary\",\"Japan\",\"Montenegro\",\"Netherlands\",\"Norway\",\"Portugal\",\"ROC\",\"Republic of Korea\",\"Spain\",\"Sweden\"],\"xaxis\":\"x\",\"y\":[14,15,14,28,15,14,28,15,14,28,15,15,30,12,14,15,29,28],\"yaxis\":\"y\",\"type\":\"bar\"},{\"alignmentgroup\":\"True\",\"hovertemplate\":\"Discipline=Basketball<br>NOC=%{x}<br>Count=%{y}<extra></extra>\",\"legendgroup\":\"Basketball\",\"marker\":{\"color\":\"#FF97FF\",\"pattern\":{\"shape\":\"\"}},\"name\":\"Basketball\",\"offsetgroup\":\"Basketball\",\"orientation\":\"v\",\"showlegend\":true,\"textposition\":\"auto\",\"x\":[\"Argentina\",\"Australia\",\"Belgium\",\"Canada\",\"Czech Republic\",\"France\",\"Germany\",\"Islamic Republic of Iran\",\"Italy\",\"Japan\",\"Nigeria\",\"People's Republic of China\",\"Puerto Rico\",\"Republic of Korea\",\"Serbia\",\"Slovenia\",\"Spain\",\"United States of America\"],\"xaxis\":\"x\",\"y\":[12,23,12,12,12,23,12,12,10,23,23,12,12,11,12,12,24,23],\"yaxis\":\"y\",\"type\":\"bar\"},{\"alignmentgroup\":\"True\",\"hovertemplate\":\"Discipline=Beach Volleyball<br>NOC=%{x}<br>Count=%{y}<extra></extra>\",\"legendgroup\":\"Beach Volleyball\",\"marker\":{\"color\":\"#FECB52\",\"pattern\":{\"shape\":\"\"}},\"name\":\"Beach Volleyball\",\"offsetgroup\":\"Beach Volleyball\",\"orientation\":\"v\",\"showlegend\":true,\"textposition\":\"auto\",\"x\":[\"Argentina\",\"Australia\",\"Brazil\",\"Canada\",\"Chile\",\"Cuba\",\"Czech Republic\",\"Germany\",\"Italy\",\"Japan\",\"Kenya\",\"Latvia\",\"Mexico\",\"Morocco\",\"Netherlands\",\"Norway\",\"People's Republic of China\",\"Poland\",\"Qatar\",\"ROC\",\"Spain\",\"Switzerland\",\"United States of America\"],\"xaxis\":\"x\",\"y\":[3,4,7,3,2,2,4,6,6,4,2,4,1,2,6,2,4,4,1,6,4,5,8],\"yaxis\":\"y\",\"type\":\"bar\"},{\"alignmentgroup\":\"True\",\"hovertemplate\":\"Discipline=Cycling BMX Racing<br>NOC=%{x}<br>Count=%{y}<extra></extra>\",\"legendgroup\":\"Cycling BMX Racing\",\"marker\":{\"color\":\"#636efa\",\"pattern\":{\"shape\":\"\"}},\"name\":\"Cycling BMX Racing\",\"offsetgroup\":\"Cycling BMX Racing\",\"orientation\":\"v\",\"showlegend\":true,\"textposition\":\"auto\",\"x\":[\"Argentina\",\"Australia\",\"Belgium\",\"Brazil\",\"Canada\",\"Colombia\",\"Denmark\",\"Ecuador\",\"France\",\"Great Britain\",\"Italy\",\"Japan\",\"Latvia\",\"Netherlands\",\"New Zealand\",\"Norway\",\"ROC\",\"South Africa\",\"Switzerland\",\"Thailand\",\"United States of America\"],\"xaxis\":\"x\",\"y\":[1,3,1,2,2,2,1,1,5,2,1,1,2,5,1,1,3,1,3,1,4],\"yaxis\":\"y\",\"type\":\"bar\"},{\"alignmentgroup\":\"True\",\"hovertemplate\":\"Discipline=Cycling Mountain Bike<br>NOC=%{x}<br>Count=%{y}<extra></extra>\",\"legendgroup\":\"Cycling Mountain Bike\",\"marker\":{\"color\":\"#EF553B\",\"pattern\":{\"shape\":\"\"}},\"name\":\"Cycling Mountain Bike\",\"offsetgroup\":\"Cycling Mountain Bike\",\"orientation\":\"v\",\"showlegend\":true,\"textposition\":\"auto\",\"x\":[\"Argentina\",\"Australia\",\"Austria\",\"Belgium\",\"Brazil\",\"Canada\",\"Chile\",\"Czech Republic\",\"Denmark\",\"Estonia\",\"France\",\"Germany\",\"Great Britain\",\"Greece\",\"Hungary\",\"Israel\",\"Italy\",\"Japan\",\"Mexico\",\"Namibia\",\"Netherlands\",\"New Zealand\",\"Norway\",\"People's Republic of China\",\"Poland\",\"Portugal\",\"ROC\",\"Romania\",\"Slovenia\",\"South Africa\",\"Spain\",\"Sweden\",\"Switzerland\",\"Ukraine\",\"United States of America\"],\"xaxis\":\"x\",\"y\":[1,2,1,2,3,3,1,2,3,1,4,4,2,1,2,1,4,1,2,2,4,1,1,2,2,1,2,1,1,2,3,1,6,1,4],\"yaxis\":\"y\",\"type\":\"bar\"},{\"alignmentgroup\":\"True\",\"hovertemplate\":\"Discipline=Equestrian<br>NOC=%{x}<br>Count=%{y}<extra></extra>\",\"legendgroup\":\"Equestrian\",\"marker\":{\"color\":\"#00cc96\",\"pattern\":{\"shape\":\"\"}},\"name\":\"Equestrian\",\"offsetgroup\":\"Equestrian\",\"orientation\":\"v\",\"showlegend\":true,\"textposition\":\"auto\",\"x\":[\"Argentina\",\"Australia\",\"Austria\",\"Belarus\",\"Belgium\",\"Brazil\",\"Canada\",\"Chile\",\"Chinese Taipei\",\"Colombia\",\"Czech Republic\",\"Denmark\",\"Dominican Republic\",\"Ecuador\",\"Egypt\",\"Estonia\",\"Finland\",\"France\",\"Germany\",\"Great Britain\",\"Hong Kong, China\",\"India\",\"Ireland\",\"Israel\",\"Italy\",\"Japan\",\"Jordan\",\"Latvia\",\"Luxembourg\",\"Mexico\",\"Morocco\",\"Netherlands\",\"New Zealand\",\"Norway\",\"People's Republic of China\",\"Poland\",\"Portugal\",\"Puerto Rico\",\"ROC\",\"Republic of Korea\",\"Singapore\",\"South Africa\",\"Spain\",\"Sri Lanka\",\"Sweden\",\"Switzerland\",\"Syrian Arab Republic\",\"Thailand\",\"Ukraine\",\"United States of America\"],\"xaxis\":\"x\",\"y\":[4,10,5,2,10,9,7,2,1,1,6,6,2,1,4,1,1,11,11,11,1,1,9,3,6,12,1,1,1,5,5,10,8,1,8,4,4,1,6,1,1,1,5,1,11,8,1,3,2,11],\"yaxis\":\"y\",\"type\":\"bar\"},{\"alignmentgroup\":\"True\",\"hovertemplate\":\"Discipline=Football<br>NOC=%{x}<br>Count=%{y}<extra></extra>\",\"legendgroup\":\"Football\",\"marker\":{\"color\":\"#ab63fa\",\"pattern\":{\"shape\":\"\"}},\"name\":\"Football\",\"offsetgroup\":\"Football\",\"orientation\":\"v\",\"showlegend\":true,\"textposition\":\"auto\",\"x\":[\"Argentina\",\"Australia\",\"Brazil\",\"Canada\",\"Chile\",\"C\\u00f4te d'Ivoire\",\"Egypt\",\"France\",\"Germany\",\"Great Britain\",\"Honduras\",\"Japan\",\"Mexico\",\"Netherlands\",\"New Zealand\",\"People's Republic of China\",\"Republic of Korea\",\"Romania\",\"Saudi Arabia\",\"South Africa\",\"Spain\",\"Sweden\",\"United States of America\",\"Zambia\"],\"xaxis\":\"x\",\"y\":[19,43,41,22,21,20,20,21,17,21,20,42,21,20,39,20,20,20,21,19,19,20,20,21],\"yaxis\":\"y\",\"type\":\"bar\"},{\"alignmentgroup\":\"True\",\"hovertemplate\":\"Discipline=Golf<br>NOC=%{x}<br>Count=%{y}<extra></extra>\",\"legendgroup\":\"Golf\",\"marker\":{\"color\":\"#FFA15A\",\"pattern\":{\"shape\":\"\"}},\"name\":\"Golf\",\"offsetgroup\":\"Golf\",\"orientation\":\"v\",\"showlegend\":true,\"textposition\":\"auto\",\"x\":[\"Argentina\",\"Australia\",\"Austria\",\"Belgium\",\"Canada\",\"Chile\",\"Chinese Taipei\",\"Colombia\",\"Czech Republic\",\"Denmark\",\"Ecuador\",\"Finland\",\"France\",\"Germany\",\"Great Britain\",\"Hong Kong, China\",\"India\",\"Ireland\",\"Italy\",\"Japan\",\"Malaysia\",\"Mexico\",\"Morocco\",\"Netherlands\",\"New Zealand\",\"Norway\",\"Paraguay\",\"People's Republic of China\",\"Philippines\",\"Poland\",\"Puerto Rico\",\"Republic of Korea\",\"Slovenia\",\"South Africa\",\"Spain\",\"Sweden\",\"Switzerland\",\"Thailand\",\"United States of America\",\"Venezuela\",\"Zimbabwe\"],\"xaxis\":\"x\",\"y\":[1,4,3,3,4,2,3,2,2,4,1,4,4,4,4,1,3,4,4,4,2,4,1,1,2,2,1,4,3,1,1,5,1,3,3,4,2,4,8,1,1],\"yaxis\":\"y\",\"type\":\"bar\"},{\"alignmentgroup\":\"True\",\"hovertemplate\":\"Discipline=Hockey<br>NOC=%{x}<br>Count=%{y}<extra></extra>\",\"legendgroup\":\"Hockey\",\"marker\":{\"color\":\"#19d3f3\",\"pattern\":{\"shape\":\"\"}},\"name\":\"Hockey\",\"offsetgroup\":\"Hockey\",\"orientation\":\"v\",\"showlegend\":true,\"textposition\":\"auto\",\"x\":[\"Argentina\",\"Australia\",\"Belgium\",\"Canada\",\"Germany\",\"Great Britain\",\"India\",\"Ireland\",\"Japan\",\"Netherlands\",\"New Zealand\",\"People's Republic of China\",\"South Africa\",\"Spain\"],\"xaxis\":\"x\",\"y\":[35,35,16,18,33,34,35,18,32,33,30,17,35,35],\"yaxis\":\"y\",\"type\":\"bar\"},{\"alignmentgroup\":\"True\",\"hovertemplate\":\"Discipline=Modern Pentathlon<br>NOC=%{x}<br>Count=%{y}<extra></extra>\",\"legendgroup\":\"Modern Pentathlon\",\"marker\":{\"color\":\"#FF6692\",\"pattern\":{\"shape\":\"\"}},\"name\":\"Modern Pentathlon\",\"offsetgroup\":\"Modern Pentathlon\",\"orientation\":\"v\",\"showlegend\":true,\"textposition\":\"auto\",\"x\":[\"Argentina\",\"Australia\",\"Belarus\",\"Brazil\",\"Chile\",\"Cuba\",\"Czech Republic\",\"Ecuador\",\"Egypt\",\"France\",\"Germany\",\"Great Britain\",\"Guatemala\",\"Hungary\",\"Ireland\",\"Italy\",\"Japan\",\"Kazakhstan\",\"Latvia\",\"Lithuania\",\"Mexico\",\"People's Republic of China\",\"Poland\",\"ROC\",\"Republic of Korea\",\"Spain\",\"Turkey\",\"Ukraine\",\"United States of America\",\"Uzbekistan\"],\"xaxis\":\"x\",\"y\":[1,2,3,1,1,2,2,1,4,4,4,4,1,3,1,2,3,2,1,3,4,4,3,3,3,1,1,1,2,2],\"yaxis\":\"y\",\"type\":\"bar\"},{\"alignmentgroup\":\"True\",\"hovertemplate\":\"Discipline=Rugby Sevens<br>NOC=%{x}<br>Count=%{y}<extra></extra>\",\"legendgroup\":\"Rugby Sevens\",\"marker\":{\"color\":\"#B6E880\",\"pattern\":{\"shape\":\"\"}},\"name\":\"Rugby Sevens\",\"offsetgroup\":\"Rugby Sevens\",\"orientation\":\"v\",\"showlegend\":true,\"textposition\":\"auto\",\"x\":[\"Argentina\",\"Australia\",\"Brazil\",\"Canada\",\"Fiji\",\"France\",\"Great Britain\",\"Ireland\",\"Japan\",\"Kenya\",\"New Zealand\",\"People's Republic of China\",\"ROC\",\"Republic of Korea\",\"South Africa\",\"United States of America\"],\"xaxis\":\"x\",\"y\":[12,23,12,23,22,11,23,12,32,21,23,11,11,11,12,24],\"yaxis\":\"y\",\"type\":\"bar\"},{\"alignmentgroup\":\"True\",\"hovertemplate\":\"Discipline=Surfing<br>NOC=%{x}<br>Count=%{y}<extra></extra>\",\"legendgroup\":\"Surfing\",\"marker\":{\"color\":\"#FF97FF\",\"pattern\":{\"shape\":\"\"}},\"name\":\"Surfing\",\"offsetgroup\":\"Surfing\",\"orientation\":\"v\",\"showlegend\":true,\"textposition\":\"auto\",\"x\":[\"Argentina\",\"Australia\",\"Brazil\",\"Chile\",\"Costa Rica\",\"Ecuador\",\"France\",\"Germany\",\"Indonesia\",\"Israel\",\"Italy\",\"Japan\",\"Morocco\",\"New Zealand\",\"Peru\",\"Portugal\",\"South Africa\",\"United States of America\"],\"xaxis\":\"x\",\"y\":[1,4,4,1,2,1,4,1,1,1,1,3,1,2,4,2,1,4],\"yaxis\":\"y\",\"type\":\"bar\"},{\"alignmentgroup\":\"True\",\"hovertemplate\":\"Discipline=Tennis<br>NOC=%{x}<br>Count=%{y}<extra></extra>\",\"legendgroup\":\"Tennis\",\"marker\":{\"color\":\"#FECB52\",\"pattern\":{\"shape\":\"\"}},\"name\":\"Tennis\",\"offsetgroup\":\"Tennis\",\"orientation\":\"v\",\"showlegend\":true,\"textposition\":\"auto\",\"x\":[\"Argentina\",\"Australia\",\"Austria\",\"Belarus\",\"Belgium\",\"Bolivia\",\"Brazil\",\"Canada\",\"Chile\",\"Chinese Taipei\",\"Colombia\",\"Croatia\",\"Czech Republic\",\"Egypt\",\"Estonia\",\"France\",\"Georgia\",\"Germany\",\"Great Britain\",\"Greece\",\"Hungary\",\"India\",\"Italy\",\"Japan\",\"Kazakhstan\",\"Latvia\",\"Mexico\",\"Netherlands\",\"New Zealand\",\"Paraguay\",\"People's Republic of China\",\"Peru\",\"Poland\",\"Portugal\",\"ROC\",\"Republic of Korea\",\"Romania\",\"Serbia\",\"Slovakia\",\"Spain\",\"Sweden\",\"Switzerland\",\"Tunisia\",\"Ukraine\",\"United States of America\",\"Uzbekistan\"],\"xaxis\":\"x\",\"y\":[7,10,2,3,4,1,5,4,1,5,3,6,6,2,1,9,1,9,5,1,1,3,6,10,7,1,2,4,1,1,5,1,6,1,8,1,3,4,3,7,1,2,1,3,10,1],\"yaxis\":\"y\",\"type\":\"bar\"},{\"alignmentgroup\":\"True\",\"hovertemplate\":\"Discipline=Triathlon<br>NOC=%{x}<br>Count=%{y}<extra></extra>\",\"legendgroup\":\"Triathlon\",\"marker\":{\"color\":\"#636efa\",\"pattern\":{\"shape\":\"\"}},\"name\":\"Triathlon\",\"offsetgroup\":\"Triathlon\",\"orientation\":\"v\",\"showlegend\":true,\"textposition\":\"auto\",\"x\":[\"Argentina\",\"Australia\",\"Austria\",\"Azerbaijan\",\"Belgium\",\"Bermuda\",\"Brazil\",\"Canada\",\"Chile\",\"Czech Republic\",\"Ecuador\",\"Egypt\",\"Estonia\",\"France\",\"Germany\",\"Great Britain\",\"Hong Kong, China\",\"Hungary\",\"Ireland\",\"Israel\",\"Italy\",\"Japan\",\"Luxembourg\",\"Mexico\",\"Morocco\",\"Netherlands\",\"New Zealand\",\"Norway\",\"People's Republic of China\",\"Portugal\",\"ROC\",\"Romania\",\"South Africa\",\"Spain\",\"Switzerland\",\"Syrian Arab Republic\",\"Ukraine\",\"United States of America\"],\"xaxis\":\"x\",\"y\":[1,5,4,1,3,1,3,4,2,2,1,1,1,5,4,5,1,4,2,2,5,4,1,4,1,3,3,4,1,3,4,1,4,5,4,1,1,5],\"yaxis\":\"y\",\"type\":\"bar\"},{\"alignmentgroup\":\"True\",\"hovertemplate\":\"Discipline=Volleyball<br>NOC=%{x}<br>Count=%{y}<extra></extra>\",\"legendgroup\":\"Volleyball\",\"marker\":{\"color\":\"#EF553B\",\"pattern\":{\"shape\":\"\"}},\"name\":\"Volleyball\",\"offsetgroup\":\"Volleyball\",\"orientation\":\"v\",\"showlegend\":true,\"textposition\":\"auto\",\"x\":[\"Argentina\",\"Brazil\",\"Canada\",\"Dominican Republic\",\"France\",\"Islamic Republic of Iran\",\"Italy\",\"Japan\",\"Kenya\",\"People's Republic of China\",\"Poland\",\"ROC\",\"Republic of Korea\",\"Serbia\",\"Tunisia\",\"Turkey\",\"United States of America\",\"Venezuela\"],\"xaxis\":\"x\",\"y\":[23,23,12,12,11,12,22,22,12,12,11,22,12,12,10,12,22,12],\"yaxis\":\"y\",\"type\":\"bar\"},{\"alignmentgroup\":\"True\",\"hovertemplate\":\"Discipline=Archery<br>NOC=%{x}<br>Count=%{y}<extra></extra>\",\"legendgroup\":\"Archery\",\"marker\":{\"color\":\"#00cc96\",\"pattern\":{\"shape\":\"\"}},\"name\":\"Archery\",\"offsetgroup\":\"Archery\",\"orientation\":\"v\",\"showlegend\":true,\"textposition\":\"auto\",\"x\":[\"Australia\",\"Bangladesh\",\"Belarus\",\"Belgium\",\"Bhutan\",\"Brazil\",\"Canada\",\"Chad\",\"Chile\",\"Chinese Taipei\",\"Colombia\",\"Czech Republic\",\"Denmark\",\"Ecuador\",\"Egypt\",\"Estonia\",\"Finland\",\"France\",\"Germany\",\"Great Britain\",\"Greece\",\"Hungary\",\"India\",\"Indonesia\",\"Islamic Republic of Iran\",\"Israel\",\"Italy\",\"Japan\",\"Kazakhstan\",\"Luxembourg\",\"Malawi\",\"Malaysia\",\"Mexico\",\"Mongolia\",\"Netherlands\",\"People's Republic of China\",\"Poland\",\"ROC\",\"Republic of Korea\",\"Republic of Moldova\",\"Romania\",\"Slovakia\",\"Slovenia\",\"Spain\",\"Sweden\",\"Tunisia\",\"Turkey\",\"Ukraine\",\"United States of America\",\"Vietnam\",\"Virgin Islands, US\"],\"xaxis\":\"x\",\"y\":[2,2,3,1,1,2,1,1,1,6,2,1,1,1,2,1,1,4,4,5,1,1,4,4,1,1,3,6,3,1,1,2,4,2,4,6,2,3,6,2,1,1,1,2,1,2,2,4,6,2,1],\"yaxis\":\"y\",\"type\":\"bar\"},{\"alignmentgroup\":\"True\",\"hovertemplate\":\"Discipline=Artistic Swimming<br>NOC=%{x}<br>Count=%{y}<extra></extra>\",\"legendgroup\":\"Artistic Swimming\",\"marker\":{\"color\":\"#ab63fa\",\"pattern\":{\"shape\":\"\"}},\"name\":\"Artistic Swimming\",\"offsetgroup\":\"Artistic Swimming\",\"orientation\":\"v\",\"showlegend\":true,\"textposition\":\"auto\",\"x\":[\"Australia\",\"Austria\",\"Belarus\",\"Canada\",\"Colombia\",\"Egypt\",\"France\",\"Great Britain\",\"Greece\",\"Israel\",\"Italy\",\"Japan\",\"Kazakhstan\",\"Liechtenstein\",\"Mexico\",\"Netherlands\",\"People's Republic of China\",\"ROC\",\"South Africa\",\"Spain\",\"Ukraine\",\"United States of America\"],\"xaxis\":\"x\",\"y\":[7,2,2,6,2,8,2,1,8,2,8,8,2,2,2,1,8,7,2,8,8,2],\"yaxis\":\"y\",\"type\":\"bar\"},{\"alignmentgroup\":\"True\",\"hovertemplate\":\"Discipline=Badminton<br>NOC=%{x}<br>Count=%{y}<extra></extra>\",\"legendgroup\":\"Badminton\",\"marker\":{\"color\":\"#FFA15A\",\"pattern\":{\"shape\":\"\"}},\"name\":\"Badminton\",\"offsetgroup\":\"Badminton\",\"orientation\":\"v\",\"showlegend\":true,\"textposition\":\"auto\",\"x\":[\"Australia\",\"Austria\",\"Azerbaijan\",\"Belgium\",\"Brazil\",\"Bulgaria\",\"Canada\",\"Chinese Taipei\",\"Denmark\",\"Egypt\",\"Estonia\",\"Finland\",\"France\",\"Germany\",\"Great Britain\",\"Guatemala\",\"Hong Kong, China\",\"Hungary\",\"India\",\"Indonesia\",\"Ireland\",\"Islamic Republic of Iran\",\"Israel\",\"Japan\",\"Malaysia\",\"Maldives\",\"Malta\",\"Mauritius\",\"Mexico\",\"Myanmar\",\"Netherlands\",\"Nigeria\",\"Pakistan\",\"People's Republic of China\",\"Peru\",\"ROC\",\"Refugee Olympic Team\",\"Republic of Korea\",\"Singapore\",\"Slovakia\",\"Spain\",\"Sri Lanka\",\"Suriname\",\"Sweden\",\"Switzerland\",\"Thailand\",\"Turkey\",\"Ukraine\",\"United States of America\",\"Vietnam\"],\"xaxis\":\"x\",\"y\":[4,1,1,1,2,2,8,5,8,3,2,1,4,5,7,2,4,2,3,10,1,1,2,11,8,1,1,1,2,1,3,2,1,14,1,3,1,10,2,1,2,1,1,1,1,7,1,2,4,2],\"yaxis\":\"y\",\"type\":\"bar\"},{\"alignmentgroup\":\"True\",\"hovertemplate\":\"Discipline=Baseball/Softball<br>NOC=%{x}<br>Count=%{y}<extra></extra>\",\"legendgroup\":\"Baseball/Softball\",\"marker\":{\"color\":\"#19d3f3\",\"pattern\":{\"shape\":\"\"}},\"name\":\"Baseball/Softball\",\"offsetgroup\":\"Baseball/Softball\",\"orientation\":\"v\",\"showlegend\":true,\"textposition\":\"auto\",\"x\":[\"Australia\",\"Canada\",\"Dominican Republic\",\"Israel\",\"Italy\",\"Japan\",\"Mexico\",\"Republic of Korea\",\"United States of America\"],\"xaxis\":\"x\",\"y\":[15,14,21,22,14,37,37,22,38],\"yaxis\":\"y\",\"type\":\"bar\"},{\"alignmentgroup\":\"True\",\"hovertemplate\":\"Discipline=Cycling BMX Freestyle<br>NOC=%{x}<br>Count=%{y}<extra></extra>\",\"legendgroup\":\"Cycling BMX Freestyle\",\"marker\":{\"color\":\"#FF6692\",\"pattern\":{\"shape\":\"\"}},\"name\":\"Cycling BMX Freestyle\",\"offsetgroup\":\"Cycling BMX Freestyle\",\"orientation\":\"v\",\"showlegend\":true,\"textposition\":\"auto\",\"x\":[\"Australia\",\"Chile\",\"Costa Rica\",\"France\",\"Germany\",\"Great Britain\",\"Japan\",\"ROC\",\"Switzerland\",\"United States of America\",\"Venezuela\"],\"xaxis\":\"x\",\"y\":[2,1,1,1,2,2,2,2,1,4,1],\"yaxis\":\"y\",\"type\":\"bar\"},{\"alignmentgroup\":\"True\",\"hovertemplate\":\"Discipline=Cycling Track<br>NOC=%{x}<br>Count=%{y}<extra></extra>\",\"legendgroup\":\"Cycling Track\",\"marker\":{\"color\":\"#B6E880\",\"pattern\":{\"shape\":\"\"}},\"name\":\"Cycling Track\",\"offsetgroup\":\"Cycling Track\",\"orientation\":\"v\",\"showlegend\":true,\"textposition\":\"auto\",\"x\":[\"Australia\",\"Austria\",\"Belarus\",\"Belgium\",\"Canada\",\"Colombia\",\"Czech Republic\",\"Denmark\",\"Egypt\",\"France\",\"Germany\",\"Great Britain\",\"Greece\",\"Hong Kong, China\",\"Ireland\",\"Italy\",\"Japan\",\"Kazakhstan\",\"Lithuania\",\"Malaysia\",\"Mexico\",\"Netherlands\",\"New Zealand\",\"Norway\",\"People's Republic of China\",\"Poland\",\"Portugal\",\"ROC\",\"Republic of Korea\",\"South Africa\",\"Spain\",\"Suriname\",\"Switzerland\",\"Trinidad and Tobago\",\"Ukraine\",\"United States of America\"],\"xaxis\":\"x\",\"y\":[16,3,2,5,14,1,1,7,1,12,18,15,1,4,6,10,7,2,2,2,3,9,16,1,5,9,1,9,1,3,2,1,6,2,2,9],\"yaxis\":\"y\",\"type\":\"bar\"},{\"alignmentgroup\":\"True\",\"hovertemplate\":\"Discipline=Diving<br>NOC=%{x}<br>Count=%{y}<extra></extra>\",\"legendgroup\":\"Diving\",\"marker\":{\"color\":\"#FF97FF\",\"pattern\":{\"shape\":\"\"}},\"name\":\"Diving\",\"offsetgroup\":\"Diving\",\"orientation\":\"v\",\"showlegend\":true,\"textposition\":\"auto\",\"x\":[\"Australia\",\"Brazil\",\"Canada\",\"Colombia\",\"Dominican Republic\",\"Egypt\",\"France\",\"Germany\",\"Great Britain\",\"Ireland\",\"Italy\",\"Jamaica\",\"Japan\",\"Malaysia\",\"Mexico\",\"Netherlands\",\"New Zealand\",\"Norway\",\"People's Republic of China\",\"Puerto Rico\",\"ROC\",\"Republic of Korea\",\"Singapore\",\"South Africa\",\"Spain\",\"Sweden\",\"Switzerland\",\"Ukraine\",\"United States of America\",\"Venezuela\"],\"xaxis\":\"x\",\"y\":[7,4,9,2,1,2,3,7,11,2,6,1,11,5,13,2,1,1,8,1,6,5,2,2,2,1,1,6,10,1],\"yaxis\":\"y\",\"type\":\"bar\"},{\"alignmentgroup\":\"True\",\"hovertemplate\":\"Discipline=Karate<br>NOC=%{x}<br>Count=%{y}<extra></extra>\",\"legendgroup\":\"Karate\",\"marker\":{\"color\":\"#FECB52\",\"pattern\":{\"shape\":\"\"}},\"name\":\"Karate\",\"offsetgroup\":\"Karate\",\"orientation\":\"v\",\"showlegend\":true,\"textposition\":\"auto\",\"x\":[\"Australia\",\"Austria\",\"Azerbaijan\",\"Bulgaria\",\"Canada\",\"Chinese Taipei\",\"Croatia\",\"Egypt\",\"France\",\"Georgia\",\"Germany\",\"Hong Kong, China\",\"Hungary\",\"Islamic Republic of Iran\",\"Italy\",\"Japan\",\"Kazakhstan\",\"Kuwait\",\"Latvia\",\"Morocco\",\"New Zealand\",\"North Macedonia\",\"People's Republic of China\",\"Peru\",\"ROC\",\"Refugee Olympic Team\",\"Republic of Korea\",\"Saudi Arabia\",\"Serbia\",\"Spain\",\"Switzerland\",\"Turkey\",\"Ukraine\",\"United States of America\",\"Venezuela\"],\"xaxis\":\"x\",\"y\":[1,1,3,1,1,2,1,4,3,1,4,1,1,3,5,8,5,1,1,1,1,1,2,1,1,2,1,1,1,2,1,5,3,4,3],\"yaxis\":\"y\",\"type\":\"bar\"},{\"alignmentgroup\":\"True\",\"hovertemplate\":\"Discipline=Rhythmic Gymnastics<br>NOC=%{x}<br>Count=%{y}<extra></extra>\",\"legendgroup\":\"Rhythmic Gymnastics\",\"marker\":{\"color\":\"#636efa\",\"pattern\":{\"shape\":\"\"}},\"name\":\"Rhythmic Gymnastics\",\"offsetgroup\":\"Rhythmic Gymnastics\",\"orientation\":\"v\",\"showlegend\":true,\"textposition\":\"auto\",\"x\":[\"Australia\",\"Azerbaijan\",\"Belarus\",\"Brazil\",\"Bulgaria\",\"Cape Verde\",\"Egypt\",\"Georgia\",\"Hungary\",\"Israel\",\"Italy\",\"Japan\",\"Kazakhstan\",\"Mexico\",\"People's Republic of China\",\"ROC\",\"Slovenia\",\"Ukraine\",\"United States of America\",\"Uzbekistan\"],\"xaxis\":\"x\",\"y\":[6,6,7,5,7,1,6,1,1,7,7,7,1,1,5,7,1,7,7,5],\"yaxis\":\"y\",\"type\":\"bar\"},{\"alignmentgroup\":\"True\",\"hovertemplate\":\"Discipline=Skateboarding<br>NOC=%{x}<br>Count=%{y}<extra></extra>\",\"legendgroup\":\"Skateboarding\",\"marker\":{\"color\":\"#EF553B\",\"pattern\":{\"shape\":\"\"}},\"name\":\"Skateboarding\",\"offsetgroup\":\"Skateboarding\",\"orientation\":\"v\",\"showlegend\":true,\"textposition\":\"auto\",\"x\":[\"Australia\",\"Austria\",\"Belgium\",\"Brazil\",\"Canada\",\"Chile\",\"Colombia\",\"Denmark\",\"Finland\",\"France\",\"Germany\",\"Great Britain\",\"Italy\",\"Japan\",\"Netherlands\",\"People's Republic of China\",\"Peru\",\"Philippines\",\"Poland\",\"Portugal\",\"Puerto Rico\",\"South Africa\",\"Spain\",\"Sweden\",\"United States of America\"],\"xaxis\":\"x\",\"y\":[5,1,2,12,4,1,1,1,1,5,2,1,3,10,2,2,1,1,1,1,1,3,4,1,11],\"yaxis\":\"y\",\"type\":\"bar\"},{\"alignmentgroup\":\"True\",\"hovertemplate\":\"Discipline=Sport Climbing<br>NOC=%{x}<br>Count=%{y}<extra></extra>\",\"legendgroup\":\"Sport Climbing\",\"marker\":{\"color\":\"#00cc96\",\"pattern\":{\"shape\":\"\"}},\"name\":\"Sport Climbing\",\"offsetgroup\":\"Sport Climbing\",\"orientation\":\"v\",\"showlegend\":true,\"textposition\":\"auto\",\"x\":[\"Australia\",\"Austria\",\"Canada\",\"Czech Republic\",\"France\",\"Germany\",\"Great Britain\",\"Italy\",\"Japan\",\"Kazakhstan\",\"People's Republic of China\",\"Poland\",\"ROC\",\"Republic of Korea\",\"Slovenia\",\"South Africa\",\"Spain\",\"Switzerland\",\"United States of America\"],\"xaxis\":\"x\",\"y\":[2,2,2,1,4,1,1,3,4,1,2,1,2,2,2,2,1,1,3],\"yaxis\":\"y\",\"type\":\"bar\"},{\"alignmentgroup\":\"True\",\"hovertemplate\":\"Discipline=Trampoline Gymnastics<br>NOC=%{x}<br>Count=%{y}<extra></extra>\",\"legendgroup\":\"Trampoline Gymnastics\",\"marker\":{\"color\":\"#ab63fa\",\"pattern\":{\"shape\":\"\"}},\"name\":\"Trampoline Gymnastics\",\"offsetgroup\":\"Trampoline Gymnastics\",\"orientation\":\"v\",\"showlegend\":true,\"textposition\":\"auto\",\"x\":[\"Australia\",\"Belarus\",\"Canada\",\"Colombia\",\"Egypt\",\"France\",\"Great Britain\",\"Japan\",\"Mexico\",\"New Zealand\",\"People's Republic of China\",\"Portugal\",\"ROC\",\"Ukraine\",\"United States of America\"],\"xaxis\":\"x\",\"y\":[2,2,2,1,2,2,2,4,1,1,4,1,4,1,2],\"yaxis\":\"y\",\"type\":\"bar\"},{\"alignmentgroup\":\"True\",\"hovertemplate\":\"Discipline=Water Polo<br>NOC=%{x}<br>Count=%{y}<extra></extra>\",\"legendgroup\":\"Water Polo\",\"marker\":{\"color\":\"#FFA15A\",\"pattern\":{\"shape\":\"\"}},\"name\":\"Water Polo\",\"offsetgroup\":\"Water Polo\",\"orientation\":\"v\",\"showlegend\":true,\"textposition\":\"auto\",\"x\":[\"Australia\",\"Canada\",\"Croatia\",\"Greece\",\"Hungary\",\"Italy\",\"Japan\",\"Kazakhstan\",\"Montenegro\",\"Netherlands\",\"People's Republic of China\",\"ROC\",\"Serbia\",\"South Africa\",\"Spain\",\"United States of America\"],\"xaxis\":\"x\",\"y\":[25,13,12,12,25,12,23,11,13,13,12,12,13,22,26,25],\"yaxis\":\"y\",\"type\":\"bar\"},{\"alignmentgroup\":\"True\",\"hovertemplate\":\"Discipline=3x3 Basketball<br>NOC=%{x}<br>Count=%{y}<extra></extra>\",\"legendgroup\":\"3x3 Basketball\",\"marker\":{\"color\":\"#19d3f3\",\"pattern\":{\"shape\":\"\"}},\"name\":\"3x3 Basketball\",\"offsetgroup\":\"3x3 Basketball\",\"orientation\":\"v\",\"showlegend\":true,\"textposition\":\"auto\",\"x\":[\"Belgium\",\"France\",\"Italy\",\"Japan\",\"Latvia\",\"Mongolia\",\"Netherlands\",\"People's Republic of China\",\"Poland\",\"ROC\",\"Romania\",\"Serbia\",\"United States of America\"],\"xaxis\":\"x\",\"y\":[4,3,4,8,3,4,4,8,4,8,4,4,4],\"yaxis\":\"y\",\"type\":\"bar\"}],                        {\"template\":{\"data\":{\"histogram2dcontour\":[{\"type\":\"histogram2dcontour\",\"colorbar\":{\"outlinewidth\":0,\"ticks\":\"\"},\"colorscale\":[[0.0,\"#0d0887\"],[0.1111111111111111,\"#46039f\"],[0.2222222222222222,\"#7201a8\"],[0.3333333333333333,\"#9c179e\"],[0.4444444444444444,\"#bd3786\"],[0.5555555555555556,\"#d8576b\"],[0.6666666666666666,\"#ed7953\"],[0.7777777777777778,\"#fb9f3a\"],[0.8888888888888888,\"#fdca26\"],[1.0,\"#f0f921\"]]}],\"choropleth\":[{\"type\":\"choropleth\",\"colorbar\":{\"outlinewidth\":0,\"ticks\":\"\"}}],\"histogram2d\":[{\"type\":\"histogram2d\",\"colorbar\":{\"outlinewidth\":0,\"ticks\":\"\"},\"colorscale\":[[0.0,\"#0d0887\"],[0.1111111111111111,\"#46039f\"],[0.2222222222222222,\"#7201a8\"],[0.3333333333333333,\"#9c179e\"],[0.4444444444444444,\"#bd3786\"],[0.5555555555555556,\"#d8576b\"],[0.6666666666666666,\"#ed7953\"],[0.7777777777777778,\"#fb9f3a\"],[0.8888888888888888,\"#fdca26\"],[1.0,\"#f0f921\"]]}],\"heatmap\":[{\"type\":\"heatmap\",\"colorbar\":{\"outlinewidth\":0,\"ticks\":\"\"},\"colorscale\":[[0.0,\"#0d0887\"],[0.1111111111111111,\"#46039f\"],[0.2222222222222222,\"#7201a8\"],[0.3333333333333333,\"#9c179e\"],[0.4444444444444444,\"#bd3786\"],[0.5555555555555556,\"#d8576b\"],[0.6666666666666666,\"#ed7953\"],[0.7777777777777778,\"#fb9f3a\"],[0.8888888888888888,\"#fdca26\"],[1.0,\"#f0f921\"]]}],\"heatmapgl\":[{\"type\":\"heatmapgl\",\"colorbar\":{\"outlinewidth\":0,\"ticks\":\"\"},\"colorscale\":[[0.0,\"#0d0887\"],[0.1111111111111111,\"#46039f\"],[0.2222222222222222,\"#7201a8\"],[0.3333333333333333,\"#9c179e\"],[0.4444444444444444,\"#bd3786\"],[0.5555555555555556,\"#d8576b\"],[0.6666666666666666,\"#ed7953\"],[0.7777777777777778,\"#fb9f3a\"],[0.8888888888888888,\"#fdca26\"],[1.0,\"#f0f921\"]]}],\"contourcarpet\":[{\"type\":\"contourcarpet\",\"colorbar\":{\"outlinewidth\":0,\"ticks\":\"\"}}],\"contour\":[{\"type\":\"contour\",\"colorbar\":{\"outlinewidth\":0,\"ticks\":\"\"},\"colorscale\":[[0.0,\"#0d0887\"],[0.1111111111111111,\"#46039f\"],[0.2222222222222222,\"#7201a8\"],[0.3333333333333333,\"#9c179e\"],[0.4444444444444444,\"#bd3786\"],[0.5555555555555556,\"#d8576b\"],[0.6666666666666666,\"#ed7953\"],[0.7777777777777778,\"#fb9f3a\"],[0.8888888888888888,\"#fdca26\"],[1.0,\"#f0f921\"]]}],\"surface\":[{\"type\":\"surface\",\"colorbar\":{\"outlinewidth\":0,\"ticks\":\"\"},\"colorscale\":[[0.0,\"#0d0887\"],[0.1111111111111111,\"#46039f\"],[0.2222222222222222,\"#7201a8\"],[0.3333333333333333,\"#9c179e\"],[0.4444444444444444,\"#bd3786\"],[0.5555555555555556,\"#d8576b\"],[0.6666666666666666,\"#ed7953\"],[0.7777777777777778,\"#fb9f3a\"],[0.8888888888888888,\"#fdca26\"],[1.0,\"#f0f921\"]]}],\"mesh3d\":[{\"type\":\"mesh3d\",\"colorbar\":{\"outlinewidth\":0,\"ticks\":\"\"}}],\"scatter\":[{\"fillpattern\":{\"fillmode\":\"overlay\",\"size\":10,\"solidity\":0.2},\"type\":\"scatter\"}],\"parcoords\":[{\"type\":\"parcoords\",\"line\":{\"colorbar\":{\"outlinewidth\":0,\"ticks\":\"\"}}}],\"scatterpolargl\":[{\"type\":\"scatterpolargl\",\"marker\":{\"colorbar\":{\"outlinewidth\":0,\"ticks\":\"\"}}}],\"bar\":[{\"error_x\":{\"color\":\"#2a3f5f\"},\"error_y\":{\"color\":\"#2a3f5f\"},\"marker\":{\"line\":{\"color\":\"#E5ECF6\",\"width\":0.5},\"pattern\":{\"fillmode\":\"overlay\",\"size\":10,\"solidity\":0.2}},\"type\":\"bar\"}],\"scattergeo\":[{\"type\":\"scattergeo\",\"marker\":{\"colorbar\":{\"outlinewidth\":0,\"ticks\":\"\"}}}],\"scatterpolar\":[{\"type\":\"scatterpolar\",\"marker\":{\"colorbar\":{\"outlinewidth\":0,\"ticks\":\"\"}}}],\"histogram\":[{\"marker\":{\"pattern\":{\"fillmode\":\"overlay\",\"size\":10,\"solidity\":0.2}},\"type\":\"histogram\"}],\"scattergl\":[{\"type\":\"scattergl\",\"marker\":{\"colorbar\":{\"outlinewidth\":0,\"ticks\":\"\"}}}],\"scatter3d\":[{\"type\":\"scatter3d\",\"line\":{\"colorbar\":{\"outlinewidth\":0,\"ticks\":\"\"}},\"marker\":{\"colorbar\":{\"outlinewidth\":0,\"ticks\":\"\"}}}],\"scattermapbox\":[{\"type\":\"scattermapbox\",\"marker\":{\"colorbar\":{\"outlinewidth\":0,\"ticks\":\"\"}}}],\"scatterternary\":[{\"type\":\"scatterternary\",\"marker\":{\"colorbar\":{\"outlinewidth\":0,\"ticks\":\"\"}}}],\"scattercarpet\":[{\"type\":\"scattercarpet\",\"marker\":{\"colorbar\":{\"outlinewidth\":0,\"ticks\":\"\"}}}],\"carpet\":[{\"aaxis\":{\"endlinecolor\":\"#2a3f5f\",\"gridcolor\":\"white\",\"linecolor\":\"white\",\"minorgridcolor\":\"white\",\"startlinecolor\":\"#2a3f5f\"},\"baxis\":{\"endlinecolor\":\"#2a3f5f\",\"gridcolor\":\"white\",\"linecolor\":\"white\",\"minorgridcolor\":\"white\",\"startlinecolor\":\"#2a3f5f\"},\"type\":\"carpet\"}],\"table\":[{\"cells\":{\"fill\":{\"color\":\"#EBF0F8\"},\"line\":{\"color\":\"white\"}},\"header\":{\"fill\":{\"color\":\"#C8D4E3\"},\"line\":{\"color\":\"white\"}},\"type\":\"table\"}],\"barpolar\":[{\"marker\":{\"line\":{\"color\":\"#E5ECF6\",\"width\":0.5},\"pattern\":{\"fillmode\":\"overlay\",\"size\":10,\"solidity\":0.2}},\"type\":\"barpolar\"}],\"pie\":[{\"automargin\":true,\"type\":\"pie\"}]},\"layout\":{\"autotypenumbers\":\"strict\",\"colorway\":[\"#636efa\",\"#EF553B\",\"#00cc96\",\"#ab63fa\",\"#FFA15A\",\"#19d3f3\",\"#FF6692\",\"#B6E880\",\"#FF97FF\",\"#FECB52\"],\"font\":{\"color\":\"#2a3f5f\"},\"hovermode\":\"closest\",\"hoverlabel\":{\"align\":\"left\"},\"paper_bgcolor\":\"white\",\"plot_bgcolor\":\"#E5ECF6\",\"polar\":{\"bgcolor\":\"#E5ECF6\",\"angularaxis\":{\"gridcolor\":\"white\",\"linecolor\":\"white\",\"ticks\":\"\"},\"radialaxis\":{\"gridcolor\":\"white\",\"linecolor\":\"white\",\"ticks\":\"\"}},\"ternary\":{\"bgcolor\":\"#E5ECF6\",\"aaxis\":{\"gridcolor\":\"white\",\"linecolor\":\"white\",\"ticks\":\"\"},\"baxis\":{\"gridcolor\":\"white\",\"linecolor\":\"white\",\"ticks\":\"\"},\"caxis\":{\"gridcolor\":\"white\",\"linecolor\":\"white\",\"ticks\":\"\"}},\"coloraxis\":{\"colorbar\":{\"outlinewidth\":0,\"ticks\":\"\"}},\"colorscale\":{\"sequential\":[[0.0,\"#0d0887\"],[0.1111111111111111,\"#46039f\"],[0.2222222222222222,\"#7201a8\"],[0.3333333333333333,\"#9c179e\"],[0.4444444444444444,\"#bd3786\"],[0.5555555555555556,\"#d8576b\"],[0.6666666666666666,\"#ed7953\"],[0.7777777777777778,\"#fb9f3a\"],[0.8888888888888888,\"#fdca26\"],[1.0,\"#f0f921\"]],\"sequentialminus\":[[0.0,\"#0d0887\"],[0.1111111111111111,\"#46039f\"],[0.2222222222222222,\"#7201a8\"],[0.3333333333333333,\"#9c179e\"],[0.4444444444444444,\"#bd3786\"],[0.5555555555555556,\"#d8576b\"],[0.6666666666666666,\"#ed7953\"],[0.7777777777777778,\"#fb9f3a\"],[0.8888888888888888,\"#fdca26\"],[1.0,\"#f0f921\"]],\"diverging\":[[0,\"#8e0152\"],[0.1,\"#c51b7d\"],[0.2,\"#de77ae\"],[0.3,\"#f1b6da\"],[0.4,\"#fde0ef\"],[0.5,\"#f7f7f7\"],[0.6,\"#e6f5d0\"],[0.7,\"#b8e186\"],[0.8,\"#7fbc41\"],[0.9,\"#4d9221\"],[1,\"#276419\"]]},\"xaxis\":{\"gridcolor\":\"white\",\"linecolor\":\"white\",\"ticks\":\"\",\"title\":{\"standoff\":15},\"zerolinecolor\":\"white\",\"automargin\":true,\"zerolinewidth\":2},\"yaxis\":{\"gridcolor\":\"white\",\"linecolor\":\"white\",\"ticks\":\"\",\"title\":{\"standoff\":15},\"zerolinecolor\":\"white\",\"automargin\":true,\"zerolinewidth\":2},\"scene\":{\"xaxis\":{\"backgroundcolor\":\"#E5ECF6\",\"gridcolor\":\"white\",\"linecolor\":\"white\",\"showbackground\":true,\"ticks\":\"\",\"zerolinecolor\":\"white\",\"gridwidth\":2},\"yaxis\":{\"backgroundcolor\":\"#E5ECF6\",\"gridcolor\":\"white\",\"linecolor\":\"white\",\"showbackground\":true,\"ticks\":\"\",\"zerolinecolor\":\"white\",\"gridwidth\":2},\"zaxis\":{\"backgroundcolor\":\"#E5ECF6\",\"gridcolor\":\"white\",\"linecolor\":\"white\",\"showbackground\":true,\"ticks\":\"\",\"zerolinecolor\":\"white\",\"gridwidth\":2}},\"shapedefaults\":{\"line\":{\"color\":\"#2a3f5f\"}},\"annotationdefaults\":{\"arrowcolor\":\"#2a3f5f\",\"arrowhead\":0,\"arrowwidth\":1},\"geo\":{\"bgcolor\":\"white\",\"landcolor\":\"#E5ECF6\",\"subunitcolor\":\"white\",\"showland\":true,\"showlakes\":true,\"lakecolor\":\"white\"},\"title\":{\"x\":0.05},\"mapbox\":{\"style\":\"light\"}}},\"xaxis\":{\"anchor\":\"y\",\"domain\":[0.0,1.0],\"title\":{\"text\":\"NOC\"}},\"yaxis\":{\"anchor\":\"x\",\"domain\":[0.0,1.0],\"title\":{\"text\":\"Count\"}},\"legend\":{\"title\":{\"text\":\"Discipline\"},\"tracegroupgap\":0},\"title\":{\"text\":\"Number of Athletes from each country grouped by discipline\"},\"barmode\":\"relative\"},                        {\"responsive\": true}                    ).then(function(){\n",
              "                            \n",
              "var gd = document.getElementById('439bca95-087e-4fd8-9497-23ae628c7161');\n",
              "var x = new MutationObserver(function (mutations, observer) {{\n",
              "        var display = window.getComputedStyle(gd).display;\n",
              "        if (!display || display === 'none') {{\n",
              "            console.log([gd, 'removed!']);\n",
              "            Plotly.purge(gd);\n",
              "            observer.disconnect();\n",
              "        }}\n",
              "}});\n",
              "\n",
              "// Listen for the removal of the full notebook cells\n",
              "var notebookContainer = gd.closest('#notebook-container');\n",
              "if (notebookContainer) {{\n",
              "    x.observe(notebookContainer, {childList: true});\n",
              "}}\n",
              "\n",
              "// Listen for the clearing of the current output cell\n",
              "var outputEl = gd.closest('.output');\n",
              "if (outputEl) {{\n",
              "    x.observe(outputEl, {childList: true});\n",
              "}}\n",
              "\n",
              "                        })                };                            </script>        </div>\n",
              "</body>\n",
              "</html>"
            ]
          },
          "metadata": {}
        }
      ]
    },
    {
      "cell_type": "code",
      "source": [
        "athletes['Discipline'].value_counts().head(10)"
      ],
      "metadata": {
        "id": "liMV-jBR1lAE",
        "colab": {
          "base_uri": "https://localhost:8080/"
        },
        "outputId": "5a8fdd27-8657-4a9b-89d8-d36543e013fc"
      },
      "execution_count": 22,
      "outputs": [
        {
          "output_type": "execute_result",
          "data": {
            "text/plain": [
              "Athletics       2068\n",
              "Swimming         743\n",
              "Football         567\n",
              "Rowing           496\n",
              "Hockey           406\n",
              "Judo             373\n",
              "Handball         343\n",
              "Shooting         342\n",
              "Sailing          336\n",
              "Rugby Sevens     283\n",
              "Name: Discipline, dtype: int64"
            ]
          },
          "metadata": {},
          "execution_count": 22
        }
      ]
    },
    {
      "cell_type": "code",
      "source": [
        "pd_athletes_query = pd_athletes_query.loc[pd_athletes_query['Discipline'].isin(['Athletics', 'Swimming', 'Football'])]\n",
        "pd_athletes_query.Discipline.value_counts()"
      ],
      "metadata": {
        "id": "IpKOCKxX14XK",
        "colab": {
          "base_uri": "https://localhost:8080/"
        },
        "outputId": "0e140eac-3955-4a70-e0fb-cbe82be803d3"
      },
      "execution_count": 23,
      "outputs": [
        {
          "output_type": "execute_result",
          "data": {
            "text/plain": [
              "Athletics    195\n",
              "Swimming     181\n",
              "Football      24\n",
              "Name: Discipline, dtype: int64"
            ]
          },
          "metadata": {},
          "execution_count": 23
        }
      ]
    },
    {
      "cell_type": "code",
      "source": [
        "fig = px.bar(pd_athletes_query, x='NOC', y='Count', color='Discipline', title='Number of Athletes from each country grouped by discipline')\n",
        "fig.show()"
      ],
      "metadata": {
        "id": "RhmCl2X13VH6",
        "colab": {
          "base_uri": "https://localhost:8080/",
          "height": 542
        },
        "outputId": "0457f723-85a7-4594-d776-5a2db5430f41"
      },
      "execution_count": 24,
      "outputs": [
        {
          "output_type": "display_data",
          "data": {
            "text/html": [
              "<html>\n",
              "<head><meta charset=\"utf-8\" /></head>\n",
              "<body>\n",
              "    <div>            <script src=\"https://cdnjs.cloudflare.com/ajax/libs/mathjax/2.7.5/MathJax.js?config=TeX-AMS-MML_SVG\"></script><script type=\"text/javascript\">if (window.MathJax && window.MathJax.Hub && window.MathJax.Hub.Config) {window.MathJax.Hub.Config({SVG: {font: \"STIX-Web\"}});}</script>                <script type=\"text/javascript\">window.PlotlyConfig = {MathJaxConfig: 'local'};</script>\n",
              "        <script charset=\"utf-8\" src=\"https://cdn.plot.ly/plotly-2.20.0.min.js\"></script>                <div id=\"d6f18aa8-f768-4c7a-b9ca-f698a094b02b\" class=\"plotly-graph-div\" style=\"height:525px; width:100%;\"></div>            <script type=\"text/javascript\">                                    window.PLOTLYENV=window.PLOTLYENV || {};                                    if (document.getElementById(\"d6f18aa8-f768-4c7a-b9ca-f698a094b02b\")) {                    Plotly.newPlot(                        \"d6f18aa8-f768-4c7a-b9ca-f698a094b02b\",                        [{\"alignmentgroup\":\"True\",\"hovertemplate\":\"Discipline=Athletics<br>NOC=%{x}<br>Count=%{y}<extra></extra>\",\"legendgroup\":\"Athletics\",\"marker\":{\"color\":\"#636efa\",\"pattern\":{\"shape\":\"\"}},\"name\":\"Athletics\",\"offsetgroup\":\"Athletics\",\"orientation\":\"v\",\"showlegend\":true,\"textposition\":\"auto\",\"x\":[\"Afghanistan\",\"Albania\",\"Algeria\",\"American Samoa\",\"Andorra\",\"Angola\",\"Antigua and Barbuda\",\"Argentina\",\"Armenia\",\"Australia\",\"Austria\",\"Azerbaijan\",\"Bahamas\",\"Bahrain\",\"Bangladesh\",\"Barbados\",\"Belarus\",\"Belgium\",\"Belize\",\"Benin\",\"Bolivia\",\"Bosnia and Herzegovina\",\"Botswana\",\"Brazil\",\"Brunei Darussalam\",\"Bulgaria\",\"Burkina Faso\",\"Burundi\",\"Cambodia\",\"Cameroon\",\"Canada\",\"Cape Verde\",\"Cayman Islands\",\"Central African Republic\",\"Chad\",\"Chile\",\"Chinese Taipei\",\"Colombia\",\"Comoros\",\"Congo\",\"Cook Islands\",\"Costa Rica\",\"Croatia\",\"Cuba\",\"Cyprus\",\"Czech Republic\",\"C\\u00f4te d'Ivoire\",\"Democratic Republic of Timor-Leste\",\"Democratic Republic of the Congo\",\"Denmark\",\"Djibouti\",\"Dominica\",\"Dominican Republic\",\"Ecuador\",\"Egypt\",\"El Salvador\",\"Equatorial Guinea\",\"Eritrea\",\"Estonia\",\"Eswatini\",\"Ethiopia\",\"Federated States of Micronesia\",\"Fiji\",\"Finland\",\"France\",\"Gabon\",\"Gambia\",\"Georgia\",\"Germany\",\"Ghana\",\"Great Britain\",\"Greece\",\"Grenada\",\"Guam\",\"Guatemala\",\"Guinea\",\"Guinea-Bissau\",\"Guyana\",\"Haiti\",\"Honduras\",\"Hong Kong, China\",\"Hungary\",\"Iceland\",\"India\",\"Indonesia\",\"Iraq\",\"Ireland\",\"Islamic Republic of Iran\",\"Israel\",\"Italy\",\"Jamaica\",\"Japan\",\"Jordan\",\"Kazakhstan\",\"Kenya\",\"Kiribati\",\"Kosovo\",\"Kuwait\",\"Kyrgyzstan\",\"Lao People's Democratic Republic\",\"Latvia\",\"Lebanon\",\"Lesotho\",\"Liberia\",\"Libya\",\"Lithuania\",\"Luxembourg\",\"Madagascar\",\"Malawi\",\"Malaysia\",\"Maldives\",\"Mali\",\"Malta\",\"Mauritania\",\"Mauritius\",\"Mexico\",\"Monaco\",\"Mongolia\",\"Montenegro\",\"Morocco\",\"Mozambique\",\"Namibia\",\"Nauru\",\"Nepal\",\"Netherlands\",\"New Zealand\",\"Nicaragua\",\"Niger\",\"Nigeria\",\"North Macedonia\",\"Norway\",\"Oman\",\"Pakistan\",\"Palau\",\"Palestine\",\"Panama\",\"Papua New Guinea\",\"Paraguay\",\"People's Republic of China\",\"Peru\",\"Philippines\",\"Poland\",\"Portugal\",\"Puerto Rico\",\"Qatar\",\"ROC\",\"Refugee Olympic Team\",\"Republic of Korea\",\"Republic of Moldova\",\"Romania\",\"Rwanda\",\"Saint Kitts and Nevis\",\"Saint Lucia\",\"Samoa\",\"Sao Tome and Principe\",\"Saudi Arabia\",\"Senegal\",\"Serbia\",\"Seychelles\",\"Sierra Leone\",\"Singapore\",\"Slovakia\",\"Slovenia\",\"Solomon Islands\",\"Somalia\",\"South Africa\",\"South Sudan\",\"Spain\",\"Sri Lanka\",\"Sudan\",\"Sweden\",\"Switzerland\",\"Syrian Arab Republic\",\"Tajikistan\",\"Thailand\",\"Togo\",\"Tonga\",\"Trinidad and Tobago\",\"Tunisia\",\"Turkey\",\"Turkmenistan\",\"Tuvalu\",\"Uganda\",\"Ukraine\",\"United Republic of Tanzania\",\"United States of America\",\"Uruguay\",\"Uzbekistan\",\"Venezuela\",\"Vietnam\",\"Virgin Islands, British\",\"Virgin Islands, US\",\"Yemen\",\"Zambia\",\"Zimbabwe\"],\"xaxis\":\"x\",\"y\":[2,1,8,1,1,1,2,5,1,65,7,2,14,13,1,6,33,30,2,3,2,2,9,53,1,5,2,3,1,1,56,1,2,1,1,3,6,24,2,2,1,3,7,18,3,31,3,1,1,16,2,2,7,18,5,1,2,9,7,1,39,1,1,22,66,1,2,5,95,7,75,20,4,1,9,1,1,3,1,1,2,19,1,25,2,2,27,4,9,73,54,70,1,10,37,1,1,2,3,1,7,1,2,3,1,9,2,1,1,2,1,2,1,2,1,18,1,3,2,16,1,4,1,1,44,12,1,2,20,1,15,2,2,1,1,4,1,2,53,7,2,64,19,4,8,10,6,6,5,10,2,2,1,1,1,2,1,5,1,1,1,9,7,1,1,30,2,58,2,1,20,30,1,1,2,1,1,22,3,24,1,2,18,48,2,144,3,7,4,1,2,1,1,2,1],\"yaxis\":\"y\",\"type\":\"bar\"},{\"alignmentgroup\":\"True\",\"hovertemplate\":\"Discipline=Swimming<br>NOC=%{x}<br>Count=%{y}<extra></extra>\",\"legendgroup\":\"Swimming\",\"marker\":{\"color\":\"#EF553B\",\"pattern\":{\"shape\":\"\"}},\"name\":\"Swimming\",\"offsetgroup\":\"Swimming\",\"orientation\":\"v\",\"showlegend\":true,\"textposition\":\"auto\",\"x\":[\"Afghanistan\",\"Albania\",\"Algeria\",\"American Samoa\",\"Angola\",\"Antigua and Barbuda\",\"Argentina\",\"Armenia\",\"Aruba\",\"Australia\",\"Austria\",\"Azerbaijan\",\"Bahamas\",\"Bahrain\",\"Bangladesh\",\"Barbados\",\"Belarus\",\"Belgium\",\"Benin\",\"Bhutan\",\"Bolivia\",\"Bosnia and Herzegovina\",\"Botswana\",\"Brazil\",\"Brunei Darussalam\",\"Bulgaria\",\"Burkina Faso\",\"Burundi\",\"Cambodia\",\"Cameroon\",\"Canada\",\"Cape Verde\",\"Cayman Islands\",\"Central African Republic\",\"Chile\",\"Chinese Taipei\",\"Colombia\",\"Congo\",\"Cook Islands\",\"Costa Rica\",\"Croatia\",\"Cuba\",\"Cyprus\",\"Czech Republic\",\"C\\u00f4te d'Ivoire\",\"Democratic Republic of Timor-Leste\",\"Denmark\",\"Djibouti\",\"Dominican Republic\",\"Ecuador\",\"Egypt\",\"El Salvador\",\"Equatorial Guinea\",\"Eritrea\",\"Estonia\",\"Eswatini\",\"Ethiopia\",\"Federated States of Micronesia\",\"Fiji\",\"Finland\",\"France\",\"Gabon\",\"Georgia\",\"Germany\",\"Ghana\",\"Great Britain\",\"Greece\",\"Grenada\",\"Guam\",\"Guatemala\",\"Guinea\",\"Guyana\",\"Haiti\",\"Honduras\",\"Hong Kong, China\",\"Hungary\",\"Iceland\",\"India\",\"Indonesia\",\"Ireland\",\"Islamic Republic of Iran\",\"Israel\",\"Italy\",\"Jamaica\",\"Japan\",\"Jordan\",\"Kazakhstan\",\"Kenya\",\"Kosovo\",\"Kuwait\",\"Kyrgyzstan\",\"Lao People's Democratic Republic\",\"Latvia\",\"Lebanon\",\"Libya\",\"Liechtenstein\",\"Lithuania\",\"Luxembourg\",\"Madagascar\",\"Malawi\",\"Malaysia\",\"Maldives\",\"Mali\",\"Malta\",\"Marshall Islands\",\"Mauritius\",\"Mexico\",\"Monaco\",\"Mongolia\",\"Montenegro\",\"Morocco\",\"Mozambique\",\"Nepal\",\"Netherlands\",\"New Zealand\",\"Nicaragua\",\"Niger\",\"Nigeria\",\"North Macedonia\",\"Norway\",\"Oman\",\"Pakistan\",\"Palau\",\"Palestine\",\"Panama\",\"Papua New Guinea\",\"Paraguay\",\"People's Republic of China\",\"Peru\",\"Philippines\",\"Poland\",\"Portugal\",\"Puerto Rico\",\"Qatar\",\"ROC\",\"Refugee Olympic Team\",\"Republic of Korea\",\"Republic of Moldova\",\"Romania\",\"Rwanda\",\"Saint Lucia\",\"San Marino\",\"Saudi Arabia\",\"Senegal\",\"Serbia\",\"Seychelles\",\"Sierra Leone\",\"Singapore\",\"Slovakia\",\"Slovenia\",\"Solomon Islands\",\"South Africa\",\"Spain\",\"Sri Lanka\",\"St Vincent and the Grenadines\",\"Sudan\",\"Suriname\",\"Sweden\",\"Switzerland\",\"Syrian Arab Republic\",\"Tajikistan\",\"Thailand\",\"Togo\",\"Tonga\",\"Trinidad and Tobago\",\"Tunisia\",\"Turkey\",\"Turkmenistan\",\"Uganda\",\"Ukraine\",\"United Arab Emirates\",\"United States of America\",\"Uruguay\",\"Uzbekistan\",\"Venezuela\",\"Vietnam\",\"Virgin Islands, British\",\"Virgin Islands, US\",\"Yemen\",\"Zambia\",\"Zimbabwe\"],\"xaxis\":\"x\",\"y\":[1,2,2,1,2,2,3,2,2,30,7,2,2,2,2,1,5,2,2,1,2,2,1,17,1,5,2,2,2,2,20,2,2,1,2,3,2,1,2,2,2,2,2,8,1,2,9,1,2,2,4,2,1,1,3,2,1,2,2,5,17,2,2,24,2,27,7,2,2,2,2,2,2,2,6,20,2,3,2,6,1,10,29,2,25,1,2,2,2,2,1,2,2,2,1,2,4,2,2,2,2,2,1,2,2,1,3,2,2,2,2,2,2,14,6,2,2,1,2,4,1,2,2,1,1,2,2,25,1,2,8,6,2,2,28,2,8,2,3,2,2,1,1,2,5,2,2,3,2,3,1,12,8,2,2,2,1,10,6,1,2,2,1,2,2,1,10,2,2,6,1,39,2,2,3,2,1,2,1,2,2],\"yaxis\":\"y\",\"type\":\"bar\"},{\"alignmentgroup\":\"True\",\"hovertemplate\":\"Discipline=Football<br>NOC=%{x}<br>Count=%{y}<extra></extra>\",\"legendgroup\":\"Football\",\"marker\":{\"color\":\"#00cc96\",\"pattern\":{\"shape\":\"\"}},\"name\":\"Football\",\"offsetgroup\":\"Football\",\"orientation\":\"v\",\"showlegend\":true,\"textposition\":\"auto\",\"x\":[\"Argentina\",\"Australia\",\"Brazil\",\"Canada\",\"Chile\",\"C\\u00f4te d'Ivoire\",\"Egypt\",\"France\",\"Germany\",\"Great Britain\",\"Honduras\",\"Japan\",\"Mexico\",\"Netherlands\",\"New Zealand\",\"People's Republic of China\",\"Republic of Korea\",\"Romania\",\"Saudi Arabia\",\"South Africa\",\"Spain\",\"Sweden\",\"United States of America\",\"Zambia\"],\"xaxis\":\"x\",\"y\":[19,43,41,22,21,20,20,21,17,21,20,42,21,20,39,20,20,20,21,19,19,20,20,21],\"yaxis\":\"y\",\"type\":\"bar\"}],                        {\"template\":{\"data\":{\"histogram2dcontour\":[{\"type\":\"histogram2dcontour\",\"colorbar\":{\"outlinewidth\":0,\"ticks\":\"\"},\"colorscale\":[[0.0,\"#0d0887\"],[0.1111111111111111,\"#46039f\"],[0.2222222222222222,\"#7201a8\"],[0.3333333333333333,\"#9c179e\"],[0.4444444444444444,\"#bd3786\"],[0.5555555555555556,\"#d8576b\"],[0.6666666666666666,\"#ed7953\"],[0.7777777777777778,\"#fb9f3a\"],[0.8888888888888888,\"#fdca26\"],[1.0,\"#f0f921\"]]}],\"choropleth\":[{\"type\":\"choropleth\",\"colorbar\":{\"outlinewidth\":0,\"ticks\":\"\"}}],\"histogram2d\":[{\"type\":\"histogram2d\",\"colorbar\":{\"outlinewidth\":0,\"ticks\":\"\"},\"colorscale\":[[0.0,\"#0d0887\"],[0.1111111111111111,\"#46039f\"],[0.2222222222222222,\"#7201a8\"],[0.3333333333333333,\"#9c179e\"],[0.4444444444444444,\"#bd3786\"],[0.5555555555555556,\"#d8576b\"],[0.6666666666666666,\"#ed7953\"],[0.7777777777777778,\"#fb9f3a\"],[0.8888888888888888,\"#fdca26\"],[1.0,\"#f0f921\"]]}],\"heatmap\":[{\"type\":\"heatmap\",\"colorbar\":{\"outlinewidth\":0,\"ticks\":\"\"},\"colorscale\":[[0.0,\"#0d0887\"],[0.1111111111111111,\"#46039f\"],[0.2222222222222222,\"#7201a8\"],[0.3333333333333333,\"#9c179e\"],[0.4444444444444444,\"#bd3786\"],[0.5555555555555556,\"#d8576b\"],[0.6666666666666666,\"#ed7953\"],[0.7777777777777778,\"#fb9f3a\"],[0.8888888888888888,\"#fdca26\"],[1.0,\"#f0f921\"]]}],\"heatmapgl\":[{\"type\":\"heatmapgl\",\"colorbar\":{\"outlinewidth\":0,\"ticks\":\"\"},\"colorscale\":[[0.0,\"#0d0887\"],[0.1111111111111111,\"#46039f\"],[0.2222222222222222,\"#7201a8\"],[0.3333333333333333,\"#9c179e\"],[0.4444444444444444,\"#bd3786\"],[0.5555555555555556,\"#d8576b\"],[0.6666666666666666,\"#ed7953\"],[0.7777777777777778,\"#fb9f3a\"],[0.8888888888888888,\"#fdca26\"],[1.0,\"#f0f921\"]]}],\"contourcarpet\":[{\"type\":\"contourcarpet\",\"colorbar\":{\"outlinewidth\":0,\"ticks\":\"\"}}],\"contour\":[{\"type\":\"contour\",\"colorbar\":{\"outlinewidth\":0,\"ticks\":\"\"},\"colorscale\":[[0.0,\"#0d0887\"],[0.1111111111111111,\"#46039f\"],[0.2222222222222222,\"#7201a8\"],[0.3333333333333333,\"#9c179e\"],[0.4444444444444444,\"#bd3786\"],[0.5555555555555556,\"#d8576b\"],[0.6666666666666666,\"#ed7953\"],[0.7777777777777778,\"#fb9f3a\"],[0.8888888888888888,\"#fdca26\"],[1.0,\"#f0f921\"]]}],\"surface\":[{\"type\":\"surface\",\"colorbar\":{\"outlinewidth\":0,\"ticks\":\"\"},\"colorscale\":[[0.0,\"#0d0887\"],[0.1111111111111111,\"#46039f\"],[0.2222222222222222,\"#7201a8\"],[0.3333333333333333,\"#9c179e\"],[0.4444444444444444,\"#bd3786\"],[0.5555555555555556,\"#d8576b\"],[0.6666666666666666,\"#ed7953\"],[0.7777777777777778,\"#fb9f3a\"],[0.8888888888888888,\"#fdca26\"],[1.0,\"#f0f921\"]]}],\"mesh3d\":[{\"type\":\"mesh3d\",\"colorbar\":{\"outlinewidth\":0,\"ticks\":\"\"}}],\"scatter\":[{\"fillpattern\":{\"fillmode\":\"overlay\",\"size\":10,\"solidity\":0.2},\"type\":\"scatter\"}],\"parcoords\":[{\"type\":\"parcoords\",\"line\":{\"colorbar\":{\"outlinewidth\":0,\"ticks\":\"\"}}}],\"scatterpolargl\":[{\"type\":\"scatterpolargl\",\"marker\":{\"colorbar\":{\"outlinewidth\":0,\"ticks\":\"\"}}}],\"bar\":[{\"error_x\":{\"color\":\"#2a3f5f\"},\"error_y\":{\"color\":\"#2a3f5f\"},\"marker\":{\"line\":{\"color\":\"#E5ECF6\",\"width\":0.5},\"pattern\":{\"fillmode\":\"overlay\",\"size\":10,\"solidity\":0.2}},\"type\":\"bar\"}],\"scattergeo\":[{\"type\":\"scattergeo\",\"marker\":{\"colorbar\":{\"outlinewidth\":0,\"ticks\":\"\"}}}],\"scatterpolar\":[{\"type\":\"scatterpolar\",\"marker\":{\"colorbar\":{\"outlinewidth\":0,\"ticks\":\"\"}}}],\"histogram\":[{\"marker\":{\"pattern\":{\"fillmode\":\"overlay\",\"size\":10,\"solidity\":0.2}},\"type\":\"histogram\"}],\"scattergl\":[{\"type\":\"scattergl\",\"marker\":{\"colorbar\":{\"outlinewidth\":0,\"ticks\":\"\"}}}],\"scatter3d\":[{\"type\":\"scatter3d\",\"line\":{\"colorbar\":{\"outlinewidth\":0,\"ticks\":\"\"}},\"marker\":{\"colorbar\":{\"outlinewidth\":0,\"ticks\":\"\"}}}],\"scattermapbox\":[{\"type\":\"scattermapbox\",\"marker\":{\"colorbar\":{\"outlinewidth\":0,\"ticks\":\"\"}}}],\"scatterternary\":[{\"type\":\"scatterternary\",\"marker\":{\"colorbar\":{\"outlinewidth\":0,\"ticks\":\"\"}}}],\"scattercarpet\":[{\"type\":\"scattercarpet\",\"marker\":{\"colorbar\":{\"outlinewidth\":0,\"ticks\":\"\"}}}],\"carpet\":[{\"aaxis\":{\"endlinecolor\":\"#2a3f5f\",\"gridcolor\":\"white\",\"linecolor\":\"white\",\"minorgridcolor\":\"white\",\"startlinecolor\":\"#2a3f5f\"},\"baxis\":{\"endlinecolor\":\"#2a3f5f\",\"gridcolor\":\"white\",\"linecolor\":\"white\",\"minorgridcolor\":\"white\",\"startlinecolor\":\"#2a3f5f\"},\"type\":\"carpet\"}],\"table\":[{\"cells\":{\"fill\":{\"color\":\"#EBF0F8\"},\"line\":{\"color\":\"white\"}},\"header\":{\"fill\":{\"color\":\"#C8D4E3\"},\"line\":{\"color\":\"white\"}},\"type\":\"table\"}],\"barpolar\":[{\"marker\":{\"line\":{\"color\":\"#E5ECF6\",\"width\":0.5},\"pattern\":{\"fillmode\":\"overlay\",\"size\":10,\"solidity\":0.2}},\"type\":\"barpolar\"}],\"pie\":[{\"automargin\":true,\"type\":\"pie\"}]},\"layout\":{\"autotypenumbers\":\"strict\",\"colorway\":[\"#636efa\",\"#EF553B\",\"#00cc96\",\"#ab63fa\",\"#FFA15A\",\"#19d3f3\",\"#FF6692\",\"#B6E880\",\"#FF97FF\",\"#FECB52\"],\"font\":{\"color\":\"#2a3f5f\"},\"hovermode\":\"closest\",\"hoverlabel\":{\"align\":\"left\"},\"paper_bgcolor\":\"white\",\"plot_bgcolor\":\"#E5ECF6\",\"polar\":{\"bgcolor\":\"#E5ECF6\",\"angularaxis\":{\"gridcolor\":\"white\",\"linecolor\":\"white\",\"ticks\":\"\"},\"radialaxis\":{\"gridcolor\":\"white\",\"linecolor\":\"white\",\"ticks\":\"\"}},\"ternary\":{\"bgcolor\":\"#E5ECF6\",\"aaxis\":{\"gridcolor\":\"white\",\"linecolor\":\"white\",\"ticks\":\"\"},\"baxis\":{\"gridcolor\":\"white\",\"linecolor\":\"white\",\"ticks\":\"\"},\"caxis\":{\"gridcolor\":\"white\",\"linecolor\":\"white\",\"ticks\":\"\"}},\"coloraxis\":{\"colorbar\":{\"outlinewidth\":0,\"ticks\":\"\"}},\"colorscale\":{\"sequential\":[[0.0,\"#0d0887\"],[0.1111111111111111,\"#46039f\"],[0.2222222222222222,\"#7201a8\"],[0.3333333333333333,\"#9c179e\"],[0.4444444444444444,\"#bd3786\"],[0.5555555555555556,\"#d8576b\"],[0.6666666666666666,\"#ed7953\"],[0.7777777777777778,\"#fb9f3a\"],[0.8888888888888888,\"#fdca26\"],[1.0,\"#f0f921\"]],\"sequentialminus\":[[0.0,\"#0d0887\"],[0.1111111111111111,\"#46039f\"],[0.2222222222222222,\"#7201a8\"],[0.3333333333333333,\"#9c179e\"],[0.4444444444444444,\"#bd3786\"],[0.5555555555555556,\"#d8576b\"],[0.6666666666666666,\"#ed7953\"],[0.7777777777777778,\"#fb9f3a\"],[0.8888888888888888,\"#fdca26\"],[1.0,\"#f0f921\"]],\"diverging\":[[0,\"#8e0152\"],[0.1,\"#c51b7d\"],[0.2,\"#de77ae\"],[0.3,\"#f1b6da\"],[0.4,\"#fde0ef\"],[0.5,\"#f7f7f7\"],[0.6,\"#e6f5d0\"],[0.7,\"#b8e186\"],[0.8,\"#7fbc41\"],[0.9,\"#4d9221\"],[1,\"#276419\"]]},\"xaxis\":{\"gridcolor\":\"white\",\"linecolor\":\"white\",\"ticks\":\"\",\"title\":{\"standoff\":15},\"zerolinecolor\":\"white\",\"automargin\":true,\"zerolinewidth\":2},\"yaxis\":{\"gridcolor\":\"white\",\"linecolor\":\"white\",\"ticks\":\"\",\"title\":{\"standoff\":15},\"zerolinecolor\":\"white\",\"automargin\":true,\"zerolinewidth\":2},\"scene\":{\"xaxis\":{\"backgroundcolor\":\"#E5ECF6\",\"gridcolor\":\"white\",\"linecolor\":\"white\",\"showbackground\":true,\"ticks\":\"\",\"zerolinecolor\":\"white\",\"gridwidth\":2},\"yaxis\":{\"backgroundcolor\":\"#E5ECF6\",\"gridcolor\":\"white\",\"linecolor\":\"white\",\"showbackground\":true,\"ticks\":\"\",\"zerolinecolor\":\"white\",\"gridwidth\":2},\"zaxis\":{\"backgroundcolor\":\"#E5ECF6\",\"gridcolor\":\"white\",\"linecolor\":\"white\",\"showbackground\":true,\"ticks\":\"\",\"zerolinecolor\":\"white\",\"gridwidth\":2}},\"shapedefaults\":{\"line\":{\"color\":\"#2a3f5f\"}},\"annotationdefaults\":{\"arrowcolor\":\"#2a3f5f\",\"arrowhead\":0,\"arrowwidth\":1},\"geo\":{\"bgcolor\":\"white\",\"landcolor\":\"#E5ECF6\",\"subunitcolor\":\"white\",\"showland\":true,\"showlakes\":true,\"lakecolor\":\"white\"},\"title\":{\"x\":0.05},\"mapbox\":{\"style\":\"light\"}}},\"xaxis\":{\"anchor\":\"y\",\"domain\":[0.0,1.0],\"title\":{\"text\":\"NOC\"}},\"yaxis\":{\"anchor\":\"x\",\"domain\":[0.0,1.0],\"title\":{\"text\":\"Count\"}},\"legend\":{\"title\":{\"text\":\"Discipline\"},\"tracegroupgap\":0},\"title\":{\"text\":\"Number of Athletes from each country grouped by discipline\"},\"barmode\":\"relative\"},                        {\"responsive\": true}                    ).then(function(){\n",
              "                            \n",
              "var gd = document.getElementById('d6f18aa8-f768-4c7a-b9ca-f698a094b02b');\n",
              "var x = new MutationObserver(function (mutations, observer) {{\n",
              "        var display = window.getComputedStyle(gd).display;\n",
              "        if (!display || display === 'none') {{\n",
              "            console.log([gd, 'removed!']);\n",
              "            Plotly.purge(gd);\n",
              "            observer.disconnect();\n",
              "        }}\n",
              "}});\n",
              "\n",
              "// Listen for the removal of the full notebook cells\n",
              "var notebookContainer = gd.closest('#notebook-container');\n",
              "if (notebookContainer) {{\n",
              "    x.observe(notebookContainer, {childList: true});\n",
              "}}\n",
              "\n",
              "// Listen for the clearing of the current output cell\n",
              "var outputEl = gd.closest('.output');\n",
              "if (outputEl) {{\n",
              "    x.observe(outputEl, {childList: true});\n",
              "}}\n",
              "\n",
              "                        })                };                            </script>        </div>\n",
              "</body>\n",
              "</html>"
            ]
          },
          "metadata": {}
        }
      ]
    },
    {
      "cell_type": "code",
      "source": [
        "entries_gender.head(5)"
      ],
      "metadata": {
        "id": "_MfCiJrD3yKZ",
        "colab": {
          "base_uri": "https://localhost:8080/",
          "height": 206
        },
        "outputId": "457d19d2-61eb-41cd-f98b-99f07a3133fd"
      },
      "execution_count": 25,
      "outputs": [
        {
          "output_type": "execute_result",
          "data": {
            "text/plain": [
              "            Discipline  Female  Male  Total\n",
              "0       3x3 Basketball      32    32     64\n",
              "1              Archery      64    64    128\n",
              "2  Artistic Gymnastics      98    98    196\n",
              "3    Artistic Swimming     105     0    105\n",
              "4            Athletics     969  1072   2041"
            ],
            "text/html": [
              "\n",
              "  <div id=\"df-dabd20d9-4338-4811-8966-2fdb4e53a809\">\n",
              "    <div class=\"colab-df-container\">\n",
              "      <div>\n",
              "<style scoped>\n",
              "    .dataframe tbody tr th:only-of-type {\n",
              "        vertical-align: middle;\n",
              "    }\n",
              "\n",
              "    .dataframe tbody tr th {\n",
              "        vertical-align: top;\n",
              "    }\n",
              "\n",
              "    .dataframe thead th {\n",
              "        text-align: right;\n",
              "    }\n",
              "</style>\n",
              "<table border=\"1\" class=\"dataframe\">\n",
              "  <thead>\n",
              "    <tr style=\"text-align: right;\">\n",
              "      <th></th>\n",
              "      <th>Discipline</th>\n",
              "      <th>Female</th>\n",
              "      <th>Male</th>\n",
              "      <th>Total</th>\n",
              "    </tr>\n",
              "  </thead>\n",
              "  <tbody>\n",
              "    <tr>\n",
              "      <th>0</th>\n",
              "      <td>3x3 Basketball</td>\n",
              "      <td>32</td>\n",
              "      <td>32</td>\n",
              "      <td>64</td>\n",
              "    </tr>\n",
              "    <tr>\n",
              "      <th>1</th>\n",
              "      <td>Archery</td>\n",
              "      <td>64</td>\n",
              "      <td>64</td>\n",
              "      <td>128</td>\n",
              "    </tr>\n",
              "    <tr>\n",
              "      <th>2</th>\n",
              "      <td>Artistic Gymnastics</td>\n",
              "      <td>98</td>\n",
              "      <td>98</td>\n",
              "      <td>196</td>\n",
              "    </tr>\n",
              "    <tr>\n",
              "      <th>3</th>\n",
              "      <td>Artistic Swimming</td>\n",
              "      <td>105</td>\n",
              "      <td>0</td>\n",
              "      <td>105</td>\n",
              "    </tr>\n",
              "    <tr>\n",
              "      <th>4</th>\n",
              "      <td>Athletics</td>\n",
              "      <td>969</td>\n",
              "      <td>1072</td>\n",
              "      <td>2041</td>\n",
              "    </tr>\n",
              "  </tbody>\n",
              "</table>\n",
              "</div>\n",
              "      <button class=\"colab-df-convert\" onclick=\"convertToInteractive('df-dabd20d9-4338-4811-8966-2fdb4e53a809')\"\n",
              "              title=\"Convert this dataframe to an interactive table.\"\n",
              "              style=\"display:none;\">\n",
              "        \n",
              "  <svg xmlns=\"http://www.w3.org/2000/svg\" height=\"24px\"viewBox=\"0 0 24 24\"\n",
              "       width=\"24px\">\n",
              "    <path d=\"M0 0h24v24H0V0z\" fill=\"none\"/>\n",
              "    <path d=\"M18.56 5.44l.94 2.06.94-2.06 2.06-.94-2.06-.94-.94-2.06-.94 2.06-2.06.94zm-11 1L8.5 8.5l.94-2.06 2.06-.94-2.06-.94L8.5 2.5l-.94 2.06-2.06.94zm10 10l.94 2.06.94-2.06 2.06-.94-2.06-.94-.94-2.06-.94 2.06-2.06.94z\"/><path d=\"M17.41 7.96l-1.37-1.37c-.4-.4-.92-.59-1.43-.59-.52 0-1.04.2-1.43.59L10.3 9.45l-7.72 7.72c-.78.78-.78 2.05 0 2.83L4 21.41c.39.39.9.59 1.41.59.51 0 1.02-.2 1.41-.59l7.78-7.78 2.81-2.81c.8-.78.8-2.07 0-2.86zM5.41 20L4 18.59l7.72-7.72 1.47 1.35L5.41 20z\"/>\n",
              "  </svg>\n",
              "      </button>\n",
              "      \n",
              "  <style>\n",
              "    .colab-df-container {\n",
              "      display:flex;\n",
              "      flex-wrap:wrap;\n",
              "      gap: 12px;\n",
              "    }\n",
              "\n",
              "    .colab-df-convert {\n",
              "      background-color: #E8F0FE;\n",
              "      border: none;\n",
              "      border-radius: 50%;\n",
              "      cursor: pointer;\n",
              "      display: none;\n",
              "      fill: #1967D2;\n",
              "      height: 32px;\n",
              "      padding: 0 0 0 0;\n",
              "      width: 32px;\n",
              "    }\n",
              "\n",
              "    .colab-df-convert:hover {\n",
              "      background-color: #E2EBFA;\n",
              "      box-shadow: 0px 1px 2px rgba(60, 64, 67, 0.3), 0px 1px 3px 1px rgba(60, 64, 67, 0.15);\n",
              "      fill: #174EA6;\n",
              "    }\n",
              "\n",
              "    [theme=dark] .colab-df-convert {\n",
              "      background-color: #3B4455;\n",
              "      fill: #D2E3FC;\n",
              "    }\n",
              "\n",
              "    [theme=dark] .colab-df-convert:hover {\n",
              "      background-color: #434B5C;\n",
              "      box-shadow: 0px 1px 3px 1px rgba(0, 0, 0, 0.15);\n",
              "      filter: drop-shadow(0px 1px 2px rgba(0, 0, 0, 0.3));\n",
              "      fill: #FFFFFF;\n",
              "    }\n",
              "  </style>\n",
              "\n",
              "      <script>\n",
              "        const buttonEl =\n",
              "          document.querySelector('#df-dabd20d9-4338-4811-8966-2fdb4e53a809 button.colab-df-convert');\n",
              "        buttonEl.style.display =\n",
              "          google.colab.kernel.accessAllowed ? 'block' : 'none';\n",
              "\n",
              "        async function convertToInteractive(key) {\n",
              "          const element = document.querySelector('#df-dabd20d9-4338-4811-8966-2fdb4e53a809');\n",
              "          const dataTable =\n",
              "            await google.colab.kernel.invokeFunction('convertToInteractive',\n",
              "                                                     [key], {});\n",
              "          if (!dataTable) return;\n",
              "\n",
              "          const docLinkHtml = 'Like what you see? Visit the ' +\n",
              "            '<a target=\"_blank\" href=https://colab.research.google.com/notebooks/data_table.ipynb>data table notebook</a>'\n",
              "            + ' to learn more about interactive tables.';\n",
              "          element.innerHTML = '';\n",
              "          dataTable['output_type'] = 'display_data';\n",
              "          await google.colab.output.renderOutput(dataTable, element);\n",
              "          const docLink = document.createElement('div');\n",
              "          docLink.innerHTML = docLinkHtml;\n",
              "          element.appendChild(docLink);\n",
              "        }\n",
              "      </script>\n",
              "    </div>\n",
              "  </div>\n",
              "  "
            ]
          },
          "metadata": {},
          "execution_count": 25
        }
      ]
    },
    {
      "cell_type": "code",
      "source": [
        "from plotly.subplots import make_subplots\n",
        "import plotly.graph_objects as go\n",
        "\n",
        "specs = [[{'type':'domain'}, {'type':'domain'}]] * 23\n",
        "fig = make_subplots(rows=23, cols=2, subplot_titles=entries_gender[\"Discipline\"], specs=specs)\n",
        "sub_figs = []\n",
        "for index, row in entries_gender.iterrows():\n",
        "  sub_fig = go.Pie(labels=['Female', 'Male'], values=[row['Female'], row['Male']])\n",
        "  sub_figs.append(sub_fig)\n",
        "\n",
        "k = 0\n",
        "for i in range(1, 24):\n",
        "  for j in range(1, 3):\n",
        "    fig.add_trace(sub_figs[k], i, j)\n",
        "    k += 1\n",
        "\n",
        "fig.update_layout(showlegend=False, height=10000, width=800, title_text=\"Distribution of gender amongst each game\")\n",
        "fig.update_traces(textposition='inside', textinfo='label+percent', hoverinfo='label+value+percent')\n",
        "fig = go.Figure(fig)\n",
        "fig.show()"
      ],
      "metadata": {
        "id": "1g6UOOHQ4eyA",
        "colab": {
          "base_uri": "https://localhost:8080/",
          "height": 1000
        },
        "outputId": "ce218373-e1cc-4a03-bc90-9823dd58e96c"
      },
      "execution_count": 26,
      "outputs": [
        {
          "output_type": "display_data",
          "data": {
            "text/html": [
              "<html>\n",
              "<head><meta charset=\"utf-8\" /></head>\n",
              "<body>\n",
              "    <div>            <script src=\"https://cdnjs.cloudflare.com/ajax/libs/mathjax/2.7.5/MathJax.js?config=TeX-AMS-MML_SVG\"></script><script type=\"text/javascript\">if (window.MathJax && window.MathJax.Hub && window.MathJax.Hub.Config) {window.MathJax.Hub.Config({SVG: {font: \"STIX-Web\"}});}</script>                <script type=\"text/javascript\">window.PlotlyConfig = {MathJaxConfig: 'local'};</script>\n",
              "        <script charset=\"utf-8\" src=\"https://cdn.plot.ly/plotly-2.20.0.min.js\"></script>                <div id=\"b666481f-700f-46a7-9252-d3075b51b7f4\" class=\"plotly-graph-div\" style=\"height:10000px; width:800px;\"></div>            <script type=\"text/javascript\">                                    window.PLOTLYENV=window.PLOTLYENV || {};                                    if (document.getElementById(\"b666481f-700f-46a7-9252-d3075b51b7f4\")) {                    Plotly.newPlot(                        \"b666481f-700f-46a7-9252-d3075b51b7f4\",                        [{\"domain\":{\"x\":[0.0,0.45],\"y\":[0.9773156899810964,1.0]},\"hoverinfo\":\"label+value+percent\",\"labels\":[\"Female\",\"Male\"],\"textinfo\":\"label+percent\",\"textposition\":\"inside\",\"values\":[32,32],\"type\":\"pie\"},{\"domain\":{\"x\":[0.55,1.0],\"y\":[0.9773156899810964,1.0]},\"hoverinfo\":\"label+value+percent\",\"labels\":[\"Female\",\"Male\"],\"textinfo\":\"label+percent\",\"textposition\":\"inside\",\"values\":[64,64],\"type\":\"pie\"},{\"domain\":{\"x\":[0.0,0.45],\"y\":[0.9328922495274101,0.9555765595463137]},\"hoverinfo\":\"label+value+percent\",\"labels\":[\"Female\",\"Male\"],\"textinfo\":\"label+percent\",\"textposition\":\"inside\",\"values\":[98,98],\"type\":\"pie\"},{\"domain\":{\"x\":[0.55,1.0],\"y\":[0.9328922495274101,0.9555765595463137]},\"hoverinfo\":\"label+value+percent\",\"labels\":[\"Female\",\"Male\"],\"textinfo\":\"label+percent\",\"textposition\":\"inside\",\"values\":[105,0],\"type\":\"pie\"},{\"domain\":{\"x\":[0.0,0.45],\"y\":[0.8884688090737239,0.9111531190926275]},\"hoverinfo\":\"label+value+percent\",\"labels\":[\"Female\",\"Male\"],\"textinfo\":\"label+percent\",\"textposition\":\"inside\",\"values\":[969,1072],\"type\":\"pie\"},{\"domain\":{\"x\":[0.55,1.0],\"y\":[0.8884688090737239,0.9111531190926275]},\"hoverinfo\":\"label+value+percent\",\"labels\":[\"Female\",\"Male\"],\"textinfo\":\"label+percent\",\"textposition\":\"inside\",\"values\":[86,87],\"type\":\"pie\"},{\"domain\":{\"x\":[0.0,0.45],\"y\":[0.8440453686200378,0.8667296786389413]},\"hoverinfo\":\"label+value+percent\",\"labels\":[\"Female\",\"Male\"],\"textinfo\":\"label+percent\",\"textposition\":\"inside\",\"values\":[90,144],\"type\":\"pie\"},{\"domain\":{\"x\":[0.55,1.0],\"y\":[0.8440453686200378,0.8667296786389413]},\"hoverinfo\":\"label+value+percent\",\"labels\":[\"Female\",\"Male\"],\"textinfo\":\"label+percent\",\"textposition\":\"inside\",\"values\":[144,144],\"type\":\"pie\"},{\"domain\":{\"x\":[0.0,0.45],\"y\":[0.7996219281663515,0.8223062381852551]},\"hoverinfo\":\"label+value+percent\",\"labels\":[\"Female\",\"Male\"],\"textinfo\":\"label+percent\",\"textposition\":\"inside\",\"values\":[48,48],\"type\":\"pie\"},{\"domain\":{\"x\":[0.55,1.0],\"y\":[0.7996219281663515,0.8223062381852551]},\"hoverinfo\":\"label+value+percent\",\"labels\":[\"Female\",\"Male\"],\"textinfo\":\"label+percent\",\"textposition\":\"inside\",\"values\":[102,187],\"type\":\"pie\"},{\"domain\":{\"x\":[0.0,0.45],\"y\":[0.7551984877126654,0.777882797731569]},\"hoverinfo\":\"label+value+percent\",\"labels\":[\"Female\",\"Male\"],\"textinfo\":\"label+percent\",\"textposition\":\"inside\",\"values\":[41,41],\"type\":\"pie\"},{\"domain\":{\"x\":[0.55,1.0],\"y\":[0.7551984877126654,0.777882797731569]},\"hoverinfo\":\"label+value+percent\",\"labels\":[\"Female\",\"Male\"],\"textinfo\":\"label+percent\",\"textposition\":\"inside\",\"values\":[123,126],\"type\":\"pie\"},{\"domain\":{\"x\":[0.0,0.45],\"y\":[0.7107750472589791,0.7334593572778827]},\"hoverinfo\":\"label+value+percent\",\"labels\":[\"Female\",\"Male\"],\"textinfo\":\"label+percent\",\"textposition\":\"inside\",\"values\":[10,9],\"type\":\"pie\"},{\"domain\":{\"x\":[0.55,1.0],\"y\":[0.7107750472589791,0.7334593572778827]},\"hoverinfo\":\"label+value+percent\",\"labels\":[\"Female\",\"Male\"],\"textinfo\":\"label+percent\",\"textposition\":\"inside\",\"values\":[24,24],\"type\":\"pie\"},{\"domain\":{\"x\":[0.0,0.45],\"y\":[0.666351606805293,0.6890359168241966]},\"hoverinfo\":\"label+value+percent\",\"labels\":[\"Female\",\"Male\"],\"textinfo\":\"label+percent\",\"textposition\":\"inside\",\"values\":[38,38],\"type\":\"pie\"},{\"domain\":{\"x\":[0.55,1.0],\"y\":[0.666351606805293,0.6890359168241966]},\"hoverinfo\":\"label+value+percent\",\"labels\":[\"Female\",\"Male\"],\"textinfo\":\"label+percent\",\"textposition\":\"inside\",\"values\":[70,131],\"type\":\"pie\"},{\"domain\":{\"x\":[0.0,0.45],\"y\":[0.6219281663516067,0.6446124763705103]},\"hoverinfo\":\"label+value+percent\",\"labels\":[\"Female\",\"Male\"],\"textinfo\":\"label+percent\",\"textposition\":\"inside\",\"values\":[90,99],\"type\":\"pie\"},{\"domain\":{\"x\":[0.55,1.0],\"y\":[0.6219281663516067,0.6446124763705103]},\"hoverinfo\":\"label+value+percent\",\"labels\":[\"Female\",\"Male\"],\"textinfo\":\"label+percent\",\"textposition\":\"inside\",\"values\":[72,71],\"type\":\"pie\"},{\"domain\":{\"x\":[0.0,0.45],\"y\":[0.5775047258979206,0.6001890359168242]},\"hoverinfo\":\"label+value+percent\",\"labels\":[\"Female\",\"Male\"],\"textinfo\":\"label+percent\",\"textposition\":\"inside\",\"values\":[73,125],\"type\":\"pie\"},{\"domain\":{\"x\":[0.55,1.0],\"y\":[0.5775047258979206,0.6001890359168242]},\"hoverinfo\":\"label+value+percent\",\"labels\":[\"Female\",\"Male\"],\"textinfo\":\"label+percent\",\"textposition\":\"inside\",\"values\":[107,108],\"type\":\"pie\"},{\"domain\":{\"x\":[0.0,0.45],\"y\":[0.5330812854442344,0.555765595463138]},\"hoverinfo\":\"label+value+percent\",\"labels\":[\"Female\",\"Male\"],\"textinfo\":\"label+percent\",\"textposition\":\"inside\",\"values\":[264,344],\"type\":\"pie\"},{\"domain\":{\"x\":[0.55,1.0],\"y\":[0.5330812854442344,0.555765595463138]},\"hoverinfo\":\"label+value+percent\",\"labels\":[\"Female\",\"Male\"],\"textinfo\":\"label+percent\",\"textposition\":\"inside\",\"values\":[60,60],\"type\":\"pie\"},{\"domain\":{\"x\":[0.0,0.45],\"y\":[0.4886578449905482,0.5113421550094518]},\"hoverinfo\":\"label+value+percent\",\"labels\":[\"Female\",\"Male\"],\"textinfo\":\"label+percent\",\"textposition\":\"inside\",\"values\":[168,168],\"type\":\"pie\"},{\"domain\":{\"x\":[0.55,1.0],\"y\":[0.4886578449905482,0.5113421550094518]},\"hoverinfo\":\"label+value+percent\",\"labels\":[\"Female\",\"Male\"],\"textinfo\":\"label+percent\",\"textposition\":\"inside\",\"values\":[192,192],\"type\":\"pie\"},{\"domain\":{\"x\":[0.0,0.45],\"y\":[0.44423440453686197,0.46691871455576556]},\"hoverinfo\":\"label+value+percent\",\"labels\":[\"Female\",\"Male\"],\"textinfo\":\"label+percent\",\"textposition\":\"inside\",\"values\":[192,201],\"type\":\"pie\"},{\"domain\":{\"x\":[0.55,1.0],\"y\":[0.44423440453686197,0.46691871455576556]},\"hoverinfo\":\"label+value+percent\",\"labels\":[\"Female\",\"Male\"],\"textinfo\":\"label+percent\",\"textposition\":\"inside\",\"values\":[40,42],\"type\":\"pie\"},{\"domain\":{\"x\":[0.0,0.45],\"y\":[0.39981096408317573,0.4224952741020793]},\"hoverinfo\":\"label+value+percent\",\"labels\":[\"Female\",\"Male\"],\"textinfo\":\"label+percent\",\"textposition\":\"inside\",\"values\":[25,25],\"type\":\"pie\"},{\"domain\":{\"x\":[0.55,1.0],\"y\":[0.39981096408317573,0.4224952741020793]},\"hoverinfo\":\"label+value+percent\",\"labels\":[\"Female\",\"Male\"],\"textinfo\":\"label+percent\",\"textposition\":\"inside\",\"values\":[36,36],\"type\":\"pie\"},{\"domain\":{\"x\":[0.0,0.45],\"y\":[0.35538752362948955,0.37807183364839314]},\"hoverinfo\":\"label+value+percent\",\"labels\":[\"Female\",\"Male\"],\"textinfo\":\"label+percent\",\"textposition\":\"inside\",\"values\":[96,0],\"type\":\"pie\"},{\"domain\":{\"x\":[0.55,1.0],\"y\":[0.35538752362948955,0.37807183364839314]},\"hoverinfo\":\"label+value+percent\",\"labels\":[\"Female\",\"Male\"],\"textinfo\":\"label+percent\",\"textposition\":\"inside\",\"values\":[257,265],\"type\":\"pie\"},{\"domain\":{\"x\":[0.0,0.45],\"y\":[0.3109640831758034,0.33364839319470696]},\"hoverinfo\":\"label+value+percent\",\"labels\":[\"Female\",\"Male\"],\"textinfo\":\"label+percent\",\"textposition\":\"inside\",\"values\":[146,151],\"type\":\"pie\"},{\"domain\":{\"x\":[0.55,1.0],\"y\":[0.3109640831758034,0.33364839319470696]},\"hoverinfo\":\"label+value+percent\",\"labels\":[\"Female\",\"Male\"],\"textinfo\":\"label+percent\",\"textposition\":\"inside\",\"values\":[175,175],\"type\":\"pie\"},{\"domain\":{\"x\":[0.0,0.45],\"y\":[0.2665406427221172,0.2892249527410208]},\"hoverinfo\":\"label+value+percent\",\"labels\":[\"Female\",\"Male\"],\"textinfo\":\"label+percent\",\"textposition\":\"inside\",\"values\":[178,178],\"type\":\"pie\"},{\"domain\":{\"x\":[0.55,1.0],\"y\":[0.2665406427221172,0.2892249527410208]},\"hoverinfo\":\"label+value+percent\",\"labels\":[\"Female\",\"Male\"],\"textinfo\":\"label+percent\",\"textposition\":\"inside\",\"values\":[40,40],\"type\":\"pie\"},{\"domain\":{\"x\":[0.0,0.45],\"y\":[0.22211720226843099,0.24480151228733457]},\"hoverinfo\":\"label+value+percent\",\"labels\":[\"Female\",\"Male\"],\"textinfo\":\"label+percent\",\"textposition\":\"inside\",\"values\":[20,20],\"type\":\"pie\"},{\"domain\":{\"x\":[0.55,1.0],\"y\":[0.22211720226843099,0.24480151228733457]},\"hoverinfo\":\"label+value+percent\",\"labels\":[\"Female\",\"Male\"],\"textinfo\":\"label+percent\",\"textposition\":\"inside\",\"values\":[20,20],\"type\":\"pie\"},{\"domain\":{\"x\":[0.0,0.45],\"y\":[0.17769376181474478,0.20037807183364836]},\"hoverinfo\":\"label+value+percent\",\"labels\":[\"Female\",\"Male\"],\"textinfo\":\"label+percent\",\"textposition\":\"inside\",\"values\":[361,418],\"type\":\"pie\"},{\"domain\":{\"x\":[0.55,1.0],\"y\":[0.17769376181474478,0.20037807183364836]},\"hoverinfo\":\"label+value+percent\",\"labels\":[\"Female\",\"Male\"],\"textinfo\":\"label+percent\",\"textposition\":\"inside\",\"values\":[86,86],\"type\":\"pie\"},{\"domain\":{\"x\":[0.0,0.45],\"y\":[0.1332703213610586,0.15595463137996218]},\"hoverinfo\":\"label+value+percent\",\"labels\":[\"Female\",\"Male\"],\"textinfo\":\"label+percent\",\"textposition\":\"inside\",\"values\":[65,65],\"type\":\"pie\"},{\"domain\":{\"x\":[0.55,1.0],\"y\":[0.1332703213610586,0.15595463137996218]},\"hoverinfo\":\"label+value+percent\",\"labels\":[\"Female\",\"Male\"],\"textinfo\":\"label+percent\",\"textposition\":\"inside\",\"values\":[94,97],\"type\":\"pie\"},{\"domain\":{\"x\":[0.0,0.45],\"y\":[0.08884688090737239,0.11153119092627597]},\"hoverinfo\":\"label+value+percent\",\"labels\":[\"Female\",\"Male\"],\"textinfo\":\"label+percent\",\"textposition\":\"inside\",\"values\":[16,16],\"type\":\"pie\"},{\"domain\":{\"x\":[0.55,1.0],\"y\":[0.08884688090737239,0.11153119092627597]},\"hoverinfo\":\"label+value+percent\",\"labels\":[\"Female\",\"Male\"],\"textinfo\":\"label+percent\",\"textposition\":\"inside\",\"values\":[55,55],\"type\":\"pie\"},{\"domain\":{\"x\":[0.0,0.45],\"y\":[0.044423440453686194,0.06710775047258978]},\"hoverinfo\":\"label+value+percent\",\"labels\":[\"Female\",\"Male\"],\"textinfo\":\"label+percent\",\"textposition\":\"inside\",\"values\":[144,144],\"type\":\"pie\"},{\"domain\":{\"x\":[0.55,1.0],\"y\":[0.044423440453686194,0.06710775047258978]},\"hoverinfo\":\"label+value+percent\",\"labels\":[\"Female\",\"Male\"],\"textinfo\":\"label+percent\",\"textposition\":\"inside\",\"values\":[122,146],\"type\":\"pie\"},{\"domain\":{\"x\":[0.0,0.45],\"y\":[0.0,0.02268431001890359]},\"hoverinfo\":\"label+value+percent\",\"labels\":[\"Female\",\"Male\"],\"textinfo\":\"label+percent\",\"textposition\":\"inside\",\"values\":[98,99],\"type\":\"pie\"},{\"domain\":{\"x\":[0.55,1.0],\"y\":[0.0,0.02268431001890359]},\"hoverinfo\":\"label+value+percent\",\"labels\":[\"Female\",\"Male\"],\"textinfo\":\"label+percent\",\"textposition\":\"inside\",\"values\":[96,193],\"type\":\"pie\"}],                        {\"annotations\":[{\"font\":{\"size\":16},\"showarrow\":false,\"text\":\"3x3 Basketball\",\"x\":0.225,\"xanchor\":\"center\",\"xref\":\"paper\",\"y\":1.0,\"yanchor\":\"bottom\",\"yref\":\"paper\"},{\"font\":{\"size\":16},\"showarrow\":false,\"text\":\"Archery\",\"x\":0.775,\"xanchor\":\"center\",\"xref\":\"paper\",\"y\":1.0,\"yanchor\":\"bottom\",\"yref\":\"paper\"},{\"font\":{\"size\":16},\"showarrow\":false,\"text\":\"Artistic Gymnastics\",\"x\":0.225,\"xanchor\":\"center\",\"xref\":\"paper\",\"y\":0.9555765595463137,\"yanchor\":\"bottom\",\"yref\":\"paper\"},{\"font\":{\"size\":16},\"showarrow\":false,\"text\":\"Artistic Swimming\",\"x\":0.775,\"xanchor\":\"center\",\"xref\":\"paper\",\"y\":0.9555765595463137,\"yanchor\":\"bottom\",\"yref\":\"paper\"},{\"font\":{\"size\":16},\"showarrow\":false,\"text\":\"Athletics\",\"x\":0.225,\"xanchor\":\"center\",\"xref\":\"paper\",\"y\":0.9111531190926275,\"yanchor\":\"bottom\",\"yref\":\"paper\"},{\"font\":{\"size\":16},\"showarrow\":false,\"text\":\"Badminton\",\"x\":0.775,\"xanchor\":\"center\",\"xref\":\"paper\",\"y\":0.9111531190926275,\"yanchor\":\"bottom\",\"yref\":\"paper\"},{\"font\":{\"size\":16},\"showarrow\":false,\"text\":\"Baseball/Softball\",\"x\":0.225,\"xanchor\":\"center\",\"xref\":\"paper\",\"y\":0.8667296786389413,\"yanchor\":\"bottom\",\"yref\":\"paper\"},{\"font\":{\"size\":16},\"showarrow\":false,\"text\":\"Basketball\",\"x\":0.775,\"xanchor\":\"center\",\"xref\":\"paper\",\"y\":0.8667296786389413,\"yanchor\":\"bottom\",\"yref\":\"paper\"},{\"font\":{\"size\":16},\"showarrow\":false,\"text\":\"Beach Volleyball\",\"x\":0.225,\"xanchor\":\"center\",\"xref\":\"paper\",\"y\":0.8223062381852551,\"yanchor\":\"bottom\",\"yref\":\"paper\"},{\"font\":{\"size\":16},\"showarrow\":false,\"text\":\"Boxing\",\"x\":0.775,\"xanchor\":\"center\",\"xref\":\"paper\",\"y\":0.8223062381852551,\"yanchor\":\"bottom\",\"yref\":\"paper\"},{\"font\":{\"size\":16},\"showarrow\":false,\"text\":\"Canoe Slalom\",\"x\":0.225,\"xanchor\":\"center\",\"xref\":\"paper\",\"y\":0.777882797731569,\"yanchor\":\"bottom\",\"yref\":\"paper\"},{\"font\":{\"size\":16},\"showarrow\":false,\"text\":\"Canoe Sprint\",\"x\":0.775,\"xanchor\":\"center\",\"xref\":\"paper\",\"y\":0.777882797731569,\"yanchor\":\"bottom\",\"yref\":\"paper\"},{\"font\":{\"size\":16},\"showarrow\":false,\"text\":\"Cycling BMX Freestyle\",\"x\":0.225,\"xanchor\":\"center\",\"xref\":\"paper\",\"y\":0.7334593572778827,\"yanchor\":\"bottom\",\"yref\":\"paper\"},{\"font\":{\"size\":16},\"showarrow\":false,\"text\":\"Cycling BMX Racing\",\"x\":0.775,\"xanchor\":\"center\",\"xref\":\"paper\",\"y\":0.7334593572778827,\"yanchor\":\"bottom\",\"yref\":\"paper\"},{\"font\":{\"size\":16},\"showarrow\":false,\"text\":\"Cycling Mountain Bike\",\"x\":0.225,\"xanchor\":\"center\",\"xref\":\"paper\",\"y\":0.6890359168241966,\"yanchor\":\"bottom\",\"yref\":\"paper\"},{\"font\":{\"size\":16},\"showarrow\":false,\"text\":\"Cycling Road\",\"x\":0.775,\"xanchor\":\"center\",\"xref\":\"paper\",\"y\":0.6890359168241966,\"yanchor\":\"bottom\",\"yref\":\"paper\"},{\"font\":{\"size\":16},\"showarrow\":false,\"text\":\"Cycling Track\",\"x\":0.225,\"xanchor\":\"center\",\"xref\":\"paper\",\"y\":0.6446124763705103,\"yanchor\":\"bottom\",\"yref\":\"paper\"},{\"font\":{\"size\":16},\"showarrow\":false,\"text\":\"Diving\",\"x\":0.775,\"xanchor\":\"center\",\"xref\":\"paper\",\"y\":0.6446124763705103,\"yanchor\":\"bottom\",\"yref\":\"paper\"},{\"font\":{\"size\":16},\"showarrow\":false,\"text\":\"Equestrian\",\"x\":0.225,\"xanchor\":\"center\",\"xref\":\"paper\",\"y\":0.6001890359168242,\"yanchor\":\"bottom\",\"yref\":\"paper\"},{\"font\":{\"size\":16},\"showarrow\":false,\"text\":\"Fencing\",\"x\":0.775,\"xanchor\":\"center\",\"xref\":\"paper\",\"y\":0.6001890359168242,\"yanchor\":\"bottom\",\"yref\":\"paper\"},{\"font\":{\"size\":16},\"showarrow\":false,\"text\":\"Football\",\"x\":0.225,\"xanchor\":\"center\",\"xref\":\"paper\",\"y\":0.555765595463138,\"yanchor\":\"bottom\",\"yref\":\"paper\"},{\"font\":{\"size\":16},\"showarrow\":false,\"text\":\"Golf\",\"x\":0.775,\"xanchor\":\"center\",\"xref\":\"paper\",\"y\":0.555765595463138,\"yanchor\":\"bottom\",\"yref\":\"paper\"},{\"font\":{\"size\":16},\"showarrow\":false,\"text\":\"Handball\",\"x\":0.225,\"xanchor\":\"center\",\"xref\":\"paper\",\"y\":0.5113421550094518,\"yanchor\":\"bottom\",\"yref\":\"paper\"},{\"font\":{\"size\":16},\"showarrow\":false,\"text\":\"Hockey\",\"x\":0.775,\"xanchor\":\"center\",\"xref\":\"paper\",\"y\":0.5113421550094518,\"yanchor\":\"bottom\",\"yref\":\"paper\"},{\"font\":{\"size\":16},\"showarrow\":false,\"text\":\"Judo\",\"x\":0.225,\"xanchor\":\"center\",\"xref\":\"paper\",\"y\":0.46691871455576556,\"yanchor\":\"bottom\",\"yref\":\"paper\"},{\"font\":{\"size\":16},\"showarrow\":false,\"text\":\"Karate\",\"x\":0.775,\"xanchor\":\"center\",\"xref\":\"paper\",\"y\":0.46691871455576556,\"yanchor\":\"bottom\",\"yref\":\"paper\"},{\"font\":{\"size\":16},\"showarrow\":false,\"text\":\"Marathon Swimming\",\"x\":0.225,\"xanchor\":\"center\",\"xref\":\"paper\",\"y\":0.4224952741020793,\"yanchor\":\"bottom\",\"yref\":\"paper\"},{\"font\":{\"size\":16},\"showarrow\":false,\"text\":\"Modern Pentathlon\",\"x\":0.775,\"xanchor\":\"center\",\"xref\":\"paper\",\"y\":0.4224952741020793,\"yanchor\":\"bottom\",\"yref\":\"paper\"},{\"font\":{\"size\":16},\"showarrow\":false,\"text\":\"Rhythmic Gymnastics\",\"x\":0.225,\"xanchor\":\"center\",\"xref\":\"paper\",\"y\":0.37807183364839314,\"yanchor\":\"bottom\",\"yref\":\"paper\"},{\"font\":{\"size\":16},\"showarrow\":false,\"text\":\"Rowing\",\"x\":0.775,\"xanchor\":\"center\",\"xref\":\"paper\",\"y\":0.37807183364839314,\"yanchor\":\"bottom\",\"yref\":\"paper\"},{\"font\":{\"size\":16},\"showarrow\":false,\"text\":\"Rugby Sevens\",\"x\":0.225,\"xanchor\":\"center\",\"xref\":\"paper\",\"y\":0.33364839319470696,\"yanchor\":\"bottom\",\"yref\":\"paper\"},{\"font\":{\"size\":16},\"showarrow\":false,\"text\":\"Sailing\",\"x\":0.775,\"xanchor\":\"center\",\"xref\":\"paper\",\"y\":0.33364839319470696,\"yanchor\":\"bottom\",\"yref\":\"paper\"},{\"font\":{\"size\":16},\"showarrow\":false,\"text\":\"Shooting\",\"x\":0.225,\"xanchor\":\"center\",\"xref\":\"paper\",\"y\":0.2892249527410208,\"yanchor\":\"bottom\",\"yref\":\"paper\"},{\"font\":{\"size\":16},\"showarrow\":false,\"text\":\"Skateboarding\",\"x\":0.775,\"xanchor\":\"center\",\"xref\":\"paper\",\"y\":0.2892249527410208,\"yanchor\":\"bottom\",\"yref\":\"paper\"},{\"font\":{\"size\":16},\"showarrow\":false,\"text\":\"Sport Climbing\",\"x\":0.225,\"xanchor\":\"center\",\"xref\":\"paper\",\"y\":0.24480151228733457,\"yanchor\":\"bottom\",\"yref\":\"paper\"},{\"font\":{\"size\":16},\"showarrow\":false,\"text\":\"Surfing\",\"x\":0.775,\"xanchor\":\"center\",\"xref\":\"paper\",\"y\":0.24480151228733457,\"yanchor\":\"bottom\",\"yref\":\"paper\"},{\"font\":{\"size\":16},\"showarrow\":false,\"text\":\"Swimming\",\"x\":0.225,\"xanchor\":\"center\",\"xref\":\"paper\",\"y\":0.20037807183364836,\"yanchor\":\"bottom\",\"yref\":\"paper\"},{\"font\":{\"size\":16},\"showarrow\":false,\"text\":\"Table Tennis\",\"x\":0.775,\"xanchor\":\"center\",\"xref\":\"paper\",\"y\":0.20037807183364836,\"yanchor\":\"bottom\",\"yref\":\"paper\"},{\"font\":{\"size\":16},\"showarrow\":false,\"text\":\"Taekwondo\",\"x\":0.225,\"xanchor\":\"center\",\"xref\":\"paper\",\"y\":0.15595463137996218,\"yanchor\":\"bottom\",\"yref\":\"paper\"},{\"font\":{\"size\":16},\"showarrow\":false,\"text\":\"Tennis\",\"x\":0.775,\"xanchor\":\"center\",\"xref\":\"paper\",\"y\":0.15595463137996218,\"yanchor\":\"bottom\",\"yref\":\"paper\"},{\"font\":{\"size\":16},\"showarrow\":false,\"text\":\"Trampoline Gymnastics\",\"x\":0.225,\"xanchor\":\"center\",\"xref\":\"paper\",\"y\":0.11153119092627597,\"yanchor\":\"bottom\",\"yref\":\"paper\"},{\"font\":{\"size\":16},\"showarrow\":false,\"text\":\"Triathlon\",\"x\":0.775,\"xanchor\":\"center\",\"xref\":\"paper\",\"y\":0.11153119092627597,\"yanchor\":\"bottom\",\"yref\":\"paper\"},{\"font\":{\"size\":16},\"showarrow\":false,\"text\":\"Volleyball\",\"x\":0.225,\"xanchor\":\"center\",\"xref\":\"paper\",\"y\":0.06710775047258978,\"yanchor\":\"bottom\",\"yref\":\"paper\"},{\"font\":{\"size\":16},\"showarrow\":false,\"text\":\"Water Polo\",\"x\":0.775,\"xanchor\":\"center\",\"xref\":\"paper\",\"y\":0.06710775047258978,\"yanchor\":\"bottom\",\"yref\":\"paper\"},{\"font\":{\"size\":16},\"showarrow\":false,\"text\":\"Weightlifting\",\"x\":0.225,\"xanchor\":\"center\",\"xref\":\"paper\",\"y\":0.02268431001890359,\"yanchor\":\"bottom\",\"yref\":\"paper\"},{\"font\":{\"size\":16},\"showarrow\":false,\"text\":\"Wrestling\",\"x\":0.775,\"xanchor\":\"center\",\"xref\":\"paper\",\"y\":0.02268431001890359,\"yanchor\":\"bottom\",\"yref\":\"paper\"}],\"height\":10000,\"showlegend\":false,\"template\":{\"data\":{\"barpolar\":[{\"marker\":{\"line\":{\"color\":\"#E5ECF6\",\"width\":0.5},\"pattern\":{\"fillmode\":\"overlay\",\"size\":10,\"solidity\":0.2}},\"type\":\"barpolar\"}],\"bar\":[{\"error_x\":{\"color\":\"#2a3f5f\"},\"error_y\":{\"color\":\"#2a3f5f\"},\"marker\":{\"line\":{\"color\":\"#E5ECF6\",\"width\":0.5},\"pattern\":{\"fillmode\":\"overlay\",\"size\":10,\"solidity\":0.2}},\"type\":\"bar\"}],\"carpet\":[{\"aaxis\":{\"endlinecolor\":\"#2a3f5f\",\"gridcolor\":\"white\",\"linecolor\":\"white\",\"minorgridcolor\":\"white\",\"startlinecolor\":\"#2a3f5f\"},\"baxis\":{\"endlinecolor\":\"#2a3f5f\",\"gridcolor\":\"white\",\"linecolor\":\"white\",\"minorgridcolor\":\"white\",\"startlinecolor\":\"#2a3f5f\"},\"type\":\"carpet\"}],\"choropleth\":[{\"colorbar\":{\"outlinewidth\":0,\"ticks\":\"\"},\"type\":\"choropleth\"}],\"contourcarpet\":[{\"colorbar\":{\"outlinewidth\":0,\"ticks\":\"\"},\"type\":\"contourcarpet\"}],\"contour\":[{\"colorbar\":{\"outlinewidth\":0,\"ticks\":\"\"},\"colorscale\":[[0.0,\"#0d0887\"],[0.1111111111111111,\"#46039f\"],[0.2222222222222222,\"#7201a8\"],[0.3333333333333333,\"#9c179e\"],[0.4444444444444444,\"#bd3786\"],[0.5555555555555556,\"#d8576b\"],[0.6666666666666666,\"#ed7953\"],[0.7777777777777778,\"#fb9f3a\"],[0.8888888888888888,\"#fdca26\"],[1.0,\"#f0f921\"]],\"type\":\"contour\"}],\"heatmapgl\":[{\"colorbar\":{\"outlinewidth\":0,\"ticks\":\"\"},\"colorscale\":[[0.0,\"#0d0887\"],[0.1111111111111111,\"#46039f\"],[0.2222222222222222,\"#7201a8\"],[0.3333333333333333,\"#9c179e\"],[0.4444444444444444,\"#bd3786\"],[0.5555555555555556,\"#d8576b\"],[0.6666666666666666,\"#ed7953\"],[0.7777777777777778,\"#fb9f3a\"],[0.8888888888888888,\"#fdca26\"],[1.0,\"#f0f921\"]],\"type\":\"heatmapgl\"}],\"heatmap\":[{\"colorbar\":{\"outlinewidth\":0,\"ticks\":\"\"},\"colorscale\":[[0.0,\"#0d0887\"],[0.1111111111111111,\"#46039f\"],[0.2222222222222222,\"#7201a8\"],[0.3333333333333333,\"#9c179e\"],[0.4444444444444444,\"#bd3786\"],[0.5555555555555556,\"#d8576b\"],[0.6666666666666666,\"#ed7953\"],[0.7777777777777778,\"#fb9f3a\"],[0.8888888888888888,\"#fdca26\"],[1.0,\"#f0f921\"]],\"type\":\"heatmap\"}],\"histogram2dcontour\":[{\"colorbar\":{\"outlinewidth\":0,\"ticks\":\"\"},\"colorscale\":[[0.0,\"#0d0887\"],[0.1111111111111111,\"#46039f\"],[0.2222222222222222,\"#7201a8\"],[0.3333333333333333,\"#9c179e\"],[0.4444444444444444,\"#bd3786\"],[0.5555555555555556,\"#d8576b\"],[0.6666666666666666,\"#ed7953\"],[0.7777777777777778,\"#fb9f3a\"],[0.8888888888888888,\"#fdca26\"],[1.0,\"#f0f921\"]],\"type\":\"histogram2dcontour\"}],\"histogram2d\":[{\"colorbar\":{\"outlinewidth\":0,\"ticks\":\"\"},\"colorscale\":[[0.0,\"#0d0887\"],[0.1111111111111111,\"#46039f\"],[0.2222222222222222,\"#7201a8\"],[0.3333333333333333,\"#9c179e\"],[0.4444444444444444,\"#bd3786\"],[0.5555555555555556,\"#d8576b\"],[0.6666666666666666,\"#ed7953\"],[0.7777777777777778,\"#fb9f3a\"],[0.8888888888888888,\"#fdca26\"],[1.0,\"#f0f921\"]],\"type\":\"histogram2d\"}],\"histogram\":[{\"marker\":{\"pattern\":{\"fillmode\":\"overlay\",\"size\":10,\"solidity\":0.2}},\"type\":\"histogram\"}],\"mesh3d\":[{\"colorbar\":{\"outlinewidth\":0,\"ticks\":\"\"},\"type\":\"mesh3d\"}],\"parcoords\":[{\"line\":{\"colorbar\":{\"outlinewidth\":0,\"ticks\":\"\"}},\"type\":\"parcoords\"}],\"pie\":[{\"automargin\":true,\"type\":\"pie\"}],\"scatter3d\":[{\"line\":{\"colorbar\":{\"outlinewidth\":0,\"ticks\":\"\"}},\"marker\":{\"colorbar\":{\"outlinewidth\":0,\"ticks\":\"\"}},\"type\":\"scatter3d\"}],\"scattercarpet\":[{\"marker\":{\"colorbar\":{\"outlinewidth\":0,\"ticks\":\"\"}},\"type\":\"scattercarpet\"}],\"scattergeo\":[{\"marker\":{\"colorbar\":{\"outlinewidth\":0,\"ticks\":\"\"}},\"type\":\"scattergeo\"}],\"scattergl\":[{\"marker\":{\"colorbar\":{\"outlinewidth\":0,\"ticks\":\"\"}},\"type\":\"scattergl\"}],\"scattermapbox\":[{\"marker\":{\"colorbar\":{\"outlinewidth\":0,\"ticks\":\"\"}},\"type\":\"scattermapbox\"}],\"scatterpolargl\":[{\"marker\":{\"colorbar\":{\"outlinewidth\":0,\"ticks\":\"\"}},\"type\":\"scatterpolargl\"}],\"scatterpolar\":[{\"marker\":{\"colorbar\":{\"outlinewidth\":0,\"ticks\":\"\"}},\"type\":\"scatterpolar\"}],\"scatter\":[{\"fillpattern\":{\"fillmode\":\"overlay\",\"size\":10,\"solidity\":0.2},\"type\":\"scatter\"}],\"scatterternary\":[{\"marker\":{\"colorbar\":{\"outlinewidth\":0,\"ticks\":\"\"}},\"type\":\"scatterternary\"}],\"surface\":[{\"colorbar\":{\"outlinewidth\":0,\"ticks\":\"\"},\"colorscale\":[[0.0,\"#0d0887\"],[0.1111111111111111,\"#46039f\"],[0.2222222222222222,\"#7201a8\"],[0.3333333333333333,\"#9c179e\"],[0.4444444444444444,\"#bd3786\"],[0.5555555555555556,\"#d8576b\"],[0.6666666666666666,\"#ed7953\"],[0.7777777777777778,\"#fb9f3a\"],[0.8888888888888888,\"#fdca26\"],[1.0,\"#f0f921\"]],\"type\":\"surface\"}],\"table\":[{\"cells\":{\"fill\":{\"color\":\"#EBF0F8\"},\"line\":{\"color\":\"white\"}},\"header\":{\"fill\":{\"color\":\"#C8D4E3\"},\"line\":{\"color\":\"white\"}},\"type\":\"table\"}]},\"layout\":{\"annotationdefaults\":{\"arrowcolor\":\"#2a3f5f\",\"arrowhead\":0,\"arrowwidth\":1},\"autotypenumbers\":\"strict\",\"coloraxis\":{\"colorbar\":{\"outlinewidth\":0,\"ticks\":\"\"}},\"colorscale\":{\"diverging\":[[0,\"#8e0152\"],[0.1,\"#c51b7d\"],[0.2,\"#de77ae\"],[0.3,\"#f1b6da\"],[0.4,\"#fde0ef\"],[0.5,\"#f7f7f7\"],[0.6,\"#e6f5d0\"],[0.7,\"#b8e186\"],[0.8,\"#7fbc41\"],[0.9,\"#4d9221\"],[1,\"#276419\"]],\"sequential\":[[0.0,\"#0d0887\"],[0.1111111111111111,\"#46039f\"],[0.2222222222222222,\"#7201a8\"],[0.3333333333333333,\"#9c179e\"],[0.4444444444444444,\"#bd3786\"],[0.5555555555555556,\"#d8576b\"],[0.6666666666666666,\"#ed7953\"],[0.7777777777777778,\"#fb9f3a\"],[0.8888888888888888,\"#fdca26\"],[1.0,\"#f0f921\"]],\"sequentialminus\":[[0.0,\"#0d0887\"],[0.1111111111111111,\"#46039f\"],[0.2222222222222222,\"#7201a8\"],[0.3333333333333333,\"#9c179e\"],[0.4444444444444444,\"#bd3786\"],[0.5555555555555556,\"#d8576b\"],[0.6666666666666666,\"#ed7953\"],[0.7777777777777778,\"#fb9f3a\"],[0.8888888888888888,\"#fdca26\"],[1.0,\"#f0f921\"]]},\"colorway\":[\"#636efa\",\"#EF553B\",\"#00cc96\",\"#ab63fa\",\"#FFA15A\",\"#19d3f3\",\"#FF6692\",\"#B6E880\",\"#FF97FF\",\"#FECB52\"],\"font\":{\"color\":\"#2a3f5f\"},\"geo\":{\"bgcolor\":\"white\",\"lakecolor\":\"white\",\"landcolor\":\"#E5ECF6\",\"showlakes\":true,\"showland\":true,\"subunitcolor\":\"white\"},\"hoverlabel\":{\"align\":\"left\"},\"hovermode\":\"closest\",\"mapbox\":{\"style\":\"light\"},\"paper_bgcolor\":\"white\",\"plot_bgcolor\":\"#E5ECF6\",\"polar\":{\"angularaxis\":{\"gridcolor\":\"white\",\"linecolor\":\"white\",\"ticks\":\"\"},\"bgcolor\":\"#E5ECF6\",\"radialaxis\":{\"gridcolor\":\"white\",\"linecolor\":\"white\",\"ticks\":\"\"}},\"scene\":{\"xaxis\":{\"backgroundcolor\":\"#E5ECF6\",\"gridcolor\":\"white\",\"gridwidth\":2,\"linecolor\":\"white\",\"showbackground\":true,\"ticks\":\"\",\"zerolinecolor\":\"white\"},\"yaxis\":{\"backgroundcolor\":\"#E5ECF6\",\"gridcolor\":\"white\",\"gridwidth\":2,\"linecolor\":\"white\",\"showbackground\":true,\"ticks\":\"\",\"zerolinecolor\":\"white\"},\"zaxis\":{\"backgroundcolor\":\"#E5ECF6\",\"gridcolor\":\"white\",\"gridwidth\":2,\"linecolor\":\"white\",\"showbackground\":true,\"ticks\":\"\",\"zerolinecolor\":\"white\"}},\"shapedefaults\":{\"line\":{\"color\":\"#2a3f5f\"}},\"ternary\":{\"aaxis\":{\"gridcolor\":\"white\",\"linecolor\":\"white\",\"ticks\":\"\"},\"baxis\":{\"gridcolor\":\"white\",\"linecolor\":\"white\",\"ticks\":\"\"},\"bgcolor\":\"#E5ECF6\",\"caxis\":{\"gridcolor\":\"white\",\"linecolor\":\"white\",\"ticks\":\"\"}},\"title\":{\"x\":0.05},\"xaxis\":{\"automargin\":true,\"gridcolor\":\"white\",\"linecolor\":\"white\",\"ticks\":\"\",\"title\":{\"standoff\":15},\"zerolinecolor\":\"white\",\"zerolinewidth\":2},\"yaxis\":{\"automargin\":true,\"gridcolor\":\"white\",\"linecolor\":\"white\",\"ticks\":\"\",\"title\":{\"standoff\":15},\"zerolinecolor\":\"white\",\"zerolinewidth\":2}}},\"title\":{\"text\":\"Distribution of gender amongst each game\"},\"width\":800},                        {\"responsive\": true}                    ).then(function(){\n",
              "                            \n",
              "var gd = document.getElementById('b666481f-700f-46a7-9252-d3075b51b7f4');\n",
              "var x = new MutationObserver(function (mutations, observer) {{\n",
              "        var display = window.getComputedStyle(gd).display;\n",
              "        if (!display || display === 'none') {{\n",
              "            console.log([gd, 'removed!']);\n",
              "            Plotly.purge(gd);\n",
              "            observer.disconnect();\n",
              "        }}\n",
              "}});\n",
              "\n",
              "// Listen for the removal of the full notebook cells\n",
              "var notebookContainer = gd.closest('#notebook-container');\n",
              "if (notebookContainer) {{\n",
              "    x.observe(notebookContainer, {childList: true});\n",
              "}}\n",
              "\n",
              "// Listen for the clearing of the current output cell\n",
              "var outputEl = gd.closest('.output');\n",
              "if (outputEl) {{\n",
              "    x.observe(outputEl, {childList: true});\n",
              "}}\n",
              "\n",
              "                        })                };                            </script>        </div>\n",
              "</body>\n",
              "</html>"
            ]
          },
          "metadata": {}
        }
      ]
    },
    {
      "cell_type": "code",
      "source": [],
      "metadata": {
        "id": "qvD9LeDb4koJ"
      },
      "execution_count": 26,
      "outputs": []
    },
    {
      "cell_type": "code",
      "source": [
        "teams.head()"
      ],
      "metadata": {
        "id": "VgqzwgIs-46J",
        "colab": {
          "base_uri": "https://localhost:8080/",
          "height": 206
        },
        "outputId": "3cdbcf18-4100-4d3f-d7f9-8caf3d00fa78"
      },
      "execution_count": 27,
      "outputs": [
        {
          "output_type": "execute_result",
          "data": {
            "text/plain": [
              "      Name      Discipline                         NOC  Event\n",
              "0  Belgium  3x3 Basketball                     Belgium    Men\n",
              "1    China  3x3 Basketball  People's Republic of China    Men\n",
              "2    China  3x3 Basketball  People's Republic of China  Women\n",
              "3   France  3x3 Basketball                      France  Women\n",
              "4    Italy  3x3 Basketball                       Italy  Women"
            ],
            "text/html": [
              "\n",
              "  <div id=\"df-ab3b5ecf-fb8f-49d6-833f-1725959fc37e\">\n",
              "    <div class=\"colab-df-container\">\n",
              "      <div>\n",
              "<style scoped>\n",
              "    .dataframe tbody tr th:only-of-type {\n",
              "        vertical-align: middle;\n",
              "    }\n",
              "\n",
              "    .dataframe tbody tr th {\n",
              "        vertical-align: top;\n",
              "    }\n",
              "\n",
              "    .dataframe thead th {\n",
              "        text-align: right;\n",
              "    }\n",
              "</style>\n",
              "<table border=\"1\" class=\"dataframe\">\n",
              "  <thead>\n",
              "    <tr style=\"text-align: right;\">\n",
              "      <th></th>\n",
              "      <th>Name</th>\n",
              "      <th>Discipline</th>\n",
              "      <th>NOC</th>\n",
              "      <th>Event</th>\n",
              "    </tr>\n",
              "  </thead>\n",
              "  <tbody>\n",
              "    <tr>\n",
              "      <th>0</th>\n",
              "      <td>Belgium</td>\n",
              "      <td>3x3 Basketball</td>\n",
              "      <td>Belgium</td>\n",
              "      <td>Men</td>\n",
              "    </tr>\n",
              "    <tr>\n",
              "      <th>1</th>\n",
              "      <td>China</td>\n",
              "      <td>3x3 Basketball</td>\n",
              "      <td>People's Republic of China</td>\n",
              "      <td>Men</td>\n",
              "    </tr>\n",
              "    <tr>\n",
              "      <th>2</th>\n",
              "      <td>China</td>\n",
              "      <td>3x3 Basketball</td>\n",
              "      <td>People's Republic of China</td>\n",
              "      <td>Women</td>\n",
              "    </tr>\n",
              "    <tr>\n",
              "      <th>3</th>\n",
              "      <td>France</td>\n",
              "      <td>3x3 Basketball</td>\n",
              "      <td>France</td>\n",
              "      <td>Women</td>\n",
              "    </tr>\n",
              "    <tr>\n",
              "      <th>4</th>\n",
              "      <td>Italy</td>\n",
              "      <td>3x3 Basketball</td>\n",
              "      <td>Italy</td>\n",
              "      <td>Women</td>\n",
              "    </tr>\n",
              "  </tbody>\n",
              "</table>\n",
              "</div>\n",
              "      <button class=\"colab-df-convert\" onclick=\"convertToInteractive('df-ab3b5ecf-fb8f-49d6-833f-1725959fc37e')\"\n",
              "              title=\"Convert this dataframe to an interactive table.\"\n",
              "              style=\"display:none;\">\n",
              "        \n",
              "  <svg xmlns=\"http://www.w3.org/2000/svg\" height=\"24px\"viewBox=\"0 0 24 24\"\n",
              "       width=\"24px\">\n",
              "    <path d=\"M0 0h24v24H0V0z\" fill=\"none\"/>\n",
              "    <path d=\"M18.56 5.44l.94 2.06.94-2.06 2.06-.94-2.06-.94-.94-2.06-.94 2.06-2.06.94zm-11 1L8.5 8.5l.94-2.06 2.06-.94-2.06-.94L8.5 2.5l-.94 2.06-2.06.94zm10 10l.94 2.06.94-2.06 2.06-.94-2.06-.94-.94-2.06-.94 2.06-2.06.94z\"/><path d=\"M17.41 7.96l-1.37-1.37c-.4-.4-.92-.59-1.43-.59-.52 0-1.04.2-1.43.59L10.3 9.45l-7.72 7.72c-.78.78-.78 2.05 0 2.83L4 21.41c.39.39.9.59 1.41.59.51 0 1.02-.2 1.41-.59l7.78-7.78 2.81-2.81c.8-.78.8-2.07 0-2.86zM5.41 20L4 18.59l7.72-7.72 1.47 1.35L5.41 20z\"/>\n",
              "  </svg>\n",
              "      </button>\n",
              "      \n",
              "  <style>\n",
              "    .colab-df-container {\n",
              "      display:flex;\n",
              "      flex-wrap:wrap;\n",
              "      gap: 12px;\n",
              "    }\n",
              "\n",
              "    .colab-df-convert {\n",
              "      background-color: #E8F0FE;\n",
              "      border: none;\n",
              "      border-radius: 50%;\n",
              "      cursor: pointer;\n",
              "      display: none;\n",
              "      fill: #1967D2;\n",
              "      height: 32px;\n",
              "      padding: 0 0 0 0;\n",
              "      width: 32px;\n",
              "    }\n",
              "\n",
              "    .colab-df-convert:hover {\n",
              "      background-color: #E2EBFA;\n",
              "      box-shadow: 0px 1px 2px rgba(60, 64, 67, 0.3), 0px 1px 3px 1px rgba(60, 64, 67, 0.15);\n",
              "      fill: #174EA6;\n",
              "    }\n",
              "\n",
              "    [theme=dark] .colab-df-convert {\n",
              "      background-color: #3B4455;\n",
              "      fill: #D2E3FC;\n",
              "    }\n",
              "\n",
              "    [theme=dark] .colab-df-convert:hover {\n",
              "      background-color: #434B5C;\n",
              "      box-shadow: 0px 1px 3px 1px rgba(0, 0, 0, 0.15);\n",
              "      filter: drop-shadow(0px 1px 2px rgba(0, 0, 0, 0.3));\n",
              "      fill: #FFFFFF;\n",
              "    }\n",
              "  </style>\n",
              "\n",
              "      <script>\n",
              "        const buttonEl =\n",
              "          document.querySelector('#df-ab3b5ecf-fb8f-49d6-833f-1725959fc37e button.colab-df-convert');\n",
              "        buttonEl.style.display =\n",
              "          google.colab.kernel.accessAllowed ? 'block' : 'none';\n",
              "\n",
              "        async function convertToInteractive(key) {\n",
              "          const element = document.querySelector('#df-ab3b5ecf-fb8f-49d6-833f-1725959fc37e');\n",
              "          const dataTable =\n",
              "            await google.colab.kernel.invokeFunction('convertToInteractive',\n",
              "                                                     [key], {});\n",
              "          if (!dataTable) return;\n",
              "\n",
              "          const docLinkHtml = 'Like what you see? Visit the ' +\n",
              "            '<a target=\"_blank\" href=https://colab.research.google.com/notebooks/data_table.ipynb>data table notebook</a>'\n",
              "            + ' to learn more about interactive tables.';\n",
              "          element.innerHTML = '';\n",
              "          dataTable['output_type'] = 'display_data';\n",
              "          await google.colab.output.renderOutput(dataTable, element);\n",
              "          const docLink = document.createElement('div');\n",
              "          docLink.innerHTML = docLinkHtml;\n",
              "          element.appendChild(docLink);\n",
              "        }\n",
              "      </script>\n",
              "    </div>\n",
              "  </div>\n",
              "  "
            ]
          },
          "metadata": {},
          "execution_count": 27
        }
      ]
    },
    {
      "cell_type": "code",
      "source": [
        "import seaborn as sns"
      ],
      "metadata": {
        "id": "F7vKSKiy_csA"
      },
      "execution_count": 28,
      "outputs": []
    },
    {
      "cell_type": "code",
      "source": [],
      "metadata": {
        "id": "UJB1U-OL_Pkc"
      },
      "execution_count": 28,
      "outputs": []
    },
    {
      "cell_type": "code",
      "source": [
        "new_teams = teams.loc[teams[\"Discipline\"].isin([\"Swimming\", \"Athletes\", \"Cycling Track\", \"Archery\", \"Fencing\"])]"
      ],
      "metadata": {
        "id": "JvSMnKuK_09C"
      },
      "execution_count": 29,
      "outputs": []
    },
    {
      "cell_type": "code",
      "source": [
        "new_teams['Discipline'].value_counts().plot(kind='bar')"
      ],
      "metadata": {
        "id": "WcfTUTo4AVML",
        "colab": {
          "base_uri": "https://localhost:8080/",
          "height": 525
        },
        "outputId": "a43cfad7-96ce-47fc-840c-3cf889b1dc42"
      },
      "execution_count": 30,
      "outputs": [
        {
          "output_type": "execute_result",
          "data": {
            "text/plain": [
              "<Axes: >"
            ]
          },
          "metadata": {},
          "execution_count": 30
        },
        {
          "output_type": "display_data",
          "data": {
            "text/plain": [
              "<Figure size 640x480 with 1 Axes>"
            ],
            "image/png": "[encoded data removed]"
          },
          "metadata": {}
        }
      ]
    }
  ]
}