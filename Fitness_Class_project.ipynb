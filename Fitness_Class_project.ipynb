{
  "nbformat": 4,
  "nbformat_minor": 0,
  "metadata": {
    "colab": {
      "provenance": []
    },
    "kernelspec": {
      "name": "python3",
      "display_name": "Python 3"
    },
    "language_info": {
      "name": "python"
    }
  },
  "cells": [
    {
      "cell_type": "markdown",
      "source": [
        "# Fitness Class EDA"
      ],
      "metadata": {
        "id": "LwRA86YcDbf3"
      }
    },
    {
      "cell_type": "markdown",
      "source": [
        "#### Import the dataset and the necessecary Packages"
      ],
      "metadata": {
        "id": "D1cmXTo_DwwN"
      }
    },
    {
      "cell_type": "code",
      "source": [
        "import pandas as pd\n",
        "import numpy as np\n",
        "import seaborn as sns\n",
        "import matplotlib.pyplot as plt\n",
        "import missingno as msno"
      ],
      "metadata": {
        "id": "x-UUh8JDDvXS"
      },
      "execution_count": 4,
      "outputs": []
    },
    {
      "cell_type": "code",
      "source": [
        "df = pd.read_csv('fitness_class_data.csv')\n",
        "df.head(5)"
      ],
      "metadata": {
        "colab": {
          "base_uri": "https://localhost:8080/",
          "height": 206
        },
        "id": "o1maWw9zD-qj",
        "outputId": "501def84-95fd-46b7-bd7b-8904534c7c4c"
      },
      "execution_count": 5,
      "outputs": [
        {
          "output_type": "execute_result",
          "data": {
            "text/plain": [
              "   booking_id  months_as_member  weight days_before day_of_week time  \\\n",
              "0           1                17   79.56           8         Wed   PM   \n",
              "1           2                10   79.01           2         Mon   AM   \n",
              "2           3                16   74.53          14         Sun   AM   \n",
              "3           4                 5   86.12          10         Fri   AM   \n",
              "4           5                15   69.29           8         Thu   AM   \n",
              "\n",
              "   category  attended  \n",
              "0  Strength         0  \n",
              "1      HIIT         0  \n",
              "2  Strength         0  \n",
              "3   Cycling         0  \n",
              "4      HIIT         0  "
            ],
            "text/html": [
              "\n",
              "  <div id=\"df-e8ee0204-bf98-4712-82ee-b7e3e5d23afa\">\n",
              "    <div class=\"colab-df-container\">\n",
              "      <div>\n",
              "<style scoped>\n",
              "    .dataframe tbody tr th:only-of-type {\n",
              "        vertical-align: middle;\n",
              "    }\n",
              "\n",
              "    .dataframe tbody tr th {\n",
              "        vertical-align: top;\n",
              "    }\n",
              "\n",
              "    .dataframe thead th {\n",
              "        text-align: right;\n",
              "    }\n",
              "</style>\n",
              "<table border=\"1\" class=\"dataframe\">\n",
              "  <thead>\n",
              "    <tr style=\"text-align: right;\">\n",
              "      <th></th>\n",
              "      <th>booking_id</th>\n",
              "      <th>months_as_member</th>\n",
              "      <th>weight</th>\n",
              "      <th>days_before</th>\n",
              "      <th>day_of_week</th>\n",
              "      <th>time</th>\n",
              "      <th>category</th>\n",
              "      <th>attended</th>\n",
              "    </tr>\n",
              "  </thead>\n",
              "  <tbody>\n",
              "    <tr>\n",
              "      <th>0</th>\n",
              "      <td>1</td>\n",
              "      <td>17</td>\n",
              "      <td>79.56</td>\n",
              "      <td>8</td>\n",
              "      <td>Wed</td>\n",
              "      <td>PM</td>\n",
              "      <td>Strength</td>\n",
              "      <td>0</td>\n",
              "    </tr>\n",
              "    <tr>\n",
              "      <th>1</th>\n",
              "      <td>2</td>\n",
              "      <td>10</td>\n",
              "      <td>79.01</td>\n",
              "      <td>2</td>\n",
              "      <td>Mon</td>\n",
              "      <td>AM</td>\n",
              "      <td>HIIT</td>\n",
              "      <td>0</td>\n",
              "    </tr>\n",
              "    <tr>\n",
              "      <th>2</th>\n",
              "      <td>3</td>\n",
              "      <td>16</td>\n",
              "      <td>74.53</td>\n",
              "      <td>14</td>\n",
              "      <td>Sun</td>\n",
              "      <td>AM</td>\n",
              "      <td>Strength</td>\n",
              "      <td>0</td>\n",
              "    </tr>\n",
              "    <tr>\n",
              "      <th>3</th>\n",
              "      <td>4</td>\n",
              "      <td>5</td>\n",
              "      <td>86.12</td>\n",
              "      <td>10</td>\n",
              "      <td>Fri</td>\n",
              "      <td>AM</td>\n",
              "      <td>Cycling</td>\n",
              "      <td>0</td>\n",
              "    </tr>\n",
              "    <tr>\n",
              "      <th>4</th>\n",
              "      <td>5</td>\n",
              "      <td>15</td>\n",
              "      <td>69.29</td>\n",
              "      <td>8</td>\n",
              "      <td>Thu</td>\n",
              "      <td>AM</td>\n",
              "      <td>HIIT</td>\n",
              "      <td>0</td>\n",
              "    </tr>\n",
              "  </tbody>\n",
              "</table>\n",
              "</div>\n",
              "      <button class=\"colab-df-convert\" onclick=\"convertToInteractive('df-e8ee0204-bf98-4712-82ee-b7e3e5d23afa')\"\n",
              "              title=\"Convert this dataframe to an interactive table.\"\n",
              "              style=\"display:none;\">\n",
              "        \n",
              "  <svg xmlns=\"http://www.w3.org/2000/svg\" height=\"24px\"viewBox=\"0 0 24 24\"\n",
              "       width=\"24px\">\n",
              "    <path d=\"M0 0h24v24H0V0z\" fill=\"none\"/>\n",
              "    <path d=\"M18.56 5.44l.94 2.06.94-2.06 2.06-.94-2.06-.94-.94-2.06-.94 2.06-2.06.94zm-11 1L8.5 8.5l.94-2.06 2.06-.94-2.06-.94L8.5 2.5l-.94 2.06-2.06.94zm10 10l.94 2.06.94-2.06 2.06-.94-2.06-.94-.94-2.06-.94 2.06-2.06.94z\"/><path d=\"M17.41 7.96l-1.37-1.37c-.4-.4-.92-.59-1.43-.59-.52 0-1.04.2-1.43.59L10.3 9.45l-7.72 7.72c-.78.78-.78 2.05 0 2.83L4 21.41c.39.39.9.59 1.41.59.51 0 1.02-.2 1.41-.59l7.78-7.78 2.81-2.81c.8-.78.8-2.07 0-2.86zM5.41 20L4 18.59l7.72-7.72 1.47 1.35L5.41 20z\"/>\n",
              "  </svg>\n",
              "      </button>\n",
              "      \n",
              "  <style>\n",
              "    .colab-df-container {\n",
              "      display:flex;\n",
              "      flex-wrap:wrap;\n",
              "      gap: 12px;\n",
              "    }\n",
              "\n",
              "    .colab-df-convert {\n",
              "      background-color: #E8F0FE;\n",
              "      border: none;\n",
              "      border-radius: 50%;\n",
              "      cursor: pointer;\n",
              "      display: none;\n",
              "      fill: #1967D2;\n",
              "      height: 32px;\n",
              "      padding: 0 0 0 0;\n",
              "      width: 32px;\n",
              "    }\n",
              "\n",
              "    .colab-df-convert:hover {\n",
              "      background-color: #E2EBFA;\n",
              "      box-shadow: 0px 1px 2px rgba(60, 64, 67, 0.3), 0px 1px 3px 1px rgba(60, 64, 67, 0.15);\n",
              "      fill: #174EA6;\n",
              "    }\n",
              "\n",
              "    [theme=dark] .colab-df-convert {\n",
              "      background-color: #3B4455;\n",
              "      fill: #D2E3FC;\n",
              "    }\n",
              "\n",
              "    [theme=dark] .colab-df-convert:hover {\n",
              "      background-color: #434B5C;\n",
              "      box-shadow: 0px 1px 3px 1px rgba(0, 0, 0, 0.15);\n",
              "      filter: drop-shadow(0px 1px 2px rgba(0, 0, 0, 0.3));\n",
              "      fill: #FFFFFF;\n",
              "    }\n",
              "  </style>\n",
              "\n",
              "      <script>\n",
              "        const buttonEl =\n",
              "          document.querySelector('#df-e8ee0204-bf98-4712-82ee-b7e3e5d23afa button.colab-df-convert');\n",
              "        buttonEl.style.display =\n",
              "          google.colab.kernel.accessAllowed ? 'block' : 'none';\n",
              "\n",
              "        async function convertToInteractive(key) {\n",
              "          const element = document.querySelector('#df-e8ee0204-bf98-4712-82ee-b7e3e5d23afa');\n",
              "          const dataTable =\n",
              "            await google.colab.kernel.invokeFunction('convertToInteractive',\n",
              "                                                     [key], {});\n",
              "          if (!dataTable) return;\n",
              "\n",
              "          const docLinkHtml = 'Like what you see? Visit the ' +\n",
              "            '<a target=\"_blank\" href=https://colab.research.google.com/notebooks/data_table.ipynb>data table notebook</a>'\n",
              "            + ' to learn more about interactive tables.';\n",
              "          element.innerHTML = '';\n",
              "          dataTable['output_type'] = 'display_data';\n",
              "          await google.colab.output.renderOutput(dataTable, element);\n",
              "          const docLink = document.createElement('div');\n",
              "          docLink.innerHTML = docLinkHtml;\n",
              "          element.appendChild(docLink);\n",
              "        }\n",
              "      </script>\n",
              "    </div>\n",
              "  </div>\n",
              "  "
            ]
          },
          "metadata": {},
          "execution_count": 5
        }
      ]
    },
    {
      "cell_type": "code",
      "source": [
        "df.shape"
      ],
      "metadata": {
        "colab": {
          "base_uri": "https://localhost:8080/"
        },
        "id": "79T1_txoHZ49",
        "outputId": "ab8fb83a-ef22-4ab7-ee15-073da956fe8e"
      },
      "execution_count": 6,
      "outputs": [
        {
          "output_type": "execute_result",
          "data": {
            "text/plain": [
              "(1500, 8)"
            ]
          },
          "metadata": {},
          "execution_count": 6
        }
      ]
    },
    {
      "cell_type": "code",
      "source": [
        "df.dtypes\n",
        "# \"days_before\" column needs to be changed to integer instead of object"
      ],
      "metadata": {
        "colab": {
          "base_uri": "https://localhost:8080/"
        },
        "id": "W3hCe8XfETat",
        "outputId": "495aa7d1-424d-43f9-f14a-01bfb71142d8"
      },
      "execution_count": 7,
      "outputs": [
        {
          "output_type": "execute_result",
          "data": {
            "text/plain": [
              "booking_id            int64\n",
              "months_as_member      int64\n",
              "weight              float64\n",
              "days_before          object\n",
              "day_of_week          object\n",
              "time                 object\n",
              "category             object\n",
              "attended              int64\n",
              "dtype: object"
            ]
          },
          "metadata": {},
          "execution_count": 7
        }
      ]
    },
    {
      "cell_type": "code",
      "source": [
        "df.info()\n",
        "# \"weight\" column has 20 missing values that need to be replaced with the meann value"
      ],
      "metadata": {
        "colab": {
          "base_uri": "https://localhost:8080/"
        },
        "id": "JmNMMs5xEWWM",
        "outputId": "85bbf68a-9cd2-494f-b8b1-0dd4c8762349"
      },
      "execution_count": 8,
      "outputs": [
        {
          "output_type": "stream",
          "name": "stdout",
          "text": [
            "<class 'pandas.core.frame.DataFrame'>\n",
            "RangeIndex: 1500 entries, 0 to 1499\n",
            "Data columns (total 8 columns):\n",
            " #   Column            Non-Null Count  Dtype  \n",
            "---  ------            --------------  -----  \n",
            " 0   booking_id        1500 non-null   int64  \n",
            " 1   months_as_member  1500 non-null   int64  \n",
            " 2   weight            1480 non-null   float64\n",
            " 3   days_before       1500 non-null   object \n",
            " 4   day_of_week       1500 non-null   object \n",
            " 5   time              1500 non-null   object \n",
            " 6   category          1500 non-null   object \n",
            " 7   attended          1500 non-null   int64  \n",
            "dtypes: float64(1), int64(3), object(4)\n",
            "memory usage: 93.9+ KB\n"
          ]
        }
      ]
    },
    {
      "cell_type": "code",
      "source": [
        "df.describe()"
      ],
      "metadata": {
        "colab": {
          "base_uri": "https://localhost:8080/",
          "height": 300
        },
        "id": "LWRiDwxPF72M",
        "outputId": "05975fcf-9a52-4f31-f4b4-398463d02f9f"
      },
      "execution_count": 9,
      "outputs": [
        {
          "output_type": "execute_result",
          "data": {
            "text/plain": [
              "        booking_id  months_as_member       weight     attended\n",
              "count  1500.000000       1500.000000  1480.000000  1500.000000\n",
              "mean    750.500000         15.628667    82.610378     0.302667\n",
              "std     433.157015         12.926543    12.765859     0.459565\n",
              "min       1.000000          1.000000    55.410000     0.000000\n",
              "25%     375.750000          8.000000    73.490000     0.000000\n",
              "50%     750.500000         12.000000    80.760000     0.000000\n",
              "75%    1125.250000         19.000000    89.520000     1.000000\n",
              "max    1500.000000        148.000000   170.520000     1.000000"
            ],
            "text/html": [
              "\n",
              "  <div id=\"df-1bf7547f-90b8-4c32-96b7-543d68254b7f\">\n",
              "    <div class=\"colab-df-container\">\n",
              "      <div>\n",
              "<style scoped>\n",
              "    .dataframe tbody tr th:only-of-type {\n",
              "        vertical-align: middle;\n",
              "    }\n",
              "\n",
              "    .dataframe tbody tr th {\n",
              "        vertical-align: top;\n",
              "    }\n",
              "\n",
              "    .dataframe thead th {\n",
              "        text-align: right;\n",
              "    }\n",
              "</style>\n",
              "<table border=\"1\" class=\"dataframe\">\n",
              "  <thead>\n",
              "    <tr style=\"text-align: right;\">\n",
              "      <th></th>\n",
              "      <th>booking_id</th>\n",
              "      <th>months_as_member</th>\n",
              "      <th>weight</th>\n",
              "      <th>attended</th>\n",
              "    </tr>\n",
              "  </thead>\n",
              "  <tbody>\n",
              "    <tr>\n",
              "      <th>count</th>\n",
              "      <td>1500.000000</td>\n",
              "      <td>1500.000000</td>\n",
              "      <td>1480.000000</td>\n",
              "      <td>1500.000000</td>\n",
              "    </tr>\n",
              "    <tr>\n",
              "      <th>mean</th>\n",
              "      <td>750.500000</td>\n",
              "      <td>15.628667</td>\n",
              "      <td>82.610378</td>\n",
              "      <td>0.302667</td>\n",
              "    </tr>\n",
              "    <tr>\n",
              "      <th>std</th>\n",
              "      <td>433.157015</td>\n",
              "      <td>12.926543</td>\n",
              "      <td>12.765859</td>\n",
              "      <td>0.459565</td>\n",
              "    </tr>\n",
              "    <tr>\n",
              "      <th>min</th>\n",
              "      <td>1.000000</td>\n",
              "      <td>1.000000</td>\n",
              "      <td>55.410000</td>\n",
              "      <td>0.000000</td>\n",
              "    </tr>\n",
              "    <tr>\n",
              "      <th>25%</th>\n",
              "      <td>375.750000</td>\n",
              "      <td>8.000000</td>\n",
              "      <td>73.490000</td>\n",
              "      <td>0.000000</td>\n",
              "    </tr>\n",
              "    <tr>\n",
              "      <th>50%</th>\n",
              "      <td>750.500000</td>\n",
              "      <td>12.000000</td>\n",
              "      <td>80.760000</td>\n",
              "      <td>0.000000</td>\n",
              "    </tr>\n",
              "    <tr>\n",
              "      <th>75%</th>\n",
              "      <td>1125.250000</td>\n",
              "      <td>19.000000</td>\n",
              "      <td>89.520000</td>\n",
              "      <td>1.000000</td>\n",
              "    </tr>\n",
              "    <tr>\n",
              "      <th>max</th>\n",
              "      <td>1500.000000</td>\n",
              "      <td>148.000000</td>\n",
              "      <td>170.520000</td>\n",
              "      <td>1.000000</td>\n",
              "    </tr>\n",
              "  </tbody>\n",
              "</table>\n",
              "</div>\n",
              "      <button class=\"colab-df-convert\" onclick=\"convertToInteractive('df-1bf7547f-90b8-4c32-96b7-543d68254b7f')\"\n",
              "              title=\"Convert this dataframe to an interactive table.\"\n",
              "              style=\"display:none;\">\n",
              "        \n",
              "  <svg xmlns=\"http://www.w3.org/2000/svg\" height=\"24px\"viewBox=\"0 0 24 24\"\n",
              "       width=\"24px\">\n",
              "    <path d=\"M0 0h24v24H0V0z\" fill=\"none\"/>\n",
              "    <path d=\"M18.56 5.44l.94 2.06.94-2.06 2.06-.94-2.06-.94-.94-2.06-.94 2.06-2.06.94zm-11 1L8.5 8.5l.94-2.06 2.06-.94-2.06-.94L8.5 2.5l-.94 2.06-2.06.94zm10 10l.94 2.06.94-2.06 2.06-.94-2.06-.94-.94-2.06-.94 2.06-2.06.94z\"/><path d=\"M17.41 7.96l-1.37-1.37c-.4-.4-.92-.59-1.43-.59-.52 0-1.04.2-1.43.59L10.3 9.45l-7.72 7.72c-.78.78-.78 2.05 0 2.83L4 21.41c.39.39.9.59 1.41.59.51 0 1.02-.2 1.41-.59l7.78-7.78 2.81-2.81c.8-.78.8-2.07 0-2.86zM5.41 20L4 18.59l7.72-7.72 1.47 1.35L5.41 20z\"/>\n",
              "  </svg>\n",
              "      </button>\n",
              "      \n",
              "  <style>\n",
              "    .colab-df-container {\n",
              "      display:flex;\n",
              "      flex-wrap:wrap;\n",
              "      gap: 12px;\n",
              "    }\n",
              "\n",
              "    .colab-df-convert {\n",
              "      background-color: #E8F0FE;\n",
              "      border: none;\n",
              "      border-radius: 50%;\n",
              "      cursor: pointer;\n",
              "      display: none;\n",
              "      fill: #1967D2;\n",
              "      height: 32px;\n",
              "      padding: 0 0 0 0;\n",
              "      width: 32px;\n",
              "    }\n",
              "\n",
              "    .colab-df-convert:hover {\n",
              "      background-color: #E2EBFA;\n",
              "      box-shadow: 0px 1px 2px rgba(60, 64, 67, 0.3), 0px 1px 3px 1px rgba(60, 64, 67, 0.15);\n",
              "      fill: #174EA6;\n",
              "    }\n",
              "\n",
              "    [theme=dark] .colab-df-convert {\n",
              "      background-color: #3B4455;\n",
              "      fill: #D2E3FC;\n",
              "    }\n",
              "\n",
              "    [theme=dark] .colab-df-convert:hover {\n",
              "      background-color: #434B5C;\n",
              "      box-shadow: 0px 1px 3px 1px rgba(0, 0, 0, 0.15);\n",
              "      filter: drop-shadow(0px 1px 2px rgba(0, 0, 0, 0.3));\n",
              "      fill: #FFFFFF;\n",
              "    }\n",
              "  </style>\n",
              "\n",
              "      <script>\n",
              "        const buttonEl =\n",
              "          document.querySelector('#df-1bf7547f-90b8-4c32-96b7-543d68254b7f button.colab-df-convert');\n",
              "        buttonEl.style.display =\n",
              "          google.colab.kernel.accessAllowed ? 'block' : 'none';\n",
              "\n",
              "        async function convertToInteractive(key) {\n",
              "          const element = document.querySelector('#df-1bf7547f-90b8-4c32-96b7-543d68254b7f');\n",
              "          const dataTable =\n",
              "            await google.colab.kernel.invokeFunction('convertToInteractive',\n",
              "                                                     [key], {});\n",
              "          if (!dataTable) return;\n",
              "\n",
              "          const docLinkHtml = 'Like what you see? Visit the ' +\n",
              "            '<a target=\"_blank\" href=https://colab.research.google.com/notebooks/data_table.ipynb>data table notebook</a>'\n",
              "            + ' to learn more about interactive tables.';\n",
              "          element.innerHTML = '';\n",
              "          dataTable['output_type'] = 'display_data';\n",
              "          await google.colab.output.renderOutput(dataTable, element);\n",
              "          const docLink = document.createElement('div');\n",
              "          docLink.innerHTML = docLinkHtml;\n",
              "          element.appendChild(docLink);\n",
              "        }\n",
              "      </script>\n",
              "    </div>\n",
              "  </div>\n",
              "  "
            ]
          },
          "metadata": {},
          "execution_count": 9
        }
      ]
    },
    {
      "cell_type": "code",
      "source": [
        "msno.matrix(df)\n",
        "plt.show()"
      ],
      "metadata": {
        "colab": {
          "base_uri": "https://localhost:8080/",
          "height": 576
        },
        "id": "Kj_Pc2auFLds",
        "outputId": "2e53964f-2d53-4de1-fcce-71ed77debc92"
      },
      "execution_count": 10,
      "outputs": [
        {
          "output_type": "display_data",
          "data": {
            "text/plain": [
              "<Figure size 2500x1000 with 2 Axes>"
            ],
            "image/png": "[encoded data removed]"
          },
          "metadata": {}
        }
      ]
    },
    {
      "cell_type": "code",
      "source": [
        "df.isnull().sum().sort_values()"
      ],
      "metadata": {
        "colab": {
          "base_uri": "https://localhost:8080/"
        },
        "id": "PdxqgNTdElu8",
        "outputId": "546a3ee9-476c-4e2e-db31-1b3e2cdbe519"
      },
      "execution_count": 11,
      "outputs": [
        {
          "output_type": "execute_result",
          "data": {
            "text/plain": [
              "booking_id           0\n",
              "months_as_member     0\n",
              "days_before          0\n",
              "day_of_week          0\n",
              "time                 0\n",
              "category             0\n",
              "attended             0\n",
              "weight              20\n",
              "dtype: int64"
            ]
          },
          "metadata": {},
          "execution_count": 11
        }
      ]
    },
    {
      "cell_type": "code",
      "source": [
        "df[\"months_as_member\"].unique()\n",
        "# no missing data no reformating needed"
      ],
      "metadata": {
        "colab": {
          "base_uri": "https://localhost:8080/"
        },
        "id": "ZdMjq6jCFVFj",
        "outputId": "f872858f-3b90-4cc2-d2da-a59cfab7021d"
      },
      "execution_count": 12,
      "outputs": [
        {
          "output_type": "execute_result",
          "data": {
            "text/plain": [
              "array([ 17,  10,  16,   5,  15,   7,  11,   9,  23,  13,   8,  22,   6,\n",
              "        33,  24,  14,   2,  12,  26,  28,  27,   1,   3,  21,  18,  19,\n",
              "        53,  20,  34,  25,  32,  73,  55,   4,  35,  54,  76,  62,  42,\n",
              "       105,  90,  29,  60,  30, 107,  52,  37,  38,  48,  51,  40,  89,\n",
              "        57,  36,  44,  39,  41,  47,  58,  66,  45,  43,  61,  50,  65,\n",
              "        31,  97,  59,  93, 148, 111,  69])"
            ]
          },
          "metadata": {},
          "execution_count": 12
        }
      ]
    },
    {
      "cell_type": "code",
      "source": [
        "df['category'].unique()\n",
        "# '-' represents missing data and needs to be replaced with 'unknown'"
      ],
      "metadata": {
        "colab": {
          "base_uri": "https://localhost:8080/"
        },
        "id": "0lwH4-V4FY9M",
        "outputId": "f25e2f30-6697-41bc-9152-c94625c9213c"
      },
      "execution_count": 13,
      "outputs": [
        {
          "output_type": "execute_result",
          "data": {
            "text/plain": [
              "array(['Strength', 'HIIT', 'Cycling', 'Yoga', '-', 'Aqua'], dtype=object)"
            ]
          },
          "metadata": {},
          "execution_count": 13
        }
      ]
    },
    {
      "cell_type": "code",
      "source": [
        "df['day_of_week'].unique()\n",
        "# values need to be corrected to fit the described format"
      ],
      "metadata": {
        "colab": {
          "base_uri": "https://localhost:8080/"
        },
        "id": "enZl2BTTFvTM",
        "outputId": "8700cdfd-795c-4586-ba37-472fb9a36766"
      },
      "execution_count": 14,
      "outputs": [
        {
          "output_type": "execute_result",
          "data": {
            "text/plain": [
              "array(['Wed', 'Mon', 'Sun', 'Fri', 'Thu', 'Wednesday', 'Fri.', 'Tue',\n",
              "       'Sat', 'Monday'], dtype=object)"
            ]
          },
          "metadata": {},
          "execution_count": 14
        }
      ]
    },
    {
      "cell_type": "code",
      "source": [
        "df[\"attended\"].value_counts(normalize=True)\n",
        "# no missing data"
      ],
      "metadata": {
        "colab": {
          "base_uri": "https://localhost:8080/"
        },
        "id": "j4-aiIn8GIkM",
        "outputId": "27ff3719-7ff9-409b-c6c9-07b853d572f3"
      },
      "execution_count": 15,
      "outputs": [
        {
          "output_type": "execute_result",
          "data": {
            "text/plain": [
              "0    0.697333\n",
              "1    0.302667\n",
              "Name: attended, dtype: float64"
            ]
          },
          "metadata": {},
          "execution_count": 15
        }
      ]
    },
    {
      "cell_type": "code",
      "source": [
        "df['booking_id'].duplicated().value_counts()\n",
        "# all values are unique() + no missing data()"
      ],
      "metadata": {
        "colab": {
          "base_uri": "https://localhost:8080/"
        },
        "id": "eZyMpT63GWdM",
        "outputId": "a8ec726f-9091-4de8-fd08-0540f3e80930"
      },
      "execution_count": 16,
      "outputs": [
        {
          "output_type": "execute_result",
          "data": {
            "text/plain": [
              "False    1500\n",
              "Name: booking_id, dtype: int64"
            ]
          },
          "metadata": {},
          "execution_count": 16
        }
      ]
    },
    {
      "cell_type": "code",
      "source": [
        "df['days_before'].unique()\n",
        "# no missing data\n",
        "# remove ' days' from the data points that have it"
      ],
      "metadata": {
        "colab": {
          "base_uri": "https://localhost:8080/"
        },
        "id": "yWgCki8XHI3t",
        "outputId": "3a36b72a-84fc-495b-f524-c5a41c98343b"
      },
      "execution_count": 17,
      "outputs": [
        {
          "output_type": "execute_result",
          "data": {
            "text/plain": [
              "array(['8', '2', '14', '10', '6', '4', '9', '12', '5', '3', '7', '13',\n",
              "       '12 days', '20', '1', '15', '6 days', '11', '13 days', '3 days',\n",
              "       '16', '1 days', '7 days', '8 days', '10 days', '14 days', '17',\n",
              "       '5 days', '2 days', '4 days', '29'], dtype=object)"
            ]
          },
          "metadata": {},
          "execution_count": 17
        }
      ]
    },
    {
      "cell_type": "code",
      "source": [
        "df['time'].value_counts()\n",
        "# no missing data no reformating needed"
      ],
      "metadata": {
        "colab": {
          "base_uri": "https://localhost:8080/"
        },
        "id": "I8S1WGQXHxcp",
        "outputId": "37a1b50d-3b7a-4ad1-e427-c80c61dc472a"
      },
      "execution_count": 18,
      "outputs": [
        {
          "output_type": "execute_result",
          "data": {
            "text/plain": [
              "AM    1141\n",
              "PM     359\n",
              "Name: time, dtype: int64"
            ]
          },
          "metadata": {},
          "execution_count": 18
        }
      ]
    },
    {
      "cell_type": "code",
      "source": [
        "df['weight'].isnull().sum()\n",
        "# 20 missing values. min value is 55kgs"
      ],
      "metadata": {
        "colab": {
          "base_uri": "https://localhost:8080/"
        },
        "id": "EJYomnlZH_Kk",
        "outputId": "107731a0-7618-4646-e542-fb763c6d70fb"
      },
      "execution_count": 19,
      "outputs": [
        {
          "output_type": "execute_result",
          "data": {
            "text/plain": [
              "20"
            ]
          },
          "metadata": {},
          "execution_count": 19
        }
      ]
    },
    {
      "cell_type": "markdown",
      "source": [
        "#### Reshaping and manipulating the data to fit the desired format"
      ],
      "metadata": {
        "id": "Jxjooo4OIsjs"
      }
    },
    {
      "cell_type": "code",
      "source": [
        "df[\"day_of_week\"] = df[\"day_of_week\"].str.replace('Wednesday','Wed')\\\n",
        "                                         .replace('Fri.','Fri')\\\n",
        "                                         .replace('Monday','Mon')\n",
        "df[\"category\"] = df[\"category\"].str.replace('-', 'unknown')\n",
        "df[[\"category\", \"day_of_week\"]]                   "
      ],
      "metadata": {
        "colab": {
          "base_uri": "https://localhost:8080/",
          "height": 423
        },
        "id": "_nFa_ctYipnC",
        "outputId": "a89ced7f-0774-4538-eaef-af14a85b6c7d"
      },
      "execution_count": 25,
      "outputs": [
        {
          "output_type": "execute_result",
          "data": {
            "text/plain": [
              "      category day_of_week\n",
              "0     Strength         Wed\n",
              "1         HIIT         Mon\n",
              "2     Strength         Sun\n",
              "3      Cycling         Fri\n",
              "4         HIIT         Thu\n",
              "...        ...         ...\n",
              "1495      HIIT         Fri\n",
              "1496  Strength         Mon\n",
              "1497      HIIT         Tue\n",
              "1498      Aqua         Sun\n",
              "1499   Cycling         Thu\n",
              "\n",
              "[1500 rows x 2 columns]"
            ],
            "text/html": [
              "\n",
              "  <div id=\"df-857f07f4-b7f2-4add-8dc9-4c43f56d952a\">\n",
              "    <div class=\"colab-df-container\">\n",
              "      <div>\n",
              "<style scoped>\n",
              "    .dataframe tbody tr th:only-of-type {\n",
              "        vertical-align: middle;\n",
              "    }\n",
              "\n",
              "    .dataframe tbody tr th {\n",
              "        vertical-align: top;\n",
              "    }\n",
              "\n",
              "    .dataframe thead th {\n",
              "        text-align: right;\n",
              "    }\n",
              "</style>\n",
              "<table border=\"1\" class=\"dataframe\">\n",
              "  <thead>\n",
              "    <tr style=\"text-align: right;\">\n",
              "      <th></th>\n",
              "      <th>category</th>\n",
              "      <th>day_of_week</th>\n",
              "    </tr>\n",
              "  </thead>\n",
              "  <tbody>\n",
              "    <tr>\n",
              "      <th>0</th>\n",
              "      <td>Strength</td>\n",
              "      <td>Wed</td>\n",
              "    </tr>\n",
              "    <tr>\n",
              "      <th>1</th>\n",
              "      <td>HIIT</td>\n",
              "      <td>Mon</td>\n",
              "    </tr>\n",
              "    <tr>\n",
              "      <th>2</th>\n",
              "      <td>Strength</td>\n",
              "      <td>Sun</td>\n",
              "    </tr>\n",
              "    <tr>\n",
              "      <th>3</th>\n",
              "      <td>Cycling</td>\n",
              "      <td>Fri</td>\n",
              "    </tr>\n",
              "    <tr>\n",
              "      <th>4</th>\n",
              "      <td>HIIT</td>\n",
              "      <td>Thu</td>\n",
              "    </tr>\n",
              "    <tr>\n",
              "      <th>...</th>\n",
              "      <td>...</td>\n",
              "      <td>...</td>\n",
              "    </tr>\n",
              "    <tr>\n",
              "      <th>1495</th>\n",
              "      <td>HIIT</td>\n",
              "      <td>Fri</td>\n",
              "    </tr>\n",
              "    <tr>\n",
              "      <th>1496</th>\n",
              "      <td>Strength</td>\n",
              "      <td>Mon</td>\n",
              "    </tr>\n",
              "    <tr>\n",
              "      <th>1497</th>\n",
              "      <td>HIIT</td>\n",
              "      <td>Tue</td>\n",
              "    </tr>\n",
              "    <tr>\n",
              "      <th>1498</th>\n",
              "      <td>Aqua</td>\n",
              "      <td>Sun</td>\n",
              "    </tr>\n",
              "    <tr>\n",
              "      <th>1499</th>\n",
              "      <td>Cycling</td>\n",
              "      <td>Thu</td>\n",
              "    </tr>\n",
              "  </tbody>\n",
              "</table>\n",
              "<p>1500 rows × 2 columns</p>\n",
              "</div>\n",
              "      <button class=\"colab-df-convert\" onclick=\"convertToInteractive('df-857f07f4-b7f2-4add-8dc9-4c43f56d952a')\"\n",
              "              title=\"Convert this dataframe to an interactive table.\"\n",
              "              style=\"display:none;\">\n",
              "        \n",
              "  <svg xmlns=\"http://www.w3.org/2000/svg\" height=\"24px\"viewBox=\"0 0 24 24\"\n",
              "       width=\"24px\">\n",
              "    <path d=\"M0 0h24v24H0V0z\" fill=\"none\"/>\n",
              "    <path d=\"M18.56 5.44l.94 2.06.94-2.06 2.06-.94-2.06-.94-.94-2.06-.94 2.06-2.06.94zm-11 1L8.5 8.5l.94-2.06 2.06-.94-2.06-.94L8.5 2.5l-.94 2.06-2.06.94zm10 10l.94 2.06.94-2.06 2.06-.94-2.06-.94-.94-2.06-.94 2.06-2.06.94z\"/><path d=\"M17.41 7.96l-1.37-1.37c-.4-.4-.92-.59-1.43-.59-.52 0-1.04.2-1.43.59L10.3 9.45l-7.72 7.72c-.78.78-.78 2.05 0 2.83L4 21.41c.39.39.9.59 1.41.59.51 0 1.02-.2 1.41-.59l7.78-7.78 2.81-2.81c.8-.78.8-2.07 0-2.86zM5.41 20L4 18.59l7.72-7.72 1.47 1.35L5.41 20z\"/>\n",
              "  </svg>\n",
              "      </button>\n",
              "      \n",
              "  <style>\n",
              "    .colab-df-container {\n",
              "      display:flex;\n",
              "      flex-wrap:wrap;\n",
              "      gap: 12px;\n",
              "    }\n",
              "\n",
              "    .colab-df-convert {\n",
              "      background-color: #E8F0FE;\n",
              "      border: none;\n",
              "      border-radius: 50%;\n",
              "      cursor: pointer;\n",
              "      display: none;\n",
              "      fill: #1967D2;\n",
              "      height: 32px;\n",
              "      padding: 0 0 0 0;\n",
              "      width: 32px;\n",
              "    }\n",
              "\n",
              "    .colab-df-convert:hover {\n",
              "      background-color: #E2EBFA;\n",
              "      box-shadow: 0px 1px 2px rgba(60, 64, 67, 0.3), 0px 1px 3px 1px rgba(60, 64, 67, 0.15);\n",
              "      fill: #174EA6;\n",
              "    }\n",
              "\n",
              "    [theme=dark] .colab-df-convert {\n",
              "      background-color: #3B4455;\n",
              "      fill: #D2E3FC;\n",
              "    }\n",
              "\n",
              "    [theme=dark] .colab-df-convert:hover {\n",
              "      background-color: #434B5C;\n",
              "      box-shadow: 0px 1px 3px 1px rgba(0, 0, 0, 0.15);\n",
              "      filter: drop-shadow(0px 1px 2px rgba(0, 0, 0, 0.3));\n",
              "      fill: #FFFFFF;\n",
              "    }\n",
              "  </style>\n",
              "\n",
              "      <script>\n",
              "        const buttonEl =\n",
              "          document.querySelector('#df-857f07f4-b7f2-4add-8dc9-4c43f56d952a button.colab-df-convert');\n",
              "        buttonEl.style.display =\n",
              "          google.colab.kernel.accessAllowed ? 'block' : 'none';\n",
              "\n",
              "        async function convertToInteractive(key) {\n",
              "          const element = document.querySelector('#df-857f07f4-b7f2-4add-8dc9-4c43f56d952a');\n",
              "          const dataTable =\n",
              "            await google.colab.kernel.invokeFunction('convertToInteractive',\n",
              "                                                     [key], {});\n",
              "          if (!dataTable) return;\n",
              "\n",
              "          const docLinkHtml = 'Like what you see? Visit the ' +\n",
              "            '<a target=\"_blank\" href=https://colab.research.google.com/notebooks/data_table.ipynb>data table notebook</a>'\n",
              "            + ' to learn more about interactive tables.';\n",
              "          element.innerHTML = '';\n",
              "          dataTable['output_type'] = 'display_data';\n",
              "          await google.colab.output.renderOutput(dataTable, element);\n",
              "          const docLink = document.createElement('div');\n",
              "          docLink.innerHTML = docLinkHtml;\n",
              "          element.appendChild(docLink);\n",
              "        }\n",
              "      </script>\n",
              "    </div>\n",
              "  </div>\n",
              "  "
            ]
          },
          "metadata": {},
          "execution_count": 25
        }
      ]
    },
    {
      "cell_type": "code",
      "source": [
        "df[\"days_before\"] = df[\"days_before\"].str.replace(' days', '')\n",
        "df[\"days_before\"].unique()"
      ],
      "metadata": {
        "colab": {
          "base_uri": "https://localhost:8080/"
        },
        "id": "h50ebutkJiEG",
        "outputId": "ec6e787a-4790-4844-95f2-3ea39eb13a08"
      },
      "execution_count": 21,
      "outputs": [
        {
          "output_type": "execute_result",
          "data": {
            "text/plain": [
              "array(['8', '2', '14', '10', '6', '4', '9', '12', '5', '3', '7', '13',\n",
              "       '20', '1', '15', '11', '16', '17', '29'], dtype=object)"
            ]
          },
          "metadata": {},
          "execution_count": 21
        }
      ]
    },
    {
      "cell_type": "code",
      "source": [
        "df[\"days_before\"] = df[\"days_before\"].astype('int')\n",
        "df[\"booking_id\"] = df[\"booking_id\"].astype('object')\n",
        "df.dtypes"
      ],
      "metadata": {
        "colab": {
          "base_uri": "https://localhost:8080/"
        },
        "id": "s7t3_oRkQxSE",
        "outputId": "7873b7fa-6717-4265-df63-2ec26df4a8f9"
      },
      "execution_count": 28,
      "outputs": [
        {
          "output_type": "execute_result",
          "data": {
            "text/plain": [
              "booking_id           object\n",
              "months_as_member      int64\n",
              "weight              float64\n",
              "days_before           int64\n",
              "day_of_week          object\n",
              "time                 object\n",
              "category             object\n",
              "attended              int64\n",
              "dtype: object"
            ]
          },
          "metadata": {},
          "execution_count": 28
        }
      ]
    },
    {
      "cell_type": "code",
      "source": [
        "df[\"category\"].unique()"
      ],
      "metadata": {
        "colab": {
          "base_uri": "https://localhost:8080/"
        },
        "id": "TfDu1BWzK3O8",
        "outputId": "0f418bfd-95fb-4a5e-a293-5c5236b249cf"
      },
      "execution_count": 29,
      "outputs": [
        {
          "output_type": "execute_result",
          "data": {
            "text/plain": [
              "array(['Strength', 'HIIT', 'Cycling', 'Yoga', 'unknown', 'Aqua'],\n",
              "      dtype=object)"
            ]
          },
          "metadata": {},
          "execution_count": 29
        }
      ]
    },
    {
      "cell_type": "markdown",
      "source": [
        "# Answering Questions"
      ],
      "metadata": {
        "id": "hiIA2vVMRe1K"
      }
    },
    {
      "cell_type": "markdown",
      "source": [
        "##### 1. For every column in the data:"
      ],
      "metadata": {
        "id": "YrpKRNWaR19M"
      }
    },
    {
      "cell_type": "markdown",
      "source": [
        "###### A. State whether the values match the description given in the table above.\n",
        "- \"booking_id\" : Is a numeric data Type and not nominal.\n",
        "- \"months_as_member\" : Yes\n",
        "- \"weight\" : contains missing data and the minimum values is 55kgs\n",
        "- \"days_before\": it is an object data type and some values are contain the word ' days'.\n",
        "- \"day_of_week\": the format isn't consistent. some values contain full name of the day instead of just the first 3 letters.\n",
        "- \"time\": Yes\n",
        "- \"category\": one extra category called '-' which represents missing data.\n",
        "- \"attended\": Yes"
      ],
      "metadata": {
        "id": "kiwatjzySEbF"
      }
    },
    {
      "cell_type": "markdown",
      "source": [
        "##### b. State the number of missing values in the column.\n",
        "- \"weight\" contained 20 missings values.\n",
        "- \"category\" contained 13 missing values."
      ],
      "metadata": {
        "id": "xdWJH4t9b3aC"
      }
    },
    {
      "cell_type": "markdown",
      "source": [
        "##### c. Describe what you did to make values match the description if they did not match.\n",
        "- \"booking_id\": Changed data type to object data type\n",
        "- \"days_before\": first removed the word 'days' from rows that had them, before changing the data type to numeric.\n",
        "- \"weight\": replace missing data with the over all average of the column.\n",
        "- \"category\": replaced missing data with 'unknown'\n",
        "- \"day_of_week\": normalized values so they all represent the first 3 letters of day name."
      ],
      "metadata": {
        "id": "BN9kDnWAcSoa"
      }
    },
    {
      "cell_type": "markdown",
      "source": [
        "##### 2. Create a visualization that shows how many bookings attended the class. Use the visualization to:"
      ],
      "metadata": {
        "id": "Rhxa4eNke7Fx"
      }
    },
    {
      "cell_type": "markdown",
      "source": [
        "##### a. State which category has the most observations.\n",
        "HIIT category had the most observations, accounting for 667 attendees."
      ],
      "metadata": {
        "id": "gmtdR2KjgjpL"
      }
    },
    {
      "cell_type": "code",
      "source": [
        "df.groupby('category')['attended'].count().sort_values(ascending=False).plot(kind=\"bar\", figsize=(8, 4), title='Number of Attendees per Category', ylabel='count')"
      ],
      "metadata": {
        "colab": {
          "base_uri": "https://localhost:8080/",
          "height": 476
        },
        "id": "XF3y53NMb1dv",
        "outputId": "2a28bb7a-0416-4e14-ba26-d8272d15a0e1"
      },
      "execution_count": 30,
      "outputs": [
        {
          "output_type": "execute_result",
          "data": {
            "text/plain": [
              "<Axes: title={'center': 'Number of Attendees per Category'}, xlabel='category', ylabel='count'>"
            ]
          },
          "metadata": {},
          "execution_count": 30
        },
        {
          "output_type": "display_data",
          "data": {
            "text/plain": [
              "<Figure size 800x400 with 1 Axes>"
            ],
            "image/png": "[encoded data removed]"
          },
          "metadata": {}
        }
      ]
    },
    {
      "cell_type": "markdown",
      "source": [
        "##### b. Explain whether the observations are balanced across categories\n",
        "- There is a balance across categories except in the 'unknown' category."
      ],
      "metadata": {
        "id": "eu17lJ0Cg4er"
      }
    },
    {
      "cell_type": "code",
      "source": [
        "sns.boxplot(x='category', y='booking_id', data=df)\n",
        "plt.ylim(-150, 1600)\n",
        "plt.ylabel('Number of Members')\n",
        "plt.show()"
      ],
      "metadata": {
        "colab": {
          "base_uri": "https://localhost:8080/",
          "height": 455
        },
        "id": "wBwk8p5OfnaQ",
        "outputId": "3f6c3a2a-89ed-4ddc-e8e4-aa9e6d4a8a56"
      },
      "execution_count": 31,
      "outputs": [
        {
          "output_type": "display_data",
          "data": {
            "text/plain": [
              "<Figure size 640x480 with 1 Axes>"
            ],
            "image/png": "[encoded data removed]"
          },
          "metadata": {}
        }
      ]
    },
    {
      "cell_type": "markdown",
      "source": [
        "#### 3. Describe the distribution of the number of months as a member. Your answer must include a visualization that shows the distribution.\n",
        "- The Distribution of the 'months_as_member' column is a normal distribution skewed to the righ."
      ],
      "metadata": {
        "id": "OhoTSL4ekzxq"
      }
    },
    {
      "cell_type": "code",
      "source": [
        "fig, ax = plt.subplots(figsize=(8, 5))\n",
        "sns.distplot(df['months_as_member'])\n",
        "plt.xlabel('Number of Months as member')\n",
        "plt.title('distribution of months as a member column')\n",
        "plt.show()"
      ],
      "metadata": {
        "colab": {
          "base_uri": "https://localhost:8080/",
          "height": 678
        },
        "id": "Lcembkt1j9gx",
        "outputId": "5543aaad-0287-4bce-9b7f-f2840589c5b2"
      },
      "execution_count": 35,
      "outputs": [
        {
          "output_type": "stream",
          "name": "stderr",
          "text": [
            "<ipython-input-35-d2b36910eef3>:2: UserWarning: \n",
            "\n",
            "`distplot` is a deprecated function and will be removed in seaborn v0.14.0.\n",
            "\n",
            "Please adapt your code to use either `displot` (a figure-level function with\n",
            "similar flexibility) or `histplot` (an axes-level function for histograms).\n",
            "\n",
            "For a guide to updating your code to use the new functions, please see\n",
            "https://gist.github.com/mwaskom/de44147ed2974457ad6372750bbe5751\n",
            "\n",
            "  sns.distplot(df['months_as_member'])\n"
          ]
        },
        {
          "output_type": "display_data",
          "data": {
            "text/plain": [
              "<Figure size 800x500 with 1 Axes>"
            ],
            "image/png": "[encoded data removed]"
          },
          "metadata": {}
        }
      ]
    },
    {
      "cell_type": "markdown",
      "source": [
        "##### 4. Describe the relationship between attendance and number of months as a member. Your answer must include a visualization to demonstrate the relationship.\n",
        "- There is a relationship between \"attended\" column and \"months_as_member\" column but it isn't linear. Members who have been members for longer time also tend to consistent with their attendence"
      ],
      "metadata": {
        "id": "Db2cpLmJlkL0"
      }
    },
    {
      "cell_type": "code",
      "source": [
        "fig, ax = plt.subplots(figsize=(8, 5))\n",
        "fig = sns.boxenplot(x='attended', y='months_as_member', data=df)\n",
        "plt.ylabel('Number of Months as Member')\n",
        "plt.title('Relationship between attendance rate and Time as a member')\n",
        "fig.set_xticklabels(['No', 'Yes'])\n",
        "plt.show()"
      ],
      "metadata": {
        "colab": {
          "base_uri": "https://localhost:8080/",
          "height": 487
        },
        "id": "n1rDZA3Tl8qp",
        "outputId": "f3f13fa3-bbd5-40f9-8767-8bb42c94a43f"
      },
      "execution_count": 36,
      "outputs": [
        {
          "output_type": "display_data",
          "data": {
            "text/plain": [
              "<Figure size 800x500 with 1 Axes>"
            ],
            "image/png": "[encoded data removed]"
          },
          "metadata": {}
        }
      ]
    },
    {
      "cell_type": "markdown",
      "source": [
        "#### 5. The business wants to predict whether members will attend using the data provided. State the type of machine learning problem that this is (regression/ classification/ clustering).\n",
        "- This is a Classification machine learning problem."
      ],
      "metadata": {
        "id": "inA7jT3Epcxw"
      }
    },
    {
      "cell_type": "markdown",
      "source": [
        "##### 6. Fit a baseline model to predict whether members will attend using the data provided. You must include your code."
      ],
      "metadata": {
        "id": "VuJB9FZdp55I"
      }
    },
    {
      "cell_type": "markdown",
      "source": [
        "The base model i chose for this Classification problem is a K-nearest Neighbors.\n",
        "1. I assigned Features and Taget variable to X and y respectively.\n",
        "2. I imported necessary libraries.\n",
        "3. I setup a pipeline with scaler and instantiated K-nearest neighbors model.\n",
        "4. I usd KFold to find out how well my model can predict the outcome of unseen data.\n",
        "5. I used GridesearchCV to try out different values and then pick the value that gives the best score.\n",
        "6. I fitted the model to the training data then made predictions using test data.\n",
        "7. I extracted the results and the best score. "
      ],
      "metadata": {
        "id": "OCl_WJifg4Ki"
      }
    },
    {
      "cell_type": "code",
      "source": [
        "import pandas as pd\n",
        "import numpy as np\n",
        "df = pd.read_csv('for_training.csv')\n",
        "# X = features. y = target variable\n",
        "X = df[[\"months_as_member\", \"days_before\"]].values\n",
        "y = df[\"attended\"].values\n",
        "print(type(X), type(y), X.shape, y.shape)\n",
        "###########\n",
        "from sklearn.model_selection import train_test_split, KFold, cross_val_score, GridSearchCV, RandomizedSearchCV\n",
        "from sklearn.neighbors import KNeighborsClassifier\n",
        "from sklearn.linear_model import LogisticRegression\n",
        "from sklearn.metrics import classification_report, confusion_matrix, roc_auc_score, roc_curve\n",
        "from sklearn.preprocessing import StandardScaler\n",
        "from sklearn.pipeline import Pipeline\n",
        "##########\n",
        "steps = [('scaler', StandardScaler()), \n",
        "         ('knn', KNeighborsClassifier())]\n",
        "pipeline = Pipeline(steps)\n",
        "kf = KFold(n_splits=6, shuffle=True, random_state=42)\n",
        "X_train, X_test, y_train, y_test = train_test_split(X, y, test_size=0.3, stratify=y, random_state=42)\n",
        "parameters = {\"knn__n_neighbors\": np.arange(1, 51)}\n",
        "cv = GridSearchCV(pipeline, param_grid=parameters, cv=kf)\n",
        "cv.fit(X_train, y_train)\n",
        "y_pred = cv.predict(X_test)\n",
        "print(cv.best_params_),\n",
        "print(cv.best_score_),\n",
        "print(cv.score(X_test, y_test))\n",
        "# Gridsearch gave slightly better results"
      ],
      "metadata": {
        "id": "EotVfUfsl-Ba",
        "colab": {
          "base_uri": "https://localhost:8080/"
        },
        "outputId": "6c79826f-a050-4812-dc88-d58965821689"
      },
      "execution_count": 37,
      "outputs": [
        {
          "output_type": "stream",
          "name": "stdout",
          "text": [
            "<class 'numpy.ndarray'> <class 'numpy.ndarray'> (1500, 2) (1500,)\n",
            "{'knn__n_neighbors': 43}\n",
            "0.7828571428571428\n",
            "0.7688888888888888\n"
          ]
        }
      ]
    },
    {
      "cell_type": "markdown",
      "source": [
        "## Task 7: Fit a comparison model to predict whether members will attend using the data provided. You must include your code.\n",
        "The comparision model i chose is a Logistic Regression model.\n",
        "1. I assigned Features and Taget variable to X and y respectively.\n",
        "2. I imported necessary libraries.\n",
        "3. I setup a pipeline with scaler and instantiated Logistic Regression model.\n",
        "4. I usd KFold to find out how well my model can predict the outcome of unseen data.\n",
        "5. I used GridesearchCV to try out different values and then pick the value that gives the best score.\n",
        "6. I fitted the model to the training data then made predictions using test data.\n",
        "7. I extracted the results and the best score including area under the cover score."
      ],
      "metadata": {
        "id": "V1einyFQhBzK"
      }
    },
    {
      "cell_type": "code",
      "source": [
        "import pandas as pd\n",
        "import numpy as np\n",
        "df = pd.read_csv('for_training.csv')\n",
        "# X = features. y = target variable\n",
        "X = df[[\"months_as_member\", \"days_before\"]].values\n",
        "y = df[\"attended\"].values\n",
        "print(type(X), type(y), X.shape, y.shape)\n",
        "###########\n",
        "from sklearn.model_selection import train_test_split, KFold, cross_val_score, GridSearchCV, RandomizedSearchCV\n",
        "from sklearn.neighbors import KNeighborsClassifier\n",
        "from sklearn.linear_model import LogisticRegression\n",
        "from sklearn.metrics import classification_report, confusion_matrix, roc_auc_score, roc_curve\n",
        "from sklearn.preprocessing import StandardScaler\n",
        "from sklearn.pipeline import Pipeline\n",
        "##########\n",
        "steps = [('scaler', StandardScaler()), \n",
        "         ('logreg', LogisticRegression())]\n",
        "pipeline = Pipeline(steps)\n",
        "kf = KFold(n_splits=6, shuffle=True, random_state=42)\n",
        "X_train_reg, X_test_reg, y_train_reg, y_test_reg = train_test_split(X, y, test_size=0.3, stratify=y, random_state=42)\n",
        "parameters = {\"logreg__C\": np.linspace(0.001, 1.0, 10)}\n",
        "cv_reg = GridSearchCV(pipeline, param_grid=parameters, cv=kf)\n",
        "cv_reg.fit(X_train_reg, y_train_reg)\n",
        "y_pred_reg = cv_reg.predict(X_test_reg)\n",
        "y_pred_probs = cv_reg.predict_proba(X_test_reg)[:,1]\n",
        "print(cv_reg.best_params_),\n",
        "print(cv_reg.best_score_),\n",
        "print(print(roc_auc_score(y_test_reg, y_pred_probs)))"
      ],
      "metadata": {
        "colab": {
          "base_uri": "https://localhost:8080/"
        },
        "id": "wjsr5MwihCTd",
        "outputId": "9fd15da2-a910-4750-cedf-7c72a81973ee"
      },
      "execution_count": 38,
      "outputs": [
        {
          "output_type": "stream",
          "name": "stdout",
          "text": [
            "<class 'numpy.ndarray'> <class 'numpy.ndarray'> (1500, 2) (1500,)\n",
            "{'logreg__C': 0.445}\n",
            "0.7771428571428571\n",
            "0.8093035781191458\n",
            "None\n"
          ]
        }
      ]
    },
    {
      "cell_type": "markdown",
      "source": [
        "## Task 8: Explain why you chose the two models used in parts 6 and 7.\n",
        "Logistic Regression and KNN are the most popular and suitible models to use for a binary classification using labeled data, since they consistently yield statisfying results when solving problems similar to our."
      ],
      "metadata": {
        "id": "CgQDWfsrhIFq"
      }
    },
    {
      "cell_type": "markdown",
      "source": [
        "## Task 9: Compare the performance of the two models used in parts 6 and 7, using any method suitable. You must include your code.\n",
        "I instantiated both model and fitted the on scaled training data then extracted the score from both.\n",
        "Logistic regression performed better than KNN classifier."
      ],
      "metadata": {
        "id": "i2QhpyhvhPQS"
      }
    },
    {
      "cell_type": "code",
      "source": [
        "X = df[[\"months_as_member\", \"days_before\"]].values\n",
        "y = df[\"attended\"].values\n",
        "print(type(X), type(y), X.shape, y.shape)\n",
        "###############################\n",
        "from sklearn.model_selection import train_test_split, KFold, cross_val_score, GridSearchCV, RandomizedSearchCV\n",
        "from sklearn.neighbors import KNeighborsClassifier\n",
        "from sklearn.linear_model import LogisticRegression\n",
        "from sklearn.metrics import classification_report, confusion_matrix, roc_auc_score, roc_curve\n",
        "from sklearn.preprocessing import StandardScaler\n",
        "from sklearn.pipeline import Pipeline\n",
        "import seaborn as sns\n",
        "import matplotlib.pyplot as plt\n",
        "###############################\n",
        "X_train_comp, X_test_comp, y_train_comp, y_test_comp = train_test_split(X, y, test_size=0.3, stratify=y, random_state=42)\n",
        "scaler = StandardScaler()\n",
        "X_train_comp_scaled = scaler.fit_transform(X_train_comp)\n",
        "X_test_comp_scaled = scaler.transform(X_test_comp)\n",
        "\n",
        "models = {\"Logistic Regression\": LogisticRegression(), \"KNN\": KNeighborsClassifier()}\n",
        "results = []\n",
        "\n",
        "# Loop through the models' values\n",
        "for model in models.values():\n",
        "  kf = KFold(n_splits=6, random_state=42, shuffle=True)\n",
        "  \n",
        "  # Perform cross-validation\n",
        "  cv_scores = cross_val_score(model, X_train_comp, y_train_comp, cv=kf)\n",
        "  \n",
        "  # Append the results\n",
        "  results.append(cv_scores)\n",
        "\n",
        "# Extracting scores from different models and comapring them\n",
        "for name, model in models.items():\n",
        "  model.fit(X_train_comp_scaled, y_train)\n",
        "  test_score = model.score(X_test_comp_scaled, y_test)\n",
        "  print(\"{} test set Accuracy: {}\".format(name, test_score))"
      ],
      "metadata": {
        "colab": {
          "base_uri": "https://localhost:8080/"
        },
        "id": "3Hbkx-ahhMCL",
        "outputId": "44a058ea-a7c1-4f94-d94f-d22a7370ecd8"
      },
      "execution_count": 39,
      "outputs": [
        {
          "output_type": "stream",
          "name": "stdout",
          "text": [
            "<class 'numpy.ndarray'> <class 'numpy.ndarray'> (1500, 2) (1500,)\n",
            "Logistic Regression test set Accuracy: 0.7888888888888889\n",
            "KNN test set Accuracy: 0.7377777777777778\n"
          ]
        }
      ]
    },
    {
      "cell_type": "code",
      "source": [
        "# Create a box plot of the results\n",
        "import matplotlib.pyplot as plt\n",
        "plt.boxplot(results, labels=models.keys())\n",
        "plt.show()"
      ],
      "metadata": {
        "colab": {
          "base_uri": "https://localhost:8080/",
          "height": 430
        },
        "id": "7WOZ_m3-hVJV",
        "outputId": "a233a162-da54-4977-d59a-b673937cd71e"
      },
      "execution_count": 40,
      "outputs": [
        {
          "output_type": "display_data",
          "data": {
            "text/plain": [
              "<Figure size 640x480 with 1 Axes>"
            ],
            "image/png": "[encoded data removed]"
          },
          "metadata": {}
        }
      ]
    },
    {
      "cell_type": "markdown",
      "source": [
        "## Task 10: Explain which model performs better and why.\n",
        "Logistic Regression model performed better than the K-nearest neighbors model, because it score higher on most metrics.\n",
        "\n",
        "Logistic Regression:\n",
        "- Accuracy score: 0.78\n",
        "- Precision score: 0.74\n",
        "- Recall score: 0.45\n",
        "K-nearest Neighbors:\n",
        "- Accuracy score: 0.76\n",
        "- Precision score: 0.63\n",
        "- Recall score: 0.55"
      ],
      "metadata": {
        "id": "CdNeLRr0hYUa"
      }
    },
    {
      "cell_type": "code",
      "source": [],
      "metadata": {
        "id": "bIjMmJ_ghZRp"
      },
      "execution_count": null,
      "outputs": []
    }
  ]
}