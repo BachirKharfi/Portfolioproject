{
  "nbformat": 4,
  "nbformat_minor": 0,
  "metadata": {
    "colab": {
      "provenance": []
    },
    "kernelspec": {
      "name": "python3",
      "display_name": "Python 3"
    },
    "language_info": {
      "name": "python"
    }
  },
  "cells": [
    {
      "cell_type": "markdown",
      "source": [
        "# I. Data Validation."
      ],
      "metadata": {
        "id": "amS9lety5DNj"
      }
    },
    {
      "cell_type": "markdown",
      "source": [
        "## 1. Validate the data"
      ],
      "metadata": {
        "id": "1w1R_kpdQMZ4"
      }
    },
    {
      "cell_type": "markdown",
      "source": [
        "#### Import the file and the necessary packages"
      ],
      "metadata": {
        "id": "BZYkXqtE4cxj"
      }
    },
    {
      "cell_type": "code",
      "source": [
        "import pandas as pd\n",
        "import numpy as np\n",
        "import matplotlib.pyplot as plt\n",
        "import seaborn as sns\n",
        "import missingno as msno\n",
        "from scipy.stats import iqr"
      ],
      "metadata": {
        "id": "rvKxB9kFswaM"
      },
      "execution_count": 1,
      "outputs": []
    },
    {
      "cell_type": "code",
      "source": [
        "df = pd.read_csv('recipe.csv', na_values='NaN')\n",
        "df.head()"
      ],
      "metadata": {
        "colab": {
          "base_uri": "https://localhost:8080/",
          "height": 206
        },
        "id": "3dlHo_xls5m_",
        "outputId": "34b352f7-0c14-45ec-f9e1-f4e7ccc254eb"
      },
      "execution_count": 2,
      "outputs": [
        {
          "output_type": "execute_result",
          "data": {
            "text/plain": [
              "   recipe  calories  carbohydrate  sugar  protein   category servings  \\\n",
              "0       1       NaN           NaN    NaN      NaN       Pork        6   \n",
              "1       2     35.48         38.56   0.66     0.92     Potato        4   \n",
              "2       3    914.28         42.68   3.09     2.88  Breakfast        1   \n",
              "3       4     97.03         30.56  38.63     0.02  Beverages        4   \n",
              "4       5     27.05          1.85   0.80     0.53  Beverages        4   \n",
              "\n",
              "  high_traffic  \n",
              "0         High  \n",
              "1         High  \n",
              "2          NaN  \n",
              "3         High  \n",
              "4          NaN  "
            ],
            "text/html": [
              "\n",
              "  <div id=\"df-f4f8ad48-7bdb-4da7-932a-411eda8e5955\">\n",
              "    <div class=\"colab-df-container\">\n",
              "      <div>\n",
              "<style scoped>\n",
              "    .dataframe tbody tr th:only-of-type {\n",
              "        vertical-align: middle;\n",
              "    }\n",
              "\n",
              "    .dataframe tbody tr th {\n",
              "        vertical-align: top;\n",
              "    }\n",
              "\n",
              "    .dataframe thead th {\n",
              "        text-align: right;\n",
              "    }\n",
              "</style>\n",
              "<table border=\"1\" class=\"dataframe\">\n",
              "  <thead>\n",
              "    <tr style=\"text-align: right;\">\n",
              "      <th></th>\n",
              "      <th>recipe</th>\n",
              "      <th>calories</th>\n",
              "      <th>carbohydrate</th>\n",
              "      <th>sugar</th>\n",
              "      <th>protein</th>\n",
              "      <th>category</th>\n",
              "      <th>servings</th>\n",
              "      <th>high_traffic</th>\n",
              "    </tr>\n",
              "  </thead>\n",
              "  <tbody>\n",
              "    <tr>\n",
              "      <th>0</th>\n",
              "      <td>1</td>\n",
              "      <td>NaN</td>\n",
              "      <td>NaN</td>\n",
              "      <td>NaN</td>\n",
              "      <td>NaN</td>\n",
              "      <td>Pork</td>\n",
              "      <td>6</td>\n",
              "      <td>High</td>\n",
              "    </tr>\n",
              "    <tr>\n",
              "      <th>1</th>\n",
              "      <td>2</td>\n",
              "      <td>35.48</td>\n",
              "      <td>38.56</td>\n",
              "      <td>0.66</td>\n",
              "      <td>0.92</td>\n",
              "      <td>Potato</td>\n",
              "      <td>4</td>\n",
              "      <td>High</td>\n",
              "    </tr>\n",
              "    <tr>\n",
              "      <th>2</th>\n",
              "      <td>3</td>\n",
              "      <td>914.28</td>\n",
              "      <td>42.68</td>\n",
              "      <td>3.09</td>\n",
              "      <td>2.88</td>\n",
              "      <td>Breakfast</td>\n",
              "      <td>1</td>\n",
              "      <td>NaN</td>\n",
              "    </tr>\n",
              "    <tr>\n",
              "      <th>3</th>\n",
              "      <td>4</td>\n",
              "      <td>97.03</td>\n",
              "      <td>30.56</td>\n",
              "      <td>38.63</td>\n",
              "      <td>0.02</td>\n",
              "      <td>Beverages</td>\n",
              "      <td>4</td>\n",
              "      <td>High</td>\n",
              "    </tr>\n",
              "    <tr>\n",
              "      <th>4</th>\n",
              "      <td>5</td>\n",
              "      <td>27.05</td>\n",
              "      <td>1.85</td>\n",
              "      <td>0.80</td>\n",
              "      <td>0.53</td>\n",
              "      <td>Beverages</td>\n",
              "      <td>4</td>\n",
              "      <td>NaN</td>\n",
              "    </tr>\n",
              "  </tbody>\n",
              "</table>\n",
              "</div>\n",
              "      <button class=\"colab-df-convert\" onclick=\"convertToInteractive('df-f4f8ad48-7bdb-4da7-932a-411eda8e5955')\"\n",
              "              title=\"Convert this dataframe to an interactive table.\"\n",
              "              style=\"display:none;\">\n",
              "        \n",
              "  <svg xmlns=\"http://www.w3.org/2000/svg\" height=\"24px\"viewBox=\"0 0 24 24\"\n",
              "       width=\"24px\">\n",
              "    <path d=\"M0 0h24v24H0V0z\" fill=\"none\"/>\n",
              "    <path d=\"M18.56 5.44l.94 2.06.94-2.06 2.06-.94-2.06-.94-.94-2.06-.94 2.06-2.06.94zm-11 1L8.5 8.5l.94-2.06 2.06-.94-2.06-.94L8.5 2.5l-.94 2.06-2.06.94zm10 10l.94 2.06.94-2.06 2.06-.94-2.06-.94-.94-2.06-.94 2.06-2.06.94z\"/><path d=\"M17.41 7.96l-1.37-1.37c-.4-.4-.92-.59-1.43-.59-.52 0-1.04.2-1.43.59L10.3 9.45l-7.72 7.72c-.78.78-.78 2.05 0 2.83L4 21.41c.39.39.9.59 1.41.59.51 0 1.02-.2 1.41-.59l7.78-7.78 2.81-2.81c.8-.78.8-2.07 0-2.86zM5.41 20L4 18.59l7.72-7.72 1.47 1.35L5.41 20z\"/>\n",
              "  </svg>\n",
              "      </button>\n",
              "      \n",
              "  <style>\n",
              "    .colab-df-container {\n",
              "      display:flex;\n",
              "      flex-wrap:wrap;\n",
              "      gap: 12px;\n",
              "    }\n",
              "\n",
              "    .colab-df-convert {\n",
              "      background-color: #E8F0FE;\n",
              "      border: none;\n",
              "      border-radius: 50%;\n",
              "      cursor: pointer;\n",
              "      display: none;\n",
              "      fill: #1967D2;\n",
              "      height: 32px;\n",
              "      padding: 0 0 0 0;\n",
              "      width: 32px;\n",
              "    }\n",
              "\n",
              "    .colab-df-convert:hover {\n",
              "      background-color: #E2EBFA;\n",
              "      box-shadow: 0px 1px 2px rgba(60, 64, 67, 0.3), 0px 1px 3px 1px rgba(60, 64, 67, 0.15);\n",
              "      fill: #174EA6;\n",
              "    }\n",
              "\n",
              "    [theme=dark] .colab-df-convert {\n",
              "      background-color: #3B4455;\n",
              "      fill: #D2E3FC;\n",
              "    }\n",
              "\n",
              "    [theme=dark] .colab-df-convert:hover {\n",
              "      background-color: #434B5C;\n",
              "      box-shadow: 0px 1px 3px 1px rgba(0, 0, 0, 0.15);\n",
              "      filter: drop-shadow(0px 1px 2px rgba(0, 0, 0, 0.3));\n",
              "      fill: #FFFFFF;\n",
              "    }\n",
              "  </style>\n",
              "\n",
              "      <script>\n",
              "        const buttonEl =\n",
              "          document.querySelector('#df-f4f8ad48-7bdb-4da7-932a-411eda8e5955 button.colab-df-convert');\n",
              "        buttonEl.style.display =\n",
              "          google.colab.kernel.accessAllowed ? 'block' : 'none';\n",
              "\n",
              "        async function convertToInteractive(key) {\n",
              "          const element = document.querySelector('#df-f4f8ad48-7bdb-4da7-932a-411eda8e5955');\n",
              "          const dataTable =\n",
              "            await google.colab.kernel.invokeFunction('convertToInteractive',\n",
              "                                                     [key], {});\n",
              "          if (!dataTable) return;\n",
              "\n",
              "          const docLinkHtml = 'Like what you see? Visit the ' +\n",
              "            '<a target=\"_blank\" href=https://colab.research.google.com/notebooks/data_table.ipynb>data table notebook</a>'\n",
              "            + ' to learn more about interactive tables.';\n",
              "          element.innerHTML = '';\n",
              "          dataTable['output_type'] = 'display_data';\n",
              "          await google.colab.output.renderOutput(dataTable, element);\n",
              "          const docLink = document.createElement('div');\n",
              "          docLink.innerHTML = docLinkHtml;\n",
              "          element.appendChild(docLink);\n",
              "        }\n",
              "      </script>\n",
              "    </div>\n",
              "  </div>\n",
              "  "
            ]
          },
          "metadata": {},
          "execution_count": 2
        }
      ]
    },
    {
      "cell_type": "code",
      "source": [
        "# missing data and several columns are in the wrong data type\n",
        "df.info()"
      ],
      "metadata": {
        "colab": {
          "base_uri": "https://localhost:8080/"
        },
        "id": "eYZPsdyetteC",
        "outputId": "7a711420-57aa-4c67-b23f-f4c0c5e37940"
      },
      "execution_count": 3,
      "outputs": [
        {
          "output_type": "stream",
          "name": "stdout",
          "text": [
            "<class 'pandas.core.frame.DataFrame'>\n",
            "RangeIndex: 947 entries, 0 to 946\n",
            "Data columns (total 8 columns):\n",
            " #   Column        Non-Null Count  Dtype  \n",
            "---  ------        --------------  -----  \n",
            " 0   recipe        947 non-null    int64  \n",
            " 1   calories      895 non-null    float64\n",
            " 2   carbohydrate  895 non-null    float64\n",
            " 3   sugar         895 non-null    float64\n",
            " 4   protein       895 non-null    float64\n",
            " 5   category      947 non-null    object \n",
            " 6   servings      947 non-null    object \n",
            " 7   high_traffic  574 non-null    object \n",
            "dtypes: float64(4), int64(1), object(3)\n",
            "memory usage: 59.3+ KB\n"
          ]
        }
      ]
    },
    {
      "cell_type": "markdown",
      "source": [
        "##### - missing  data in the ['recipe', 'calories', 'carbohydrate', 'protein'] columns seems to have a relationship.\n",
        "##### - the missing data is more than 5% of the data so i can't just drop it.\n",
        "##### - lot of missing data is present in high_traffic column"
      ],
      "metadata": {
        "id": "ANcNKA-3vh02"
      }
    },
    {
      "cell_type": "code",
      "source": [
        "msno.matrix(df)"
      ],
      "metadata": {
        "colab": {
          "base_uri": "https://localhost:8080/",
          "height": 559
        },
        "id": "__0IFL7etIba",
        "outputId": "755d6643-4f1e-4abe-89ea-f2df62fccfe3"
      },
      "execution_count": 4,
      "outputs": [
        {
          "output_type": "execute_result",
          "data": {
            "text/plain": [
              "<AxesSubplot:>"
            ]
          },
          "metadata": {},
          "execution_count": 4
        },
        {
          "output_type": "display_data",
          "data": {
            "text/plain": [
              "<Figure size 1800x720 with 2 Axes>"
            ],
            "image/png": "[encoded data removed]"
          },
          "metadata": {
            "needs_background": "light"
          }
        }
      ]
    },
    {
      "cell_type": "markdown",
      "source": [
        "##### Huge difference between the data values in the 75% and the Max, which suggests the presence of outliers in the dataset."
      ],
      "metadata": {
        "id": "eDUCWgFKvx9W"
      }
    },
    {
      "cell_type": "code",
      "source": [
        "df.describe()"
      ],
      "metadata": {
        "colab": {
          "base_uri": "https://localhost:8080/",
          "height": 300
        },
        "id": "nE49Fx9AuDGi",
        "outputId": "5e1502b7-b0b4-4280-d0be-b9a33ee79c0d"
      },
      "execution_count": 5,
      "outputs": [
        {
          "output_type": "execute_result",
          "data": {
            "text/plain": [
              "           recipe     calories  carbohydrate       sugar     protein\n",
              "count  947.000000   895.000000    895.000000  895.000000  895.000000\n",
              "mean   474.000000   435.939196     35.069676    9.046547   24.149296\n",
              "std    273.519652   453.020997     43.949032   14.679176   36.369739\n",
              "min      1.000000     0.140000      0.030000    0.010000    0.000000\n",
              "25%    237.500000   110.430000      8.375000    1.690000    3.195000\n",
              "50%    474.000000   288.550000     21.480000    4.550000   10.800000\n",
              "75%    710.500000   597.650000     44.965000    9.800000   30.200000\n",
              "max    947.000000  3633.160000    530.420000  148.750000  363.360000"
            ],
            "text/html": [
              "\n",
              "  <div id=\"df-547b2034-2faf-4ea1-9afa-d901755d5cff\">\n",
              "    <div class=\"colab-df-container\">\n",
              "      <div>\n",
              "<style scoped>\n",
              "    .dataframe tbody tr th:only-of-type {\n",
              "        vertical-align: middle;\n",
              "    }\n",
              "\n",
              "    .dataframe tbody tr th {\n",
              "        vertical-align: top;\n",
              "    }\n",
              "\n",
              "    .dataframe thead th {\n",
              "        text-align: right;\n",
              "    }\n",
              "</style>\n",
              "<table border=\"1\" class=\"dataframe\">\n",
              "  <thead>\n",
              "    <tr style=\"text-align: right;\">\n",
              "      <th></th>\n",
              "      <th>recipe</th>\n",
              "      <th>calories</th>\n",
              "      <th>carbohydrate</th>\n",
              "      <th>sugar</th>\n",
              "      <th>protein</th>\n",
              "    </tr>\n",
              "  </thead>\n",
              "  <tbody>\n",
              "    <tr>\n",
              "      <th>count</th>\n",
              "      <td>947.000000</td>\n",
              "      <td>895.000000</td>\n",
              "      <td>895.000000</td>\n",
              "      <td>895.000000</td>\n",
              "      <td>895.000000</td>\n",
              "    </tr>\n",
              "    <tr>\n",
              "      <th>mean</th>\n",
              "      <td>474.000000</td>\n",
              "      <td>435.939196</td>\n",
              "      <td>35.069676</td>\n",
              "      <td>9.046547</td>\n",
              "      <td>24.149296</td>\n",
              "    </tr>\n",
              "    <tr>\n",
              "      <th>std</th>\n",
              "      <td>273.519652</td>\n",
              "      <td>453.020997</td>\n",
              "      <td>43.949032</td>\n",
              "      <td>14.679176</td>\n",
              "      <td>36.369739</td>\n",
              "    </tr>\n",
              "    <tr>\n",
              "      <th>min</th>\n",
              "      <td>1.000000</td>\n",
              "      <td>0.140000</td>\n",
              "      <td>0.030000</td>\n",
              "      <td>0.010000</td>\n",
              "      <td>0.000000</td>\n",
              "    </tr>\n",
              "    <tr>\n",
              "      <th>25%</th>\n",
              "      <td>237.500000</td>\n",
              "      <td>110.430000</td>\n",
              "      <td>8.375000</td>\n",
              "      <td>1.690000</td>\n",
              "      <td>3.195000</td>\n",
              "    </tr>\n",
              "    <tr>\n",
              "      <th>50%</th>\n",
              "      <td>474.000000</td>\n",
              "      <td>288.550000</td>\n",
              "      <td>21.480000</td>\n",
              "      <td>4.550000</td>\n",
              "      <td>10.800000</td>\n",
              "    </tr>\n",
              "    <tr>\n",
              "      <th>75%</th>\n",
              "      <td>710.500000</td>\n",
              "      <td>597.650000</td>\n",
              "      <td>44.965000</td>\n",
              "      <td>9.800000</td>\n",
              "      <td>30.200000</td>\n",
              "    </tr>\n",
              "    <tr>\n",
              "      <th>max</th>\n",
              "      <td>947.000000</td>\n",
              "      <td>3633.160000</td>\n",
              "      <td>530.420000</td>\n",
              "      <td>148.750000</td>\n",
              "      <td>363.360000</td>\n",
              "    </tr>\n",
              "  </tbody>\n",
              "</table>\n",
              "</div>\n",
              "      <button class=\"colab-df-convert\" onclick=\"convertToInteractive('df-547b2034-2faf-4ea1-9afa-d901755d5cff')\"\n",
              "              title=\"Convert this dataframe to an interactive table.\"\n",
              "              style=\"display:none;\">\n",
              "        \n",
              "  <svg xmlns=\"http://www.w3.org/2000/svg\" height=\"24px\"viewBox=\"0 0 24 24\"\n",
              "       width=\"24px\">\n",
              "    <path d=\"M0 0h24v24H0V0z\" fill=\"none\"/>\n",
              "    <path d=\"M18.56 5.44l.94 2.06.94-2.06 2.06-.94-2.06-.94-.94-2.06-.94 2.06-2.06.94zm-11 1L8.5 8.5l.94-2.06 2.06-.94-2.06-.94L8.5 2.5l-.94 2.06-2.06.94zm10 10l.94 2.06.94-2.06 2.06-.94-2.06-.94-.94-2.06-.94 2.06-2.06.94z\"/><path d=\"M17.41 7.96l-1.37-1.37c-.4-.4-.92-.59-1.43-.59-.52 0-1.04.2-1.43.59L10.3 9.45l-7.72 7.72c-.78.78-.78 2.05 0 2.83L4 21.41c.39.39.9.59 1.41.59.51 0 1.02-.2 1.41-.59l7.78-7.78 2.81-2.81c.8-.78.8-2.07 0-2.86zM5.41 20L4 18.59l7.72-7.72 1.47 1.35L5.41 20z\"/>\n",
              "  </svg>\n",
              "      </button>\n",
              "      \n",
              "  <style>\n",
              "    .colab-df-container {\n",
              "      display:flex;\n",
              "      flex-wrap:wrap;\n",
              "      gap: 12px;\n",
              "    }\n",
              "\n",
              "    .colab-df-convert {\n",
              "      background-color: #E8F0FE;\n",
              "      border: none;\n",
              "      border-radius: 50%;\n",
              "      cursor: pointer;\n",
              "      display: none;\n",
              "      fill: #1967D2;\n",
              "      height: 32px;\n",
              "      padding: 0 0 0 0;\n",
              "      width: 32px;\n",
              "    }\n",
              "\n",
              "    .colab-df-convert:hover {\n",
              "      background-color: #E2EBFA;\n",
              "      box-shadow: 0px 1px 2px rgba(60, 64, 67, 0.3), 0px 1px 3px 1px rgba(60, 64, 67, 0.15);\n",
              "      fill: #174EA6;\n",
              "    }\n",
              "\n",
              "    [theme=dark] .colab-df-convert {\n",
              "      background-color: #3B4455;\n",
              "      fill: #D2E3FC;\n",
              "    }\n",
              "\n",
              "    [theme=dark] .colab-df-convert:hover {\n",
              "      background-color: #434B5C;\n",
              "      box-shadow: 0px 1px 3px 1px rgba(0, 0, 0, 0.15);\n",
              "      filter: drop-shadow(0px 1px 2px rgba(0, 0, 0, 0.3));\n",
              "      fill: #FFFFFF;\n",
              "    }\n",
              "  </style>\n",
              "\n",
              "      <script>\n",
              "        const buttonEl =\n",
              "          document.querySelector('#df-547b2034-2faf-4ea1-9afa-d901755d5cff button.colab-df-convert');\n",
              "        buttonEl.style.display =\n",
              "          google.colab.kernel.accessAllowed ? 'block' : 'none';\n",
              "\n",
              "        async function convertToInteractive(key) {\n",
              "          const element = document.querySelector('#df-547b2034-2faf-4ea1-9afa-d901755d5cff');\n",
              "          const dataTable =\n",
              "            await google.colab.kernel.invokeFunction('convertToInteractive',\n",
              "                                                     [key], {});\n",
              "          if (!dataTable) return;\n",
              "\n",
              "          const docLinkHtml = 'Like what you see? Visit the ' +\n",
              "            '<a target=\"_blank\" href=https://colab.research.google.com/notebooks/data_table.ipynb>data table notebook</a>'\n",
              "            + ' to learn more about interactive tables.';\n",
              "          element.innerHTML = '';\n",
              "          dataTable['output_type'] = 'display_data';\n",
              "          await google.colab.output.renderOutput(dataTable, element);\n",
              "          const docLink = document.createElement('div');\n",
              "          docLink.innerHTML = docLinkHtml;\n",
              "          element.appendChild(docLink);\n",
              "        }\n",
              "      </script>\n",
              "    </div>\n",
              "  </div>\n",
              "  "
            ]
          },
          "metadata": {},
          "execution_count": 5
        }
      ]
    },
    {
      "cell_type": "markdown",
      "source": [
        "##### Inconsistent format in the serving column and the column is in the wrong data type."
      ],
      "metadata": {
        "id": "MbCxF6DlwHpm"
      }
    },
    {
      "cell_type": "code",
      "source": [
        "df['servings'].unique()"
      ],
      "metadata": {
        "colab": {
          "base_uri": "https://localhost:8080/"
        },
        "id": "Od1kWmJgBGgK",
        "outputId": "983393bf-1c99-4544-a439-89e1dc4903fb"
      },
      "execution_count": 6,
      "outputs": [
        {
          "output_type": "execute_result",
          "data": {
            "text/plain": [
              "array(['6', '4', '1', '2', '4 as a snack', '6 as a snack'], dtype=object)"
            ]
          },
          "metadata": {},
          "execution_count": 6
        }
      ]
    },
    {
      "cell_type": "markdown",
      "source": [
        "##### 11 instead of 10 unique categories. the extra category is 'Chicken Breast'"
      ],
      "metadata": {
        "id": "chPp7j5MwUH7"
      }
    },
    {
      "cell_type": "code",
      "source": [
        "df['category'].unique()"
      ],
      "metadata": {
        "colab": {
          "base_uri": "https://localhost:8080/"
        },
        "id": "por5MzJTBQhU",
        "outputId": "7eba8a5b-5d48-4ad3-b770-c06321559ac0"
      },
      "execution_count": 7,
      "outputs": [
        {
          "output_type": "execute_result",
          "data": {
            "text/plain": [
              "array(['Pork', 'Potato', 'Breakfast', 'Beverages', 'One Dish Meal',\n",
              "       'Chicken Breast', 'Lunch/Snacks', 'Chicken', 'Vegetable', 'Meat',\n",
              "       'Dessert'], dtype=object)"
            ]
          },
          "metadata": {},
          "execution_count": 7
        }
      ]
    },
    {
      "cell_type": "markdown",
      "source": [
        "## 2. Data Cleaning"
      ],
      "metadata": {
        "id": "JoZ4nvvaBAKl"
      }
    },
    {
      "cell_type": "markdown",
      "source": [
        "###### missing values in this column mean the recipe wasn't recieving high traffic. so i'm going to replace nan with 'Low'"
      ],
      "metadata": {
        "id": "8jP18WKP6dpz"
      }
    },
    {
      "cell_type": "code",
      "source": [
        "df[\"high_traffic\"].unique()"
      ],
      "metadata": {
        "colab": {
          "base_uri": "https://localhost:8080/"
        },
        "id": "HtNFko5qtY1b",
        "outputId": "bc6fcccd-dcb6-4c7b-bb7f-36092b24d9ad"
      },
      "execution_count": 8,
      "outputs": [
        {
          "output_type": "execute_result",
          "data": {
            "text/plain": [
              "array(['High', nan], dtype=object)"
            ]
          },
          "metadata": {},
          "execution_count": 8
        }
      ]
    },
    {
      "cell_type": "code",
      "source": [
        "df['high_traffic'] = df['high_traffic'].fillna('Low')\n",
        "df['high_traffic'].value_counts(normalize=True)"
      ],
      "metadata": {
        "colab": {
          "base_uri": "https://localhost:8080/"
        },
        "id": "KKSASZo8HuTX",
        "outputId": "7c54af48-a466-463a-da50-8dca8e0f084c"
      },
      "execution_count": 20,
      "outputs": [
        {
          "output_type": "execute_result",
          "data": {
            "text/plain": [
              "High    0.606125\n",
              "Low     0.393875\n",
              "Name: high_traffic, dtype: float64"
            ]
          },
          "metadata": {},
          "execution_count": 20
        }
      ]
    },
    {
      "cell_type": "markdown",
      "source": [
        "##### category column should contain 10 unique categories, in our case we have 11. So i'm going to replace 'chicken breast' with 'chicken' to add those values to the appropriate category."
      ],
      "metadata": {
        "id": "GW8pfplq6kyG"
      }
    },
    {
      "cell_type": "code",
      "source": [
        "df[\"category\"].unique()"
      ],
      "metadata": {
        "colab": {
          "base_uri": "https://localhost:8080/"
        },
        "id": "MYyAZh-e3EZp",
        "outputId": "f701cce2-7682-4f1f-a0c8-c25ca52886d0"
      },
      "execution_count": 10,
      "outputs": [
        {
          "output_type": "execute_result",
          "data": {
            "text/plain": [
              "array(['Pork', 'Potato', 'Breakfast', 'Beverages', 'One Dish Meal',\n",
              "       'Chicken Breast', 'Lunch/Snacks', 'Chicken', 'Vegetable', 'Meat',\n",
              "       'Dessert'], dtype=object)"
            ]
          },
          "metadata": {},
          "execution_count": 10
        }
      ]
    },
    {
      "cell_type": "code",
      "source": [
        "df[\"category\"] = df[\"category\"].str.replace('Chicken Breast', 'Chicken')\n",
        "df[\"category\"].nunique()"
      ],
      "metadata": {
        "colab": {
          "base_uri": "https://localhost:8080/"
        },
        "id": "24uKUt2iDdvg",
        "outputId": "f036f783-0724-4f51-d7f1-d68706856adb"
      },
      "execution_count": 11,
      "outputs": [
        {
          "output_type": "execute_result",
          "data": {
            "text/plain": [
              "10"
            ]
          },
          "metadata": {},
          "execution_count": 11
        }
      ]
    },
    {
      "cell_type": "markdown",
      "source": [
        "##### serving column contains inconsistent format and is an object data type instead of integer. so i will normalize the format in the column to only contain numeric values, then change the data type to integer."
      ],
      "metadata": {
        "id": "ZbwOaOXR693o"
      }
    },
    {
      "cell_type": "code",
      "source": [
        "df[\"servings\"].unique()"
      ],
      "metadata": {
        "colab": {
          "base_uri": "https://localhost:8080/"
        },
        "id": "GCKWMQBZ3-IJ",
        "outputId": "007a6dfa-c80b-4d5c-9b13-76a78bf3f8aa"
      },
      "execution_count": 12,
      "outputs": [
        {
          "output_type": "execute_result",
          "data": {
            "text/plain": [
              "array(['6', '4', '1', '2', '4 as a snack', '6 as a snack'], dtype=object)"
            ]
          },
          "metadata": {},
          "execution_count": 12
        }
      ]
    },
    {
      "cell_type": "code",
      "source": [
        "df[\"servings\"] = df[\"servings\"].str.replace('4 as a snack', '4') \\\n",
        "                               .str.replace('6 as a snack', '6')"
      ],
      "metadata": {
        "id": "eFCY4wP_9Nrx"
      },
      "execution_count": 13,
      "outputs": []
    },
    {
      "cell_type": "code",
      "source": [
        "df[\"servings\"].unique()"
      ],
      "metadata": {
        "colab": {
          "base_uri": "https://localhost:8080/"
        },
        "id": "NwvrOLeMADfi",
        "outputId": "e98cc267-aca6-45ac-897c-f7e56e8ab59b"
      },
      "execution_count": 14,
      "outputs": [
        {
          "output_type": "execute_result",
          "data": {
            "text/plain": [
              "array(['6', '4', '1', '2'], dtype=object)"
            ]
          },
          "metadata": {},
          "execution_count": 14
        }
      ]
    },
    {
      "cell_type": "code",
      "source": [
        "df[\"servings\"] = df[\"servings\"].astype('int')\n",
        "df.dtypes"
      ],
      "metadata": {
        "colab": {
          "base_uri": "https://localhost:8080/"
        },
        "id": "FTFvGXToATeQ",
        "outputId": "7e006da9-db7a-45c5-c56b-689f56db3b1b"
      },
      "execution_count": 15,
      "outputs": [
        {
          "output_type": "execute_result",
          "data": {
            "text/plain": [
              "recipe            int64\n",
              "calories        float64\n",
              "carbohydrate    float64\n",
              "sugar           float64\n",
              "protein         float64\n",
              "category         object\n",
              "servings          int64\n",
              "high_traffic     object\n",
              "dtype: object"
            ]
          },
          "metadata": {},
          "execution_count": 15
        }
      ]
    },
    {
      "cell_type": "markdown",
      "source": [
        "###### Dealing with outliers in [\"carbohydrate\", \"calories\", \"sugar\", \"protein\"] columns\n",
        "*Outliers refers to an observation that lies an abnormal distance from other values in a random sample.\n",
        "These outliers will negatively impact our analysis and reduce the accuracy of the predictive model we are trying to create.*\n",
        "- The data seems to vary greatly in these columns, which suggests the presences of outliers. **Check Table A and Graph 0 below**."
      ],
      "metadata": {
        "id": "BPOXac4_IgyH"
      }
    },
    {
      "cell_type": "code",
      "source": [
        "# Table A\n",
        "df[[\"carbohydrate\", \"calories\", \"sugar\", \"protein\"]].describe()"
      ],
      "metadata": {
        "colab": {
          "base_uri": "https://localhost:8080/",
          "height": 300
        },
        "id": "g9lVbwrLI2F_",
        "outputId": "f411c582-c841-481e-cdd1-5de6aad48b70"
      },
      "execution_count": 16,
      "outputs": [
        {
          "output_type": "execute_result",
          "data": {
            "text/plain": [
              "       carbohydrate     calories       sugar     protein\n",
              "count    895.000000   895.000000  895.000000  895.000000\n",
              "mean      35.069676   435.939196    9.046547   24.149296\n",
              "std       43.949032   453.020997   14.679176   36.369739\n",
              "min        0.030000     0.140000    0.010000    0.000000\n",
              "25%        8.375000   110.430000    1.690000    3.195000\n",
              "50%       21.480000   288.550000    4.550000   10.800000\n",
              "75%       44.965000   597.650000    9.800000   30.200000\n",
              "max      530.420000  3633.160000  148.750000  363.360000"
            ],
            "text/html": [
              "\n",
              "  <div id=\"df-fc9069c5-59d0-4bf1-91c6-1afa1acaffb6\">\n",
              "    <div class=\"colab-df-container\">\n",
              "      <div>\n",
              "<style scoped>\n",
              "    .dataframe tbody tr th:only-of-type {\n",
              "        vertical-align: middle;\n",
              "    }\n",
              "\n",
              "    .dataframe tbody tr th {\n",
              "        vertical-align: top;\n",
              "    }\n",
              "\n",
              "    .dataframe thead th {\n",
              "        text-align: right;\n",
              "    }\n",
              "</style>\n",
              "<table border=\"1\" class=\"dataframe\">\n",
              "  <thead>\n",
              "    <tr style=\"text-align: right;\">\n",
              "      <th></th>\n",
              "      <th>carbohydrate</th>\n",
              "      <th>calories</th>\n",
              "      <th>sugar</th>\n",
              "      <th>protein</th>\n",
              "    </tr>\n",
              "  </thead>\n",
              "  <tbody>\n",
              "    <tr>\n",
              "      <th>count</th>\n",
              "      <td>895.000000</td>\n",
              "      <td>895.000000</td>\n",
              "      <td>895.000000</td>\n",
              "      <td>895.000000</td>\n",
              "    </tr>\n",
              "    <tr>\n",
              "      <th>mean</th>\n",
              "      <td>35.069676</td>\n",
              "      <td>435.939196</td>\n",
              "      <td>9.046547</td>\n",
              "      <td>24.149296</td>\n",
              "    </tr>\n",
              "    <tr>\n",
              "      <th>std</th>\n",
              "      <td>43.949032</td>\n",
              "      <td>453.020997</td>\n",
              "      <td>14.679176</td>\n",
              "      <td>36.369739</td>\n",
              "    </tr>\n",
              "    <tr>\n",
              "      <th>min</th>\n",
              "      <td>0.030000</td>\n",
              "      <td>0.140000</td>\n",
              "      <td>0.010000</td>\n",
              "      <td>0.000000</td>\n",
              "    </tr>\n",
              "    <tr>\n",
              "      <th>25%</th>\n",
              "      <td>8.375000</td>\n",
              "      <td>110.430000</td>\n",
              "      <td>1.690000</td>\n",
              "      <td>3.195000</td>\n",
              "    </tr>\n",
              "    <tr>\n",
              "      <th>50%</th>\n",
              "      <td>21.480000</td>\n",
              "      <td>288.550000</td>\n",
              "      <td>4.550000</td>\n",
              "      <td>10.800000</td>\n",
              "    </tr>\n",
              "    <tr>\n",
              "      <th>75%</th>\n",
              "      <td>44.965000</td>\n",
              "      <td>597.650000</td>\n",
              "      <td>9.800000</td>\n",
              "      <td>30.200000</td>\n",
              "    </tr>\n",
              "    <tr>\n",
              "      <th>max</th>\n",
              "      <td>530.420000</td>\n",
              "      <td>3633.160000</td>\n",
              "      <td>148.750000</td>\n",
              "      <td>363.360000</td>\n",
              "    </tr>\n",
              "  </tbody>\n",
              "</table>\n",
              "</div>\n",
              "      <button class=\"colab-df-convert\" onclick=\"convertToInteractive('df-fc9069c5-59d0-4bf1-91c6-1afa1acaffb6')\"\n",
              "              title=\"Convert this dataframe to an interactive table.\"\n",
              "              style=\"display:none;\">\n",
              "        \n",
              "  <svg xmlns=\"http://www.w3.org/2000/svg\" height=\"24px\"viewBox=\"0 0 24 24\"\n",
              "       width=\"24px\">\n",
              "    <path d=\"M0 0h24v24H0V0z\" fill=\"none\"/>\n",
              "    <path d=\"M18.56 5.44l.94 2.06.94-2.06 2.06-.94-2.06-.94-.94-2.06-.94 2.06-2.06.94zm-11 1L8.5 8.5l.94-2.06 2.06-.94-2.06-.94L8.5 2.5l-.94 2.06-2.06.94zm10 10l.94 2.06.94-2.06 2.06-.94-2.06-.94-.94-2.06-.94 2.06-2.06.94z\"/><path d=\"M17.41 7.96l-1.37-1.37c-.4-.4-.92-.59-1.43-.59-.52 0-1.04.2-1.43.59L10.3 9.45l-7.72 7.72c-.78.78-.78 2.05 0 2.83L4 21.41c.39.39.9.59 1.41.59.51 0 1.02-.2 1.41-.59l7.78-7.78 2.81-2.81c.8-.78.8-2.07 0-2.86zM5.41 20L4 18.59l7.72-7.72 1.47 1.35L5.41 20z\"/>\n",
              "  </svg>\n",
              "      </button>\n",
              "      \n",
              "  <style>\n",
              "    .colab-df-container {\n",
              "      display:flex;\n",
              "      flex-wrap:wrap;\n",
              "      gap: 12px;\n",
              "    }\n",
              "\n",
              "    .colab-df-convert {\n",
              "      background-color: #E8F0FE;\n",
              "      border: none;\n",
              "      border-radius: 50%;\n",
              "      cursor: pointer;\n",
              "      display: none;\n",
              "      fill: #1967D2;\n",
              "      height: 32px;\n",
              "      padding: 0 0 0 0;\n",
              "      width: 32px;\n",
              "    }\n",
              "\n",
              "    .colab-df-convert:hover {\n",
              "      background-color: #E2EBFA;\n",
              "      box-shadow: 0px 1px 2px rgba(60, 64, 67, 0.3), 0px 1px 3px 1px rgba(60, 64, 67, 0.15);\n",
              "      fill: #174EA6;\n",
              "    }\n",
              "\n",
              "    [theme=dark] .colab-df-convert {\n",
              "      background-color: #3B4455;\n",
              "      fill: #D2E3FC;\n",
              "    }\n",
              "\n",
              "    [theme=dark] .colab-df-convert:hover {\n",
              "      background-color: #434B5C;\n",
              "      box-shadow: 0px 1px 3px 1px rgba(0, 0, 0, 0.15);\n",
              "      filter: drop-shadow(0px 1px 2px rgba(0, 0, 0, 0.3));\n",
              "      fill: #FFFFFF;\n",
              "    }\n",
              "  </style>\n",
              "\n",
              "      <script>\n",
              "        const buttonEl =\n",
              "          document.querySelector('#df-fc9069c5-59d0-4bf1-91c6-1afa1acaffb6 button.colab-df-convert');\n",
              "        buttonEl.style.display =\n",
              "          google.colab.kernel.accessAllowed ? 'block' : 'none';\n",
              "\n",
              "        async function convertToInteractive(key) {\n",
              "          const element = document.querySelector('#df-fc9069c5-59d0-4bf1-91c6-1afa1acaffb6');\n",
              "          const dataTable =\n",
              "            await google.colab.kernel.invokeFunction('convertToInteractive',\n",
              "                                                     [key], {});\n",
              "          if (!dataTable) return;\n",
              "\n",
              "          const docLinkHtml = 'Like what you see? Visit the ' +\n",
              "            '<a target=\"_blank\" href=https://colab.research.google.com/notebooks/data_table.ipynb>data table notebook</a>'\n",
              "            + ' to learn more about interactive tables.';\n",
              "          element.innerHTML = '';\n",
              "          dataTable['output_type'] = 'display_data';\n",
              "          await google.colab.output.renderOutput(dataTable, element);\n",
              "          const docLink = document.createElement('div');\n",
              "          docLink.innerHTML = docLinkHtml;\n",
              "          element.appendChild(docLink);\n",
              "        }\n",
              "      </script>\n",
              "    </div>\n",
              "  </div>\n",
              "  "
            ]
          },
          "metadata": {},
          "execution_count": 16
        }
      ]
    },
    {
      "cell_type": "code",
      "source": [
        "# Graph 0\n",
        "numeric_cols =  [\"carbohydrate\", \"calories\", \"sugar\", \"protein\"]\n",
        "df[numeric_cols].plot(kind='box')"
      ],
      "metadata": {
        "colab": {
          "base_uri": "https://localhost:8080/",
          "height": 282
        },
        "id": "H6w0MUw1Fg28",
        "outputId": "103eb21c-6570-4364-d772-6890bea46b91"
      },
      "execution_count": 17,
      "outputs": [
        {
          "output_type": "execute_result",
          "data": {
            "text/plain": [
              "<AxesSubplot:>"
            ]
          },
          "metadata": {},
          "execution_count": 17
        },
        {
          "output_type": "display_data",
          "data": {
            "text/plain": [
              "<Figure size 432x288 with 1 Axes>"
            ],
            "image/png": "[encoded data removed]"
          },
          "metadata": {
            "needs_background": "light"
          }
        }
      ]
    },
    {
      "cell_type": "markdown",
      "source": [
        "##### Removing outliers"
      ],
      "metadata": {
        "id": "UHiWtQnMhm-y"
      }
    },
    {
      "cell_type": "markdown",
      "source": [
        "**There are mutiple ways to doing this, but i chose to stick to a very simple and straightforward approach and try to make it more convenient by incorporating this approach into a python function**\n",
        "\n",
        "*The function remove_outliers_updated() takes in two arguements, a dataframe and a list of numeric columns suspected of containing outliers. The function returns a dataframe where the outliers are converted into nan values.*\n",
        "*The reason why i chose to do this instead of dropping the outliers, is because the dataset is already small and getting rid of more data with lead to information loss.*\n",
        "\n"
      ],
      "metadata": {
        "id": "qrevCEL7-gs7"
      }
    },
    {
      "cell_type": "code",
      "source": [
        "def remove_outliers_updated(df, cols):\n",
        "    # Copy the original DataFrame to avoid modifying it\n",
        "    df_copy = df.copy()\n",
        "    \n",
        "    # Loop through each column and replace outliers with NaN values\n",
        "    for col in cols:\n",
        "        q1 = df_copy[col].quantile(0.25)\n",
        "        q3 = df_copy[col].quantile(0.75)\n",
        "        iqr = q3 - q1\n",
        "        lower_bound = q1 - 1.5 * iqr\n",
        "        upper_bound = q3 + 1.5 * iqr\n",
        "        df_copy.loc[(df_copy[col] < lower_bound) | (df_copy[col] > upper_bound), col] = np.nan\n",
        "    \n",
        "    # Return the DataFrame with outliers replaced by NaN values\n",
        "    return df_copy"
      ],
      "metadata": {
        "id": "8v5SV6ZaAQTV"
      },
      "execution_count": 18,
      "outputs": []
    },
    {
      "cell_type": "code",
      "source": [
        "new_df = remove_outliers_updated(df, [\"carbohydrate\", \"calories\", \"sugar\", \"protein\"])\n",
        "new_df.describe()"
      ],
      "metadata": {
        "colab": {
          "base_uri": "https://localhost:8080/",
          "height": 300
        },
        "id": "qpUs4Sk7xMtW",
        "outputId": "3abe1541-7749-4e70-d2f4-e81e333ca301"
      },
      "execution_count": 19,
      "outputs": [
        {
          "output_type": "execute_result",
          "data": {
            "text/plain": [
              "           recipe     calories  carbohydrate       sugar     protein  \\\n",
              "count  947.000000   848.000000    837.000000  816.000000  818.000000   \n",
              "mean   474.000000   362.641663     26.318244    5.370061   15.362531   \n",
              "std    273.519652   319.311624     23.348508    4.878443   16.467054   \n",
              "min      1.000000     0.140000      0.030000    0.010000    0.000000   \n",
              "25%    237.500000   102.230000      7.790000    1.580000    2.647500   \n",
              "50%    474.000000   266.060000     19.250000    3.925000    9.150000   \n",
              "75%    710.500000   542.507500     38.660000    7.840000   23.117500   \n",
              "max    947.000000  1321.780000     99.820000   20.990000   70.690000   \n",
              "\n",
              "         servings  \n",
              "count  947.000000  \n",
              "mean     3.477297  \n",
              "std      1.732741  \n",
              "min      1.000000  \n",
              "25%      2.000000  \n",
              "50%      4.000000  \n",
              "75%      4.000000  \n",
              "max      6.000000  "
            ],
            "text/html": [
              "\n",
              "  <div id=\"df-54ea9f49-4797-4b72-a87e-6eb50c509af0\">\n",
              "    <div class=\"colab-df-container\">\n",
              "      <div>\n",
              "<style scoped>\n",
              "    .dataframe tbody tr th:only-of-type {\n",
              "        vertical-align: middle;\n",
              "    }\n",
              "\n",
              "    .dataframe tbody tr th {\n",
              "        vertical-align: top;\n",
              "    }\n",
              "\n",
              "    .dataframe thead th {\n",
              "        text-align: right;\n",
              "    }\n",
              "</style>\n",
              "<table border=\"1\" class=\"dataframe\">\n",
              "  <thead>\n",
              "    <tr style=\"text-align: right;\">\n",
              "      <th></th>\n",
              "      <th>recipe</th>\n",
              "      <th>calories</th>\n",
              "      <th>carbohydrate</th>\n",
              "      <th>sugar</th>\n",
              "      <th>protein</th>\n",
              "      <th>servings</th>\n",
              "    </tr>\n",
              "  </thead>\n",
              "  <tbody>\n",
              "    <tr>\n",
              "      <th>count</th>\n",
              "      <td>947.000000</td>\n",
              "      <td>848.000000</td>\n",
              "      <td>837.000000</td>\n",
              "      <td>816.000000</td>\n",
              "      <td>818.000000</td>\n",
              "      <td>947.000000</td>\n",
              "    </tr>\n",
              "    <tr>\n",
              "      <th>mean</th>\n",
              "      <td>474.000000</td>\n",
              "      <td>362.641663</td>\n",
              "      <td>26.318244</td>\n",
              "      <td>5.370061</td>\n",
              "      <td>15.362531</td>\n",
              "      <td>3.477297</td>\n",
              "    </tr>\n",
              "    <tr>\n",
              "      <th>std</th>\n",
              "      <td>273.519652</td>\n",
              "      <td>319.311624</td>\n",
              "      <td>23.348508</td>\n",
              "      <td>4.878443</td>\n",
              "      <td>16.467054</td>\n",
              "      <td>1.732741</td>\n",
              "    </tr>\n",
              "    <tr>\n",
              "      <th>min</th>\n",
              "      <td>1.000000</td>\n",
              "      <td>0.140000</td>\n",
              "      <td>0.030000</td>\n",
              "      <td>0.010000</td>\n",
              "      <td>0.000000</td>\n",
              "      <td>1.000000</td>\n",
              "    </tr>\n",
              "    <tr>\n",
              "      <th>25%</th>\n",
              "      <td>237.500000</td>\n",
              "      <td>102.230000</td>\n",
              "      <td>7.790000</td>\n",
              "      <td>1.580000</td>\n",
              "      <td>2.647500</td>\n",
              "      <td>2.000000</td>\n",
              "    </tr>\n",
              "    <tr>\n",
              "      <th>50%</th>\n",
              "      <td>474.000000</td>\n",
              "      <td>266.060000</td>\n",
              "      <td>19.250000</td>\n",
              "      <td>3.925000</td>\n",
              "      <td>9.150000</td>\n",
              "      <td>4.000000</td>\n",
              "    </tr>\n",
              "    <tr>\n",
              "      <th>75%</th>\n",
              "      <td>710.500000</td>\n",
              "      <td>542.507500</td>\n",
              "      <td>38.660000</td>\n",
              "      <td>7.840000</td>\n",
              "      <td>23.117500</td>\n",
              "      <td>4.000000</td>\n",
              "    </tr>\n",
              "    <tr>\n",
              "      <th>max</th>\n",
              "      <td>947.000000</td>\n",
              "      <td>1321.780000</td>\n",
              "      <td>99.820000</td>\n",
              "      <td>20.990000</td>\n",
              "      <td>70.690000</td>\n",
              "      <td>6.000000</td>\n",
              "    </tr>\n",
              "  </tbody>\n",
              "</table>\n",
              "</div>\n",
              "      <button class=\"colab-df-convert\" onclick=\"convertToInteractive('df-54ea9f49-4797-4b72-a87e-6eb50c509af0')\"\n",
              "              title=\"Convert this dataframe to an interactive table.\"\n",
              "              style=\"display:none;\">\n",
              "        \n",
              "  <svg xmlns=\"http://www.w3.org/2000/svg\" height=\"24px\"viewBox=\"0 0 24 24\"\n",
              "       width=\"24px\">\n",
              "    <path d=\"M0 0h24v24H0V0z\" fill=\"none\"/>\n",
              "    <path d=\"M18.56 5.44l.94 2.06.94-2.06 2.06-.94-2.06-.94-.94-2.06-.94 2.06-2.06.94zm-11 1L8.5 8.5l.94-2.06 2.06-.94-2.06-.94L8.5 2.5l-.94 2.06-2.06.94zm10 10l.94 2.06.94-2.06 2.06-.94-2.06-.94-.94-2.06-.94 2.06-2.06.94z\"/><path d=\"M17.41 7.96l-1.37-1.37c-.4-.4-.92-.59-1.43-.59-.52 0-1.04.2-1.43.59L10.3 9.45l-7.72 7.72c-.78.78-.78 2.05 0 2.83L4 21.41c.39.39.9.59 1.41.59.51 0 1.02-.2 1.41-.59l7.78-7.78 2.81-2.81c.8-.78.8-2.07 0-2.86zM5.41 20L4 18.59l7.72-7.72 1.47 1.35L5.41 20z\"/>\n",
              "  </svg>\n",
              "      </button>\n",
              "      \n",
              "  <style>\n",
              "    .colab-df-container {\n",
              "      display:flex;\n",
              "      flex-wrap:wrap;\n",
              "      gap: 12px;\n",
              "    }\n",
              "\n",
              "    .colab-df-convert {\n",
              "      background-color: #E8F0FE;\n",
              "      border: none;\n",
              "      border-radius: 50%;\n",
              "      cursor: pointer;\n",
              "      display: none;\n",
              "      fill: #1967D2;\n",
              "      height: 32px;\n",
              "      padding: 0 0 0 0;\n",
              "      width: 32px;\n",
              "    }\n",
              "\n",
              "    .colab-df-convert:hover {\n",
              "      background-color: #E2EBFA;\n",
              "      box-shadow: 0px 1px 2px rgba(60, 64, 67, 0.3), 0px 1px 3px 1px rgba(60, 64, 67, 0.15);\n",
              "      fill: #174EA6;\n",
              "    }\n",
              "\n",
              "    [theme=dark] .colab-df-convert {\n",
              "      background-color: #3B4455;\n",
              "      fill: #D2E3FC;\n",
              "    }\n",
              "\n",
              "    [theme=dark] .colab-df-convert:hover {\n",
              "      background-color: #434B5C;\n",
              "      box-shadow: 0px 1px 3px 1px rgba(0, 0, 0, 0.15);\n",
              "      filter: drop-shadow(0px 1px 2px rgba(0, 0, 0, 0.3));\n",
              "      fill: #FFFFFF;\n",
              "    }\n",
              "  </style>\n",
              "\n",
              "      <script>\n",
              "        const buttonEl =\n",
              "          document.querySelector('#df-54ea9f49-4797-4b72-a87e-6eb50c509af0 button.colab-df-convert');\n",
              "        buttonEl.style.display =\n",
              "          google.colab.kernel.accessAllowed ? 'block' : 'none';\n",
              "\n",
              "        async function convertToInteractive(key) {\n",
              "          const element = document.querySelector('#df-54ea9f49-4797-4b72-a87e-6eb50c509af0');\n",
              "          const dataTable =\n",
              "            await google.colab.kernel.invokeFunction('convertToInteractive',\n",
              "                                                     [key], {});\n",
              "          if (!dataTable) return;\n",
              "\n",
              "          const docLinkHtml = 'Like what you see? Visit the ' +\n",
              "            '<a target=\"_blank\" href=https://colab.research.google.com/notebooks/data_table.ipynb>data table notebook</a>'\n",
              "            + ' to learn more about interactive tables.';\n",
              "          element.innerHTML = '';\n",
              "          dataTable['output_type'] = 'display_data';\n",
              "          await google.colab.output.renderOutput(dataTable, element);\n",
              "          const docLink = document.createElement('div');\n",
              "          docLink.innerHTML = docLinkHtml;\n",
              "          element.appendChild(docLink);\n",
              "        }\n",
              "      </script>\n",
              "    </div>\n",
              "  </div>\n",
              "  "
            ]
          },
          "metadata": {},
          "execution_count": 19
        }
      ]
    },
    {
      "cell_type": "markdown",
      "source": [
        "##### Note: *outliers have been turned into NaNs and the data seems less varied and more consistent.*"
      ],
      "metadata": {
        "id": "jlZshftm_bXl"
      }
    },
    {
      "cell_type": "markdown",
      "source": [
        "# II. Data Visualization\n",
        "#### 1. Two different types of graphic showing single variables only"
      ],
      "metadata": {
        "id": "rURD205rAA_m"
      }
    },
    {
      "cell_type": "code",
      "source": [
        "# Graph 1.\n",
        "sns.set()\n",
        "\n",
        "#define plotting region (2 rows, 2 columns)\n",
        "fig, axes = plt.subplots(figsize=(10,7))\n",
        "\n",
        "#create boxplot in each subplot\n",
        "sns.histplot(x=new_df[\"calories\"])\n",
        "\n",
        "plt.show()"
      ],
      "metadata": {
        "colab": {
          "base_uri": "https://localhost:8080/",
          "height": 448
        },
        "id": "qSrobfMytFUJ",
        "outputId": "ed6f9ac7-2543-499d-a11f-d62a13472e72"
      },
      "execution_count": 20,
      "outputs": [
        {
          "output_type": "display_data",
          "data": {
            "text/plain": [
              "<Figure size 720x504 with 1 Axes>"
            ],
            "image/png": "[encoded data removed]"
          },
          "metadata": {}
        }
      ]
    },
    {
      "cell_type": "code",
      "source": [
        "# Graph 2\n",
        "sns.set()\n",
        "\n",
        "#define plotting region (2 rows, 2 columns)\n",
        "fig, axes = plt.subplots(figsize=(10,7))\n",
        "\n",
        "#create boxplot in each subplot\n",
        "sns.countplot(x=new_df[\"servings\"])\n",
        "\n",
        "plt.show()"
      ],
      "metadata": {
        "colab": {
          "base_uri": "https://localhost:8080/",
          "height": 448
        },
        "id": "NcmMPWDvPNQo",
        "outputId": "4175c0df-e99b-4232-9e1f-db67c81f0803"
      },
      "execution_count": 21,
      "outputs": [
        {
          "output_type": "display_data",
          "data": {
            "text/plain": [
              "<Figure size 720x504 with 1 Axes>"
            ],
            "image/png": "[encoded data removed]"
          },
          "metadata": {}
        }
      ]
    },
    {
      "cell_type": "markdown",
      "source": [
        "#### 2. At least one graphic showing two or more variables"
      ],
      "metadata": {
        "id": "VSK4oSQDPjTy"
      }
    },
    {
      "cell_type": "code",
      "source": [
        "# Graph 3\n",
        "#set seaborn plotting aesthetics as default\n",
        "sns.set()\n",
        "\n",
        "#define plotting region (2 rows, 2 columns)\n",
        "fig, axes = plt.subplots(2, 2, figsize=(13,10))\n",
        "\n",
        "#create boxplot in each subplot\n",
        "sns.boxplot(y=new_df[\"carbohydrate\"], x=new_df[\"high_traffic\"], ax=axes[0,0])\n",
        "sns.boxplot(y=new_df[\"calories\"], x=new_df[\"high_traffic\"], ax=axes[0,1])\n",
        "sns.boxplot(y=new_df[\"sugar\"], x=new_df[\"high_traffic\"], ax=axes[1,0])\n",
        "sns.boxplot(y=new_df[\"protein\"], x=new_df[\"high_traffic\"], ax=axes[1,1])\n",
        "plt.show()"
      ],
      "metadata": {
        "colab": {
          "base_uri": "https://localhost:8080/",
          "height": 611
        },
        "id": "FfbQsmkrzp-2",
        "outputId": "08796b0d-8602-4781-f2b0-10af55db8556"
      },
      "execution_count": 22,
      "outputs": [
        {
          "output_type": "display_data",
          "data": {
            "text/plain": [
              "<Figure size 936x720 with 4 Axes>"
            ],
            "image/png": "[encoded data removed]"
          },
          "metadata": {}
        }
      ]
    },
    {
      "cell_type": "code",
      "source": [
        "# Graph 4:\n",
        "fig, axes = plt.subplots(figsize=(10,7))\n",
        "sns.violinplot(x='category', y='calories', data=df,whis=10)\n",
        "#,whis=10\n",
        "# Plot the y-axis on a log scale\n",
        "#plt.yscale('log')\n",
        " \n",
        "# Remove unneeded lines and label axes\n",
        "sns.despine(left=True, bottom=True)\n",
        "plt.xlabel('Category')\n",
        "plt.ylabel('Calories')\n",
        "plt.xticks(rotation=90)\n",
        "plt.show()"
      ],
      "metadata": {
        "colab": {
          "base_uri": "https://localhost:8080/",
          "height": 518
        },
        "id": "Jgr-xKsNRAby",
        "outputId": "84cbfa54-efeb-406d-a939-addbb2bcf7fa"
      },
      "execution_count": 23,
      "outputs": [
        {
          "output_type": "display_data",
          "data": {
            "text/plain": [
              "<Figure size 720x504 with 1 Axes>"
            ],
            "image/png": "[encoded data removed]"
          },
          "metadata": {}
        }
      ]
    },
    {
      "cell_type": "code",
      "source": [
        "# Graph 5\n",
        "sns.catplot(y=\"category\", data=df, kind=\"count\", col=\"high_traffic\")\n",
        "plt.xlabel('Count')\n",
        "plt.show()"
      ],
      "metadata": {
        "colab": {
          "base_uri": "https://localhost:8080/",
          "height": 365
        },
        "id": "VupXOYOImrSQ",
        "outputId": "d79b74bb-5377-445b-c7f6-68bc94bece90"
      },
      "execution_count": 24,
      "outputs": [
        {
          "output_type": "display_data",
          "data": {
            "text/plain": [
              "<Figure size 720x360 with 2 Axes>"
            ],
            "image/png": "[encoded data removed]"
          },
          "metadata": {}
        }
      ]
    },
    {
      "cell_type": "markdown",
      "source": [
        "#### 3. Description of your findings\n",
        "\n",
        "\n",
        "\n",
        "\n",
        "---\n",
        "\n",
        "\n",
        "##### Graph 1: The histogram of the Calories dataset is righ-sweked, since the majority of the data points have low values. which would make sense considering that \"Tasty Bytes\" main goal to provide users with healthy and balanced recipes.\n",
        "\n",
        "\n",
        "---\n",
        "\n",
        "\n",
        "##### Graph  2: The most common number of servings for recipe is 4, which accounts for 391 recipes or 41% of the recipes in the dataset.\n",
        "\n",
        "\n",
        "\n",
        "---\n",
        "\n",
        "##### Graph 3: From this graph we conclude that recipes which contain higher amounts of protein, carbohydrate and calories tend to get slightly more \"high traffic\". This however isn't true for sugar.\n",
        "\n",
        "\n",
        "\n",
        "---\n",
        "\n",
        "##### Graph 4: From this graph it is clear the recipes that include meat or chicken tend to have higher calories, whereas recipes that contain beverages and vegetables tend to have lower calories.\n",
        "\n",
        "\n",
        "---\n",
        "\n",
        "##### Graph 5: Recipes with heigher calories, carbohydrate and protein get higher traffic."
      ],
      "metadata": {
        "id": "c-mvdCj1nJJ2"
      }
    },
    {
      "cell_type": "markdown",
      "source": [
        "# Model Development:\n",
        "#### 1. What type of problem this is? (regression, classification or clustering)\n",
        "- The problem presented here is a binary Classification problem."
      ],
      "metadata": {
        "id": "M8E2HGNn7rh_"
      }
    },
    {
      "cell_type": "markdown",
      "source": [
        "#### 2. Machine Learning Preprocessing."
      ],
      "metadata": {
        "id": "XNLqEKRl7zh_"
      }
    },
    {
      "cell_type": "code",
      "source": [
        "# import necessary packages and files\n",
        "import pandas as pd\n",
        "import numpy as np\n",
        "import seaborn as sns\n",
        "import matplotlib.pyplot as plt\n",
        "import matplotlib.pyplot as plt\n",
        "from sklearn.preprocessing import StandardScaler, Normalizer\n",
        "from sklearn.impute import SimpleImputer\n",
        "from sklearn.model_selection import cross_val_score, KFold, train_test_split, GridSearchCV, RandomizedSearchCV\n",
        "from sklearn.neighbors import KNeighborsClassifier\n",
        "from sklearn.linear_model import LogisticRegression\n",
        "from sklearn.tree import DecisionTreeClassifier\n",
        "from sklearn.metrics import roc_auc_score, classification_report, confusion_matrix, accuracy_score\n",
        "from sklearn.pipeline import Pipeline"
      ],
      "metadata": {
        "id": "wqN09EGtVEKd"
      },
      "execution_count": 25,
      "outputs": []
    },
    {
      "cell_type": "markdown",
      "source": [
        "##### encode the \"high_traffic\" column so it holds numeric values using pandas. This is because the sci-kit learn only accepets numeric values and to use the column as the target variable."
      ],
      "metadata": {
        "id": "lSouON1BxuoX"
      }
    },
    {
      "cell_type": "code",
      "source": [
        "df[\"high_traffic\"] = df[\"high_traffic\"].apply(lambda val: 1 if val == 'High' else 0)\n",
        "df[\"high_traffic\"].value_counts()"
      ],
      "metadata": {
        "colab": {
          "base_uri": "https://localhost:8080/"
        },
        "id": "0u3gidln_IiE",
        "outputId": "85cf48f6-4cd2-45d2-d54a-054dd3eda8ab"
      },
      "execution_count": 26,
      "outputs": [
        {
          "output_type": "execute_result",
          "data": {
            "text/plain": [
              "1    574\n",
              "0    373\n",
              "Name: high_traffic, dtype: int64"
            ]
          },
          "metadata": {},
          "execution_count": 26
        }
      ]
    },
    {
      "cell_type": "markdown",
      "source": [
        "##### Created a dataframe containing only numeric columns with NaN values."
      ],
      "metadata": {
        "id": "rd4m2vkIx9hz"
      }
    },
    {
      "cell_type": "code",
      "source": [
        "df_num = df.drop(['high_traffic', 'category', 'servings'], axis=1)"
      ],
      "metadata": {
        "id": "y8w4RcvbAAkk"
      },
      "execution_count": 27,
      "outputs": []
    },
    {
      "cell_type": "markdown",
      "source": [
        "##### Impute the numeric dataframe using the mean value of each column."
      ],
      "metadata": {
        "id": "M6IcK9TfyQkr"
      }
    },
    {
      "cell_type": "code",
      "source": [
        "imp = SimpleImputer(strategy='mean')\n",
        "df_imp = pd.DataFrame(imp.fit_transform(df_num), columns=df_num.columns)\n",
        "df_imp.isnull().sum()"
      ],
      "metadata": {
        "colab": {
          "base_uri": "https://localhost:8080/"
        },
        "id": "nLL_WvUSU3jb",
        "outputId": "dd0487bb-54f9-48b0-9e6a-895f03c5faa1"
      },
      "execution_count": 28,
      "outputs": [
        {
          "output_type": "execute_result",
          "data": {
            "text/plain": [
              "recipe          0\n",
              "calories        0\n",
              "carbohydrate    0\n",
              "sugar           0\n",
              "protein         0\n",
              "dtype: int64"
            ]
          },
          "metadata": {},
          "execution_count": 28
        }
      ]
    },
    {
      "cell_type": "markdown",
      "source": [
        "##### The reason is chose to Normalize the data instead of Standardizing the dataframe, is because the data isn't Gaussian distributed and i already got rid of outliers that are known to negatively impact the normalizer performance. Also after multiple trails and errors this is the approach that led to the best results."
      ],
      "metadata": {
        "id": "5L9Mcf4DuuB1"
      }
    },
    {
      "cell_type": "code",
      "source": [
        "# normalize the data in the imputed numeric data frame\n",
        "normalize = Normalizer()\n",
        "df_normalized = pd.DataFrame(normalize.fit_transform(df_imp), columns=df_num.columns)\n",
        "df_normalized.describe()"
      ],
      "metadata": {
        "colab": {
          "base_uri": "https://localhost:8080/",
          "height": 300
        },
        "id": "5TAZzPNVVKkr",
        "outputId": "cdfcda82-aa6b-4e5e-f547-8b2c61cedb09"
      },
      "execution_count": 29,
      "outputs": [
        {
          "output_type": "execute_result",
          "data": {
            "text/plain": [
              "           recipe    calories  carbohydrate       sugar     protein\n",
              "count  947.000000  947.000000    947.000000  947.000000  947.000000\n",
              "mean     0.690320    0.557289      0.068110    0.019914    0.045188\n",
              "std      0.291195    0.319798      0.101974    0.044516    0.081124\n",
              "min      0.002283    0.000569      0.000029    0.000011    0.000000\n",
              "25%      0.489255    0.269011      0.013331    0.002625    0.005696\n",
              "50%      0.781974    0.590108      0.036453    0.007223    0.019396\n",
              "75%      0.949281    0.854629      0.074853    0.017801    0.045427\n",
              "max      0.999940    0.999834      0.854630    0.723891    0.788458"
            ],
            "text/html": [
              "\n",
              "  <div id=\"df-a1ff3bb5-8e60-4678-9d48-53d6b4dd8ab7\">\n",
              "    <div class=\"colab-df-container\">\n",
              "      <div>\n",
              "<style scoped>\n",
              "    .dataframe tbody tr th:only-of-type {\n",
              "        vertical-align: middle;\n",
              "    }\n",
              "\n",
              "    .dataframe tbody tr th {\n",
              "        vertical-align: top;\n",
              "    }\n",
              "\n",
              "    .dataframe thead th {\n",
              "        text-align: right;\n",
              "    }\n",
              "</style>\n",
              "<table border=\"1\" class=\"dataframe\">\n",
              "  <thead>\n",
              "    <tr style=\"text-align: right;\">\n",
              "      <th></th>\n",
              "      <th>recipe</th>\n",
              "      <th>calories</th>\n",
              "      <th>carbohydrate</th>\n",
              "      <th>sugar</th>\n",
              "      <th>protein</th>\n",
              "    </tr>\n",
              "  </thead>\n",
              "  <tbody>\n",
              "    <tr>\n",
              "      <th>count</th>\n",
              "      <td>947.000000</td>\n",
              "      <td>947.000000</td>\n",
              "      <td>947.000000</td>\n",
              "      <td>947.000000</td>\n",
              "      <td>947.000000</td>\n",
              "    </tr>\n",
              "    <tr>\n",
              "      <th>mean</th>\n",
              "      <td>0.690320</td>\n",
              "      <td>0.557289</td>\n",
              "      <td>0.068110</td>\n",
              "      <td>0.019914</td>\n",
              "      <td>0.045188</td>\n",
              "    </tr>\n",
              "    <tr>\n",
              "      <th>std</th>\n",
              "      <td>0.291195</td>\n",
              "      <td>0.319798</td>\n",
              "      <td>0.101974</td>\n",
              "      <td>0.044516</td>\n",
              "      <td>0.081124</td>\n",
              "    </tr>\n",
              "    <tr>\n",
              "      <th>min</th>\n",
              "      <td>0.002283</td>\n",
              "      <td>0.000569</td>\n",
              "      <td>0.000029</td>\n",
              "      <td>0.000011</td>\n",
              "      <td>0.000000</td>\n",
              "    </tr>\n",
              "    <tr>\n",
              "      <th>25%</th>\n",
              "      <td>0.489255</td>\n",
              "      <td>0.269011</td>\n",
              "      <td>0.013331</td>\n",
              "      <td>0.002625</td>\n",
              "      <td>0.005696</td>\n",
              "    </tr>\n",
              "    <tr>\n",
              "      <th>50%</th>\n",
              "      <td>0.781974</td>\n",
              "      <td>0.590108</td>\n",
              "      <td>0.036453</td>\n",
              "      <td>0.007223</td>\n",
              "      <td>0.019396</td>\n",
              "    </tr>\n",
              "    <tr>\n",
              "      <th>75%</th>\n",
              "      <td>0.949281</td>\n",
              "      <td>0.854629</td>\n",
              "      <td>0.074853</td>\n",
              "      <td>0.017801</td>\n",
              "      <td>0.045427</td>\n",
              "    </tr>\n",
              "    <tr>\n",
              "      <th>max</th>\n",
              "      <td>0.999940</td>\n",
              "      <td>0.999834</td>\n",
              "      <td>0.854630</td>\n",
              "      <td>0.723891</td>\n",
              "      <td>0.788458</td>\n",
              "    </tr>\n",
              "  </tbody>\n",
              "</table>\n",
              "</div>\n",
              "      <button class=\"colab-df-convert\" onclick=\"convertToInteractive('df-a1ff3bb5-8e60-4678-9d48-53d6b4dd8ab7')\"\n",
              "              title=\"Convert this dataframe to an interactive table.\"\n",
              "              style=\"display:none;\">\n",
              "        \n",
              "  <svg xmlns=\"http://www.w3.org/2000/svg\" height=\"24px\"viewBox=\"0 0 24 24\"\n",
              "       width=\"24px\">\n",
              "    <path d=\"M0 0h24v24H0V0z\" fill=\"none\"/>\n",
              "    <path d=\"M18.56 5.44l.94 2.06.94-2.06 2.06-.94-2.06-.94-.94-2.06-.94 2.06-2.06.94zm-11 1L8.5 8.5l.94-2.06 2.06-.94-2.06-.94L8.5 2.5l-.94 2.06-2.06.94zm10 10l.94 2.06.94-2.06 2.06-.94-2.06-.94-.94-2.06-.94 2.06-2.06.94z\"/><path d=\"M17.41 7.96l-1.37-1.37c-.4-.4-.92-.59-1.43-.59-.52 0-1.04.2-1.43.59L10.3 9.45l-7.72 7.72c-.78.78-.78 2.05 0 2.83L4 21.41c.39.39.9.59 1.41.59.51 0 1.02-.2 1.41-.59l7.78-7.78 2.81-2.81c.8-.78.8-2.07 0-2.86zM5.41 20L4 18.59l7.72-7.72 1.47 1.35L5.41 20z\"/>\n",
              "  </svg>\n",
              "      </button>\n",
              "      \n",
              "  <style>\n",
              "    .colab-df-container {\n",
              "      display:flex;\n",
              "      flex-wrap:wrap;\n",
              "      gap: 12px;\n",
              "    }\n",
              "\n",
              "    .colab-df-convert {\n",
              "      background-color: #E8F0FE;\n",
              "      border: none;\n",
              "      border-radius: 50%;\n",
              "      cursor: pointer;\n",
              "      display: none;\n",
              "      fill: #1967D2;\n",
              "      height: 32px;\n",
              "      padding: 0 0 0 0;\n",
              "      width: 32px;\n",
              "    }\n",
              "\n",
              "    .colab-df-convert:hover {\n",
              "      background-color: #E2EBFA;\n",
              "      box-shadow: 0px 1px 2px rgba(60, 64, 67, 0.3), 0px 1px 3px 1px rgba(60, 64, 67, 0.15);\n",
              "      fill: #174EA6;\n",
              "    }\n",
              "\n",
              "    [theme=dark] .colab-df-convert {\n",
              "      background-color: #3B4455;\n",
              "      fill: #D2E3FC;\n",
              "    }\n",
              "\n",
              "    [theme=dark] .colab-df-convert:hover {\n",
              "      background-color: #434B5C;\n",
              "      box-shadow: 0px 1px 3px 1px rgba(0, 0, 0, 0.15);\n",
              "      filter: drop-shadow(0px 1px 2px rgba(0, 0, 0, 0.3));\n",
              "      fill: #FFFFFF;\n",
              "    }\n",
              "  </style>\n",
              "\n",
              "      <script>\n",
              "        const buttonEl =\n",
              "          document.querySelector('#df-a1ff3bb5-8e60-4678-9d48-53d6b4dd8ab7 button.colab-df-convert');\n",
              "        buttonEl.style.display =\n",
              "          google.colab.kernel.accessAllowed ? 'block' : 'none';\n",
              "\n",
              "        async function convertToInteractive(key) {\n",
              "          const element = document.querySelector('#df-a1ff3bb5-8e60-4678-9d48-53d6b4dd8ab7');\n",
              "          const dataTable =\n",
              "            await google.colab.kernel.invokeFunction('convertToInteractive',\n",
              "                                                     [key], {});\n",
              "          if (!dataTable) return;\n",
              "\n",
              "          const docLinkHtml = 'Like what you see? Visit the ' +\n",
              "            '<a target=\"_blank\" href=https://colab.research.google.com/notebooks/data_table.ipynb>data table notebook</a>'\n",
              "            + ' to learn more about interactive tables.';\n",
              "          element.innerHTML = '';\n",
              "          dataTable['output_type'] = 'display_data';\n",
              "          await google.colab.output.renderOutput(dataTable, element);\n",
              "          const docLink = document.createElement('div');\n",
              "          docLink.innerHTML = docLinkHtml;\n",
              "          element.appendChild(docLink);\n",
              "        }\n",
              "      </script>\n",
              "    </div>\n",
              "  </div>\n",
              "  "
            ]
          },
          "metadata": {},
          "execution_count": 29
        }
      ]
    },
    {
      "cell_type": "markdown",
      "source": [
        "##### Encode the category column using pandas so we can feed this data into sci-kit learn and improve model performance."
      ],
      "metadata": {
        "id": "dzWnckZ2ysha"
      }
    },
    {
      "cell_type": "code",
      "source": [
        "df_enc = pd.get_dummies(df[\"category\"], drop_first=True)"
      ],
      "metadata": {
        "id": "TRwh2dy8AAh9"
      },
      "execution_count": 30,
      "outputs": []
    },
    {
      "cell_type": "markdown",
      "source": [
        "##### Concatenate both dataframes and high traffic column on axis 1 and save to df_new."
      ],
      "metadata": {
        "id": "HN9U_hUbzDTU"
      }
    },
    {
      "cell_type": "code",
      "source": [
        "df_new = pd.concat([df_normalized, df_enc, df['high_traffic']], axis=1)\n",
        "df_new.head()"
      ],
      "metadata": {
        "colab": {
          "base_uri": "https://localhost:8080/",
          "height": 285
        },
        "id": "5vL6ppwgAAfV",
        "outputId": "2f2bcb40-fe2e-4647-b448-590c4c4d38dd"
      },
      "execution_count": 31,
      "outputs": [
        {
          "output_type": "execute_result",
          "data": {
            "text/plain": [
              "     recipe  calories  carbohydrate     sugar   protein  Breakfast  Chicken  \\\n",
              "0  0.002283  0.995049      0.080048  0.020649  0.055122          0        0   \n",
              "1  0.038132  0.676456      0.735179  0.012583  0.017541          0        0   \n",
              "2  0.003278  0.998896      0.046630  0.003376  0.003147          1        0   \n",
              "3  0.036734  0.891084      0.280650  0.354762  0.000184          0        0   \n",
              "4  0.181244  0.980532      0.067060  0.028999  0.019212          0        0   \n",
              "\n",
              "   Dessert  Lunch/Snacks  Meat  One Dish Meal  Pork  Potato  Vegetable  \\\n",
              "0        0             0     0              0     1       0          0   \n",
              "1        0             0     0              0     0       1          0   \n",
              "2        0             0     0              0     0       0          0   \n",
              "3        0             0     0              0     0       0          0   \n",
              "4        0             0     0              0     0       0          0   \n",
              "\n",
              "   high_traffic  \n",
              "0             1  \n",
              "1             1  \n",
              "2             0  \n",
              "3             1  \n",
              "4             0  "
            ],
            "text/html": [
              "\n",
              "  <div id=\"df-e4a288f5-c4e2-4dbd-83c3-215259f0e118\">\n",
              "    <div class=\"colab-df-container\">\n",
              "      <div>\n",
              "<style scoped>\n",
              "    .dataframe tbody tr th:only-of-type {\n",
              "        vertical-align: middle;\n",
              "    }\n",
              "\n",
              "    .dataframe tbody tr th {\n",
              "        vertical-align: top;\n",
              "    }\n",
              "\n",
              "    .dataframe thead th {\n",
              "        text-align: right;\n",
              "    }\n",
              "</style>\n",
              "<table border=\"1\" class=\"dataframe\">\n",
              "  <thead>\n",
              "    <tr style=\"text-align: right;\">\n",
              "      <th></th>\n",
              "      <th>recipe</th>\n",
              "      <th>calories</th>\n",
              "      <th>carbohydrate</th>\n",
              "      <th>sugar</th>\n",
              "      <th>protein</th>\n",
              "      <th>Breakfast</th>\n",
              "      <th>Chicken</th>\n",
              "      <th>Dessert</th>\n",
              "      <th>Lunch/Snacks</th>\n",
              "      <th>Meat</th>\n",
              "      <th>One Dish Meal</th>\n",
              "      <th>Pork</th>\n",
              "      <th>Potato</th>\n",
              "      <th>Vegetable</th>\n",
              "      <th>high_traffic</th>\n",
              "    </tr>\n",
              "  </thead>\n",
              "  <tbody>\n",
              "    <tr>\n",
              "      <th>0</th>\n",
              "      <td>0.002283</td>\n",
              "      <td>0.995049</td>\n",
              "      <td>0.080048</td>\n",
              "      <td>0.020649</td>\n",
              "      <td>0.055122</td>\n",
              "      <td>0</td>\n",
              "      <td>0</td>\n",
              "      <td>0</td>\n",
              "      <td>0</td>\n",
              "      <td>0</td>\n",
              "      <td>0</td>\n",
              "      <td>1</td>\n",
              "      <td>0</td>\n",
              "      <td>0</td>\n",
              "      <td>1</td>\n",
              "    </tr>\n",
              "    <tr>\n",
              "      <th>1</th>\n",
              "      <td>0.038132</td>\n",
              "      <td>0.676456</td>\n",
              "      <td>0.735179</td>\n",
              "      <td>0.012583</td>\n",
              "      <td>0.017541</td>\n",
              "      <td>0</td>\n",
              "      <td>0</td>\n",
              "      <td>0</td>\n",
              "      <td>0</td>\n",
              "      <td>0</td>\n",
              "      <td>0</td>\n",
              "      <td>0</td>\n",
              "      <td>1</td>\n",
              "      <td>0</td>\n",
              "      <td>1</td>\n",
              "    </tr>\n",
              "    <tr>\n",
              "      <th>2</th>\n",
              "      <td>0.003278</td>\n",
              "      <td>0.998896</td>\n",
              "      <td>0.046630</td>\n",
              "      <td>0.003376</td>\n",
              "      <td>0.003147</td>\n",
              "      <td>1</td>\n",
              "      <td>0</td>\n",
              "      <td>0</td>\n",
              "      <td>0</td>\n",
              "      <td>0</td>\n",
              "      <td>0</td>\n",
              "      <td>0</td>\n",
              "      <td>0</td>\n",
              "      <td>0</td>\n",
              "      <td>0</td>\n",
              "    </tr>\n",
              "    <tr>\n",
              "      <th>3</th>\n",
              "      <td>0.036734</td>\n",
              "      <td>0.891084</td>\n",
              "      <td>0.280650</td>\n",
              "      <td>0.354762</td>\n",
              "      <td>0.000184</td>\n",
              "      <td>0</td>\n",
              "      <td>0</td>\n",
              "      <td>0</td>\n",
              "      <td>0</td>\n",
              "      <td>0</td>\n",
              "      <td>0</td>\n",
              "      <td>0</td>\n",
              "      <td>0</td>\n",
              "      <td>0</td>\n",
              "      <td>1</td>\n",
              "    </tr>\n",
              "    <tr>\n",
              "      <th>4</th>\n",
              "      <td>0.181244</td>\n",
              "      <td>0.980532</td>\n",
              "      <td>0.067060</td>\n",
              "      <td>0.028999</td>\n",
              "      <td>0.019212</td>\n",
              "      <td>0</td>\n",
              "      <td>0</td>\n",
              "      <td>0</td>\n",
              "      <td>0</td>\n",
              "      <td>0</td>\n",
              "      <td>0</td>\n",
              "      <td>0</td>\n",
              "      <td>0</td>\n",
              "      <td>0</td>\n",
              "      <td>0</td>\n",
              "    </tr>\n",
              "  </tbody>\n",
              "</table>\n",
              "</div>\n",
              "      <button class=\"colab-df-convert\" onclick=\"convertToInteractive('df-e4a288f5-c4e2-4dbd-83c3-215259f0e118')\"\n",
              "              title=\"Convert this dataframe to an interactive table.\"\n",
              "              style=\"display:none;\">\n",
              "        \n",
              "  <svg xmlns=\"http://www.w3.org/2000/svg\" height=\"24px\"viewBox=\"0 0 24 24\"\n",
              "       width=\"24px\">\n",
              "    <path d=\"M0 0h24v24H0V0z\" fill=\"none\"/>\n",
              "    <path d=\"M18.56 5.44l.94 2.06.94-2.06 2.06-.94-2.06-.94-.94-2.06-.94 2.06-2.06.94zm-11 1L8.5 8.5l.94-2.06 2.06-.94-2.06-.94L8.5 2.5l-.94 2.06-2.06.94zm10 10l.94 2.06.94-2.06 2.06-.94-2.06-.94-.94-2.06-.94 2.06-2.06.94z\"/><path d=\"M17.41 7.96l-1.37-1.37c-.4-.4-.92-.59-1.43-.59-.52 0-1.04.2-1.43.59L10.3 9.45l-7.72 7.72c-.78.78-.78 2.05 0 2.83L4 21.41c.39.39.9.59 1.41.59.51 0 1.02-.2 1.41-.59l7.78-7.78 2.81-2.81c.8-.78.8-2.07 0-2.86zM5.41 20L4 18.59l7.72-7.72 1.47 1.35L5.41 20z\"/>\n",
              "  </svg>\n",
              "      </button>\n",
              "      \n",
              "  <style>\n",
              "    .colab-df-container {\n",
              "      display:flex;\n",
              "      flex-wrap:wrap;\n",
              "      gap: 12px;\n",
              "    }\n",
              "\n",
              "    .colab-df-convert {\n",
              "      background-color: #E8F0FE;\n",
              "      border: none;\n",
              "      border-radius: 50%;\n",
              "      cursor: pointer;\n",
              "      display: none;\n",
              "      fill: #1967D2;\n",
              "      height: 32px;\n",
              "      padding: 0 0 0 0;\n",
              "      width: 32px;\n",
              "    }\n",
              "\n",
              "    .colab-df-convert:hover {\n",
              "      background-color: #E2EBFA;\n",
              "      box-shadow: 0px 1px 2px rgba(60, 64, 67, 0.3), 0px 1px 3px 1px rgba(60, 64, 67, 0.15);\n",
              "      fill: #174EA6;\n",
              "    }\n",
              "\n",
              "    [theme=dark] .colab-df-convert {\n",
              "      background-color: #3B4455;\n",
              "      fill: #D2E3FC;\n",
              "    }\n",
              "\n",
              "    [theme=dark] .colab-df-convert:hover {\n",
              "      background-color: #434B5C;\n",
              "      box-shadow: 0px 1px 3px 1px rgba(0, 0, 0, 0.15);\n",
              "      filter: drop-shadow(0px 1px 2px rgba(0, 0, 0, 0.3));\n",
              "      fill: #FFFFFF;\n",
              "    }\n",
              "  </style>\n",
              "\n",
              "      <script>\n",
              "        const buttonEl =\n",
              "          document.querySelector('#df-e4a288f5-c4e2-4dbd-83c3-215259f0e118 button.colab-df-convert');\n",
              "        buttonEl.style.display =\n",
              "          google.colab.kernel.accessAllowed ? 'block' : 'none';\n",
              "\n",
              "        async function convertToInteractive(key) {\n",
              "          const element = document.querySelector('#df-e4a288f5-c4e2-4dbd-83c3-215259f0e118');\n",
              "          const dataTable =\n",
              "            await google.colab.kernel.invokeFunction('convertToInteractive',\n",
              "                                                     [key], {});\n",
              "          if (!dataTable) return;\n",
              "\n",
              "          const docLinkHtml = 'Like what you see? Visit the ' +\n",
              "            '<a target=\"_blank\" href=https://colab.research.google.com/notebooks/data_table.ipynb>data table notebook</a>'\n",
              "            + ' to learn more about interactive tables.';\n",
              "          element.innerHTML = '';\n",
              "          dataTable['output_type'] = 'display_data';\n",
              "          await google.colab.output.renderOutput(dataTable, element);\n",
              "          const docLink = document.createElement('div');\n",
              "          docLink.innerHTML = docLinkHtml;\n",
              "          element.appendChild(docLink);\n",
              "        }\n",
              "      </script>\n",
              "    </div>\n",
              "  </div>\n",
              "  "
            ]
          },
          "metadata": {},
          "execution_count": 31
        }
      ]
    },
    {
      "cell_type": "markdown",
      "source": [
        "##### X contains the features and y the target veriable"
      ],
      "metadata": {
        "id": "Q1xHFWgfzRai"
      }
    },
    {
      "cell_type": "code",
      "source": [
        "X = df_new.drop('high_traffic', axis=1).values\n",
        "y = df_new[\"high_traffic\"].values\n",
        "print(X.shape, y.shape)"
      ],
      "metadata": {
        "colab": {
          "base_uri": "https://localhost:8080/"
        },
        "id": "2dDVNlv5Aiad",
        "outputId": "8e77c4cb-fb95-4d14-edee-053466e17da1"
      },
      "execution_count": 32,
      "outputs": [
        {
          "output_type": "stream",
          "name": "stdout",
          "text": [
            "(947, 14) (947,)\n"
          ]
        }
      ]
    },
    {
      "cell_type": "markdown",
      "source": [
        "##### Splitting the data into train and test"
      ],
      "metadata": {
        "id": "DOCbCnu1zViK"
      }
    },
    {
      "cell_type": "code",
      "source": [
        "X_train, X_test, y_train, y_test = train_test_split(X, y, test_size=0.2, stratify=y, random_state=1)"
      ],
      "metadata": {
        "id": "ErGHYznQAiXJ"
      },
      "execution_count": 33,
      "outputs": []
    },
    {
      "cell_type": "markdown",
      "source": [
        "## Fitting a baseline model: KNearestNeighborsClassifier"
      ],
      "metadata": {
        "id": "e8taa5oZYtXY"
      }
    },
    {
      "cell_type": "code",
      "source": [
        "np.random.seed(2)\n",
        "steps = [('knn', KNeighborsClassifier())]\n",
        "pipeline = Pipeline(steps)\n",
        "parameters = {'knn__n_neighbors':np.arange(1,50),\n",
        "              'knn__algorithm':['auto', 'ball_tree', 'kd_tree', 'brute'],\n",
        "              'knn__leaf_size':np.arange(1, 70)}\n",
        "kf = KFold(n_splits=5, shuffle=True, random_state=1)\n",
        "cv = RandomizedSearchCV(pipeline, parameters, cv=kf, scoring='accuracy',error_score='raise', return_train_score=False,verbose=1, random_state=2)\n",
        "cv.fit(X_train, y_train)\n",
        "y_pred_knn = cv.predict(X_test)\n",
        "print(cv.best_params_, cv.best_score_)\n",
        "#print(cv.score(X_test, y_test))\n",
        "test_accuracy = accuracy_score(y_test, y_pred_knn) * 100\n",
        "print(\"Accuracy for our testing dataset with tuning is : {:.2f}%\".format(test_accuracy) )"
      ],
      "metadata": {
        "colab": {
          "base_uri": "https://localhost:8080/"
        },
        "id": "Zfhq8BIaAiTS",
        "outputId": "065998fe-7c0d-4c25-de0f-ad9dd42e6664"
      },
      "execution_count": 34,
      "outputs": [
        {
          "output_type": "stream",
          "name": "stdout",
          "text": [
            "Fitting 5 folds for each of 10 candidates, totalling 50 fits\n",
            "{'knn__n_neighbors': 42, 'knn__leaf_size': 9, 'knn__algorithm': 'auto'} 0.7437260369466713\n",
            "Accuracy for our testing dataset with tuning is : 79.47%\n"
          ]
        }
      ]
    },
    {
      "cell_type": "markdown",
      "source": [
        "# Fitting a comparison model: DecisionTreeClassifier"
      ],
      "metadata": {
        "id": "4jx6UB1_Y_kn"
      }
    },
    {
      "cell_type": "code",
      "source": [
        "np.random.seed(3)\n",
        "steps = [('tree', DecisionTreeClassifier())]\n",
        "pipeline = Pipeline(steps)\n",
        "params = {'tree__max_depth': np.arange(1, 50),\n",
        "          'tree__criterion': ['entropy', 'gini'],\n",
        "          'tree__splitter': ['best', 'random'],\n",
        "          'tree__min_samples_split': np.linspace(0.001, 1, 100)}\n",
        "kf = KFold(n_splits=5, shuffle=True, random_state=3)\n",
        "#X_train, X_test, y_train, y_test = train_test_split(X, y, test_size=0.2, stratify=y, random_state=3)\n",
        "cv = RandomizedSearchCV(pipeline, params, cv=kf, scoring='accuracy', return_train_score=False, error_score='raise', verbose=1, random_state=1)\n",
        "cv.fit(X_train, y_train)\n",
        "y_pred_tree = cv.predict(X_test)\n",
        "print(cv.best_params_, cv.best_score_)\n",
        "print(cv.score(X_test, y_test))\n",
        "tree_test_accuracy = accuracy_score(y_test, y_pred_tree) * 100\n",
        "print(\"Accuracy for our testing dataset with tuning is : {:.2f}%\".format(tree_test_accuracy) )"
      ],
      "metadata": {
        "colab": {
          "base_uri": "https://localhost:8080/"
        },
        "id": "Z49ETDMeAiOf",
        "outputId": "ef5a9cd1-41f4-471c-be34-9f83364d0e0a"
      },
      "execution_count": 35,
      "outputs": [
        {
          "output_type": "stream",
          "name": "stdout",
          "text": [
            "Fitting 5 folds for each of 10 candidates, totalling 50 fits\n",
            "{'tree__splitter': 'random', 'tree__min_samples_split': 0.445, 'tree__max_depth': 38, 'tree__criterion': 'gini'} 0.7516207737887765\n",
            "0.8052631578947368\n",
            "Accuracy for our testing dataset with tuning is : 80.53%\n"
          ]
        }
      ]
    },
    {
      "cell_type": "markdown",
      "source": [
        "## Model evaluation using model's accuracy score.\n",
        "#### KNN classifier got  an accuracy score of 79%."
      ],
      "metadata": {
        "id": "W-hiCE_KZKuf"
      }
    },
    {
      "cell_type": "code",
      "source": [
        "print(confusion_matrix(y_test, y_pred_knn))\n",
        "print(classification_report(y_test, y_pred_knn))"
      ],
      "metadata": {
        "colab": {
          "base_uri": "https://localhost:8080/"
        },
        "id": "3eXqkJvNZMuo",
        "outputId": "fe35b6f6-d07c-47ac-880f-e5ac8dde6033"
      },
      "execution_count": 36,
      "outputs": [
        {
          "output_type": "stream",
          "name": "stdout",
          "text": [
            "[[54 21]\n",
            " [18 97]]\n",
            "              precision    recall  f1-score   support\n",
            "\n",
            "           0       0.75      0.72      0.73        75\n",
            "           1       0.82      0.84      0.83       115\n",
            "\n",
            "    accuracy                           0.79       190\n",
            "   macro avg       0.79      0.78      0.78       190\n",
            "weighted avg       0.79      0.79      0.79       190\n",
            "\n"
          ]
        }
      ]
    },
    {
      "cell_type": "markdown",
      "source": [
        "#### DecisionTreeClassifier got an accuracy score of 81%."
      ],
      "metadata": {
        "id": "9e1cfuQScEkP"
      }
    },
    {
      "cell_type": "code",
      "source": [
        "print(confusion_matrix(y_test, y_pred_tree))\n",
        "print(classification_report(y_test, y_pred_tree))"
      ],
      "metadata": {
        "colab": {
          "base_uri": "https://localhost:8080/"
        },
        "id": "g5xILQfgbqZF",
        "outputId": "092e20a0-9985-44cf-f8d1-9d26e6ca8a68"
      },
      "execution_count": 37,
      "outputs": [
        {
          "output_type": "stream",
          "name": "stdout",
          "text": [
            "[[58 17]\n",
            " [20 95]]\n",
            "              precision    recall  f1-score   support\n",
            "\n",
            "           0       0.74      0.77      0.76        75\n",
            "           1       0.85      0.83      0.84       115\n",
            "\n",
            "    accuracy                           0.81       190\n",
            "   macro avg       0.80      0.80      0.80       190\n",
            "weighted avg       0.81      0.81      0.81       190\n",
            "\n"
          ]
        }
      ]
    },
    {
      "cell_type": "markdown",
      "source": [
        "#### Conclusion: DecisionTreeClassifier is the better model since it has higher accuracy, precision, recall and f1 scores and therefore more likely to correctly predict the recipes to gain high traffic and thereby answering the business question."
      ],
      "metadata": {
        "id": "64gthp8hs8cW"
      }
    },
    {
      "cell_type": "markdown",
      "source": [
        "## Definition of a metric for the business to monitor\n",
        "#### 1. How should the business monitor what they want to achieve?\n",
        "- To monitor what they want to achieve, the business should define clear and measurable goals, such as increasing website traffic or subscription rates. They should also establish key performance indicators (KPIs) that align with these goals, such as the number of page views or the conversion rate from website visitors to subscribers. Regularly tracking these metrics will help the business understand how well they are achieving their objectives and whether any adjustments to their strategies are necessary.\n",
        "\n",
        "#### 2. Estimate the initial value(s) for the metric based on the current data?\n",
        "-  To estimate the initial value of the metric based on the current data, I would first determine the number of times the selected favorite recipe was shown on the website. Let's say the favorite recipe was shown 100 times. Then, I would count how many of those times the website traffic increased by 40% or more after the recipe was displayed. Let's say this happened 40 times out of the 100 times the recipe was shown. The initial value of the metric would then be the proportion of times that the selected favorite recipe led to increased traffic, which is calculated by dividing the number of times the recipe led to increased traffic (40) by the total number of times the recipe was shown (100). In this case, the initial value of the metric would be 0.4 or 40%.\n",
        "(since i don't have the historical data i can't answer this question effectively)."
      ],
      "metadata": {
        "id": "sXw6w6GzdC72"
      }
    },
    {
      "cell_type": "markdown",
      "source": [
        "## Final summary including recommendations that the business should undertake"
      ],
      "metadata": {
        "id": "phtSWSkjd_Vt"
      }
    },
    {
      "cell_type": "markdown",
      "source": [
        "##### As part of this project involving data from Tasty Bytes, an exploratory data analysis was conducted which included visuals. The analysis revealed that recipes with higher amounts of calories, carbs, and protein tend to get higher traffic than other recipes posted on the homepage of the Tasty Bytes website.\n",
        "eventhough categories with the highest rate of 'high' traffic tend to have low number of recipes.\n",
        "\n",
        "To predict whether a recipe will get high or low traffic, two classification models were fitted: a k-nearest neighbors model and a decision tree classifier. The decision tree classifier achieved a higher accuracy than the k-nearest neighbors model, indicating that it may be a better fit for predicting recipe traffic despite there being less of recipes within said categories\n",
        "\n",
        "Based on these findings, there are three recommendations that the Tasty Bytes marketing team could implement to increase recipe traffic on their website:\n",
        "\n",
        "- Reduce the number of recipes in certain categories: The number of recipes in categories with low traffic needs to be reduced, while the number of recipes in categories with high traffic needs to be increased in order to increase customer engagement.\n",
        "\n",
        "- Highlight high-calorie, high-carb, and high-protein recipes: Based on the exploratory data analysis, recipes with these characteristics tend to generate higher traffic. The Tasty Bytes marketing team could feature these recipes more prominently on their website or social media platforms to attract more traffic.\n",
        "\n",
        "- Use the decision tree classifier for predicting recipe traffic: The decision tree classifier achieved a higher accuracy in predicting recipe traffic than the k-nearest neighbors model. The Tasty Bytes team could use this model to identify recipes that are likely to generate high traffic, and use this information to prioritize which recipes to feature on their website or social media platforms.\n",
        "\n",
        "By implementing these recommendations, Tasty Bytes can increase traffic to their website and ensure that their recipes are being seen by the right audience."
      ],
      "metadata": {
        "id": "pl4Y5Hrv9Hz-"
      }
    },
    {
      "cell_type": "code",
      "source": [],
      "metadata": {
        "id": "-YhhBTKlJiYy"
      },
      "execution_count": null,
      "outputs": []
    }
  ]
}